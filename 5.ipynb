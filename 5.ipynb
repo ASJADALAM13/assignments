{
 "cells": [
  {
   "cell_type": "code",
   "execution_count": 2,
   "id": "61f730d6-56b0-4d1d-85b9-059138418b16",
   "metadata": {},
   "outputs": [
    {
     "name": "stdout",
     "output_type": "stream",
     "text": [
      "1 2 3 4 5 6 7 8 9 10 "
     ]
    }
   ],
   "source": [
    "#1.\n",
    "for i in range(1,11):\n",
    "    print(i,end=\" \")"
   ]
  },
  {
   "cell_type": "code",
   "execution_count": 5,
   "id": "fde34ffb-bca1-4fc7-aed4-80ba1ad686db",
   "metadata": {},
   "outputs": [
    {
     "name": "stdout",
     "output_type": "stream",
     "text": [
      "There are two types of control flow statements,For loop and While loop are used execute a block of code certain number of times.\n",
      "FOR LOOP:\n",
      "for loop helps to iterate over a sequence\n",
      "For loop  is used when you know in advance  that how many times you want to execute a block of code in your program.\n",
      "Syntax=for variable in iterable: or for variable in range(x,y):\n",
      "In understanding level we can say that for loop use's iter() and next() function for working\n",
      "WHILE LOOP:\n",
      "While loop works as long as a given condition becomes false\n",
      "Or while loop executes a block of code until a give condition becomes false\n",
      "syntax=while condition:\n",
      "While loop contiues iterating as long as the condition is True\n",
      "We  have to make sure that the condition given to the while loop becomes false at some time otherwise it leads to infinite loop\n"
     ]
    }
   ],
   "source": [
    "#2.\n",
    "#Difference between For loop and While Loop\n",
    "print(\"There are two types of control flow statements,For loop and While loop are used execute a block of code certain number of times.\")\n",
    "print(\"FOR LOOP:\")\n",
    "print(\"for loop helps to iterate over a sequence\")\n",
    "print(\"For loop  is used when you know in advance  that how many times you want to execute a block of code in your program.\")\n",
    "print(\"Syntax=for variable in iterable: or for variable in range(x,y):\")\n",
    "\n",
    "print(\"In understanding level we can say that for loop use's iter() and next() function for working\")\n",
    "print(\"WHILE LOOP:\")\n",
    "print(\"While loop works as long as a given condition becomes false\")\n",
    "print(\"Or while loop executes a block of code until a give condition becomes false\")\n",
    "print(\"syntax=while condition:\")\n",
    "    \n",
    "print(\"While loop contiues iterating as long as the condition is True\")\n",
    "print(\"We  have to make sure that the condition given to the while loop becomes false at some time otherwise it leads to infinite loop\")"
   ]
  },
  {
   "cell_type": "code",
   "execution_count": 16,
   "id": "6a63316b-6a28-4a07-b664-9d1787070f71",
   "metadata": {},
   "outputs": [
    {
     "name": "stdout",
     "output_type": "stream",
     "text": [
      "The sum of all the numbers  from 1 to 100 is  5050\n"
     ]
    }
   ],
   "source": [
    "#3.\n",
    "sum=0\n",
    "for i in range(1,101):\n",
    "    sum=sum+i\n",
    "print(\"The sum of all the numbers  from 1 to 100 is \",sum)"
   ]
  },
  {
   "cell_type": "code",
   "execution_count": 15,
   "id": "cbc84356-ae17-4c1b-8cae-54e1ac17f93c",
   "metadata": {},
   "outputs": [
    {
     "name": "stdout",
     "output_type": "stream",
     "text": [
      "For iterating over a list using for loop we just have to use for loop syntax with a list\n",
      "List is itself a sequence of elements so we can iterate over it very easily using for loop\n",
      "Since lists are iterable object's we can iterate over the element's of a list using for loop\n",
      "synatx=> for variable in list:\n",
      " \t Code\n",
      "1 2 3 4 5 6 hello "
     ]
    }
   ],
   "source": [
    "#4.\n",
    "print(\"For iterating over a list using for loop we just have to use for loop syntax with a list\")\n",
    "print(\"List is itself a sequence of elements so we can iterate over it very easily using for loop\")\n",
    "print(\"Since lists are iterable object's we can iterate over the element's of a list using for loop\")\n",
    "print(\"synatx=> for variable in list:\\n \\t Code\")\n",
    "\n",
    "#example\n",
    "list=[1,2,3,4,5,6,\"hello\"]\n",
    "for i in list:\n",
    "    print(i,end=\" \")"
   ]
  },
  {
   "cell_type": "code",
   "execution_count": 17,
   "id": "4db35de4-748d-4818-a142-20287347a87f",
   "metadata": {},
   "outputs": [
    {
     "name": "stdout",
     "output_type": "stream",
     "text": [
      "The product of all the elements inside the list is 57600\n"
     ]
    }
   ],
   "source": [
    "#5.\n",
    "list=[1,4,16,5,10,3,6]\n",
    "p=1\n",
    "for i in list:\n",
    "    p=p*i\n",
    "print(\"The product of all the elements inside the list is\",p)"
   ]
  },
  {
   "cell_type": "code",
   "execution_count": 20,
   "id": "6981775c-2ca8-47d4-8a25-a2d980942bfa",
   "metadata": {},
   "outputs": [
    {
     "name": "stdout",
     "output_type": "stream",
     "text": [
      "All the even numbers between 1-20 are:\n",
      "2 4 6 8 10 12 14 16 18 20 "
     ]
    }
   ],
   "source": [
    "#6.\n",
    "print(\"All the even numbers between 1-20 are:\")\n",
    "for i in range(1,21):\n",
    "    if i%2==0:\n",
    "        print(i,end=\" \")"
   ]
  },
  {
   "cell_type": "code",
   "execution_count": 28,
   "id": "5baa1bf6-683b-4476-ae3d-a375f0379e96",
   "metadata": {},
   "outputs": [
    {
     "name": "stdin",
     "output_type": "stream",
     "text": [
      "Enter number to find it's factorial: 5\n"
     ]
    },
    {
     "name": "stdout",
     "output_type": "stream",
     "text": [
      "Factorial of 5 is 120\n"
     ]
    }
   ],
   "source": [
    "#7\n",
    "n=int(input(\"Enter number to find it's factorial:\"))\n",
    "fact=1\n",
    "for i in range(n,0,-1):\n",
    "    fact=fact*i\n",
    "print(f\"Factorial of {n} is {fact}\")"
   ]
  },
  {
   "cell_type": "code",
   "execution_count": 5,
   "id": "3ea404d7-aba4-4dd9-89e1-0824edf386c1",
   "metadata": {},
   "outputs": [
    {
     "name": "stdout",
     "output_type": "stream",
     "text": [
      "we know that String is nothing but a sequence of characters and we also know that for loop iterates\n",
      " over a sequnece or iterable object.\n",
      "Since String is also a iterable object we can iterate over it using for loop\n",
      "syntax=>for variable in sequence of characters(string):\n",
      "\tCode\n",
      "H e l l o "
     ]
    }
   ],
   "source": [
    "#8\n",
    "print(\"we know that String is nothing but a sequence of characters and we also know that for loop iterates\\n over a sequnece or iterable object.\")\n",
    "print(\"Since String is also a iterable object we can iterate over it using for loop\")\n",
    "#example\n",
    "print(\"syntax=>for variable in sequence of characters(string):\\n\\tCode\")\n",
    "str=\"Hello\"\n",
    "for i in str:\n",
    "    print(i,end=\" \")"
   ]
  },
  {
   "cell_type": "code",
   "execution_count": 15,
   "id": "40a25503-2e4e-43de-bad8-29da0ade022b",
   "metadata": {},
   "outputs": [
    {
     "name": "stdout",
     "output_type": "stream",
     "text": [
      "The largest number among the elements of the list is : 36\n"
     ]
    }
   ],
   "source": [
    "#9\n",
    "lst=[31,32,28,10,36,11,14,21]\n",
    "l=len(lst)\n",
    "lar=lst[0]\n",
    "for i in range(l):\n",
    "    if lst[i]>lar:\n",
    "        lar=lst[i]\n",
    "    else:\n",
    "        lar=lar\n",
    "print(\"The largest number among the elements of the list is :\",lar)"
   ]
  },
  {
   "cell_type": "code",
   "execution_count": 20,
   "id": "533a7717-a384-4948-b36a-cb7984d3b61b",
   "metadata": {},
   "outputs": [
    {
     "name": "stdin",
     "output_type": "stream",
     "text": [
      "Enter the limit: 10\n"
     ]
    },
    {
     "name": "stdout",
     "output_type": "stream",
     "text": [
      "0 1 1 2 3 5 8 13 21 34 "
     ]
    }
   ],
   "source": [
    "#10\n",
    "n=int(input(\"Enter the limit:\"))\n",
    "print(\"The Fibonnaci sequence upto a given limit is:\")\n",
    "a=0\n",
    "b=1\n",
    "print(a,b,end=\" \")\n",
    "for i in range(n-2):\n",
    "    a,b=b,a+b\n",
    "    print(b,end=\" \")"
   ]
  },
  {
   "cell_type": "code",
   "execution_count": 4,
   "id": "50cb2f0a-e492-4305-bc22-84be3d3a23a7",
   "metadata": {},
   "outputs": [
    {
     "name": "stdin",
     "output_type": "stream",
     "text": [
      "Enter Your string: pwskills\n"
     ]
    },
    {
     "name": "stdout",
     "output_type": "stream",
     "text": [
      "No of vowels in the string is  1\n"
     ]
    }
   ],
   "source": [
    "#11.\n",
    "str=input(\"Enter Your string:\")\n",
    "vow=[i for i in \"AEIOU\"]\n",
    "c=0\n",
    "for i in str:\n",
    "    if i.upper() in vow:\n",
    "        c=c+1\n",
    "print(\"No of vowels in the string is \",c)"
   ]
  },
  {
   "cell_type": "code",
   "execution_count": 6,
   "id": "789da083-b54f-4a23-af2a-89ee9ec0b6af",
   "metadata": {},
   "outputs": [
    {
     "name": "stdin",
     "output_type": "stream",
     "text": [
      "Enter Your number: 7\n"
     ]
    },
    {
     "name": "stdout",
     "output_type": "stream",
     "text": [
      "7*1=7\n",
      "7*2=14\n",
      "7*3=21\n",
      "7*4=28\n",
      "7*5=35\n",
      "7*6=42\n",
      "7*7=49\n",
      "7*8=56\n",
      "7*9=63\n",
      "7*10=70\n"
     ]
    }
   ],
   "source": [
    "#12.\n",
    "n=int(input(\"Enter Your number:\"))\n",
    "for i in range(1,11):\n",
    "    print(f\"{n}*{i}={n*i}\")"
   ]
  },
  {
   "cell_type": "code",
   "execution_count": 2,
   "id": "c16ac67e-4c00-4c6b-bde6-d5a334cce0f1",
   "metadata": {},
   "outputs": [
    {
     "name": "stdout",
     "output_type": "stream",
     "text": [
      "original list [1, 2, 3, 4, 5, 6, 7, 8, 9]\n",
      "The reversed list is  [9, 8, 7, 6, 5, 4, 3, 2, 1]\n"
     ]
    }
   ],
   "source": [
    "#13\n",
    "lst=[1,2,3,4,5,6,7,8,9]\n",
    "print(\"original list\",lst)\n",
    "l=len(lst)\n",
    "lst_rev=[]\n",
    "for i in range(1,l+1):\n",
    "    lst_rev.append(lst[-i])\n",
    "print(\"The reversed list is \",lst_rev)\n",
    "    \n",
    "    \n",
    "    "
   ]
  },
  {
   "cell_type": "code",
   "execution_count": 10,
   "id": "aeaa3d8e-dc09-46d9-8dba-2aa7a5277b09",
   "metadata": {},
   "outputs": [
    {
     "name": "stdout",
     "output_type": "stream",
     "text": [
      "original lists are:\n",
      "[1, 2, 4, 3, 5, 7, 9]\n",
      "[10, 15, 2, 3, 5, 8, 8]\n",
      "The common elements between the lists are : 2 3 5\n"
     ]
    }
   ],
   "source": [
    "#14\n",
    "lst1=[1,2,4,3,5,7,9]\n",
    "lst2=[10,15,2,3,5,8,8]\n",
    "print(\"original lists are:\")\n",
    "print(lst1)\n",
    "print(lst2)\n",
    "def cmn(l1,l2):\n",
    "    l3=[]\n",
    "    for i in l1:\n",
    "        for j in l2:\n",
    "            if i==j:\n",
    "                l3.append(j)\n",
    "    return(l3)\n",
    "x=cmn(lst1,lst2)\n",
    "print(\"The common elements between the lists are :\",*x)"
   ]
  },
  {
   "cell_type": "code",
   "execution_count": 10,
   "id": "78ef454a-20cd-43c9-8dcb-41547b8c125c",
   "metadata": {},
   "outputs": [
    {
     "name": "stdout",
     "output_type": "stream",
     "text": [
      "Dictionary {'emp1': 12000, 'emp2': 15000, 'emp3': 20000}\n",
      "key: emp3\n",
      "key: emp3\n",
      "key: emp3\n",
      "value: 20000\n",
      "value: 20000\n",
      "value: 20000\n",
      "keys and values: emp3 20000\n",
      "keys and values: emp3 20000\n",
      "keys and values: emp3 20000\n"
     ]
    }
   ],
   "source": [
    "#15.\n",
    "\"\"\"We can iterate through the keys and values of a dictionary using for loop at same time as well as separately also\"\"\"\n",
    "dict={\"emp1\":12000,\"emp2\":15000,\"emp3\":20000}\n",
    "#here is a dictionary with a key value pair\n",
    "print(\"Dictionary\",dict)\n",
    "\"\"\"we can iterate over the keys of a dictionary using this syntax\n",
    "for keys in dict:\n",
    "    print(keys)\"\"\"\n",
    "for k in dict:\n",
    "    print(\"key:\",keys)\n",
    "\"\"\"like wise with values,we can iterate over the values using values() method,as it returns a list of values in the \n",
    "dictionary. using this syntax\n",
    "for value in dict.values():\n",
    "    print(dict)\"\"\"\n",
    "for v in dict.values():\n",
    "    print(\"value:\",values)\n",
    "\"\"\"we can iterate over values as well as keys at a time also using items() method of dictionry as it return a tuple of all the values present\n",
    "using this syntax\n",
    "for keys,values in dict.items():\n",
    "        print(keys,values)\"\"\"\n",
    "for k,v in dict.items():\n",
    "    print(\"keys and values:\",keys,values)"
   ]
  },
  {
   "cell_type": "code",
   "execution_count": 38,
   "id": "2f94dfb7-a10e-494d-97f4-0a19e7feb8ed",
   "metadata": {},
   "outputs": [
    {
     "name": "stdin",
     "output_type": "stream",
     "text": [
      "Enter: 30\n",
      "Enter: 80\n"
     ]
    },
    {
     "name": "stdout",
     "output_type": "stream",
     "text": [
      "30\n",
      "The Gcd is  10\n"
     ]
    }
   ],
   "source": [
    "## 16\n",
    "#GCD is greatest common divisor of both the numbers\n",
    "n1=int(input(\"Enter:\"))\n",
    "n2=int(input(\"Enter:\"))\n",
    "sml=min(n1,n2)\n",
    "print(sml)\n",
    "for i in range(sml,0,-1):\n",
    "    if n1%i==0 and n2%i==0:\n",
    "        gcd=i\n",
    "        break\n",
    "    else:\n",
    "        gcd=gcd\n",
    "print(\"The Gcd is \",gcd)"
   ]
  },
  {
   "cell_type": "code",
   "execution_count": 9,
   "id": "0554f8c0-b6e3-45db-bb0b-0f029794bbbb",
   "metadata": {},
   "outputs": [
    {
     "name": "stdin",
     "output_type": "stream",
     "text": [
      "Enter your string: pop\n"
     ]
    },
    {
     "name": "stdout",
     "output_type": "stream",
     "text": [
      "This is a palindrome\n"
     ]
    }
   ],
   "source": [
    "#17\n",
    "str=input(\"Enter your string:\")\n",
    "l=len(str)\n",
    "x=True\n",
    "for i in range(0,l):\n",
    "    if str[i]!=str[l-i-1]:\n",
    "        x=False\n",
    "        break\n",
    "    else:\n",
    "        x=True\n",
    "if x==True:\n",
    "    print(\"This is a palindrome\")\n",
    "else:\n",
    "    print(\"This is not a palindrome\")"
   ]
  },
  {
   "cell_type": "code",
   "execution_count": 27,
   "id": "2bb6b2fa-fd50-469a-8232-8074d6388de4",
   "metadata": {},
   "outputs": [
    {
     "name": "stdout",
     "output_type": "stream",
     "text": [
      "[1, 2, 3, 4, 5, 6]\n"
     ]
    }
   ],
   "source": [
    "#18\n",
    "lst=[1,2,3,4,5,6,3,2,1]\n",
    "lst2=[]\n",
    "for i in lst:\n",
    "    if i not in lst2:\n",
    "        lst2.append(i)\n",
    "print(lst2)"
   ]
  },
  {
   "cell_type": "code",
   "execution_count": 2,
   "id": "d1f086ee-eb62-46af-a3df-f6a1091404bd",
   "metadata": {},
   "outputs": [
    {
     "name": "stdin",
     "output_type": "stream",
     "text": [
      "ENTER SENTENCE: MYSELF ASJAD I AM A STUDENT\n"
     ]
    },
    {
     "name": "stdout",
     "output_type": "stream",
     "text": [
      "Total number of words are: 4\n"
     ]
    }
   ],
   "source": [
    "#19\n",
    "sent=input(\"ENTER SENTENCE:\")\n",
    "lst_w=sent.split(\" \")\n",
    "c=0\n",
    "for i in lst_w:\n",
    "    if len(i)>1:      #it  will not consider alphabets as words like(a)\n",
    "        c=c+1\n",
    "print(\"Total number of words are:\",c)"
   ]
  },
  {
   "cell_type": "code",
   "execution_count": 10,
   "id": "c566d8b9-3b3d-4c2b-b2f8-c6b731d11be5",
   "metadata": {},
   "outputs": [
    {
     "name": "stdout",
     "output_type": "stream",
     "text": [
      "625\n"
     ]
    }
   ],
   "source": [
    "#20\n",
    "def sum_upto_n(n):\n",
    "    sum=0\n",
    "    for i in range(1,n+1):\n",
    "        if i%2!=0:\n",
    "            sum=sum+i\n",
    "    return(sum)\n",
    "n=50\n",
    "print(sum_upto_n(n))"
   ]
  },
  {
   "cell_type": "code",
   "execution_count": 11,
   "id": "469fdc48-87ef-4a74-b5d7-9a412fc949f1",
   "metadata": {},
   "outputs": [
    {
     "name": "stdin",
     "output_type": "stream",
     "text": [
      "Enter Your Year: 2004\n"
     ]
    },
    {
     "name": "stdout",
     "output_type": "stream",
     "text": [
      "Given Year Is A Leap Year\n"
     ]
    }
   ],
   "source": [
    "#21\n",
    "def check_year(year):\n",
    "    if(year %4==0 and year%100!=0) or (year%400==0):\n",
    "        return(\"Given Year Is A Leap Year\")\n",
    "    else:\n",
    "        return(\"Given Year Is Not A Leap Year\")\n",
    "yr=int(input(\"Enter Your Year:\"))\n",
    "print(check_year(yr))"
   ]
  },
  {
   "cell_type": "code",
   "execution_count": 25,
   "id": "20ff006e-64a5-45b2-be20-e69e0bfc87a5",
   "metadata": {},
   "outputs": [
    {
     "name": "stdin",
     "output_type": "stream",
     "text": [
      "Enter: 144\n"
     ]
    },
    {
     "name": "stdout",
     "output_type": "stream",
     "text": [
      "Square root of 144 is 12\n"
     ]
    }
   ],
   "source": [
    "#22\n",
    "def sqrt(num):\n",
    "    for i in range(n//2+1):\n",
    "        if i*i==n:\n",
    "            return(i)\n",
    "            break\n",
    "    else:\n",
    "        return(\"It is not a perfect square\")\n",
    "        \n",
    "n=int(input(\"Enter:\"))\n",
    "print(f\"Square root of {n} is {sqrt(n)}\")"
   ]
  },
  {
   "cell_type": "code",
   "execution_count": 29,
   "id": "41857279-72e5-46ca-9a1b-09a94a51be76",
   "metadata": {},
   "outputs": [
    {
     "name": "stdin",
     "output_type": "stream",
     "text": [
      "Enter 1st number: 8\n",
      "Enter 2nd number: 12\n"
     ]
    },
    {
     "name": "stdout",
     "output_type": "stream",
     "text": [
      "24\n"
     ]
    }
   ],
   "source": [
    "#23\n",
    "def lcm(a,b):\n",
    "    for i in range(max(a,b),(a*b)):\n",
    "        if i%a==0 and i%b==0:\n",
    "            return(i)\n",
    "            break\n",
    "    else:\n",
    "        return(a*b)\n",
    "n1=int(input(\"Enter 1st number:\"))\n",
    "n2=int(input(\"Enter 2nd number:\"))\n",
    "print(lcm(n1,n2))"
   ]
  },
  {
   "cell_type": "code",
   "execution_count": 1,
   "id": "b0a163d4-6055-4943-a39f-6afeab0f8901",
   "metadata": {},
   "outputs": [],
   "source": [
    "#if-else"
   ]
  },
  {
   "cell_type": "code",
   "execution_count": 2,
   "id": "1f163814-ae30-4cfc-bf8e-0a7f31ed74f1",
   "metadata": {},
   "outputs": [
    {
     "name": "stdin",
     "output_type": "stream",
     "text": [
      "Enter: 20\n"
     ]
    },
    {
     "name": "stdout",
     "output_type": "stream",
     "text": [
      "This is a positive number\n"
     ]
    }
   ],
   "source": [
    "#1.\n",
    "def check(num):\n",
    "    if num>0:\n",
    "        print(\"This is a positive number\")\n",
    "    elif num<0:\n",
    "        print(\"This is a negative number\")\n",
    "    else:\n",
    "        print(\"This is Zero\")\n",
    "\n",
    "n=int(input(\"Enter:\"))\n",
    "check(n)\n",
    "    "
   ]
  },
  {
   "cell_type": "code",
   "execution_count": 4,
   "id": "ad06e1be-7654-4a53-9607-afb6ffbb66c8",
   "metadata": {},
   "outputs": [
    {
     "name": "stdin",
     "output_type": "stream",
     "text": [
      "Enter: 13\n"
     ]
    },
    {
     "name": "stdout",
     "output_type": "stream",
     "text": [
      "This is a Odd number\n"
     ]
    }
   ],
   "source": [
    "#2\n",
    "num=int(input(\"Enter:\"))\n",
    "if num%2==0:\n",
    "    print(\"This is an Even number\")\n",
    "else:\n",
    "    print(\"This is an Odd number\")\n",
    "\n",
    "\n"
   ]
  },
  {
   "cell_type": "code",
   "execution_count": 8,
   "id": "d036c64c-4ddb-4080-89e9-9c74683d5134",
   "metadata": {},
   "outputs": [
    {
     "name": "stdin",
     "output_type": "stream",
     "text": [
      "Enter A Number: 22\n"
     ]
    },
    {
     "name": "stdout",
     "output_type": "stream",
     "text": [
      "Number is positive and even\n",
      "Number is not a multiple of Four\n"
     ]
    },
    {
     "data": {
      "text/plain": [
       "'In this way we can use nested if else statement i.e by using if or else statement inside another if or else statement'"
      ]
     },
     "execution_count": 8,
     "metadata": {},
     "output_type": "execute_result"
    }
   ],
   "source": [
    "#3\n",
    "\"\"\"We can Use Nested if else statement, in python using if and else-ladder or if,elif and else-Ladder\"\"\"\n",
    "\"\"\" \"\"\"\n",
    "num=int(input(\"Enter A Number:\"))\n",
    "if num>0:  #this is outer if statement\n",
    "    \"\"\"checks number is positive or not if yes then\"\"\"\n",
    "    if num%2==0: #this is middle one i.e inner if \n",
    "        \"\"\"checks that number is even or  odd\"\"\"\n",
    "        print(\"Number is positive and even\")\n",
    "        if num%4==0: #this is most inner if\n",
    "            \"\"\"this if statement checks that number is  multiple of 4 or not\"\"\"\n",
    "            print(\"Number is a multiple of 4\")\n",
    "        else:\n",
    "            print(\"Number is not a multiple of Four\")\n",
    "    else:\n",
    "        print(\"Number is positive and odd\")\n",
    "\"\"\"In this way we can use nested if else statement i.e by using if or else statement inside another if or else statement\"\"\""
   ]
  },
  {
   "cell_type": "code",
   "execution_count": 10,
   "id": "b870fcd9-eb3b-4a4f-b3cf-dc791b63df33",
   "metadata": {},
   "outputs": [
    {
     "name": "stdout",
     "output_type": "stream",
     "text": [
      "The Largest Number is 12\n"
     ]
    }
   ],
   "source": [
    "#4 \n",
    "def lar(a,b,c):\n",
    "    if a>b and a>c: \n",
    "        grt=a\n",
    "    elif b>a and b>c:\n",
    "        grt=b\n",
    "    else:\n",
    "        grt=c\n",
    "    return(grt)\n",
    "grtst=lar(10,12,9)\n",
    "print(\"The Largest Number is\",grtst)"
   ]
  },
  {
   "cell_type": "code",
   "execution_count": 14,
   "id": "b4bc410f-24dd-43bc-b38b-a826fde2f38e",
   "metadata": {},
   "outputs": [
    {
     "name": "stdin",
     "output_type": "stream",
     "text": [
      "Enter A Number: -9\n"
     ]
    },
    {
     "name": "stdout",
     "output_type": "stream",
     "text": [
      "The Absolute value is 9\n"
     ]
    }
   ],
   "source": [
    "#5\n",
    "num=int(input(\"Enter A Number:\"))\n",
    "if num>0:\n",
    "    print(\"The Absolute value is\",num)\n",
    "elif num<0:\n",
    "    print(\"The Absolute value is\",int(num/-1))\n",
    "else:\n",
    "    print(\"The Absolute value is\",0)"
   ]
  },
  {
   "cell_type": "code",
   "execution_count": 16,
   "id": "b32252bb-4265-434f-bfbd-c170aba2a34d",
   "metadata": {},
   "outputs": [
    {
     "name": "stdin",
     "output_type": "stream",
     "text": [
      "Enter Character A\n"
     ]
    },
    {
     "name": "stdout",
     "output_type": "stream",
     "text": [
      "This is A Vowel\n"
     ]
    }
   ],
   "source": [
    "#6.\n",
    "vow=[i for i in \"aeiou\"]\n",
    "char=input(\"Enter Character\")\n",
    "if char.lower() in vow:\n",
    "    print(\"This is A Vowel\")\n",
    "else:\n",
    "    print(\"This is A consonant\")"
   ]
  },
  {
   "cell_type": "code",
   "execution_count": 17,
   "id": "475a17b8-7946-491d-9e02-ffc78bdc220f",
   "metadata": {},
   "outputs": [
    {
     "name": "stdin",
     "output_type": "stream",
     "text": [
      "Enter Your Age 22\n"
     ]
    },
    {
     "name": "stdout",
     "output_type": "stream",
     "text": [
      "Eligible\n"
     ]
    }
   ],
   "source": [
    "#7.\n",
    "age=int(input(\"Enter Your Age\"))\n",
    "if age>=18:\n",
    "    print(\"Eligible\")\n",
    "else:\n",
    "    print(\" Not Eligible\")    "
   ]
  },
  {
   "cell_type": "code",
   "execution_count": 22,
   "id": "4a261338-b986-4b36-b02d-140554f679b9",
   "metadata": {},
   "outputs": [
    {
     "name": "stdin",
     "output_type": "stream",
     "text": [
      "Enter Purchase Amount 9300\n"
     ]
    },
    {
     "name": "stdout",
     "output_type": "stream",
     "text": [
      "You Got a 30% Discount\n",
      "Total Amount You Have To Pay is 6510.0\n"
     ]
    }
   ],
   "source": [
    "#8\n",
    "amnt=int(input(\"Enter Purchase Amount\"))\n",
    "if 1500<=amnt<3500:\n",
    "    print(\"You Got a 10% Discount\")\n",
    "    print(\"Total Amount You Have To Pay is\",amnt-(amnt*0.1))\n",
    "elif 3500<=amnt<5000:\n",
    "    print(\"You Got a 20% Discount\")\n",
    "    print(\"Total Amount You Have To Pay is\",amnt-(amnt*0.2))\n",
    "elif 5000<=amnt<10000:\n",
    "    print(\"You Got a 30% Discount\")\n",
    "    print(\"Total Amount You Have To Pay is\",amnt-(amnt*0.3))"
   ]
  },
  {
   "cell_type": "code",
   "execution_count": 26,
   "id": "a9c6607d-a718-440f-988b-9e76b19031f4",
   "metadata": {},
   "outputs": [
    {
     "name": "stdin",
     "output_type": "stream",
     "text": [
      "Enter your Number 101\n"
     ]
    },
    {
     "name": "stdout",
     "output_type": "stream",
     "text": [
      "Number is Not in range\n"
     ]
    }
   ],
   "source": [
    "#9.\n",
    "range_strt=10\n",
    "range_end=100\n",
    "num=int(input(\"Enter your Number\"))\n",
    "if num>10:\n",
    "    if num<100:\n",
    "        print(f\"Number is between {range_strt} and {range_end}\")\n",
    "    else:\n",
    "        print(\"Number is Not in range\")\n",
    "else:\n",
    "    print(\"Number is Not in range\")"
   ]
  },
  {
   "cell_type": "code",
   "execution_count": 3,
   "id": "a8fda85c-3a21-4567-9b57-e0f10521e413",
   "metadata": {},
   "outputs": [
    {
     "name": "stdout",
     "output_type": "stream",
     "text": [
      "It's percentage is: 68.0\n",
      "Grade B\n"
     ]
    }
   ],
   "source": [
    "#10\n",
    "def grade(sb1,sb2,sb3,sb4):\n",
    "    percnt=(sb1+sb2+sb3+sb4)/4\n",
    "    print(\"It's percentage is:\",percnt)\n",
    "    if 0<percnt<=33:\n",
    "        print(\"Grade D\")\n",
    "    if 33<percnt<=50:\n",
    "        print(\"Grade C\")\n",
    "    if 50<percnt<=70:\n",
    "        print(\"Grade B\")\n",
    "    if 70<percnt<=80:\n",
    "        print(\"Grade A\")\n",
    "    if 80<percnt<=100:\n",
    "        print(\"Grade A+\")\n",
    "grade(65,55,70,82)"
   ]
  },
  {
   "cell_type": "code",
   "execution_count": 6,
   "id": "21cf1f11-efaa-4527-80e5-46764a8ff67c",
   "metadata": {},
   "outputs": [
    {
     "name": "stdin",
     "output_type": "stream",
     "text": [
      "Enter: \n"
     ]
    },
    {
     "name": "stdout",
     "output_type": "stream",
     "text": [
      "This is an Empty string\n"
     ]
    }
   ],
   "source": [
    "#11\n",
    "str=input(\"Enter:\")\n",
    "if len(str)!=0:\n",
    "    print(\"This is not an Empty string\")\n",
    "else:\n",
    "    print(\"This is an Empty string\")"
   ]
  },
  {
   "cell_type": "code",
   "execution_count": 7,
   "id": "8f27d64c-57b4-44ab-8592-2b3bb60f2089",
   "metadata": {},
   "outputs": [
    {
     "name": "stdin",
     "output_type": "stream",
     "text": [
      "Enter length of side A of triangle: 12\n",
      "Enter length of side B of triangle: 12\n",
      "Enter length of side C of triangle: 12\n"
     ]
    },
    {
     "name": "stdout",
     "output_type": "stream",
     "text": [
      "The given triangle is equilateral:\n"
     ]
    }
   ],
   "source": [
    "#12\n",
    "s1=int(input(\"Enter length of side A of triangle:\"))\n",
    "s2=int(input(\"Enter length of side B of triangle:\"))\n",
    "s3=int(input(\"Enter length of side C of triangle:\"))\n",
    "\n",
    "if s1==s2 and s2==s3:\n",
    "    print(\"The given triangle is equilateral:\")\n",
    "if(s1==s2 and s3!=s1 ) or (s1==s3  and s2!=s1) or (s2==s3 and s1!=s2):\n",
    "    print(\"The given triangle is isoceles:\")\n",
    "if (s1!=s2 and s1!=s3 and s2!=s3):\n",
    "    print(\"The given triangle is scalene\")\n",
    "      "
   ]
  },
  {
   "cell_type": "code",
   "execution_count": 8,
   "id": "e5f33c1b-31ab-4a20-8ce0-0ab69ceb57b2",
   "metadata": {},
   "outputs": [
    {
     "name": "stdout",
     "output_type": "stream",
     "text": [
      "1-monday,......7-sunday\n"
     ]
    },
    {
     "name": "stdin",
     "output_type": "stream",
     "text": [
      "Enter Day 5\n"
     ]
    },
    {
     "name": "stdout",
     "output_type": "stream",
     "text": [
      "It's friday\n"
     ]
    }
   ],
   "source": [
    "#13\n",
    "print(\"1-monday,......7-sunday\")\n",
    "day=int(input(\"Enter Day\"))\n",
    "if day==1:\n",
    "    print(\"It's monday\")\n",
    "if day==2:\n",
    "    print(\"It's tuesday\")\n",
    "if day==3:\n",
    "    print(\"It's wednesday\")\n",
    "if day==4:\n",
    "    print(\"It's thrusday\")\n",
    "if day==5:\n",
    "    print(\"It's friday\")\n",
    "if day==6:\n",
    "    print(\"It's saturday\")\n",
    "if day==7:\n",
    "    print(\"It's sunday\")\n",
    "\n"
   ]
  },
  {
   "cell_type": "code",
   "execution_count": 12,
   "id": "e8285a01-d9d8-404a-a053-950b6ac8cf55",
   "metadata": {},
   "outputs": [
    {
     "name": "stdin",
     "output_type": "stream",
     "text": [
      "Enter the year: 1900\n"
     ]
    },
    {
     "name": "stdout",
     "output_type": "stream",
     "text": [
      "Not a leap year \n"
     ]
    }
   ],
   "source": [
    "#14\n",
    "year=int(input(\"Enter the year:\"))\n",
    "if (year % 4==0 and year % 100!= 0) or (year % 400== 0):\n",
    "        print(\"This year is an leap year\")\n",
    "else:\n",
    "    print(\"Not a leap year \")"
   ]
  },
  {
   "cell_type": "code",
   "execution_count": 26,
   "id": "a281a990-273f-4578-bc71-caa0ea1de620",
   "metadata": {},
   "outputs": [
    {
     "data": {
      "text/plain": [
       "'calc= div(a, b)\\nprint(calc)'"
      ]
     },
     "execution_count": 26,
     "metadata": {},
     "output_type": "execute_result"
    }
   ],
   "source": [
    "#15\n",
    "\"\"\"assert statement can be used for debugging as if the statement assosiated with assert is wrong it will raise and \n",
    "asseration error.In this way we can track error's in our program\"\"\"\n",
    "#example\n",
    "def div(x,y):\n",
    "    assert y!=0,\"Raise Error message\"\n",
    "    return x/y \n",
    "a=10\n",
    "b=0\n",
    "\"\"\"calc= div(a, b)\n",
    "print(calc)\"\"\"\n",
    "#when i call the function(div) it will give me an asseration error mesaage\n"
   ]
  },
  {
   "cell_type": "code",
   "execution_count": 31,
   "id": "7cc8e176-b014-40df-a6d7-4c73c61358d3",
   "metadata": {},
   "outputs": [
    {
     "name": "stdin",
     "output_type": "stream",
     "text": [
      "Enter Your Age 51\n"
     ]
    },
    {
     "name": "stdout",
     "output_type": "stream",
     "text": [
      "You are Eligible for this Senior citizen discount\n",
      "You Got 30% Discount\n"
     ]
    }
   ],
   "source": [
    "#16\n",
    "age=int(input(\"Enter Your Age\"))\n",
    "if age>50:\n",
    "    print(\"You are Eligible for this Senior citizen discount\")\n",
    "    print(\"You Got 30% Discount\")\n",
    "else:\n",
    "    print(\"You are Not Eligible for this scheme\")"
   ]
  },
  {
   "cell_type": "code",
   "execution_count": 4,
   "id": "1c6de7d8-f5b1-476b-b395-60376794d36d",
   "metadata": {},
   "outputs": [
    {
     "name": "stdout",
     "output_type": "stream",
     "text": [
      "If you wants to exit enter \"exit\" else enter your chracter\n"
     ]
    },
    {
     "name": "stdin",
     "output_type": "stream",
     "text": [
      "Enter Here asjad\n"
     ]
    },
    {
     "name": "stdout",
     "output_type": "stream",
     "text": [
      "This is an lower_case character\n",
      "If you wants to exit enter \"exit\" else enter your chracter\n"
     ]
    },
    {
     "name": "stdin",
     "output_type": "stream",
     "text": [
      "Enter Here ASJAD\n"
     ]
    },
    {
     "name": "stdout",
     "output_type": "stream",
     "text": [
      "This is an upper_case character\n",
      "If you wants to exit enter \"exit\" else enter your chracter\n"
     ]
    },
    {
     "name": "stdin",
     "output_type": "stream",
     "text": [
      "Enter Here 12345&\n"
     ]
    },
    {
     "name": "stdout",
     "output_type": "stream",
     "text": [
      "This is niether upper_case nor lower_case\n",
      "This is not an alphabet\n",
      "If you wants to exit enter \"exit\" else enter your chracter\n"
     ]
    },
    {
     "name": "stdin",
     "output_type": "stream",
     "text": [
      "Enter Here exit\n"
     ]
    },
    {
     "name": "stdout",
     "output_type": "stream",
     "text": [
      "Upper_case characters are: ['ASJAD']\n",
      "lower_case characters are: ['asjad']\n",
      "spcl characters are: ['12345&']\n"
     ]
    }
   ],
   "source": [
    "#17\n",
    "x=True\n",
    "upper=[]\n",
    "lower=[]\n",
    "spcl=[]\n",
    "while x==True:\n",
    "    print(\"If you wants to exit enter \\\"exit\\\" else enter your chracter\")\n",
    "    char=input(\"Enter Here\")\n",
    "    if char.lower()==\"exit\":\n",
    "        x=False\n",
    "    else:\n",
    "        if char.isupper():\n",
    "            print(\"This is an upper_case character\")\n",
    "            upper.append(char)\n",
    "        elif char.islower():\n",
    "            print(\"This is an lower_case character\")\n",
    "            lower.append(char)\n",
    "        elif char.isalpha()!=True:\n",
    "            print(\"This is niether upper_case nor lower_case\")\n",
    "            print(\"This is not an alphabet\")\n",
    "            spcl.append(char)\n",
    "\n",
    "print(\"Upper_case characters are:\",upper) \n",
    "print(\"lower_case characters are:\",lower)            \n",
    "print(\"spcl characters are:\",spcl)            "
   ]
  },
  {
   "cell_type": "code",
   "execution_count": 7,
   "id": "edc24581-536f-403e-a848-34bd32a3808a",
   "metadata": {},
   "outputs": [
    {
     "name": "stdin",
     "output_type": "stream",
     "text": [
      "Enter coeffecient of X_square 1\n",
      "Enter coeffecient of X 4\n",
      "Enter the constant term 5\n"
     ]
    },
    {
     "name": "stdout",
     "output_type": "stream",
     "text": [
      "Roots are not real\n",
      "(-2+1j)\n",
      "(-2-1j)\n"
     ]
    }
   ],
   "source": [
    "#18\n",
    "#ax**2+bx+c\n",
    "a=int(input(\"Enter coeffecient of X_square\"))\n",
    "b=int(input(\"Enter coeffecient of X\"))\n",
    "c=int(input(\"Enter the constant term\"))\n",
    "D=(b*b)-(4*a*c)\n",
    "root1=(-b+(D**0.5))/(2*a)\n",
    "root2=(-b-(D**0.5))/(2*a)\n",
    "if D>0:\n",
    "    print(\"This Quadratic equatiion is  Real and has two distinct roots\")\n",
    "    print(root1)\n",
    "    print(root2)\n",
    "elif D==0:\n",
    "    print(\"This Quadratic equatiion has one root i.e roots are identical\")  #x**2-4x+4\n",
    "    print(root1)\n",
    "    print(root2)   \n",
    "else:\n",
    "    print(\"Roots are not real\")  #x**2+4x+5=0\n",
    "    print(root1)\n",
    "    print(root2) "
   ]
  },
  {
   "cell_type": "code",
   "execution_count": 9,
   "id": "23de2ed9-15d7-4cd4-b7d5-a644b49ad901",
   "metadata": {},
   "outputs": [
    {
     "data": {
      "text/plain": [
       "(-2-1j)"
      ]
     },
     "execution_count": 9,
     "metadata": {},
     "output_type": "execute_result"
    }
   ],
   "source": [
    "(-4+(-D**0.5))/(2*1)"
   ]
  },
  {
   "cell_type": "code",
   "execution_count": 15,
   "id": "8547854e-e32c-4dab-8542-8dc789dbf895",
   "metadata": {},
   "outputs": [
    {
     "name": "stdin",
     "output_type": "stream",
     "text": [
      "Enter your year 2000\n"
     ]
    },
    {
     "name": "stdout",
     "output_type": "stream",
     "text": [
      "This is an century Year\n"
     ]
    }
   ],
   "source": [
    "#19\n",
    "year=int(input(\"Enter your year\"))\n",
    "if year%100==0:\n",
    "    print(\"This is an century Year\")\n",
    "else:\n",
    "    print(\"This is not an century Year\")"
   ]
  },
  {
   "cell_type": "code",
   "execution_count": 5,
   "id": "3a745713-2e57-40ba-92e6-6a2c3f4ff64e",
   "metadata": {},
   "outputs": [
    {
     "name": "stdin",
     "output_type": "stream",
     "text": [
      "Enter: 9801\n"
     ]
    },
    {
     "name": "stdout",
     "output_type": "stream",
     "text": [
      "9801 is a perfect square of 99\n"
     ]
    }
   ],
   "source": [
    "#20\n",
    "num=int(input(\"Enter:\"))\n",
    "i=2\n",
    "while i<num:\n",
    "    if i*i==num:\n",
    "        print(f\"{num} is a perfect square of {i}\")\n",
    "        break\n",
    "    i=i+1\n",
    "else:\n",
    "    print(\"Not a Perfect Square\")\n",
    "    "
   ]
  },
  {
   "cell_type": "code",
   "execution_count": 16,
   "id": "3891a40d-11b0-4031-8241-971bb63810d9",
   "metadata": {},
   "outputs": [
    {
     "name": "stdout",
     "output_type": "stream",
     "text": [
      "0 1 2 3 5  \n",
      "20\n",
      "19\n"
     ]
    }
   ],
   "source": [
    "#21.\n",
    "\"\"\"Continue and break are control flow statements which can be used with if and else conditions\"\"\"\n",
    "\"\"\"Continue is used within a loop to skip the current iteration of the loop and continue's the flow of loop\"\"\"\n",
    "for i in range(6): #this loop will print i from zero to six\n",
    "    if i==4:       #but when i used the continue statement with if.The loop will skip the iteration of i=4 and and print's rest\n",
    "        continue\n",
    "    print(i,end=\" \")\n",
    "print(\" \")\n",
    "\"\"\"Break statement is also used within a loop with conditional statements to skip all the iterations as soon as the loop enters a particular situation\"\"\"\n",
    "\"\"\"or we can say it is used to terminate the entire loop\"\"\"\n",
    "for i in range(20,1,-1):\n",
    "    if i%3!=0:\n",
    "        print(i)\n",
    "    else:\n",
    "        break #Terminate the entire loop as soon as we get a multiple of 3 "
   ]
  },
  {
   "cell_type": "code",
   "execution_count": 25,
   "id": "f5f95a3f-6bc3-45e7-bac4-96acf8c4e8ea",
   "metadata": {},
   "outputs": [
    {
     "name": "stdin",
     "output_type": "stream",
     "text": [
      "Enter weight of the person in kilogram's 60\n",
      "Enter height of the person on meter's 1.651\n"
     ]
    },
    {
     "name": "stdout",
     "output_type": "stream",
     "text": [
      "BMI of the person is 22.011878343283314 kg/m2\n",
      "Normal weight\n"
     ]
    }
   ],
   "source": [
    "#22.\n",
    "\"\"\" 1 foot=0.3048 meteres and 1 inch = 0.0254 meters\"\"\"\n",
    "wt=float(input(\"Enter weight of the person in kilogram's\"))\n",
    "ht=float(input(\"Enter height of the person on meter's\"))\n",
    "BMI= wt/(ht*ht)\n",
    "print(f\"BMI of the person is {BMI} kg/m2\")       \n",
    "if BMI<18.5:\n",
    "    print(\"You Are Underweight\")              \n",
    "elif 18.5<=BMI<=24.9:\n",
    "    print(\"Normal weight\")  \n",
    "elif BMI>25:\n",
    "    print(\"Over weight\")"
   ]
  },
  {
   "cell_type": "code",
   "execution_count": 29,
   "id": "582213fe-4158-4a10-9786-87651efbcde7",
   "metadata": {},
   "outputs": [
    {
     "name": "stdout",
     "output_type": "stream",
     "text": [
      "[24, 56, 11]\n"
     ]
    }
   ],
   "source": [
    "#22.\n",
    "\"\"\"The filter function is used to filter out the elements of an iterable object i.e(list,string etc) based on a function\"\"\"\n",
    "\"\"\"within that function we can use multiple if-else statements\"\"\"\n",
    "num=[1,24,56,7,8,11]\n",
    "def func(x):\n",
    "    if x>10:                  \n",
    "        return True   #helps to find numbers greater than 10\n",
    "    else:\n",
    "        return False\n",
    "filtered_list=filter(func,num)  #this will helps to create a list of bollean values using filter\n",
    "print(list(filtered_list))"
   ]
  },
  {
   "cell_type": "code",
   "execution_count": 27,
   "id": "9283f0fd-6827-4088-bf61-94b4e51f1d04",
   "metadata": {},
   "outputs": [
    {
     "name": "stdin",
     "output_type": "stream",
     "text": [
      "Enter: 13\n"
     ]
    },
    {
     "name": "stdout",
     "output_type": "stream",
     "text": [
      "This is a prime number\n"
     ]
    }
   ],
   "source": [
    "#23.\n",
    "num=int(input(\"Enter:\"))\n",
    "if num%2==0 or num %3==0 or num%5==0  or num %7==0:\n",
    "    print(\"This is not a prime number\")\n",
    "else:\n",
    "    print(\"This is a prime number\")"
   ]
  },
  {
   "cell_type": "code",
   "execution_count": 1,
   "id": "b7c91396-909a-406d-8f7b-0375f3677200",
   "metadata": {},
   "outputs": [],
   "source": [
    "#_______________________________map_function()________________________________________________________________________"
   ]
  },
  {
   "cell_type": "code",
   "execution_count": 2,
   "id": "85b8a48d-2d94-483d-abcb-cc98357ece13",
   "metadata": {},
   "outputs": [
    {
     "name": "stdout",
     "output_type": "stream",
     "text": [
      "[1, 4, 9, 16, 25]\n"
     ]
    }
   ],
   "source": [
    "#1.\n",
    "\"\"\"map function is an method used to apply a function to each element of a sequence and returns a new sequence in the form of map object\"\"\"\n",
    "\"\"\"Yup Here's and example\"\"\"\n",
    "def square(x):\n",
    "    return x*x\n",
    "lst=[1,2,3,4,5]\n",
    "x_square=map(square,lst)     # Map method will take a function and iterable as arguments\n",
    "print(list(x_square))"
   ]
  },
  {
   "cell_type": "code",
   "execution_count": 4,
   "id": "ae2fc9dc-1f8b-452d-a530-96bd85237137",
   "metadata": {},
   "outputs": [
    {
     "name": "stdout",
     "output_type": "stream",
     "text": [
      "[100, 484, 81, 1764, 625]\n"
     ]
    }
   ],
   "source": [
    "#2.\n",
    "def square(x):\n",
    "    return x*x\n",
    "lst=[10,22,9,42,25]\n",
    "x_square=map(square,lst)  \n",
    "print(list(x_square))"
   ]
  },
  {
   "cell_type": "code",
   "execution_count": 6,
   "id": "74adb609-8a6b-4920-99ae-122b7a419295",
   "metadata": {},
   "outputs": [
    {
     "data": {
      "text/plain": [
       "'map() and list comprehension are used to apply function to each element of an iterable like lists or string\\nbut there is a syntactical difference between them \\nAnd when we wants to work with more than one iterable then map is suitable than list comprehension\\nSo when work is with one iterable then list comprehnsion is suitable option and when work is with more than one iterable then map() is suitable'"
      ]
     },
     "execution_count": 6,
     "metadata": {},
     "output_type": "execute_result"
    }
   ],
   "source": [
    "#3.\n",
    "\"\"\"map() and list comprehension are used to apply function to each element of an iterable like lists or string\n",
    "but there is a syntactical difference between them \n",
    "And when we wants to work with more than one iterable then map is suitable than list comprehension\n",
    "So when work is with one iterable then list comprehnsion is suitable option and when work is with more than one iterable then map() is suitable\"\"\""
   ]
  },
  {
   "cell_type": "code",
   "execution_count": 8,
   "id": "836c5cf9-0ba0-46b2-87a2-4fb6b9051a2a",
   "metadata": {},
   "outputs": [
    {
     "name": "stdout",
     "output_type": "stream",
     "text": [
      "['ASJAD', 'HARRY', 'NEWT', 'STARK']\n"
     ]
    }
   ],
   "source": [
    "#4.\n",
    "lst_of_names=[\"asjad\",\"harry\",\"newt\",\"stark\"]\n",
    "def cap_of_names(lst):\n",
    "    return lst.upper()\n",
    "cap_names=map(cap_of_names,lst_of_names)\n",
    "print(list(cap_names))"
   ]
  },
  {
   "cell_type": "code",
   "execution_count": 2,
   "id": "c1740248-e268-4b4d-9384-35816bebec54",
   "metadata": {},
   "outputs": [
    {
     "name": "stdout",
     "output_type": "stream",
     "text": [
      "[7, 5, 6, 7]\n"
     ]
    }
   ],
   "source": [
    "#5.\n",
    "lst_of_str=[\"DENMARK\",\"TOKYO\",\"berlin\",\"germany\"]\n",
    "def length(lst):\n",
    "    c=0\n",
    "    for i in lst:\n",
    "        c=c+1\n",
    "    return c\n",
    "char_len=map(length,lst_of_str)\n",
    "print(list(char_len))"
   ]
  },
  {
   "cell_type": "code",
   "execution_count": 4,
   "id": "ebbebf3c-5501-49b8-90e0-02f9e844c69b",
   "metadata": {},
   "outputs": [
    {
     "name": "stdout",
     "output_type": "stream",
     "text": [
      "[6, 6, 6, 6, 6]\n"
     ]
    }
   ],
   "source": [
    "#6.\n",
    "\"\"\"we can  use map() to apply a particular functions to multiple list by passing list's as argument to function using map()\"\"\"\n",
    "\"\"\"example\"\"\"\n",
    "\"\"\"First we have to declare a custom function which takes two arguments\"\"\"\n",
    "\"\"\"then we have to pass list's as  arguments to the function using map\"\"\"\n",
    "l1=[1,2,3,4,5]\n",
    "l2=[5,4,3,2,1]\n",
    "def add(x,y):\n",
    "    return x+y\n",
    "l_sum=map(add,l1,l2)  #takes l1 and l2 as arguments and returns sum of each corresponding element\n",
    "print(list(l_sum))"
   ]
  },
  {
   "cell_type": "code",
   "execution_count": 10,
   "id": "28bc05e4-4c72-4c56-bde8-ea392345a718",
   "metadata": {},
   "outputs": [
    {
     "name": "stdout",
     "output_type": "stream",
     "text": [
      "[71.6, 78.80000000000001, 66.2, 57.2, 86.0, 77.0, 68.0]\n"
     ]
    }
   ],
   "source": [
    "#7.\n",
    "lst_temp=[22, 26, 19, 14, 30, 25, 20]\n",
    "def con_farenhiet(st):\n",
    "    return (st*(9/5))+32\n",
    "lst_faren=map(con_farenhiet,lst_temp)\n",
    "print(list(lst_faren))"
   ]
  },
  {
   "cell_type": "code",
   "execution_count": 11,
   "id": "5351511d-8c25-4338-851c-84fa92f6282d",
   "metadata": {},
   "outputs": [
    {
     "name": "stdout",
     "output_type": "stream",
     "text": [
      "[3, 3, 1, 0, 10, 7]\n"
     ]
    }
   ],
   "source": [
    "#8.\n",
    "floating_point_numbers = [3.14, 2.718, 1.0, 0.5, 9.8, 7.2]\n",
    "def round_off(x):\n",
    "    return round(x)\n",
    "rounded_off=map(round_off,floating_point_numbers)\n",
    "print(list(rounded_off))"
   ]
  },
  {
   "cell_type": "code",
   "execution_count": 12,
   "id": "8965a9b1-7882-4c5b-b4e7-0e2ef61fd0d8",
   "metadata": {},
   "outputs": [],
   "source": [
    "#_______________________________________________Reduce()______________________________________________________________________"
   ]
  },
  {
   "cell_type": "code",
   "execution_count": 3,
   "id": "3449fea1-4707-4bd8-acac-d3e3840fd193",
   "metadata": {},
   "outputs": [
    {
     "name": "stdout",
     "output_type": "stream",
     "text": [
      "15\n"
     ]
    }
   ],
   "source": [
    "#1.\n",
    "\"\"\"Reduce function is a method to apply a function to a sequence/iterable object and returns a single value\"\"\"\n",
    "\"\"\"For using reduce() we must have to import functools module first\"\"\"\n",
    "\"\"\"example\"\"\"\n",
    "from functools import reduce\n",
    "num=[1,2,3,4,5]\n",
    "sum=reduce(lambda x,y:x+y,num)    # 1+2,3,4,5\n",
    "print(sum)                         #3+3,4,5 \n",
    "                                    #6+4,5\n",
    "                                    #10+5"
   ]
  },
  {
   "cell_type": "code",
   "execution_count": 4,
   "id": "d1835466-3749-4bef-b22a-ecc72daf7d48",
   "metadata": {},
   "outputs": [
    {
     "name": "stdout",
     "output_type": "stream",
     "text": [
      "120\n"
     ]
    }
   ],
   "source": [
    "#2.\n",
    "from functools import reduce\n",
    "num=[1,2,3,4,5]\n",
    "pro=reduce(lambda x,y:x*y,num)    \n",
    "print(pro)  "
   ]
  },
  {
   "cell_type": "code",
   "execution_count": 7,
   "id": "9d9b2af0-269f-4a1f-87ad-538a02a3f48c",
   "metadata": {},
   "outputs": [
    {
     "name": "stdout",
     "output_type": "stream",
     "text": [
      "18\n"
     ]
    }
   ],
   "source": [
    "#3.\n",
    "from functools import reduce\n",
    "num_1=[12,13,10,17,13,18]\n",
    "def dup(x,y):         #Scope of this function is upto reduce applies dup func to all the elements of the list.\n",
    "    return max(x,y)\n",
    "send=reduce(dup,num_1)\n",
    "print(send)"
   ]
  },
  {
   "cell_type": "code",
   "execution_count": 11,
   "id": "0fa4405e-d230-4f83-b2f3-e1bffb987267",
   "metadata": {},
   "outputs": [
    {
     "name": "stdout",
     "output_type": "stream",
     "text": [
      "tonystark\n"
     ]
    }
   ],
   "source": [
    "#4.\n",
    "\"\"\"yes we can  use the reduce() function to concatenate a list of strings into a single string\"\"\"\n",
    "from functools import reduce\n",
    "lst_of_str=[\"tony\",\"stark\"]\n",
    "def concat(x,y):     #this function takes to string as input and returns a concatenated string\n",
    "    return x+y\n",
    "send=reduce(concat,lst_of_str)  #Reduce applies concat function to all the element of the list\n",
    "print(send)"
   ]
  },
  {
   "cell_type": "code",
   "execution_count": 21,
   "id": "8511f7c2-8016-484b-8667-b51670d097ed",
   "metadata": {},
   "outputs": [
    {
     "name": "stdin",
     "output_type": "stream",
     "text": [
      "Enter Your Number: 5\n"
     ]
    },
    {
     "name": "stdout",
     "output_type": "stream",
     "text": [
      "factorial of 5 is 120\n"
     ]
    }
   ],
   "source": [
    "#5.\n",
    "import functools \n",
    "n=int(input(\"Enter Your Number:\"))\n",
    "lst=[i for i in range(1,n+1)]\n",
    "def fact(x,y):\n",
    "    return x*y\n",
    "send=reduce(fact,lst)\n",
    "print(f\"factorial of {n} is {send}\")"
   ]
  },
  {
   "cell_type": "code",
   "execution_count": 22,
   "id": "192a5fdf-1a90-4b83-8177-b52a29c1166a",
   "metadata": {},
   "outputs": [
    {
     "name": "stdout",
     "output_type": "stream",
     "text": [
      "2\n"
     ]
    }
   ],
   "source": [
    "#6.\n",
    "from functools import reduce\n",
    "def find_gcd(x, y):\n",
    "    while y:\n",
    "        x, y = y, x % y\n",
    "    return x\n",
    "numbers = [12, 32, 26, 18]\n",
    "result = reduce(find_gcd, numbers)\n",
    "print(result)\n"
   ]
  },
  {
   "cell_type": "code",
   "execution_count": 25,
   "id": "33b54787-2822-48ef-b1f9-0ff25aa94fcf",
   "metadata": {},
   "outputs": [
    {
     "name": "stdin",
     "output_type": "stream",
     "text": [
      "Enter: 432\n"
     ]
    },
    {
     "name": "stdout",
     "output_type": "stream",
     "text": [
      "9\n"
     ]
    }
   ],
   "source": [
    "#7.\n",
    "import functools\n",
    "n_1=int(input(\"Enter:\"))\n",
    "lst_d=[i for i in str(n_1)]\n",
    "def find_d_sum(x,y):\n",
    "    return int(x)+int(y)\n",
    "result=reduce(find_d_sum,lst_d)\n",
    "print(result)"
   ]
  },
  {
   "cell_type": "code",
   "execution_count": 26,
   "id": "584b10c1-c5b1-4b1d-a863-ee2f84d346c6",
   "metadata": {},
   "outputs": [],
   "source": [
    "#----------------------------------------------filter()----------------------------------------------------------------#"
   ]
  },
  {
   "cell_type": "code",
   "execution_count": 30,
   "id": "ca95352a-be46-45e3-9fce-755c6588d9c1",
   "metadata": {},
   "outputs": [
    {
     "name": "stdout",
     "output_type": "stream",
     "text": [
      "[10, 8, 7]\n"
     ]
    }
   ],
   "source": [
    "#1.\n",
    "\"\"\"The fliter() filter's a sequence/iterable of elements based on a predicate\"\"\"\n",
    "\"\"\"predicate is nothing but a function that returns boolean value\"\"\"\n",
    "\"\"\"filter(predicate,iterable/sequence)\n",
    "\"it return's a new sequence of only those element's which meets the predicate\"\"\"\n",
    "\"\"\"example\"\"\"\n",
    "lst=[10,2,4,8,3,1,7]\n",
    "def check(x):\n",
    "    if x>5:\n",
    "        return True       #This function returns True for values greater than 5\n",
    "    else:\n",
    "        return False\n",
    "send=filter(check,lst)       #Send will have a list of those numbers only which are graeter than 5\n",
    "print(list(send))"
   ]
  },
  {
   "cell_type": "code",
   "execution_count": 31,
   "id": "04ad564a-76ea-4245-8849-2ffb2ff0ec80",
   "metadata": {},
   "outputs": [
    {
     "name": "stdout",
     "output_type": "stream",
     "text": [
      "[2, 4, 6, 8, 10, 12, 14, 16, 18, 20, 22, 24, 26, 28, 30, 32, 34, 36, 38]\n"
     ]
    }
   ],
   "source": [
    "#2.\n",
    "lst_of_int=[i for i in range(1,40)]  #list of integers upto 40\n",
    "def check_1(x):\n",
    "    if x%2==0:\n",
    "        return True\n",
    "    else:\n",
    "        return False\n",
    "send=filter(check_1,lst_of_int) #filter's out only even numbers upto 40\n",
    "print(list(send))"
   ]
  },
  {
   "cell_type": "code",
   "execution_count": 32,
   "id": "8cb54e91-58b9-43fc-8f61-55dbfd459b9d",
   "metadata": {},
   "outputs": [
    {
     "name": "stdout",
     "output_type": "stream",
     "text": [
      "['cruce', 'clark', 'clint']\n"
     ]
    }
   ],
   "source": [
    "#3.\n",
    "lst_of_str=[\"Tony\",\"cruce\",\"steve\",\"clark\",\"clint\"]\n",
    "def chck(x):\n",
    "    if x.startswith(\"c\"):\n",
    "        return True\n",
    "    else:\n",
    "        return False\n",
    "send=filter(chck,lst_of_str)\n",
    "print(list(send))"
   ]
  },
  {
   "cell_type": "code",
   "execution_count": 39,
   "id": "e997c86c-6482-4ac1-b748-836d3f528d03",
   "metadata": {},
   "outputs": [
    {
     "name": "stdout",
     "output_type": "stream",
     "text": [
      "[1, 11, 13, 17, 19, 23, 29]\n"
     ]
    }
   ],
   "source": [
    "#4.\n",
    "lst_of_int=[i for i in range(1,30)]  #list of integers upto 30\n",
    "send=filter(lambda x: x%2!=0 and x%3!=0 and x%5!=0 and x%7!=0,lst_of_int)\n",
    "print(list(send))"
   ]
  },
  {
   "cell_type": "code",
   "execution_count": 40,
   "id": "2b444322-a2db-42eb-9e76-aca6da33e3a9",
   "metadata": {},
   "outputs": [
    {
     "name": "stdout",
     "output_type": "stream",
     "text": [
      "[0, 3, 6]\n"
     ]
    }
   ],
   "source": [
    "#5.\n",
    "\"\"\"we can use  the `filter()` function to remove None values from a list in Python by providing a condition,\n",
    "that check's for none values to the predicate\"\"\"\n",
    "lst4=[None,0,3,None,6]\n",
    "def chck3(y):\n",
    "    if y!=None:\n",
    "        return True\n",
    "    else:\n",
    "        return False\n",
    "send=filter(chck3,lst4)   #Filter our those elements which are not none\n",
    "print(list(send))"
   ]
  },
  {
   "cell_type": "code",
   "execution_count": 43,
   "id": "25a3915b-7c08-4a8f-9225-4151619619ae",
   "metadata": {},
   "outputs": [
    {
     "name": "stdout",
     "output_type": "stream",
     "text": [
      "['rogers', 'clark', 'clint']\n"
     ]
    }
   ],
   "source": [
    "#6.\n",
    "lst_of_str=[\"Tony\",\"Rose\",\"rogers\",\"clark\",\"clint\"]\n",
    "send=filter(lambda x: len(x)>4,lst_of_str)\n",
    "print(list(send))\n",
    "            "
   ]
  },
  {
   "cell_type": "code",
   "execution_count": 46,
   "id": "e7868248-cb1b-4639-a376-59d6e9d8673c",
   "metadata": {},
   "outputs": [
    {
     "name": "stdout",
     "output_type": "stream",
     "text": [
      "[109, 123, 224]\n"
     ]
    }
   ],
   "source": [
    "#7.\n",
    "lst_num=[12,5,17,28,109,123,18,224,24]\n",
    "send=filter(lambda x: x>30,lst_num)\n",
    "print(list(send))"
   ]
  },
  {
   "cell_type": "code",
   "execution_count": 47,
   "id": "c7d6d0b7-efc6-4252-ae1d-3fced8d787b0",
   "metadata": {},
   "outputs": [],
   "source": [
    "#---------------------------------------------------------------Recursion-------------------------------------------------"
   ]
  },
  {
   "cell_type": "code",
   "execution_count": 1,
   "id": "7cf0e0e9-64a7-4e0d-a4e9-3737f0b2ac00",
   "metadata": {},
   "outputs": [
    {
     "data": {
      "text/plain": [
       "'where as in iteration termination relies on loop condition'"
      ]
     },
     "execution_count": 1,
     "metadata": {},
     "output_type": "execute_result"
    }
   ],
   "source": [
    "#1.\n",
    "\"\"\"Recursion is the proceess in which a function call itself in it's defination\"\"\"\n",
    "\"\"\"Whereas iteration is the process which involves executing a block of code repeatedly\"\"\"\n",
    "\"\"\"we have to specify a base case in recursion\"\"\"\n",
    "\"\"\"where as in iteration termination relies on loop condition\"\"\"\n"
   ]
  },
  {
   "cell_type": "code",
   "execution_count": 3,
   "id": "14a7e634-c884-419b-ba32-fd631b6d83b8",
   "metadata": {},
   "outputs": [
    {
     "name": "stdout",
     "output_type": "stream",
     "text": [
      "120\n"
     ]
    }
   ],
   "source": [
    "#2.\n",
    "def factorial(n):\n",
    "    if n == 0 or n == 1:\n",
    "        return 1\n",
    "    else:\n",
    "        return n * factorial(n-1)\n",
    "print(factorial(5))"
   ]
  },
  {
   "cell_type": "code",
   "execution_count": 2,
   "id": "a0fb30ba-f519-49d6-8e55-8ad4cb98580f",
   "metadata": {},
   "outputs": [
    {
     "name": "stdout",
     "output_type": "stream",
     "text": [
      "The 6th Fibonacci number is: 5\n"
     ]
    }
   ],
   "source": [
    "#3.\n",
    "def fibonacci(n):\n",
    "    if n <= 0:\n",
    "        return \"Invalid input. Please enter a positive integer.\"\n",
    "    elif n == 1:\n",
    "        return 0\n",
    "    elif n == 2:\n",
    "        return 1\n",
    "    else:\n",
    "        return fibonacci(n - 1) + fibonacci(n -2)\n",
    "n = 6\n",
    "result = fibonacci(n)\n",
    "print(f\"The {n}th Fibonacci number is: {result}\")\n"
   ]
  },
  {
   "cell_type": "code",
   "execution_count": 3,
   "id": "49ffd2a6-7dde-436b-b7c0-3f9887ccbbae",
   "metadata": {},
   "outputs": [
    {
     "name": "stdout",
     "output_type": "stream",
     "text": [
      "15\n"
     ]
    }
   ],
   "source": [
    "#4.\n",
    "n=[1,2,3,4,5]\n",
    "def sm(lst):\n",
    "    if not lst:\n",
    "        return 0\n",
    "    else:\n",
    "        return lst[0]+sm(lst[1:])\n",
    "send=sm(n)\n",
    "print(send)"
   ]
  },
  {
   "cell_type": "code",
   "execution_count": 5,
   "id": "1dcdf157-2e67-4907-aab1-7ce83bcca23c",
   "metadata": {},
   "outputs": [
    {
     "data": {
      "text/plain": [
       "'We can prevent a recursive function from running indefinetly by using a base case and we have to modify the progress\\ncase in such a way that it moves closer to base case,\\nbefore function call we have to check that if the input parameter satisfy the condition for base case\\nwhen we call a function a stack frame is allocated for the call function on the call stack\\n and since recursion is a function which calls itself so everytime a recursive function calls itself an stack frame is allocated.\\n and There is a limit to the size of the call stack, which is determined by the programming language or the system. \\n When this limit is reached, a stack overflow occurs.'"
      ]
     },
     "execution_count": 5,
     "metadata": {},
     "output_type": "execute_result"
    }
   ],
   "source": [
    "#5.\n",
    "\"\"\"We can prevent a recursive function from running indefinetly by using a base case and we have to modify the progress\n",
    "case in such a way that it moves closer to base case,\n",
    "before function call we have to check that if the input parameter satisfy the condition for base case\n",
    "when we call a function a stack frame is allocated for the call function on the call stack\n",
    " and since recursion is a function which calls itself so everytime a recursive function calls itself an stack frame is allocated.\n",
    " and There is a limit to the size of the call stack, which is determined by the programming language or the system. \n",
    " When this limit is reached, a stack overflow occurs.\"\"\"\n",
    "#Also we can use print statement to track the flow of recursion so that we can handle indefinite recursion\n"
   ]
  },
  {
   "cell_type": "code",
   "execution_count": 6,
   "id": "1381bbee-8b2f-492e-b318-eb2338a50133",
   "metadata": {},
   "outputs": [
    {
     "name": "stdout",
     "output_type": "stream",
     "text": [
      "The GCD of 48 and 18 is: 6\n"
     ]
    }
   ],
   "source": [
    "#6.\n",
    "def euclidean_gcd(a, b):\n",
    "    # Base case: GCD(a, 0) = a\n",
    "    if b == 0:\n",
    "        return a\n",
    "    else:\n",
    "        # Recursive case: GCD(a, b) = GCD(b, a % b)\n",
    "        return euclidean_gcd(b, a % b)\n",
    "num1 = 48\n",
    "num2 = 18\n",
    "result = euclidean_gcd(num1, num2)\n",
    "print(f\"The GCD of {num1} and {num2} is: {result}\")\n"
   ]
  },
  {
   "cell_type": "code",
   "execution_count": 11,
   "id": "2ecc04dc-0a31-4e78-bf3f-6aa980c97b54",
   "metadata": {},
   "outputs": [
    {
     "name": "stdout",
     "output_type": "stream",
     "text": [
      "SREGNEVA \n"
     ]
    }
   ],
   "source": [
    "#7.\n",
    "str=\"AVENGERS\"\n",
    "def rev(x):\n",
    "    if not x:\n",
    "        return \" \"\n",
    "    else:\n",
    "        return x[-1]+rev(x[:-1]) #S+rev(AVENGER)\n",
    "send=rev(str)\n",
    "print(send)"
   ]
  },
  {
   "cell_type": "code",
   "execution_count": 14,
   "id": "c5b2dc62-4c2f-48c8-b8d4-5ecb1b263fac",
   "metadata": {},
   "outputs": [
    {
     "name": "stdout",
     "output_type": "stream",
     "text": [
      "32\n"
     ]
    }
   ],
   "source": [
    "#8.\n",
    "def power(n,p):\n",
    "    if p==0:\n",
    "        return 1\n",
    "    else:\n",
    "        return n*power(n,p-1)\n",
    "base = 2\n",
    "exponent = 5\n",
    "result = power(base, exponent)\n",
    "print(result)"
   ]
  },
  {
   "cell_type": "code",
   "execution_count": 15,
   "id": "9d6a026b-83ac-4691-91bd-0c60bff04123",
   "metadata": {},
   "outputs": [
    {
     "name": "stdout",
     "output_type": "stream",
     "text": [
      "All permutations of abc: ['abc', 'acb', 'bac', 'bca', 'cab', 'cba']\n"
     ]
    }
   ],
   "source": [
    "#9.\n",
    "def permutations(s):\n",
    "    if len(s) == 1:\n",
    "        return [s]\n",
    "    else:\n",
    "        perms = []\n",
    "        for i in range(len(s)):\n",
    "            fixed_char = s[i]\n",
    "            remaining_chars = s[:i] + s[i+1:]\n",
    "            subperms = permutations(remaining_chars)\n",
    "            for subperm in subperms:\n",
    "                perms.append(fixed_char + subperm)\n",
    "        return perms\n",
    "input_string = \"abc\"\n",
    "result = permutations(input_string)\n",
    "print(f\"All permutations of {input_string}: {result}\")\n"
   ]
  },
  {
   "cell_type": "code",
   "execution_count": 16,
   "id": "f04e0463-db33-4710-9889-612253bf3e3e",
   "metadata": {},
   "outputs": [
    {
     "name": "stdout",
     "output_type": "stream",
     "text": [
      "level is a palindrome.\n"
     ]
    }
   ],
   "source": [
    "#10.\n",
    "def is_palindrome(s):\n",
    "    if len(s) <= 1:\n",
    "        return True\n",
    "    else:\n",
    "        return s[0] == s[-1] and is_palindrome(s[1:-1])\n",
    "test_string = \"level\"\n",
    "result = is_palindrome(test_string)\n",
    "\n",
    "if result:\n",
    "    print(f\"{test_string} is a palindrome.\")\n",
    "else:\n",
    "    print(f\"{test_string} is not a palindrome.\")\n"
   ]
  },
  {
   "cell_type": "code",
   "execution_count": null,
   "id": "cb6a2236-4c57-4814-9373-d97e44b5a665",
   "metadata": {},
   "outputs": [],
   "source": [
    "#11.\n",
    "def generate_combinations(elements):\n",
    "    if not elements:\n",
    "        return [[]]\n",
    "    else:\n",
    "        combinations_without_first = generate_combinations(elements[1:])\n",
    "        combinations_with_first = [[elements[0]] + combo for combo in combinations_without_first]\n",
    "        all_combinations = combinations_without_first + combinations_with_first\n",
    "        return all_combinations\n",
    "input_list = [1, 2, 3]\n",
    "result = generate_combinations(input_list)\n",
    "print(f\"All combinations of {input_list}: {result}\")\n"
   ]
  },
  {
   "cell_type": "code",
   "execution_count": null,
   "id": "d1851e34-83dd-4750-9ea9-e57380150d53",
   "metadata": {},
   "outputs": [],
   "source": []
  },
  {
   "cell_type": "code",
   "execution_count": 10,
   "id": "4597c490-9126-4f9e-8d18-c60f8a1c663e",
   "metadata": {},
   "outputs": [
    {
     "data": {
      "text/plain": [
       "'Function is used to break dawn a larger program into smaller and mangeable parts'"
      ]
     },
     "execution_count": 10,
     "metadata": {},
     "output_type": "execute_result"
    }
   ],
   "source": [
    "#1\n",
    "\"\"\"Function is a reusable block of code which performs a specific task\"\"\"\n",
    "\"\"\"we can create a function using def keyword and def func_name() this syntax\"\"\"\n",
    "\"\"\"Function can return values\"\"\"\n",
    "\"\"\"Function is used to break dawn a larger program into smaller and mangeable parts\"\"\""
   ]
  },
  {
   "cell_type": "code",
   "execution_count": 12,
   "id": "f750fe01-a924-4907-9ee5-cb5ce584c942",
   "metadata": {},
   "outputs": [
    {
     "name": "stdout",
     "output_type": "stream",
     "text": [
      "6\n"
     ]
    }
   ],
   "source": [
    "#2.\n",
    "\"\"\"We can define a function using def keyword  and giving it a name after that we can call it by name whenever we want\"\"\"\n",
    "\"\"\"we have to provide parameters/arguments also while defining a function\"\"\"\n",
    "\"\"\"At last we have to give return statement to return the calculated value to function call\"\"\"\n",
    "\"\"\"example\"\"\"\n",
    "def python(x):\n",
    "    return x*2    #This is a function which take's  x as an argument and returns it multiple\n",
    "print(python(3))"
   ]
  },
  {
   "cell_type": "code",
   "execution_count": 13,
   "id": "5a66ff42-c94d-4294-8721-357719591b5f",
   "metadata": {},
   "outputs": [
    {
     "data": {
      "text/plain": [
       "'Function defination takes variable as parameters and in function we have the values of these arguments'"
      ]
     },
     "execution_count": 13,
     "metadata": {},
     "output_type": "execute_result"
    }
   ],
   "source": [
    "#3.\n",
    "\"\"\"Function defination is nothing but a block of code that defines how the function is going to work\"\"\"\n",
    "\"\"\"\"Whereas Function call is the action for executing the defination of function\"\"\"\n",
    "\"\"\"Function defination takes variable as parameters and in function we have the values of these arguments\"\"\"\n"
   ]
  },
  {
   "cell_type": "code",
   "execution_count": 14,
   "id": "8c7840e2-d05f-47e9-8ee1-e06fda80be8a",
   "metadata": {},
   "outputs": [
    {
     "name": "stdout",
     "output_type": "stream",
     "text": [
      "9\n"
     ]
    }
   ],
   "source": [
    "#4.\n",
    "def sum_num(x,y):\n",
    "    return x+y\n",
    "print(sum_num(5,4))"
   ]
  },
  {
   "cell_type": "code",
   "execution_count": 15,
   "id": "332e40b2-3577-4f64-a25a-6968a04d09da",
   "metadata": {},
   "outputs": [
    {
     "data": {
      "text/plain": [
       "\"A function signature is nothing but a part of a function's declaration that provides information about the function. \\nsuch as details about the function's name, parameters, and return type\""
      ]
     },
     "execution_count": 15,
     "metadata": {},
     "output_type": "execute_result"
    }
   ],
   "source": [
    "#5.\n",
    "\"\"\"A function signature is nothing but a part of a function's declaration that provides information about the function. \n",
    "such as details about the function's name, parameters, and return type\"\"\""
   ]
  },
  {
   "cell_type": "code",
   "execution_count": 16,
   "id": "28bac27a-486e-42cf-b4ee-db1355e2d2d3",
   "metadata": {},
   "outputs": [
    {
     "name": "stdout",
     "output_type": "stream",
     "text": [
      "36\n"
     ]
    }
   ],
   "source": [
    "#6.\n",
    "def pro(x,y):\n",
    "    return x*y\n",
    "print(pro(6,6))"
   ]
  },
  {
   "cell_type": "code",
   "execution_count": 17,
   "id": "457b8526-1d1f-47b8-952d-25519d3cd8b6",
   "metadata": {},
   "outputs": [],
   "source": [
    "#----------------------------------------------------function parameters and arguments-------------------------------------------"
   ]
  },
  {
   "cell_type": "code",
   "execution_count": 2,
   "id": "8af5e9e2-1c39-4c9c-8e27-488fbbeffbdb",
   "metadata": {},
   "outputs": [
    {
     "data": {
      "text/plain": [
       "'Formal parameters are the parameters listed in the function definition.\\nActual Arguments are the values that are passed to the function when it is called\\nFormal parameters are like variables in the function definition, and actual arguments are the values \\nyou pass to those variables when calling the function.'"
      ]
     },
     "execution_count": 2,
     "metadata": {},
     "output_type": "execute_result"
    }
   ],
   "source": [
    "#1.\n",
    "\"\"\"Formal parameters are the parameters listed in the function definition.\n",
    "Actual Arguments are the values that are passed to the function when it is called\n",
    "Formal parameters are like variables in the function definition, and actual arguments are the values \n",
    "you pass to those variables when calling the function.\"\"\"\n"
   ]
  },
  {
   "cell_type": "code",
   "execution_count": 14,
   "id": "9718e893-d69b-4538-81b2-c51f25aee90b",
   "metadata": {},
   "outputs": [
    {
     "name": "stdin",
     "output_type": "stream",
     "text": [
      "Enter: 10\n"
     ]
    },
    {
     "name": "stdout",
     "output_type": "stream",
     "text": [
      "16\n"
     ]
    }
   ],
   "source": [
    "#2.\n",
    "def dflt_arg(x,y=6):\n",
    "    return x+y                 #In this program this function defination takes two argument x and y where y has default argument y=6 in function defination\n",
    "a=int(input(\"Enter:\"))\n",
    "send=dflt_arg(a)\n",
    "print(send)"
   ]
  },
  {
   "cell_type": "code",
   "execution_count": 16,
   "id": "133ec944-90a5-45d0-8d56-9a0322484831",
   "metadata": {},
   "outputs": [
    {
     "name": "stdout",
     "output_type": "stream",
     "text": [
      "hi no yup\n"
     ]
    }
   ],
   "source": [
    "#3.\n",
    "\"\"\"We can pass keyword arguments to the function defination by specificying parameter names with their values during function call\"\"\"\n",
    "def display(x,y,z):\n",
    "    print(x,y,z)      \n",
    "display(x=\"hi\",y=\"no\",z=\"yup\")   #in this program i am providing keyword arguments to the function call by giving the parameter's their values"
   ]
  },
  {
   "cell_type": "code",
   "execution_count": 18,
   "id": "74d92fd7-5019-4240-b8c8-9f30fb8f08f4",
   "metadata": {},
   "outputs": [
    {
     "name": "stdout",
     "output_type": "stream",
     "text": [
      "15\n"
     ]
    },
    {
     "data": {
      "text/plain": [
       "'In  this program the calculate_sum function takes variable number of arguments and returns their sum'"
      ]
     },
     "execution_count": 18,
     "metadata": {},
     "output_type": "execute_result"
    }
   ],
   "source": [
    "#4.\n",
    "def calculate_sum(*args):\n",
    "    return(sum(args))\n",
    "send=calculate_sum(1,2,3,4,5)   \n",
    "print(send)\n",
    "\"\"\"In  this program the calculate_sum function takes variable number of arguments and returns their sum\"\"\""
   ]
  },
  {
   "cell_type": "code",
   "execution_count": 19,
   "id": "16b8b392-b414-44f5-b644-eb14e2fea0f3",
   "metadata": {},
   "outputs": [
    {
     "data": {
      "text/plain": [
       "'**kargs-It allows a function to accept variable number of keyword arguments '"
      ]
     },
     "execution_count": 19,
     "metadata": {},
     "output_type": "execute_result"
    }
   ],
   "source": [
    "#5.\n",
    "\"\"\"The *args and **kwargs syntax in function parameter lists \n",
    "in Python are used to handle a variable number of arguments. \"\"\"\n",
    "\"\"\"*args-This allows a function to accept any variable number of positional arguments\"\"\"\n",
    "\"\"\"**kargs-It allows a function to accept variable number of keyword arguments \"\"\"\n"
   ]
  },
  {
   "cell_type": "code",
   "execution_count": 1,
   "id": "8eeff033-efcf-4f42-9bbd-f26535d3846c",
   "metadata": {},
   "outputs": [],
   "source": [
    "#_------------------------------------------------------------------Return values and scoping-------------------------------"
   ]
  },
  {
   "cell_type": "code",
   "execution_count": 3,
   "id": "6719c503-30dd-44f2-a87f-54aa56fba0bf",
   "metadata": {},
   "outputs": [
    {
     "name": "stdout",
     "output_type": "stream",
     "text": [
      "Y\n"
     ]
    }
   ],
   "source": [
    "#1.\n",
    "\"\"\"Return statement is used to send back the value to the caller or function call.\n",
    "it indicates the end of function execution or a block of code in a function,\n",
    "there can be multiple return statement in a function defination\"\"\"\n",
    "\"\"\"example\"\"\"\n",
    "def chck(x):\n",
    "    if x>4:\n",
    "        return \"Y\"\n",
    "    elif x<4:\n",
    "        return \"N\"\n",
    "    else:\n",
    "        return 0\n",
    "print(chck(5))"
   ]
  },
  {
   "cell_type": "code",
   "execution_count": 1,
   "id": "ef117043-77c9-4acc-a407-f38daca2f739",
   "metadata": {},
   "outputs": [
    {
     "data": {
      "text/plain": [
       "\"Like global varaiable's have global scope and local variable's have local scope.\\nGlobal variable's-Varible's defined outside any function or defined inside the main body of the program are called Global variable's.\\nThey have Global Scope\\nLocal variable's-Variable's defined within a function and have scope local to that function are called Local variable's\""
      ]
     },
     "execution_count": 1,
     "metadata": {},
     "output_type": "execute_result"
    }
   ],
   "source": [
    "#2.\n",
    "\"\"\"Scope of the variable is the lifetime of the varaible.\n",
    "Type of variable defines the scope of the variable\"\"\"\n",
    "\"\"\"Like global varaiable's have global scope and local variable's have local scope.\n",
    "Global variable's-Varible's defined outside any function or defined inside the main body of the program are called Global variable's.\n",
    "They have Global Scope\n",
    "Local variable's-Variable's defined within a function and have scope local to that function are called Local variable's\"\"\""
   ]
  },
  {
   "cell_type": "code",
   "execution_count": 2,
   "id": "5ca3c444-0327-471b-b3cf-214807e2dd62",
   "metadata": {},
   "outputs": [
    {
     "name": "stdout",
     "output_type": "stream",
     "text": [
      "200\n"
     ]
    }
   ],
   "source": [
    "#3.\n",
    "global_variable=10    #Here i defined a global variable\n",
    "def func(y):\n",
    "    local_variable=y+5\n",
    "    return local_variable*global_variable #Here i used that global variable\n",
    "send=func(15)\n",
    "print(send)"
   ]
  },
  {
   "cell_type": "code",
   "execution_count": 6,
   "id": "1a74a14e-1b83-4682-90d1-da84a7587560",
   "metadata": {},
   "outputs": [
    {
     "name": "stdout",
     "output_type": "stream",
     "text": [
      "120\n"
     ]
    }
   ],
   "source": [
    "#4.\n",
    "def fact(num):\n",
    "    fact=1\n",
    "    for i in range(num,1,-1):\n",
    "        fact=fact*i\n",
    "    return fact\n",
    "send=fact(5)\n",
    "print(send)"
   ]
  },
  {
   "cell_type": "code",
   "execution_count": 9,
   "id": "8796843b-e06a-4e99-95bc-879f750270c9",
   "metadata": {},
   "outputs": [
    {
     "name": "stdout",
     "output_type": "stream",
     "text": [
      "15\n"
     ]
    }
   ],
   "source": [
    "#5.\n",
    "\"\"\"We can access the varaible which is defined outside any function using global keyword\"\"\"\n",
    "\"\"\"Example\"\"\"\n",
    "#3.\n",
    "global_variable=10    #Here i defined a global variable\n",
    "def func():\n",
    "    global global_variable                        #Here i acess the global variable using global keyword and then modifies it\n",
    "    global_variable=global_variable+5\n",
    "    print(global_variable)\n",
    "func()"
   ]
  },
  {
   "cell_type": "code",
   "execution_count": 10,
   "id": "37881018-d88f-4c1a-a763-0a0fd24cb2f9",
   "metadata": {},
   "outputs": [],
   "source": [
    "#-------------------------------------Lambda and higher order functions---------------------------------------------------"
   ]
  },
  {
   "cell_type": "code",
   "execution_count": 12,
   "id": "faa6366b-aed3-4d9e-b144-42352fb272a3",
   "metadata": {},
   "outputs": [
    {
     "name": "stdout",
     "output_type": "stream",
     "text": [
      "8\n"
     ]
    },
    {
     "data": {
      "text/plain": [
       "'Lambda functions are often used when there is need of small functions for short term'"
      ]
     },
     "execution_count": 12,
     "metadata": {},
     "output_type": "execute_result"
    }
   ],
   "source": [
    "#1.\n",
    "\"\"\"Lambda functions are used to create unnamed functions for short term use or one time use using lambda keyword\n",
    "it does not requires a defination for example lambda x:x+2 it takes x as argument and returns x+2\"\"\"\n",
    "\"another example\"\"\"\n",
    "add = lambda x,y:x+y\n",
    "print(add(3, 5))\n",
    "\"\"\"Lambda functions are often used when there is need of small functions for short term\"\"\""
   ]
  },
  {
   "cell_type": "code",
   "execution_count": 13,
   "id": "665988cd-4872-4a83-8c41-750772d4d6a6",
   "metadata": {},
   "outputs": [
    {
     "name": "stdout",
     "output_type": "stream",
     "text": [
      "[(4, 1), (3, 2), (1, 5), (2, 8)]\n"
     ]
    }
   ],
   "source": [
    "#2.\n",
    "my_list = [(1, 5),(3, 2),(2, 8),(4, 1)]\n",
    "sorted_list = sorted(my_list, key=lambda x: x[1]) #sorted function uses the second element of each tuple for sorting\n",
    "print(sorted_list)\n"
   ]
  },
  {
   "cell_type": "code",
   "execution_count": 17,
   "id": "fdc67912-5bd7-4f83-b3b5-127ae50c0fc7",
   "metadata": {},
   "outputs": [
    {
     "name": "stdout",
     "output_type": "stream",
     "text": [
      "[2, 4, 6, 8, 12]\n"
     ]
    }
   ],
   "source": [
    "#3.\n",
    "\"\"\"Higher order functions are nothing but functions that take another function as argument\"\"\"\n",
    "\"\"\"For example map(),filter(),reduce() etc\"\"\"\n",
    "def chck(x):\n",
    "    return x+x\n",
    "lst=[1,2,3,4,6]\n",
    "send=map(chck,lst)\n",
    "print(list(send))"
   ]
  },
  {
   "cell_type": "code",
   "execution_count": 20,
   "id": "a9a38c02-1931-4b0e-b9cf-46f98012ae39",
   "metadata": {},
   "outputs": [
    {
     "name": "stdout",
     "output_type": "stream",
     "text": [
      "[2, 4, 6, 8, 10, 12]\n"
     ]
    }
   ],
   "source": [
    "#4.\n",
    "list_1=[1,2,3,4,5,6]\n",
    "def sec_func(lst,opt):\n",
    "    result=[]\n",
    "    for i in lst:\n",
    "        result.append(opt(i))\n",
    "    return result\n",
    "def frst_func(x):\n",
    "    return x*2\n",
    "send=sec_func(list_1,frst_func)\n",
    "print(send)"
   ]
  },
  {
   "cell_type": "code",
   "execution_count": 21,
   "id": "0a23db76-9f46-4acf-9eca-86ed9001fe92",
   "metadata": {},
   "outputs": [],
   "source": [
    "#---------------------------------built-in_func_---------------------------------------------------------------------------"
   ]
  },
  {
   "cell_type": "code",
   "execution_count": 22,
   "id": "3c734f47-2017-479c-adae-47b66b7ef8f2",
   "metadata": {},
   "outputs": [
    {
     "data": {
      "text/plain": [
       "'Len() function is used to determine the length of a data structure such as string,list,tuple etc\\nmax() function is used to find the largest element in a sequence or an iterable\\nmin() function is used to find the smallest element in a sequence or an iterable'"
      ]
     },
     "execution_count": 22,
     "metadata": {},
     "output_type": "execute_result"
    }
   ],
   "source": [
    "#1.\n",
    "\"\"\"Len() function is used to determine the length of a data structure such as string,list,tuple etc\n",
    "max() function is used to find the largest element in a sequence or an iterable\n",
    "min() function is used to find the smallest element in a sequence or an iterable\"\"\"\n"
   ]
  },
  {
   "cell_type": "code",
   "execution_count": 23,
   "id": "86b6ec4e-82b1-44b0-a4f8-63af1e082cbc",
   "metadata": {},
   "outputs": [
    {
     "name": "stdout",
     "output_type": "stream",
     "text": [
      "[15, 20, 25, 30]\n"
     ]
    }
   ],
   "source": [
    "#2.\n",
    "def chck(x):\n",
    "    return x+10\n",
    "lst=[5,10,15,20]\n",
    "send=map(chck,lst)\n",
    "print(list(send))"
   ]
  },
  {
   "cell_type": "code",
   "execution_count": 24,
   "id": "27ed51ff-b82e-4dbd-b376-1f2d0500bd5b",
   "metadata": {},
   "outputs": [
    {
     "data": {
      "text/plain": [
       "'can use filter() to create a new iterable containing only those elements which meets a specific condition'"
      ]
     },
     "execution_count": 24,
     "metadata": {},
     "output_type": "execute_result"
    }
   ],
   "source": [
    "#3.\n",
    "\"\"\" filter() function is used to remove specified values from a given iterable list or helps to filter out elements from the list\n",
    "based on a particular condition of a predicate\"\"\"\n",
    "\"\"\"can use filter() to create a new iterable containing only those elements which meets a specific condition\"\"\"\n"
   ]
  },
  {
   "cell_type": "code",
   "execution_count": 26,
   "id": "236daef3-9ba3-4c53-9f7e-bcaf947e25ad",
   "metadata": {},
   "outputs": [
    {
     "name": "stdout",
     "output_type": "stream",
     "text": [
      "120\n"
     ]
    }
   ],
   "source": [
    "#4.\n",
    "from functools import reduce\n",
    "list=[5,4,3,2,1]\n",
    "def product(x,y):\n",
    "    return x*y\n",
    "send=reduce(product,list)\n",
    "print(send)\n",
    "    "
   ]
  },
  {
   "cell_type": "code",
   "execution_count": 27,
   "id": "47dd02b7-946f-4623-b65f-2e29906cd887",
   "metadata": {},
   "outputs": [],
   "source": [
    "#-----------------------------------------------------------------------docstrings------------------------------------------"
   ]
  },
  {
   "cell_type": "code",
   "execution_count": 32,
   "id": "f2d7c5b4-fa08-4cdb-a0df-d30122e3ab81",
   "metadata": {},
   "outputs": [
    {
     "name": "stdout",
     "output_type": "stream",
     "text": [
      "Help on built-in function max in module builtins:\n",
      "\n",
      "max(...)\n",
      "    max(iterable, *[, default=obj, key=func]) -> value\n",
      "    max(arg1, arg2, *args, *[, key=func]) -> value\n",
      "    \n",
      "    With a single iterable argument, return its biggest item. The\n",
      "    default keyword-only argument specifies an object to return if\n",
      "    the provided iterable is empty.\n",
      "    With two or more arguments, return the largest argument.\n",
      "\n"
     ]
    }
   ],
   "source": [
    "#1.\n",
    "#Syntax:\n",
    "\"\"\"Doc-strings are enclosed in a triple single quotes or triple double quotes and they are placed as a first statement in function\n",
    "classes or modules\"\"\"\n",
    "\"\"\"Doc-strings in python is used to document functions,classes,modules etc\n",
    "we can access doc-strings using help() function\"\"\"\n",
    "help(max)\n",
    "\n"
   ]
  },
  {
   "cell_type": "code",
   "execution_count": 33,
   "id": "a7e2cbc2-5458-40d9-b304-21907975e3b5",
   "metadata": {},
   "outputs": [
    {
     "data": {
      "text/plain": [
       "\"Follow pep8 guidelines which helps us to make our code more readable and understoodable,\\nAvoid under scores and acroynyms, we can use the names for functions or variable that clearly describe their purpose \\nNames should start's with letter only not any number nor special character's\""
      ]
     },
     "execution_count": 33,
     "metadata": {},
     "output_type": "execute_result"
    }
   ],
   "source": [
    "#2.\n",
    "#naming conventions for functions,varaible's are\n",
    "\"\"\"Follow pep8 guidelines which helps us to make our code more readable and understoodable,\n",
    "Avoid under scores and acroynyms, we can use the names for functions or variable that clearly describe their purpose \n",
    "Names should start's with letter only not any number nor special character's\"\"\""
   ]
  },
  {
   "cell_type": "code",
   "execution_count": null,
   "id": "d089851e-4410-489f-9fd1-e802272beef5",
   "metadata": {},
   "outputs": [],
   "source": []
  }
 ],
 "metadata": {
  "kernelspec": {
   "display_name": "Python 3 (ipykernel)",
   "language": "python",
   "name": "python3"
  },
  "language_info": {
   "codemirror_mode": {
    "name": "ipython",
    "version": 3
   },
   "file_extension": ".py",
   "mimetype": "text/x-python",
   "name": "python",
   "nbconvert_exporter": "python",
   "pygments_lexer": "ipython3",
   "version": "3.10.8"
  }
 },
 "nbformat": 4,
 "nbformat_minor": 5
}
