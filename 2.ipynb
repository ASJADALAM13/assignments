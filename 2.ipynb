{
 "cells": [
  {
   "cell_type": "code",
   "execution_count": 1,
   "id": "a8ef7478-5e83-4e7c-a49e-d5f3b8188b2c",
   "metadata": {},
   "outputs": [
    {
     "name": "stdin",
     "output_type": "stream",
     "text": [
      "Enter your string: ASJAD\n"
     ]
    },
    {
     "name": "stdout",
     "output_type": "stream",
     "text": [
      "DAJSA\n"
     ]
    }
   ],
   "source": [
    "#1.to reverse a string\n",
    "s=input(\"Enter your string:\")\n",
    "print(s[::-1])\n"
   ]
  },
  {
   "cell_type": "code",
   "execution_count": 8,
   "id": "41147a8d-80ae-4daf-b2cd-8589c7ce9d8d",
   "metadata": {},
   "outputs": [
    {
     "name": "stdin",
     "output_type": "stream",
     "text": [
      "Enter your string: maaaaaaaaaaaaaaaaam\n"
     ]
    },
    {
     "name": "stdout",
     "output_type": "stream",
     "text": [
      "palindrome\n"
     ]
    }
   ],
   "source": [
    "#2.To check if palindrome or not\n",
    "s=input(\"Enter your string:\")\n",
    "l=len(s)-1\n",
    "x=0\n",
    "for i in range(l):\n",
    "    if s[i]!=s[l-i]:\n",
    "        break\n",
    "    else:\n",
    "        x=x+1    #if first and last index element matches x inc. by 1\n",
    "    \n",
    "if x==l:\n",
    "    print(\"palindrome\")\n",
    "else:\n",
    "    print(\"Not palindrome\")\n",
    "    \n",
    "    "
   ]
  },
  {
   "cell_type": "code",
   "execution_count": 29,
   "id": "713b3fb4-4618-4b6d-9614-fbdc1e3303e3",
   "metadata": {},
   "outputs": [
    {
     "name": "stdin",
     "output_type": "stream",
     "text": [
      "Enter your string: asjad\n"
     ]
    },
    {
     "name": "stdout",
     "output_type": "stream",
     "text": [
      "The given string is not in upper_case from index 0\n"
     ]
    }
   ],
   "source": [
    "#3.to check upper_case or not\n",
    "s=input(\"Enter your string:\")\n",
    "l=len(s)\n",
    "j=0\n",
    "for i in range(0,l):\n",
    "    x=s[i].isupper()\n",
    "    if x==True:\n",
    "        j=j+1\n",
    "    else:\n",
    "        break\n",
    "        \n",
    "if j==l:\n",
    "    print(\"The given string is in upper_case\")\n",
    "else:\n",
    "    print(\"The given string is not in upper_case from index\",i)\n"
   ]
  },
  {
   "cell_type": "code",
   "execution_count": 30,
   "id": "aa9226e0-84da-4aba-a236-44badfcdd19e",
   "metadata": {},
   "outputs": [
    {
     "name": "stdin",
     "output_type": "stream",
     "text": [
      "Enter your string: ASJAD\n"
     ]
    },
    {
     "name": "stdout",
     "output_type": "stream",
     "text": [
      "asjad\n"
     ]
    }
   ],
   "source": [
    "#4.convert a string to lower_case\n",
    "s=input(\"Enter your string:\")\n",
    "print(s.lower())"
   ]
  },
  {
   "cell_type": "code",
   "execution_count": 9,
   "id": "62db2ca6-3494-4255-b942-7d96a10ff392",
   "metadata": {},
   "outputs": [
    {
     "name": "stdin",
     "output_type": "stream",
     "text": [
      "Enter your string: ASJAD\n"
     ]
    },
    {
     "name": "stdout",
     "output_type": "stream",
     "text": [
      "2 vowels are present in the string\n"
     ]
    }
   ],
   "source": [
    "#5.count the number of vowels in a string\n",
    "s=input(\"Enter your string:\")\n",
    "l=len(s)\n",
    "vow=[\"a\",\"e\",\"i\",\"o\",\"u\"]\n",
    "count=0\n",
    "for i in range(l):\n",
    "    for j in range(5):\n",
    "        if s[i].lower()==vow[j]:\n",
    "            count=count+1\n",
    "        else:\n",
    "            count=count\n",
    "print(f\"{count} vowels are present in the string\")\n",
    "    "
   ]
  },
  {
   "cell_type": "code",
   "execution_count": 15,
   "id": "bdb7c5c8-09a0-458e-a1b5-0b6e27cb466d",
   "metadata": {},
   "outputs": [
    {
     "name": "stdin",
     "output_type": "stream",
     "text": [
      "Enter your string: AEIOU\n"
     ]
    },
    {
     "name": "stdout",
     "output_type": "stream",
     "text": [
      "0 consonants are present in the string\n"
     ]
    }
   ],
   "source": [
    "#6. count the number of consonants in a string\n",
    "s=input(\"Enter your string:\")\n",
    "l=len(s)\n",
    "vow=[\"a\",\"e\",\"i\",\"o\",\"u\"]\n",
    "count=0\n",
    "for i in range(l):   \n",
    "    if s[i].lower() not in vow:    #not in checks if the element at ith index of the string  does bot contains letters from the list vow \n",
    "        count=count+1               #or not\n",
    "    else:\n",
    "        count=count\n",
    "print(f\"{count} consonants are present in the string\")"
   ]
  },
  {
   "cell_type": "code",
   "execution_count": 28,
   "id": "cb06b32d-b827-4894-b0d2-a360855fda14",
   "metadata": {},
   "outputs": [
    {
     "name": "stdin",
     "output_type": "stream",
     "text": [
      "Enter your string: p y t h o n\n"
     ]
    },
    {
     "name": "stdout",
     "output_type": "stream",
     "text": [
      "python\n"
     ]
    }
   ],
   "source": [
    "#7.program to remove all the white spaces from the string\n",
    "s=input(\"Enter your string:\")\n",
    "l=len(s)\n",
    "s1=\"\"\n",
    "split=s.split()\n",
    "for i in split:\n",
    "    s1=s1+i\n",
    "print(s1)\n",
    "    \n"
   ]
  },
  {
   "cell_type": "code",
   "execution_count": 31,
   "id": "5a81ff69-a950-4eec-95ea-dd53b5fe1742",
   "metadata": {},
   "outputs": [
    {
     "name": "stdin",
     "output_type": "stream",
     "text": [
      "Enter your string: learning\n"
     ]
    },
    {
     "name": "stdout",
     "output_type": "stream",
     "text": [
      "8 is the length of the string\n"
     ]
    }
   ],
   "source": [
    "#8.To find the length of a string with len() funct.\n",
    "s=input(\"Enter your string:\")\n",
    "count=0\n",
    "for i in s:\n",
    "    count=count+1\n",
    "print(f\"{count} is the length of the string\")"
   ]
  },
  {
   "cell_type": "code",
   "execution_count": 2,
   "id": "a81f8c41-ff84-4658-965f-e63825bf2a18",
   "metadata": {},
   "outputs": [
    {
     "name": "stdin",
     "output_type": "stream",
     "text": [
      "Enter your string: MY NAME IS KHAN\n",
      "Enter the word you want to search khan\n"
     ]
    },
    {
     "name": "stdout",
     "output_type": "stream",
     "text": [
      "String contains the word khan\n"
     ]
    }
   ],
   "source": [
    "#9.To check if the string contains a specific word or not\n",
    "s=input(\"Enter your string:\")\n",
    "word=input(\"Enter the word you want to search\")\n",
    "if word or word.lower in s:\n",
    "    print(\"String contains the word\",word)\n",
    "else:\n",
    "    print(\"String  does not contain the word\",word)"
   ]
  },
  {
   "cell_type": "code",
   "execution_count": 12,
   "id": "58a8d898-0e28-4a29-8005-8b7c16529941",
   "metadata": {},
   "outputs": [
    {
     "name": "stdin",
     "output_type": "stream",
     "text": [
      "Enter your string: my name is khan\n",
      "Enter the word you want to replace is\n",
      "Enter the Replacement: was\n"
     ]
    },
    {
     "name": "stdout",
     "output_type": "stream",
     "text": [
      "My name was khan \n"
     ]
    }
   ],
   "source": [
    "#10.to replace a word with a new word in a string\n",
    "s=input(\"Enter your string:\")\n",
    "word=input(\"Enter the word you want to replace\")\n",
    "word2=input(\"Enter the Replacement:\")\n",
    "s2=\"\"\n",
    "lst=s.split()\n",
    "for i in lst:\n",
    "    if i==word:\n",
    "        s2=s2+word2\n",
    "        s2=s2+\" \"\n",
    "    else:\n",
    "        s2=s2+i\n",
    "        s2=s2+\" \"\n",
    "print(s2.capitalize())\n",
    "    \n"
   ]
  },
  {
   "cell_type": "code",
   "execution_count": 15,
   "id": "2aadaff4-c304-4b91-ae8a-e6b2fa55eb22",
   "metadata": {},
   "outputs": [
    {
     "name": "stdin",
     "output_type": "stream",
     "text": [
      "Enter your string: data is very crucial data needs to preserve \n",
      "Enter the word you want \n",
      " To know no. of occurence: data\n"
     ]
    },
    {
     "name": "stdout",
     "output_type": "stream",
     "text": [
      "2 is the number of occurence\n"
     ]
    }
   ],
   "source": [
    "#11.To count the number of occurence of a word in string\n",
    "s=input(\"Enter your string:\")\n",
    "word=input(\"Enter the word you want \\n To know no. of occurence:\")\n",
    "print(f\"{s.count(word)} is the number of occurence\")\n",
    "\n",
    "\n",
    "\n"
   ]
  },
  {
   "cell_type": "code",
   "execution_count": 1,
   "id": "c636abd7-5178-4fa2-bb29-f9826c7bb589",
   "metadata": {},
   "outputs": [
    {
     "name": "stdin",
     "output_type": "stream",
     "text": [
      "Enter your string:  my name is asjad and is is me\n",
      "Enter the word to know its first occurence is\n"
     ]
    },
    {
     "data": {
      "text/plain": [
       "9"
      ]
     },
     "execution_count": 1,
     "metadata": {},
     "output_type": "execute_result"
    }
   ],
   "source": [
    "#12.To find the first occurrence of a word\n",
    "s=input(\"Enter your string:\")\n",
    "word=input(\"Enter the word to know its first occurence\")\n",
    "s.find(word)\n",
    "\n"
   ]
  },
  {
   "cell_type": "code",
   "execution_count": 13,
   "id": "6c65514b-5f46-4a9c-b087-53ff0ae226f2",
   "metadata": {},
   "outputs": [
    {
     "name": "stdin",
     "output_type": "stream",
     "text": [
      "Enter your string: k\n",
      "Enter the word to know it's last occu j\n"
     ]
    },
    {
     "name": "stdout",
     "output_type": "stream",
     "text": [
      "0\n"
     ]
    }
   ],
   "source": [
    "\n",
    "#13.To find the last occurrence of a word\n",
    "s=input(\"Enter your string:\")\n",
    "l-len(s)\n",
    "word=input(\"Enter the word to know it's last occu\")\n",
    "print(z) # not done yet?\n",
    "\n",
    "        \n",
    "        "
   ]
  },
  {
   "cell_type": "code",
   "execution_count": 18,
   "id": "d24d9387-76e0-4a75-8077-db2c19579db1",
   "metadata": {},
   "outputs": [
    {
     "name": "stdin",
     "output_type": "stream",
     "text": [
      "Enter your string: my name is khan\n"
     ]
    },
    {
     "name": "stdout",
     "output_type": "stream",
     "text": [
      "['my', 'name', 'is', 'khan']\n"
     ]
    }
   ],
   "source": [
    "#14.To split a string into list of words\n",
    "s=input(\"Enter your string:\")\n",
    "lst=s.split(\" \")\n",
    "print(lst)\n"
   ]
  },
  {
   "cell_type": "code",
   "execution_count": 24,
   "id": "fef1a65e-123a-47f6-b800-d6533df85d0d",
   "metadata": {},
   "outputs": [
    {
     "name": "stdin",
     "output_type": "stream",
     "text": [
      "Enter how many list of words you want 4\n",
      "Enter word: man\n",
      "Enter word: search's\n",
      "Enter word: for \n",
      "Enter word: meaning\n"
     ]
    },
    {
     "name": "stdout",
     "output_type": "stream",
     "text": [
      "The list of words are ['man', \"search's\", 'for ', 'meaning']\n",
      "The string is: man search's for  meaning \n"
     ]
    }
   ],
   "source": [
    "#15.To join a list of words into a string\n",
    "lst=[]\n",
    "str=\"\"\n",
    "x=int(input(\"Enter how many list of words you want\"))\n",
    "for i in range(x):\n",
    "    n=input(\"Enter word:\")\n",
    "    lst.append(n)\n",
    "    str=str+lst[i]\n",
    "    str=str+\" \"\n",
    "print(\"The list of words are\",lst)\n",
    "print(\"The string is:\",str)\n",
    "    \n",
    "    \n"
   ]
  },
  {
   "cell_type": "code",
   "execution_count": 27,
   "id": "c01dc82e-6ab8-43fc-8a4b-7240b8d6f137",
   "metadata": {},
   "outputs": [
    {
     "name": "stdin",
     "output_type": "stream",
     "text": [
      "Enter the string separated by spaces: The world is a prison for believer and paradise for unbeliever\n"
     ]
    },
    {
     "name": "stdout",
     "output_type": "stream",
     "text": [
      " The_world_is_a_prison_for_believer_and_paradise_for_unbeliever_\n"
     ]
    }
   ],
   "source": [
    "#16.To convert a string where words are separated by whitespaces to one where words are separated by underscores\n",
    "str=input(\"Enter the string separated by spaces:\")\n",
    "lst=str.split()\n",
    "str2=\" \"\n",
    "for i in lst:\n",
    "    str2=str2+i\n",
    "    str2=str2+\"_\"\n",
    "print(str2)\n",
    "    \n"
   ]
  },
  {
   "cell_type": "code",
   "execution_count": 31,
   "id": "d2d0a6e4-6a7a-4568-8861-ca5cc36498b3",
   "metadata": {},
   "outputs": [
    {
     "name": "stdin",
     "output_type": "stream",
     "text": [
      "Enter the string: faith consists of more the sixty branches and haya is a part of faith\n",
      "Enter the word: faith\n"
     ]
    },
    {
     "name": "stdout",
     "output_type": "stream",
     "text": [
      "Yes the Line starts with faith\n"
     ]
    }
   ],
   "source": [
    "#17.To check if a string starts with specific word/phrase or not\n",
    "str=input(\"Enter the string:\")\n",
    "wrd=input(\"Enter the word:\")\n",
    "if str.startswith(wrd)==True:\n",
    "    print(f\"Yes the Line starts with {wrd}\")\n",
    "else:\n",
    "    print(\"no the string does not starts with\",wrd)\n",
    "    \n",
    "\n",
    "\n"
   ]
  },
  {
   "cell_type": "code",
   "execution_count": 32,
   "id": "ed41df08-6859-46ba-b1a4-f02280684b10",
   "metadata": {},
   "outputs": [
    {
     "name": "stdin",
     "output_type": "stream",
     "text": [
      "Enter the string: faith consists of more the sixty branches and a part of faith is haya\n",
      "Enter the word: haya\n"
     ]
    },
    {
     "name": "stdout",
     "output_type": "stream",
     "text": [
      "Yes the Line ends with haya\n"
     ]
    }
   ],
   "source": [
    "#18.To check if the string ends with specific word/phrase or not \n",
    "str=input(\"Enter the string:\")\n",
    "wrd=input(\"Enter the word:\")\n",
    "if str.endswith(wrd)==True:\n",
    "    print(f\"Yes the Line ends with {wrd}\")\n",
    "else:\n",
    "    print(\"no the string does not starts with\",wrd)"
   ]
  },
  {
   "cell_type": "code",
   "execution_count": 33,
   "id": "67cbec9c-0957-4472-87fd-b338ddd77b66",
   "metadata": {},
   "outputs": [
    {
     "name": "stdin",
     "output_type": "stream",
     "text": [
      "Enter the string: melody is melodious\n"
     ]
    },
    {
     "name": "stdout",
     "output_type": "stream",
     "text": [
      "Melody Is Melodious\n"
     ]
    }
   ],
   "source": [
    "#19.convert a string to title case\n",
    "str=input(\"Enter the string:\")\n",
    "print(str.title())\n"
   ]
  },
  {
   "cell_type": "code",
   "execution_count": 2,
   "id": "12ce9144-8c2a-4b24-8de4-98134d556599",
   "metadata": {},
   "outputs": [
    {
     "name": "stdin",
     "output_type": "stream",
     "text": [
      "Enter the string: my name  is asjad \n"
     ]
    },
    {
     "name": "stdout",
     "output_type": "stream",
     "text": [
      "The longest word is : asjad\n"
     ]
    }
   ],
   "source": [
    "#20.To find the longest word in a string.\n",
    "str=input(\"Enter the string:\")\n",
    "lst=str.split()\n",
    "l=len(lst)\n",
    "i=0\n",
    "while i<l-1:\n",
    "    if len(lst[i+1])>len(lst[i]):\n",
    "        longst=lst[i+1]\n",
    "    else:\n",
    "        longst=lst[i]\n",
    "    i=i+1\n",
    "print(\"The longest word is :\",longst)\n",
    "    \n"
   ]
  },
  {
   "cell_type": "code",
   "execution_count": 4,
   "id": "5781385f-7661-4a99-801b-c2a27a7b2b66",
   "metadata": {},
   "outputs": [
    {
     "name": "stdin",
     "output_type": "stream",
     "text": [
      "Enter the string: my name is asjad\n"
     ]
    },
    {
     "name": "stdout",
     "output_type": "stream",
     "text": [
      "The shortest word is : is\n"
     ]
    }
   ],
   "source": [
    "#20.To find the shortest word in a string.\n",
    "str=input(\"Enter the string:\")\n",
    "lst=str.split()\n",
    "l=len(lst)\n",
    "i=0\n",
    "while i<l-1:\n",
    "    if len(lst[i+1])>len(lst[i]):\n",
    "        shrst=lst[i]\n",
    "    else:\n",
    "        shrst=lst[i+1]\n",
    "    i=i+1\n",
    "print(\"The shortest word is :\",shrst)\n",
    "    \n"
   ]
  },
  {
   "cell_type": "code",
   "execution_count": 9,
   "id": "191cd21e-2673-4be0-b3e5-a8c741def42a",
   "metadata": {},
   "outputs": [
    {
     "name": "stdin",
     "output_type": "stream",
     "text": [
      "Enter the string: This is  going to be a reversed string\n"
     ]
    },
    {
     "name": "stdout",
     "output_type": "stream",
     "text": [
      "sihT si gniog ot eb a desrever gnirts \n"
     ]
    }
   ],
   "source": [
    "#22.To reverse the order of words in a string.\n",
    "str=input(\"Enter the string:\")\n",
    "lst=str.split()\n",
    "str2=\"\"\n",
    "for ls in lst:\n",
    "    l=len(ls)-1\n",
    "    for j in range(l,-1,-1):\n",
    "        str2=str2+ls[j]\n",
    "    str2=str2+\" \"\n",
    "print(str2)\n"
   ]
  },
  {
   "cell_type": "code",
   "execution_count": 11,
   "id": "06bd3d4c-a81b-496a-80c6-3153f014fc67",
   "metadata": {},
   "outputs": [
    {
     "name": "stdin",
     "output_type": "stream",
     "text": [
      "Enter the string: #57 h\n"
     ]
    },
    {
     "name": "stdout",
     "output_type": "stream",
     "text": [
      "No the given string is not alphanumeric\n"
     ]
    }
   ],
   "source": [
    "#23.To check if a string is alphanumeric or not\n",
    "str=input(\"Enter the string:\")\n",
    "if str.isalnum()==True:    #it checks that the string contains only numbers and alphabets or nor.\n",
    "    print(\"Yes the given string is alphanumeric\")\n",
    "else:\n",
    "    print(\"No the given string is not alphanumeric\")\n"
   ]
  },
  {
   "cell_type": "code",
   "execution_count": 15,
   "id": "81ab3f53-2b69-45ff-a3b1-c460debb9136",
   "metadata": {},
   "outputs": [
    {
     "name": "stdin",
     "output_type": "stream",
     "text": [
      "Enter the string: @#V43erg\n"
     ]
    },
    {
     "name": "stdout",
     "output_type": "stream",
     "text": [
      "The extracted alphabets are : V e r g\n"
     ]
    }
   ],
   "source": [
    "#25.To extract all the alphabets from the string\n",
    "str=input(\"Enter the string:\")\n",
    "lst=str.split()\n",
    "str2=\"\"\n",
    "for word in lst:\n",
    "    for i in word:\n",
    "        x=i.isalpha() #isalpha checks for alphabets\n",
    "        if x==True:\n",
    "            str2=str2+i\n",
    "print(\"The extracted alphabets are :\",*str2)\n",
    "\n",
    "    \n",
    "        \n"
   ]
  },
  {
   "cell_type": "code",
   "execution_count": 2,
   "id": "64ff820a-0e86-45af-ad2c-e9c7679074ad",
   "metadata": {},
   "outputs": [
    {
     "name": "stdin",
     "output_type": "stream",
     "text": [
      "Enter the string: gyudsftwe234123#$#\n"
     ]
    },
    {
     "name": "stdout",
     "output_type": "stream",
     "text": [
      "The extracted digits are: 2 3 4 1 2 3\n"
     ]
    }
   ],
   "source": [
    "#24.To extract all the digits from the string\n",
    "str=input(\"Enter the string:\")\n",
    "lst=str.split()\n",
    "str2=\"\"\n",
    "for word in lst:  #outer loop iterate through each word\n",
    "    for i in word: # inner loop iterate through each letter of word\n",
    "        x=i.isdigit() #is digits checks for digits \n",
    "        if x==True:\n",
    "            str2=str2+i\n",
    "print(\"The extracted digits are:\",*str2)\n"
   ]
  },
  {
   "cell_type": "code",
   "execution_count": 4,
   "id": "a5d18e10-e670-45e6-be4a-3637a5583fcf",
   "metadata": {},
   "outputs": [
    {
     "name": "stdin",
     "output_type": "stream",
     "text": [
      "Enter the string: #@aaA\n"
     ]
    },
    {
     "name": "stdout",
     "output_type": "stream",
     "text": [
      "The upper_case letters are: A\n"
     ]
    }
   ],
   "source": [
    "#26.To count the number of upper_case letters \n",
    "str=input(\"Enter the string:\")\n",
    "lst=str.split()\n",
    "str2=\"\"\n",
    "for word in lst:\n",
    "    for i in word:\n",
    "        if i.isupper()==True:\n",
    "            str2=str2+i\n",
    "print(\"The upper_case letters are:\",*str2)\n",
    "\n"
   ]
  },
  {
   "cell_type": "code",
   "execution_count": 5,
   "id": "b0446875-e78b-4a11-8181-83e74888360a",
   "metadata": {},
   "outputs": [
    {
     "name": "stdin",
     "output_type": "stream",
     "text": [
      "Enter the string: ASJAD as \n"
     ]
    },
    {
     "name": "stdout",
     "output_type": "stream",
     "text": [
      "The lower_case letters are: a s\n"
     ]
    }
   ],
   "source": [
    "#27.To count the number of lower_case letters \n",
    "str=input(\"Enter the string:\")\n",
    "lst=str.split()\n",
    "str2=\"\"\n",
    "for word in lst:\n",
    "    for i in word:\n",
    "        if i.islower()==True: #islower returns true if i is in lower_case\n",
    "            str2=str2+i\n",
    "print(\"The lower_case letters are:\",*str2)\n",
    "\n"
   ]
  },
  {
   "cell_type": "code",
   "execution_count": 7,
   "id": "1081ad89-3a13-406b-a1c1-032068509cb8",
   "metadata": {},
   "outputs": [
    {
     "name": "stdin",
     "output_type": "stream",
     "text": [
      "Enter the string: THE lower and UPPER 4567\n"
     ]
    },
    {
     "name": "stdout",
     "output_type": "stream",
     "text": [
      "the LOWER AND upper 4567 \n"
     ]
    }
   ],
   "source": [
    "#28.To swap the characters of each character in a string,i.e if  char=upper_case then char=lowe_case and vice versa\n",
    "str=input(\"Enter the string:\")\n",
    "lst=str.split()\n",
    "str2=\"\"\n",
    "for word in lst:\n",
    "    for i in word:\n",
    "        if i.islower()==True:\n",
    "            x=i.upper()\n",
    "            str2=str2+x\n",
    "        elif i.isupper()==True:\n",
    "            y=i.lower()\n",
    "            str2=str2+y\n",
    "        else:\n",
    "            str2=str2+i\n",
    "    str2=str2+\" \"\n",
    "print(str2)"
   ]
  },
  {
   "cell_type": "code",
   "execution_count": 4,
   "id": "ff3f86a6-9f41-49dd-88e5-2d60df8b7204",
   "metadata": {},
   "outputs": [
    {
     "name": "stdin",
     "output_type": "stream",
     "text": [
      "Enter the string: Wake up to reality the world is cruel  best for students\n",
      "Enter the word to remove best\n"
     ]
    },
    {
     "name": "stdout",
     "output_type": "stream",
     "text": [
      "Wake up to reality the world is cruel for students \n"
     ]
    }
   ],
   "source": [
    "#29.To remove a specific word from a string\n",
    "str=input(\"Enter the string:\")\n",
    "word=input(\"Enter the word to remove\")\n",
    "lst=str.split()\n",
    "str2=\"\"\n",
    "for i in lst:\n",
    "        if i!=word:\n",
    "            str2=str2+i\n",
    "            str2=str2+\" \"\n",
    "        else:\n",
    "            continue\n",
    "print(str2)\n",
    "    \n",
    "\n"
   ]
  },
  {
   "cell_type": "code",
   "execution_count": 11,
   "id": "8233cc4a-c1db-41d4-9855-1ab3c5279f19",
   "metadata": {},
   "outputs": [
    {
     "name": "stdin",
     "output_type": "stream",
     "text": [
      "Enter the E-mail ID for validation: asjad._13@gmail.com\n"
     ]
    },
    {
     "name": "stdout",
     "output_type": "stream",
     "text": [
      "This is a valid E-mail ID\n"
     ]
    }
   ],
   "source": [
    " #30.To check that if an email address is valid or not\n",
    "#A valid email id should starts and end with number or letters only \n",
    "#symbols other than \".\",\"_\",\"-\" are not allowed in user name\n",
    "str=input(\"Enter the E-mail ID for validation:\")\n",
    "sep_lst=str.split(\"@\") #separates domain and username\n",
    "user_namelst=sep_lst[0]\n",
    "l=len(user_namelst)\n",
    "\n",
    "#Domain name verification\n",
    "dmn_name=\"\"        \n",
    "if sep_lst[1].lower()==\"gmail.com\":\n",
    "    dmn_name=\"verified\"\n",
    "else:\n",
    "    dmn_name=\"not verified\"\n",
    "    \n",
    "    \n",
    "#user_name verification\n",
    "spclchr=[\".\",\"_\",\"-\"]\n",
    "user_name=\"\"\n",
    "for i in user_namelst:\n",
    "        if i  not in spclchr:           #This will remove all the special characters which are allowed.From the username\n",
    "            user_name=user_name+i\n",
    "        else:\n",
    "            if user_namelst[0]==i or user_namelst[l-1] ==i:\n",
    "                vrf=False\n",
    "            else:                         #This will verifies that user name does not starts and ends with these special symbols [.,_,-]\n",
    "                vrf=True\n",
    "            \n",
    "        \n",
    "    \n",
    "        \n",
    "if dmn_name==\"verified\" and user_name.isalnum()==True  and vrf==True:\n",
    "    print(\"This is a valid E-mail ID\")\n",
    "else:\n",
    "    print(\"This is not a valid E-mail ID\")\n",
    "        \n",
    "    \n",
    "\n"
   ]
  },
  {
   "cell_type": "code",
   "execution_count": 5,
   "id": "9844cb85-7fd4-4ac7-899d-eff00a35d0e1",
   "metadata": {},
   "outputs": [
    {
     "name": "stdin",
     "output_type": "stream",
     "text": [
      "Enter the E-mail ID  aj.asjad007@gmail.com\n"
     ]
    },
    {
     "name": "stdout",
     "output_type": "stream",
     "text": [
      "aj.asjad007 is the username \n"
     ]
    }
   ],
   "source": [
    "#31.To extract username from an Given E-mail ID string.\n",
    "str=input(\"Enter the E-mail ID \")\n",
    "splt=str.split(\"@\")\n",
    "print(f\"{splt[0]} is the username \")\n",
    "    "
   ]
  },
  {
   "cell_type": "code",
   "execution_count": 12,
   "id": "2e906b0b-cf3d-45a9-8cd4-eda492d2c719",
   "metadata": {},
   "outputs": [
    {
     "name": "stdin",
     "output_type": "stream",
     "text": [
      "Enter the E-mail ID  aj.asjad007@gmail.com\n"
     ]
    },
    {
     "name": "stdout",
     "output_type": "stream",
     "text": [
      "gmail.com is the username \n"
     ]
    }
   ],
   "source": [
    "#32.To extract domain name from the given E-mail ID\n",
    "str=input(\"Enter the E-mail ID \")\n",
    "splt=str.split(\"@\")\n",
    "print(f\"{splt[1]} is the Domain name \")\n"
   ]
  },
  {
   "cell_type": "code",
   "execution_count": 55,
   "id": "08dc5250-8142-49ac-9d3c-e9930e16a121",
   "metadata": {},
   "outputs": [
    {
     "name": "stdout",
     "output_type": "stream",
     "text": [
      "This is an example with multiple spaces.\n"
     ]
    }
   ],
   "source": [
    "#33 \n",
    "def replace_multiple_spaces(input_string):\n",
    "    parts = filter(None, input_string.split(' ')) #filter function\n",
    "    cleaned_string = ' '.join(parts)\n",
    "    return cleaned_string\n",
    "original_string = \"This    is   an    example    with   multiple   spaces.\"\n",
    "result = replace_multiple_spaces(original_string)\n",
    "print(result)\n"
   ]
  },
  {
   "cell_type": "code",
   "execution_count": 9,
   "id": "88e5ac0f-0d33-449f-8cdc-99b33dabf6c4",
   "metadata": {},
   "outputs": [
    {
     "name": "stdin",
     "output_type": "stream",
     "text": [
      "Enter the URL https://www.goggle.com\n"
     ]
    },
    {
     "name": "stdout",
     "output_type": "stream",
     "text": [
      "Given URl is Correct\n"
     ]
    }
   ],
   "source": [
    "#34.To check if the string is a Valid URl or not\n",
    "str=input(\"Enter the URL\")\n",
    "protocol=[\"http://\",\"https://\", \"ftp://\", \"mailto:\"]\n",
    "#https://www.goggle.com is a valid URL\n",
    "for p in protocol:\n",
    "    if str.startswith(p)==True:\n",
    "        valid=True\n",
    "        break\n",
    "    else:\n",
    "        valid=False\n",
    "if \"//\" in str:\n",
    "    strsplt=str.split(\"//\")\n",
    "    domain=[i for i in strsplt[1]]\n",
    "    if \"!\"not in domain and \"@\"not in domain and \"#\" not in domain and \"$\" not in domain and \"%\" not in domain and valid==True:\n",
    "        print(\"Given URl is Correct\")\n",
    "    else:\n",
    "        print(\"Not A Valid URL\")    \n",
    "else:\n",
    "    print(\"Not A Valid URL\")"
   ]
  },
  {
   "cell_type": "code",
   "execution_count": 38,
   "id": "1446c4b7-f955-4042-ac97-445f0cf02346",
   "metadata": {},
   "outputs": [
    {
     "name": "stdin",
     "output_type": "stream",
     "text": [
      "Enter the URL https://www.goggle.com\n"
     ]
    },
    {
     "name": "stdout",
     "output_type": "stream",
     "text": [
      "https:// is the protocol of the given URL\n"
     ]
    }
   ],
   "source": [
    "#35.\n",
    "str=input(\"Enter the URL\")\n",
    "if str.startswith(\"https://\") or str.startswith(\"http://\"): \n",
    "    strsplt=str.split(\"//\")\n",
    "    pro=strsplt[0]+\"//\"\n",
    "    print(pro,\"is the protocol of the given URL\")\n",
    "else:\n",
    "    print(\"Not a valid URL\")\n"
   ]
  },
  {
   "cell_type": "code",
   "execution_count": 1,
   "id": "48c2d2f9-926e-41a4-9685-70d8082599a7",
   "metadata": {},
   "outputs": [
    {
     "name": "stdout",
     "output_type": "stream",
     "text": [
      "H occurs 1 times\n",
      "E occurs 1 times\n",
      "L occurs 3 times\n",
      "L occurs 3 times\n",
      "O occurs 2 times\n",
      "W occurs 1 times\n",
      "O occurs 2 times\n",
      "R occurs 1 times\n",
      "L occurs 3 times\n",
      "D occurs 1 times\n"
     ]
    }
   ],
   "source": [
    "#36.\n",
    "count=0\n",
    "word=\"HELLOWORLD\"\n",
    "l=len(word)\n",
    "for i in range(0,l):\n",
    "    for j in range(-1,-l-1,-1):\n",
    "        if word[i]==word[j]:\n",
    "            count=count+1\n",
    "    print(f\"{word[i]} occurs {count} times\")\n",
    "    count=0\n"
   ]
  },
  {
   "cell_type": "code",
   "execution_count": 21,
   "id": "b02f7936-00d0-476b-8194-54fbd62d17ca",
   "metadata": {},
   "outputs": [
    {
     "name": "stdout",
     "output_type": "stream",
     "text": [
      "hello to the word! & to the people::\n",
      " hello to the word  to the people\n"
     ]
    }
   ],
   "source": [
    "#37\n",
    "str=\"hello to the word! & to the people::\"\n",
    "punc=[\".\",\"?\",\"!\",\":\",\";\",\"()\",\"[ ]\",\"{ }\",\"-\",\"—\",\"/\",\"&\",\"...\",\"'\",]\n",
    "str2=\" \"\n",
    "for i in str:\n",
    "    if i in punc:\n",
    "        pass\n",
    "    else:\n",
    "        str2=str2+i\n",
    "print(str)\n",
    "print(str2)\n",
    "    "
   ]
  },
  {
   "cell_type": "code",
   "execution_count": 33,
   "id": "c3e3bc8a-98de-49aa-b769-dae57310cb99",
   "metadata": {},
   "outputs": [
    {
     "name": "stdin",
     "output_type": "stream",
     "text": [
      "Enter your string 213 2136\n"
     ]
    },
    {
     "name": "stdout",
     "output_type": "stream",
     "text": [
      "Given string contains only digits\n"
     ]
    }
   ],
   "source": [
    "#38\n",
    "word=input(\"Enter your string\")\n",
    "str=word.split(\" \")\n",
    "for i in str:\n",
    "    if i.isdigit()==True:\n",
    "        v=True\n",
    "    else:\n",
    "        v=False\n",
    "if v==True:\n",
    "    print(\"Given string contains only digits\")\n",
    "else:\n",
    "    print(\"Given string  does contain character's other than digits\")\n"
   ]
  },
  {
   "cell_type": "code",
   "execution_count": 34,
   "id": "e7daa4e8-3f44-416b-98f6-e5279ac0535f",
   "metadata": {},
   "outputs": [
    {
     "name": "stdin",
     "output_type": "stream",
     "text": [
      "Enter your string Asjad alam\n"
     ]
    },
    {
     "name": "stdout",
     "output_type": "stream",
     "text": [
      "Given string contains only alphabets\n"
     ]
    }
   ],
   "source": [
    "#39.\n",
    "word=input(\"Enter your string\")\n",
    "str=word.split(\" \")\n",
    "for i in str:\n",
    "    if i.isalpha()==True:\n",
    "        v=True\n",
    "    else:\n",
    "        v=False\n",
    "if v==True:\n",
    "    print(\"Given string contains only alphabets\")\n",
    "else:\n",
    "    print(\"Given string  does contain character's other than alphabets\")\n"
   ]
  },
  {
   "cell_type": "code",
   "execution_count": 36,
   "id": "c7df2577-3a8f-4500-bd4f-dddeb4bb704b",
   "metadata": {},
   "outputs": [
    {
     "name": "stdin",
     "output_type": "stream",
     "text": [
      "Enter: AVENGERS ASSEMBLE\n"
     ]
    },
    {
     "name": "stdout",
     "output_type": "stream",
     "text": [
      "['A', 'V', 'E', 'N', 'G', 'E', 'R', 'S', ' ', 'A', 'S', 'S', 'E', 'M', 'B', 'L', 'E']\n"
     ]
    }
   ],
   "source": [
    "#40.\n",
    "word=input(\"Enter:\")\n",
    "list=[i for i in word]\n",
    "print(list)\n"
   ]
  },
  {
   "cell_type": "code",
   "execution_count": 56,
   "id": "6d1a8551-2ec6-408a-a5cf-fa1083935c79",
   "metadata": {},
   "outputs": [
    {
     "name": "stdin",
     "output_type": "stream",
     "text": [
      "Enter 1st word:  asjad\n",
      "Enter 2nd word:  jadsa\n"
     ]
    },
    {
     "name": "stdout",
     "output_type": "stream",
     "text": [
      "Given strings are anagrams.\n"
     ]
    }
   ],
   "source": [
    "#41.\n",
    "word1 = input(\"Enter 1st word: \")\n",
    "word2 = input(\"Enter 2nd word: \")\n",
    "word1 = word1.lower()\n",
    "word2 = word2.lower()\n",
    "if sorted(word1) == sorted(word2):\n",
    "    print(\"Given strings are anagrams.\")\n",
    "else:\n",
    "    print(\"Given strings are not anagrams.\")\n"
   ]
  },
  {
   "cell_type": "code",
   "execution_count": 19,
   "id": "7e0685b9-7ed0-43e3-86d3-0c5331a46f60",
   "metadata": {},
   "outputs": [
    {
     "name": "stdout",
     "output_type": "stream",
     "text": [
      "Original :PWSKILLS\n",
      "Encrypted:SZVNLOOV\n"
     ]
    }
   ],
   "source": [
    "#42.\n",
    "#caesar cipher is method to encode characters using their ascii values\n",
    "def caesar_cipher_encrypt(text,shift):\n",
    "    result = \"\"\n",
    "    for char in text:\n",
    "        if char.isalpha():\n",
    "            is_upper = char.isupper() #returns True or false\n",
    "            ascii_code = ord(char)   #ord is used to convert charcater into its ascii form\n",
    "            shifted_ascii=(ascii_code-ord('A' if is_upper else'a')+shift)%26   #by using %26 we are making sure that we are shifting upto 26 alphabets only if shifted ascii>26 it will agian starts from 1\n",
    "            shifted_char = chr(shifted_ascii + ord('A' if is_upper else 'a')) #  sifted_ascii=18(for P)+65=83 i.e->S\n",
    "            result += shifted_char #Now i am appending every letter to result\n",
    "        else:\n",
    "            result += char\n",
    "\n",
    "    return result\n",
    "\n",
    "plaintext =\"PWSKILLS\"\n",
    "shift_amount=3\n",
    "encrypted_text = caesar_cipher_encrypt(plaintext, shift_amount)\n",
    "print(f\"Original :{plaintext}\")\n",
    "print(f\"Encrypted:{encrypted_text}\")\n"
   ]
  },
  {
   "cell_type": "code",
   "execution_count": 18,
   "id": "970681f1-66db-411f-80a2-72411b97a883",
   "metadata": {},
   "outputs": [
    {
     "name": "stdout",
     "output_type": "stream",
     "text": [
      "Original :SZVN2OOV\n",
      "Encrypted:PWSK2LLS\n"
     ]
    }
   ],
   "source": [
    "#43.\n",
    "#THIS will work same as previous one only i have to use negative shift here\n",
    "def caesar_cipher_encrypt(text,shift):\n",
    "    result = \"\"\n",
    "    for char in text:\n",
    "        if char.isalpha():\n",
    "            is_upper = char.isupper() #returns True or false\n",
    "            ascii_code = ord(char)   #ord is used to convert charcater into its ascii form\n",
    "            shifted_ascii=(ascii_code-ord('A' if is_upper else'a')-shift)%26   #by using %26 we are making sure that we are shifting upto 26 alphabets only if shifted ascii>26 it will agian starts from 1\n",
    "            shifted_char = chr(shifted_ascii + ord('A' if is_upper else 'a')) #  sifted_ascii=15(for S)+65=80 i.e->P\n",
    "            result += shifted_char #Now i am appending every letter to result\n",
    "        else:\n",
    "            result += char\n",
    "\n",
    "    return result\n",
    "\n",
    "plaintext=\"SZVNLOOV\"\n",
    "shift_amount=3\n",
    "encrypted_text = caesar_cipher_encrypt(plaintext, shift_amount)\n",
    "print(f\"Original :{plaintext}\")\n",
    "print(f\"Encrypted:{encrypted_text}\")\n"
   ]
  },
  {
   "cell_type": "code",
   "execution_count": 24,
   "id": "655ced3f-4c4e-43d8-a5eb-229faedab486",
   "metadata": {},
   "outputs": [
    {
     "name": "stdout",
     "output_type": "stream",
     "text": [
      "{'apple': 2, 'banana': 1, 'grape': 1, 'guava': 1}\n",
      "The most frequent word is: apple\n"
     ]
    }
   ],
   "source": [
    "#44.\n",
    "str=\"apple banana apple grape guava\"\n",
    "lst=str.split(\" \")\n",
    "dict={}\n",
    "for i in lst:\n",
    "    x=lst.count(i)\n",
    "    dict.update({i:x})\n",
    "print(dict)\n",
    "print(\"The most frequent word is:\",max(dict,key=dict.get))"
   ]
  },
  {
   "cell_type": "code",
   "execution_count": 29,
   "id": "59068e57-3533-431d-8fdc-46a43c72d5d0",
   "metadata": {},
   "outputs": [
    {
     "name": "stdin",
     "output_type": "stream",
     "text": [
      "Enter: apple banana apple grape guava\n"
     ]
    },
    {
     "name": "stdout",
     "output_type": "stream",
     "text": [
      "{'apple': 2, 'banana': 1, 'grape': 1, 'guava': 1}\n",
      "apple is not an unique word\n",
      "banana is an unique word\n",
      "grape is an unique word\n",
      "guava is an unique word\n"
     ]
    }
   ],
   "source": [
    "#45.\n",
    "str1=input(\"Enter:\")\n",
    "splt=str1.split(\" \")\n",
    "dict1={}\n",
    "for i in splt:\n",
    "    c=splt.count(i)\n",
    "    dict1.update({i:c})\n",
    "print(dict1)\n",
    "for i in dict1:\n",
    "    if dict1.get(i)==1:\n",
    "        print(i,\"is an unique word\")\n",
    "    else:\n",
    "        print(i,\"is not an unique word\")"
   ]
  },
  {
   "cell_type": "code",
   "execution_count": 36,
   "id": "7bfc5826-b116-45da-a35f-9b9720aacca2",
   "metadata": {},
   "outputs": [
    {
     "name": "stdout",
     "output_type": "stream",
     "text": [
      "Total syllables: 9\n"
     ]
    }
   ],
   "source": [
    "#46.\n",
    "def count_syllables(word):\n",
    "    vowels=\"aeiouyAEIOUY\"\n",
    "    count=sum(1 for char in word if char in vowels and word[word.index(char)-1] not in vowels)\n",
    "    return count\n",
    "def count_syllables_in_string(input_string):\n",
    "    words=input_string.split()\n",
    "    total_syllables=sum(count_syllables(word) for word in words)\n",
    "    return total_syllables\n",
    "input_string=\"Hello, how are you? How was your day?\"\n",
    "syllable_count=count_syllables_in_string(input_string)\n",
    "print(\"Total syllables:\", syllable_count)"
   ]
  },
  {
   "cell_type": "code",
   "execution_count": 38,
   "id": "3ea744f4-d0de-40e9-a15c-f410a169bd19",
   "metadata": {},
   "outputs": [
    {
     "name": "stdin",
     "output_type": "stream",
     "text": [
      "Enter Your string: asjad34#\n"
     ]
    },
    {
     "name": "stdout",
     "output_type": "stream",
     "text": [
      "Yes this string contains special character\n"
     ]
    }
   ],
   "source": [
    "#47.\n",
    "def chck(word):\n",
    "    lst=word.split(\" \")\n",
    "    for i in lst:\n",
    "        if i.isalnum():\n",
    "            x=True\n",
    "        else:\n",
    "            x=False\n",
    "    if x==False:\n",
    "        print(\"Yes this string contains special character\")\n",
    "str=input(\"Enter Your string:\")\n",
    "send=chck(str)"
   ]
  },
  {
   "cell_type": "code",
   "execution_count": 43,
   "id": "36e847ce-d235-4774-9e54-b597537094f7",
   "metadata": {},
   "outputs": [
    {
     "name": "stdin",
     "output_type": "stream",
     "text": [
      "Enter your sentence: your chance of success is leaving good\n",
      "Enter number to remove the word from that number 6\n"
     ]
    },
    {
     "name": "stdout",
     "output_type": "stream",
     "text": [
      "['your', 'chance', 'of', 'success', 'is', 'good']\n",
      "After Removal of word:  your chance of success is good \n"
     ]
    }
   ],
   "source": [
    "#48.\n",
    "str3=input(\"Enter your sentence:\")\n",
    "lst3=str3.split(\" \")\n",
    "n=int(input(\"Enter number to remove the word from that number\"))\n",
    "lst3.pop(n-1)\n",
    "print(lst3)\n",
    "new_str=\" \"\n",
    "for i in lst3:\n",
    "    new_str=new_str+i\n",
    "    new_str=new_str+\" \"\n",
    "print(\"After Removal of word:\",new_str)"
   ]
  },
  {
   "cell_type": "code",
   "execution_count": 53,
   "id": "4b1812dd-e2bc-4bc8-9a79-70c998a573bb",
   "metadata": {},
   "outputs": [
    {
     "name": "stdout",
     "output_type": "stream",
     "text": [
      "Dont miss the of the table clash\n"
     ]
    },
    {
     "name": "stdin",
     "output_type": "stream",
     "text": [
      "Enter your word to insert: top\n",
      "Enter number to insert at that position: 4\n"
     ]
    },
    {
     "name": "stdout",
     "output_type": "stream",
     "text": [
      "After addition of word:  Dont miss the top of the table clash \n"
     ]
    }
   ],
   "source": [
    "#49.\n",
    "str_or=\"Dont miss the of the table clash\"\n",
    "print(str_or)\n",
    "word=input(\"Enter your word to insert:\")\n",
    "lst4=str_or.split(\" \")\n",
    "n1=int(input(\"Enter number to insert at that position:\"))\n",
    "lst4.insert(n1-1,word)\n",
    "new_str1=\" \"\n",
    "for i in lst4:\n",
    "    new_str1=new_str1+i\n",
    "    new_str1=new_str1+\" \"\n",
    "print(\"After addition of word:\",new_str1)"
   ]
  },
  {
   "cell_type": "code",
   "execution_count": 54,
   "id": "4f3d617e-755f-40d8-affe-65283e89aae7",
   "metadata": {},
   "outputs": [
    {
     "name": "stdout",
     "output_type": "stream",
     "text": [
      "Name, Age, City\n",
      "John, 25, New York\n",
      "Jane, 30, San Francisco\n",
      "Bob, 22, Chicago\n",
      "[['Name', ' Age', ' City'], ['John', ' 25', ' New York'], ['Jane', ' 30', ' San Francisco'], ['Bob', ' 22', ' Chicago']]\n"
     ]
    }
   ],
   "source": [
    "#50\n",
    "#csv are nothing but comma separated values\n",
    "def csv_string_to_list(csv_string):\n",
    "    rows = csv_string.split('\\n')\n",
    "    data_list = [row.split(',') for row in rows if row]\n",
    "    return data_list\n",
    "csv_string = \"Name, Age, City\\nJohn, 25, New York\\nJane, 30, San Francisco\\nBob, 22, Chicago\"\n",
    "#here i use\\n for new line\n",
    "result = csv_string_to_list(csv_string)\n",
    "print(csv_string)\n",
    "print(result)\n"
   ]
  },
  {
   "cell_type": "code",
   "execution_count": 11,
   "id": "3476354c-a7a3-4bf8-a014-182bc3ffc021",
   "metadata": {},
   "outputs": [],
   "source": [
    " #_______________________________________________lists based______________________________________________#\n",
    "    #list is ordered and changeable and allow duplication\n",
    "    #we can change the contents of the list wiothout creating new list"
   ]
  },
  {
   "cell_type": "code",
   "execution_count": 9,
   "id": "0ec2d141-32b5-4c8f-ae27-3f800a93614d",
   "metadata": {},
   "outputs": [
    {
     "name": "stdout",
     "output_type": "stream",
     "text": [
      "[1, 2, 3, 4, 5, 6, 7, 8, 9, 10]\n"
     ]
    }
   ],
   "source": [
    "#1.\n",
    "lst=[i for i in range(1,11)]\n",
    "print(lst)"
   ]
  },
  {
   "cell_type": "code",
   "execution_count": 12,
   "id": "ce437953-76ba-4dcd-9533-bd3477356ca5",
   "metadata": {},
   "outputs": [
    {
     "name": "stdout",
     "output_type": "stream",
     "text": [
      "The lenth of the list is  16\n"
     ]
    }
   ],
   "source": [
    "#2.\n",
    "lst=[i for i in \"THIS IS A STRING\"]\n",
    "c=0\n",
    "for i in lst:\n",
    "    c=c+1\n",
    "print(\"The lenth of the list is \",c)\n",
    "    "
   ]
  },
  {
   "cell_type": "code",
   "execution_count": 15,
   "id": "19fb7a70-c1d8-482a-851b-5e57d21484cd",
   "metadata": {},
   "outputs": [
    {
     "name": "stdout",
     "output_type": "stream",
     "text": [
      "['I', '', '*', '**', '***', '****', '*****', '******', '*******', '********', '*********']\n"
     ]
    }
   ],
   "source": [
    "#3.\n",
    "lst=[\"I\"]\n",
    "for i in range(10):\n",
    "    lst.append(i*\"*\")\n",
    "print(lst)"
   ]
  },
  {
   "cell_type": "code",
   "execution_count": 20,
   "id": "5c8b8489-d1b1-4db3-8cf3-c9241a25cb24",
   "metadata": {},
   "outputs": [
    {
     "name": "stdout",
     "output_type": "stream",
     "text": [
      "[2, 4, 6, 8, 'Hi', 10]\n"
     ]
    }
   ],
   "source": [
    "#4.\n",
    "lst=[i*2 for i in range(1,6)]\n",
    "lst.insert(4,\"Hi\")\n",
    "print(lst)"
   ]
  },
  {
   "cell_type": "code",
   "execution_count": 23,
   "id": "024a0e24-8e98-4d0e-9946-cf9f0ea86892",
   "metadata": {},
   "outputs": [
    {
     "name": "stdout",
     "output_type": "stream",
     "text": [
      "['hello']\n"
     ]
    }
   ],
   "source": [
    "#5.\n",
    "lst=[\"hi\",\"hello\"]\n",
    "lst.remove(\"hi\")    # deletion by value\n",
    "print(lst)"
   ]
  },
  {
   "cell_type": "code",
   "execution_count": 24,
   "id": "1f52641c-e3fa-48e1-bccf-29ad9ad4ec92",
   "metadata": {},
   "outputs": [
    {
     "name": "stdout",
     "output_type": "stream",
     "text": [
      "['hello', 'Alone']\n"
     ]
    }
   ],
   "source": [
    "#6.\n",
    "lst=[\"hi\",\"hello\",\"Alone\"]\n",
    "lst.pop(0)       # deletion by position\n",
    "print(lst)\n"
   ]
  },
  {
   "cell_type": "code",
   "execution_count": null,
   "id": "bafb9bb8-9002-4ffa-b2c8-4680ddabdd83",
   "metadata": {},
   "outputs": [],
   "source": [
    "#7.\n",
    "lst=[i for i in range(50,1,-1) if i%2==0]\n",
    "n=int(input(\"Enter:\"))\n",
    "if n in lst:\n",
    "    print(f\"Yes {n} is in the list\")\n",
    "else:\n",
    "    print(f\"No {n} is in the list\")"
   ]
  },
  {
   "cell_type": "code",
   "execution_count": 4,
   "id": "f3a7f454-9d63-4246-97b4-e54744167f51",
   "metadata": {},
   "outputs": [
    {
     "name": "stdout",
     "output_type": "stream",
     "text": [
      "Element 44.5 found at index 2\n"
     ]
    }
   ],
   "source": [
    "#8.\n",
    "lst=[\"HELLO\",\"HI\",44.5,\"NO\",44.5]\n",
    "for i in range(0,len(lst)+1):\n",
    "    if lst[i]==44.5:\n",
    "        print(\"Element 44.5 found at index\",i)\n",
    "        break\n",
    "        \n",
    "               "
   ]
  },
  {
   "cell_type": "code",
   "execution_count": 6,
   "id": "909c3c2a-19c1-4a98-a5ac-8c3afb853457",
   "metadata": {},
   "outputs": [
    {
     "name": "stdout",
     "output_type": "stream",
     "text": [
      "Number  of times 44.5 occurs in the list is 2\n"
     ]
    }
   ],
   "source": [
    "#9\n",
    "lst=[\"HELLO\",\"HI\",44.5,\"NO\",44.5]\n",
    "c=0\n",
    "for i in lst:\n",
    "    if i==44.5:\n",
    "        c=c+1\n",
    "print(\"Number  of times 44.5 occurs in the list is\",c)"
   ]
  },
  {
   "cell_type": "code",
   "execution_count": 1,
   "id": "8d654ca3-bed7-4ac1-b33e-50a9dd3da5c1",
   "metadata": {},
   "outputs": [
    {
     "name": "stdout",
     "output_type": "stream",
     "text": [
      "[1, 2, 3, 4, 5, 6, 7, 8, 9, 10]\n",
      "The reversed list is  [10, 9, 8, 7, 6, 5, 4, 3, 2, 1]\n"
     ]
    }
   ],
   "source": [
    "#10.\n",
    "lst=[i//2 for i in range(2,21) if i%2==0]\n",
    "print(lst)\n",
    "lst.reverse()\n",
    "print(\"The reversed list is \",lst)"
   ]
  },
  {
   "cell_type": "code",
   "execution_count": 19,
   "id": "4eee7f99-aa8f-42bb-9a34-e07051ec1561",
   "metadata": {},
   "outputs": [
    {
     "name": "stdout",
     "output_type": "stream",
     "text": [
      "[11, 9, 7, 5, 3]\n",
      "In ascending order [3, 5, 7, 9, 11]\n"
     ]
    }
   ],
   "source": [
    "#11.\n",
    "lst=[i for i in range(11,1,-2)]\n",
    "print(lst)\n",
    "lst.sort()\n",
    "print(\"In ascending order\",lst)"
   ]
  },
  {
   "cell_type": "code",
   "execution_count": 18,
   "id": "466f6005-1216-497d-a3a8-91016fed3a56",
   "metadata": {},
   "outputs": [
    {
     "name": "stdout",
     "output_type": "stream",
     "text": [
      "[1, 3, 5, 7, 9]\n",
      "In desecending order [9, 7, 5, 3, 1]\n"
     ]
    }
   ],
   "source": [
    "#12.\n",
    "lst=[i for i in range(1,11,2)]\n",
    "print(lst)\n",
    "lst.reverse()\n",
    "print(\"In desecending order\",lst)\n",
    "\n"
   ]
  },
  {
   "cell_type": "code",
   "execution_count": 23,
   "id": "ccf5f482-ce47-4ba1-8c7e-777c600869e8",
   "metadata": {},
   "outputs": [
    {
     "name": "stdout",
     "output_type": "stream",
     "text": [
      "[2, 4, 6, 8, 10, 12, 14, 16, 18, 20]\n"
     ]
    }
   ],
   "source": [
    "#13.\n",
    "even=[i for i in range(1,21) if i%2==0]\n",
    "print(even)"
   ]
  },
  {
   "cell_type": "code",
   "execution_count": 22,
   "id": "0f825280-5220-4bea-a90f-0eb4907f7dfa",
   "metadata": {},
   "outputs": [
    {
     "name": "stdout",
     "output_type": "stream",
     "text": [
      "[1, 3, 5, 7, 9, 11, 13, 15, 17, 19]\n"
     ]
    }
   ],
   "source": [
    "#14.\n",
    "odd=[i for i in range(1,21) if i%2!=0]\n",
    "print(odd)\n"
   ]
  },
  {
   "cell_type": "code",
   "execution_count": 27,
   "id": "29dc44a1-08af-47a7-b939-a5302d9d8752",
   "metadata": {},
   "outputs": [
    {
     "name": "stdout",
     "output_type": "stream",
     "text": [
      "120\n"
     ]
    }
   ],
   "source": [
    "#15.\n",
    "sum=0\n",
    "list=[i for i in range(1,16)]\n",
    "for i in list:\n",
    "    sum=sum+i\n",
    "print(sum)"
   ]
  },
  {
   "cell_type": "code",
   "execution_count": 5,
   "id": "b81a2150-9386-401a-bd6a-197d2e32ff4a",
   "metadata": {},
   "outputs": [
    {
     "name": "stdout",
     "output_type": "stream",
     "text": [
      "9766 is the maximum value\n"
     ]
    }
   ],
   "source": [
    "#16.\n",
    "list=[12,4512,461,9766,8917]\n",
    "max=list[0]\n",
    "l=len(list)\n",
    "for n in range(1,l):\n",
    "    if list[n]>max:\n",
    "        max=list[n]\n",
    "    else:\n",
    "        max=max\n",
    "\n",
    "print(max,\"is the maximum value\")"
   ]
  },
  {
   "cell_type": "code",
   "execution_count": 7,
   "id": "d7ab362f-cbb0-4b92-a48f-27a42ea4de38",
   "metadata": {},
   "outputs": [
    {
     "name": "stdout",
     "output_type": "stream",
     "text": [
      "9766 is the maximum value\n"
     ]
    }
   ],
   "source": [
    "#16.\n",
    "list=[1642,4512,461,2566,897]\n",
    "min=list[0]\n",
    "l=len(list)\n",
    "for n in range(1,l):\n",
    "    if list[n]<min:\n",
    "        min=list[n]\n",
    "    else:\n",
    "        min=min\n",
    "\n",
    "print(max,\"is the maximum value\")"
   ]
  },
  {
   "cell_type": "code",
   "execution_count": 3,
   "id": "e12636d0-ef64-457c-9d5e-c94c4f5d5fdf",
   "metadata": {},
   "outputs": [
    {
     "name": "stdout",
     "output_type": "stream",
     "text": [
      "30 is the minimum value\n"
     ]
    }
   ],
   "source": [
    "#17.\n",
    "list=[30,4512,461,2566,897]\n",
    "min=list[0]\n",
    "l=len(list)\n",
    "for n in range(1,l):\n",
    "    if list[n]<min:\n",
    "        min=list[n]\n",
    "    else:\n",
    "        min=min\n",
    "\n",
    "print(min,\"is the minimum value\")"
   ]
  },
  {
   "cell_type": "code",
   "execution_count": 2,
   "id": "df0eb1ba-65ac-459f-9bbc-82772c466aae",
   "metadata": {},
   "outputs": [
    {
     "name": "stdout",
     "output_type": "stream",
     "text": [
      "[1, 4, 9, 16, 25, 36, 49, 64, 81, 100]\n"
     ]
    }
   ],
   "source": [
    "#18\n",
    "lst_of_sqrs=[i*i for i in range(1,11)]\n",
    "print(lst_of_sqrs)"
   ]
  },
  {
   "cell_type": "code",
   "execution_count": null,
   "id": "022d7f0d-f4b3-458e-91fb-dc3ba3535ada",
   "metadata": {},
   "outputs": [],
   "source": [
    "#19"
   ]
  },
  {
   "cell_type": "code",
   "execution_count": 10,
   "id": "6027ea07-5378-48a8-ba47-4fe9b0aa1d8e",
   "metadata": {},
   "outputs": [
    {
     "name": "stdout",
     "output_type": "stream",
     "text": [
      "[11, 10, 12, 21, 22, 30]\n"
     ]
    }
   ],
   "source": [
    "#20\n",
    "lst=[11,10,12,21,10,22,10,21,30]\n",
    "l=len(lst)\n",
    "\n",
    "print(dup)        "
   ]
  },
  {
   "cell_type": "code",
   "execution_count": 30,
   "id": "f516d481-380a-4845-a739-105bb320968b",
   "metadata": {},
   "outputs": [
    {
     "name": "stdout",
     "output_type": "stream",
     "text": [
      "The common elements are\n",
      "hi\n",
      "12\n",
      "45\n"
     ]
    }
   ],
   "source": [
    "#21\n",
    "lst1=[\"hi\" ,12,45,\"new\"]\n",
    "lst2=[12,34,\"hi\",24,89,9,45]\n",
    "print(\"The common elements are\")\n",
    "for i  in lst1:\n",
    "    if i in lst2:\n",
    "        print(i)"
   ]
  },
  {
   "cell_type": "code",
   "execution_count": 34,
   "id": "7662aa04-29ff-4065-aea6-925a2bef4383",
   "metadata": {},
   "outputs": [
    {
     "name": "stdout",
     "output_type": "stream",
     "text": [
      "The uncommon elements or the difference between the elements are:\n",
      "34\n",
      "24\n",
      "89\n",
      "9\n",
      "new\n"
     ]
    }
   ],
   "source": [
    "#22.\n",
    "lst1=[\"hi\",12,45,\"new\"]\n",
    "lst2=[12,34,\"hi\",24,89,9,45]\n",
    "print(\"The uncommon elements or the difference between the elements are:\")\n",
    "for i in lst2:\n",
    "    if i not in lst1:\n",
    "        print(i)\n",
    "for i in lst1:\n",
    "    if i not in lst2:\n",
    "        print(i)"
   ]
  },
  {
   "cell_type": "code",
   "execution_count": 6,
   "id": "b6e928bf-3ab8-42c8-a913-1568bb60f735",
   "metadata": {},
   "outputs": [
    {
     "name": "stdout",
     "output_type": "stream",
     "text": [
      "[89, 34, 9, 12, 45, 'hi', 24, 'new']\n"
     ]
    }
   ],
   "source": [
    "#23.\n",
    "lst1=[\"hi\",12,45,\"new\"]\n",
    "lst2=[12,34,\"hi\",24,89,9,45]\n",
    "lst3=set(lst1+lst2)\n",
    "print(list(lst3))"
   ]
  },
  {
   "cell_type": "code",
   "execution_count": 7,
   "id": "4cdde9a2-311c-43f1-8b34-34cf4ac4dd87",
   "metadata": {},
   "outputs": [
    {
     "name": "stdout",
     "output_type": "stream",
     "text": [
      "['AA', 68, 134, 16, 0, 24, 'BB']\n"
     ]
    }
   ],
   "source": [
    "#24\n",
    "lst1=[\"A\",34,67,8,0,12,\"B\"]\n",
    "lst2=[i*2 for i in lst1]\n",
    "print(lst2)"
   ]
  },
  {
   "cell_type": "code",
   "execution_count": 11,
   "id": "445ec3cd-f7c9-452f-915f-375725248140",
   "metadata": {},
   "outputs": [
    {
     "name": "stdout",
     "output_type": "stream",
     "text": [
      "The first list is : [1, 2, 3, 4, 5, 6, 7, 8, 9, 10, 11, 12, 13, 14, 15, 16, 17, 18, 19, 20, 21, 22, 23, 24, 25, 26, 27, 28, 29]\n",
      "The filtered  even elements are  2 4 6 8 10 12 14 16 18 20 22 24 26 28\n"
     ]
    }
   ],
   "source": [
    "#25.\n",
    "lst1=[i for i in range(1,30)]\n",
    "print(\"The first list is :\",lst1)\n",
    "lst2=[i for i  in lst1 if i%2==0]\n",
    "print(\"The filtered  even elements are \",*lst2)"
   ]
  },
  {
   "cell_type": "code",
   "execution_count": 13,
   "id": "d9a3be6e-962b-4f7c-99d4-6649bb78cefb",
   "metadata": {},
   "outputs": [
    {
     "name": "stdout",
     "output_type": "stream",
     "text": [
      "[12, 13, 156, 189, 10]\n"
     ]
    }
   ],
   "source": [
    "#26.\n",
    "lst_of_strings=[\"12\",\"13\",\"156\",\"189\",\"10\"]\n",
    "lst_of_integers=[int(i) for i in lst_of_strings]\n",
    "print(lst_of_integers)"
   ]
  },
  {
   "cell_type": "code",
   "execution_count": 19,
   "id": "e06c9373-3952-4ecc-8b9c-ba4f1821cc8a",
   "metadata": {},
   "outputs": [
    {
     "name": "stdout",
     "output_type": "stream",
     "text": [
      "['12', '13', '156', '189', '10', '1000']\n"
     ]
    }
   ],
   "source": [
    "#27.\n",
    "lst_of_integers=[12,13,156,189,10,1000]\n",
    "lst_of_strings=[str(i) for i in lst_of_integers]\n",
    "print(lst_of_strings)"
   ]
  },
  {
   "cell_type": "code",
   "execution_count": 21,
   "id": "cd866358-fff4-4ff4-a0d6-471399231d88",
   "metadata": {},
   "outputs": [
    {
     "name": "stdout",
     "output_type": "stream",
     "text": [
      "['hi', 'hello', 'no', 12, 17, 14, 16, 90, '22-10-2004', '13-08-2003']\n"
     ]
    }
   ],
   "source": [
    "#28.\n",
    "nested_lst=[[\"hi\",\"hello\",\"no\"],[12,17,14,16,90],[\"22-10-2004\",\"13-08-2003\"]]\n",
    "flat_lst=[]\n",
    "for i in nested_lst:\n",
    "    for  j in i:\n",
    "        flat_lst.append(j)\n",
    "print(flat_lst)"
   ]
  },
  {
   "cell_type": "code",
   "execution_count": 23,
   "id": "ca279b8d-1ff1-487a-8d71-514982ca4621",
   "metadata": {},
   "outputs": [
    {
     "name": "stdout",
     "output_type": "stream",
     "text": [
      "The first ten fiboonaci sequence is  [0, 1, 1, 2, 3, 5, 8, 13, 21, 34]\n"
     ]
    }
   ],
   "source": [
    "#29.\n",
    "fst=0\n",
    "scnd=1\n",
    "fib=[fst,scnd]\n",
    "n=10\n",
    "for i in range(n-2):\n",
    "    add=fst+scnd\n",
    "    fib.append(add)  #0,1,1,2,3\n",
    "    fst=scnd\n",
    "    scnd=add\n",
    "print(\"The first ten fiboonaci sequence is \",fib)\n"
   ]
  },
  {
   "cell_type": "code",
   "execution_count": 4,
   "id": "f83327b6-982f-4c5c-9a8f-1eb578f79674",
   "metadata": {},
   "outputs": [
    {
     "name": "stdout",
     "output_type": "stream",
     "text": [
      "Given list is not sorted\n"
     ]
    }
   ],
   "source": [
    "#30.\n",
    "lst=[13,12,10,24,25,27]\n",
    "lst2=lst.sort()\n",
    "if lst==lst2:\n",
    "    print(\"Given list is sorted \")\n",
    "else:\n",
    "    print(\"Given list is not sorted\")"
   ]
  },
  {
   "cell_type": "code",
   "execution_count": 4,
   "id": "68fd75a0-78fb-4843-b7d9-69415aea236e",
   "metadata": {},
   "outputs": [
    {
     "name": "stdin",
     "output_type": "stream",
     "text": [
      "Enter n to rotate upto: 3\n"
     ]
    },
    {
     "name": "stdout",
     "output_type": "stream",
     "text": [
      "[14, 16, 13, 159, 10]\n"
     ]
    }
   ],
   "source": [
    "#31.\n",
    "lst=[13,159,10,14,16]\n",
    "n=int(input(\"Enter n to rotate upto:\"))\n",
    "lst1=lst[n:]+lst[:n]\n",
    "print(lst1)"
   ]
  },
  {
   "cell_type": "code",
   "execution_count": 5,
   "id": "05fcc511-468f-4f49-87f7-9264b44774d6",
   "metadata": {},
   "outputs": [
    {
     "name": "stdin",
     "output_type": "stream",
     "text": [
      "Enter n to rotate upto: 2\n"
     ]
    },
    {
     "name": "stdout",
     "output_type": "stream",
     "text": [
      "[14, 16, 13, 159, 10]\n"
     ]
    }
   ],
   "source": [
    "#32.\n",
    "lst=[13,159,10,14,16]\n",
    "n=int(input(\"Enter n to rotate upto:\"))\n",
    "lst1=lst[-n:]+lst[:-n]\n",
    "print(lst1)"
   ]
  },
  {
   "cell_type": "code",
   "execution_count": 8,
   "id": "011badfd-ae51-4f65-8cbd-6355ee0a847c",
   "metadata": {},
   "outputs": [
    {
     "name": "stdout",
     "output_type": "stream",
     "text": [
      "[2, 3, 5, 7, 11, 13, 17, 19, 23, 29, 31, 37, 41, 43, 47]\n"
     ]
    }
   ],
   "source": [
    "#33.\n",
    "lst1=[2,3,5,7]\n",
    "lst_pri=[i for i in range(10,50) if i%2!=0 and i%3!=0 and i%5!=0 and i%7!=0]\n",
    "lst_prime=lst1+lst_pri\n",
    "print(lst_prime)"
   ]
  },
  {
   "cell_type": "code",
   "execution_count": 10,
   "id": "975e7199-4c0c-49b7-8814-73bd9f138654",
   "metadata": {},
   "outputs": [
    {
     "name": "stdout",
     "output_type": "stream",
     "text": [
      "Original List: [1, 2, 3, 4, 5, 6, 7, 8, 9]\n",
      "List Split into Chunks of 3: [[1, 2, 3], [4, 5, 6], [7, 8, 9]]\n"
     ]
    }
   ],
   "source": [
    "#34.\n",
    "my_list=[1,2,3,4,5,6,7,8,9]\n",
    "chunk_size=3\n",
    "result=[my_list[i:i+chunk_size] for i in range(0,len(my_list),chunk_size)]\n",
    "print(\"Original List:\", my_list)\n",
    "print(f\"List Split into Chunks of {chunk_size}:\", result)\n"
   ]
  },
  {
   "cell_type": "code",
   "execution_count": 14,
   "id": "e7bf8e1e-2183-4de7-a416-26c0853b70f9",
   "metadata": {},
   "outputs": [
    {
     "name": "stdout",
     "output_type": "stream",
     "text": [
      "The second largest element is: 67\n"
     ]
    }
   ],
   "source": [
    "#35.\n",
    "lst=[67,15,29,20,45,89]\n",
    "grt=lst[0]\n",
    "l=len(lst)\n",
    "for i in range(1,l):\n",
    "    if grt<lst[i]:\n",
    "        grt=lst[i]\n",
    "    else:\n",
    "        grt=grt\n",
    "lst.remove(grt)\n",
    "print(\"The second largest element is:\",max(lst))\n",
    "    "
   ]
  },
  {
   "cell_type": "code",
   "execution_count": 16,
   "id": "8c81c5aa-cda4-457a-86d5-0127e1ef10e2",
   "metadata": {},
   "outputs": [
    {
     "name": "stdout",
     "output_type": "stream",
     "text": [
      "[1, 9, 25, 49, 64]\n"
     ]
    }
   ],
   "source": [
    "#36.\n",
    "lst1=[1,3,5,7,8]\n",
    "lst1=[i*i for i in lst1]\n",
    "print(lst1)"
   ]
  },
  {
   "cell_type": "code",
   "execution_count": 17,
   "id": "34cdf141-3255-45c5-890d-7b3413fcc05f",
   "metadata": {},
   "outputs": [
    {
     "name": "stdout",
     "output_type": "stream",
     "text": [
      "Original List: ['apple', 'banana', 'orange', 'grape']\n",
      "Converted Dictionary: {'apple': 0, 'banana': 1, 'orange': 2, 'grape': 3}\n"
     ]
    }
   ],
   "source": [
    "#37.\n",
    "my_list=['apple', 'banana', 'orange', 'grape']\n",
    "result_dict = {element: index for index, element in enumerate(my_list)}\n",
    "print(\"Original List:\", my_list)\n",
    "print(\"Converted Dictionary:\", result_dict)\n"
   ]
  },
  {
   "cell_type": "code",
   "execution_count": 18,
   "id": "48d2a19f-6ca0-4160-9350-aee47acf3a69",
   "metadata": {},
   "outputs": [
    {
     "name": "stdout",
     "output_type": "stream",
     "text": [
      "Shuffled List: [2, 4, 1, 3, 5]\n"
     ]
    }
   ],
   "source": [
    "#38\n",
    "import random\n",
    "my_list = [1, 2, 3, 4, 5]\n",
    "random.shuffle(my_list)\n",
    "print(\"Shuffled List:\", my_list)\n"
   ]
  },
  {
   "cell_type": "code",
   "execution_count": 22,
   "id": "e1e278d0-27eb-4555-905a-b746b69d1379",
   "metadata": {},
   "outputs": [
    {
     "name": "stdout",
     "output_type": "stream",
     "text": [
      "[0, 1, 1, 2, 3, 5, 8, 13, 21, 34]\n"
     ]
    }
   ],
   "source": [
    "#39.\n",
    "lst=[0,1]\n",
    "x=lst[0]\n",
    "y=lst[1]\n",
    "for i in range(8):\n",
    "    x,y=y,x+y\n",
    "    lst.append(y)\n",
    "print(lst)"
   ]
  },
  {
   "cell_type": "code",
   "execution_count": 23,
   "id": "69b7188d-c738-4781-9b28-0a1ded2ce4c0",
   "metadata": {},
   "outputs": [
    {
     "name": "stdout",
     "output_type": "stream",
     "text": [
      "The lists have at least one element in common.\n"
     ]
    }
   ],
   "source": [
    "#40.\n",
    "list1 = [1, 2, 3, 4, 5]\n",
    "list2 = [5, 6, 7, 8, 9]\n",
    "common_elements = any(item in list1 for item in list2)\n",
    "if common_elements:\n",
    "    print(\"The lists have at least one element in common.\")\n",
    "else:\n",
    "    print(\"The lists do not have any elements in common.\")\n"
   ]
  },
  {
   "cell_type": "code",
   "execution_count": 25,
   "id": "f1062a5f-8853-4eb1-86a0-45c948f03406",
   "metadata": {},
   "outputs": [
    {
     "name": "stdout",
     "output_type": "stream",
     "text": [
      "ALL elements are removed []\n"
     ]
    }
   ],
   "source": [
    "#41.\n",
    "lst=[12,15,16,78,132]\n",
    "lst.clear()\n",
    "print(\"ALL elements are removed\",lst)"
   ]
  },
  {
   "cell_type": "code",
   "execution_count": 26,
   "id": "7d6bb152-4773-4b80-9367-d352e35a2499",
   "metadata": {},
   "outputs": [
    {
     "name": "stdout",
     "output_type": "stream",
     "text": [
      "Original List: [1, -2, 3, -4, 5, -6, 7]\n",
      "Modified List: [1, 0, 3, 0, 5, 0, 7]\n"
     ]
    }
   ],
   "source": [
    "#42.\n",
    "original_list = [1, -2, 3, -4, 5, -6, 7]\n",
    "modified_list = [max(0, x) for x in original_list]\n",
    "print(\"Original List:\", original_list)\n",
    "print(\"Modified List:\", modified_list)\n"
   ]
  },
  {
   "cell_type": "code",
   "execution_count": 28,
   "id": "82314511-dab8-48f1-8248-d1eb6c875609",
   "metadata": {},
   "outputs": [
    {
     "name": "stdout",
     "output_type": "stream",
     "text": [
      "['The', 'world', 'is', 'a', 'prison', 'for', 'believer']\n"
     ]
    }
   ],
   "source": [
    "#43.\n",
    "str1=\"The world is a prison for believer\"\n",
    "lst1=str1.split(\" \")\n",
    "print(lst1)"
   ]
  },
  {
   "cell_type": "code",
   "execution_count": 33,
   "id": "383d1f84-f6bf-4027-a690-33ff15f9e0d6",
   "metadata": {},
   "outputs": [
    {
     "name": "stdout",
     "output_type": "stream",
     "text": [
      "PWskills is an platform for data science \n"
     ]
    }
   ],
   "source": [
    "#44.\n",
    "lst1=[\"PWskills\",\"is\",\"an\",\"platform\",\"for\",\"data\",\"science\"]\n",
    "str1=\"\"\n",
    "for i in lst1:\n",
    "    str1=str1+i\n",
    "    str1=str1+\" \"\n",
    "print(str1)"
   ]
  },
  {
   "cell_type": "code",
   "execution_count": 36,
   "id": "2b032d34-e962-4432-8d6c-cdc1e594a20b",
   "metadata": {},
   "outputs": [
    {
     "name": "stdin",
     "output_type": "stream",
     "text": [
      "Enter N for giving power of 2's 6\n"
     ]
    },
    {
     "name": "stdout",
     "output_type": "stream",
     "text": [
      "[2, 4, 8, 16, 32, 64]\n"
     ]
    }
   ],
   "source": [
    "#45.\n",
    "n=int(input(\"Enter N for giving power of 2's\"))\n",
    "lst1=[2**i for i in range(1,n+1)]\n",
    "print(lst1)"
   ]
  },
  {
   "cell_type": "code",
   "execution_count": 42,
   "id": "f8eb5f2f-bea7-442f-be12-6528b8e3e8ae",
   "metadata": {},
   "outputs": [
    {
     "name": "stdout",
     "output_type": "stream",
     "text": [
      "The longest string is: platform\n"
     ]
    }
   ],
   "source": [
    "#46.\n",
    "lst1=[\"PWskill\",\"is\",\"and\",\"platform\",\"for\",\"data\",\"science\"]\n",
    "grt=len(lst1[0])\n",
    "lngst_str=lst1[0]\n",
    "for i in range(0,len(lst1)):\n",
    "    if len(lst1[i])>grt:\n",
    "        grt=len(lst1[i])\n",
    "        lngst_str=lst1[i]\n",
    "print(\"The longest string is:\",lngst_str)"
   ]
  },
  {
   "cell_type": "code",
   "execution_count": 46,
   "id": "44015023-57b5-43b0-80db-634f2d742a98",
   "metadata": {},
   "outputs": [
    {
     "name": "stdout",
     "output_type": "stream",
     "text": [
      "The smallest string is: is\n"
     ]
    }
   ],
   "source": [
    "#47.\n",
    "lst1 = [\"PWskill\", \"is\", \"and\", \"platform\", \"for\", \"data\", \"science\"]\n",
    "sml = len(lst1[0])\n",
    "smlst_str = lst1[0]\n",
    "for i in range(1, len(lst1)):\n",
    "    if len(lst1[i]) < sml:\n",
    "        sml = len(lst1[i])\n",
    "        smlst_str = lst1[i]\n",
    "print(\"The smallest string is:\", smlst_str)\n"
   ]
  },
  {
   "cell_type": "code",
   "execution_count": 47,
   "id": "43c68859-da58-47c3-b578-5b8a87c0acbe",
   "metadata": {},
   "outputs": [
    {
     "name": "stdout",
     "output_type": "stream",
     "text": [
      "The First tem triangular numbers are [1, 3, 6, 10, 15, 21, 28, 36, 45, 55]\n"
     ]
    }
   ],
   "source": [
    "#48.\n",
    "lst_tri=[(n*(n+1))//2 for n in range(1,11)]\n",
    "print(\"The First tem triangular numbers are\",lst_tri)    "
   ]
  },
  {
   "cell_type": "code",
   "execution_count": 48,
   "id": "d53d652a-fbf7-4676-b922-75ff2d11fe63",
   "metadata": {},
   "outputs": [
    {
     "name": "stdout",
     "output_type": "stream",
     "text": [
      "The sub-list is a subsequence of the main list.\n"
     ]
    }
   ],
   "source": [
    "#49.\n",
    "main_list = [1, 2, 3, 4, 5, 6, 7, 8, 9]\n",
    "sub_list = [3, 5, 8]\n",
    "is_subsequence=all(item in main_list for item in sub_list)\n",
    "if is_subsequence:\n",
    "    print(\"The sub-list is a subsequence of the main list.\")\n",
    "else:\n",
    "    print(\"The sub-list is not a subsequence of the main list.\")"
   ]
  },
  {
   "cell_type": "code",
   "execution_count": 49,
   "id": "be461b79-91ab-47a5-b55b-09d8ba570b5e",
   "metadata": {},
   "outputs": [
    {
     "name": "stdout",
     "output_type": "stream",
     "text": [
      "List after swapping: [1, 4, 3, 2, 5]\n"
     ]
    }
   ],
   "source": [
    "#50.\n",
    "my_list = [1, 2, 3, 4, 5]\n",
    "index_to_swap1 = 1\n",
    "index_to_swap2 = 3\n",
    "if 0<=index_to_swap1<len(my_list)and0<=index_to_swap2<len(my_list):\n",
    "    temp=my_list[index_to_swap1]\n",
    "    my_list[index_to_swap1]=my_list[index_to_swap2]\n",
    "    my_list[index_to_swap2]=temp\n",
    "    print(\"List after swapping:\", my_list)\n",
    "else:\n",
    "    print(\"Invalid indices. Unable to swap elements.\")\n"
   ]
  },
  {
   "cell_type": "code",
   "execution_count": null,
   "id": "fb240762-6495-41e3-a6c1-b2d306e545da",
   "metadata": {},
   "outputs": [],
   "source": [
    "####---------------------------------------------Tuple based-------------------------------------------------------------###"
   ]
  },
  {
   "cell_type": "code",
   "execution_count": 6,
   "id": "6bfa99fe-9fde-41b3-b2bf-7483f29e426b",
   "metadata": {},
   "outputs": [
    {
     "name": "stdout",
     "output_type": "stream",
     "text": [
      "(1, 2, 3, 4, 5)\n"
     ]
    }
   ],
   "source": [
    "#1.\n",
    "tup=[i for i in range(1,6)]\n",
    "tup=tuple(tup)\n",
    "print(tup)"
   ]
  },
  {
   "cell_type": "code",
   "execution_count": 8,
   "id": "a9e64cd0-be10-490f-a553-82fc90a6ce6c",
   "metadata": {},
   "outputs": [
    {
     "name": "stdout",
     "output_type": "stream",
     "text": [
      "(1, 2, 3, 4, 5)\n",
      "The Third Element is: 3\n"
     ]
    }
   ],
   "source": [
    "#2\n",
    "print(tup)\n",
    "print(\"The Third Element is:\",tup[2])"
   ]
  },
  {
   "cell_type": "code",
   "execution_count": 9,
   "id": "e6509334-b543-4ad4-b1ba-24e88aa6148e",
   "metadata": {},
   "outputs": [
    {
     "name": "stdout",
     "output_type": "stream",
     "text": [
      "(1, 2, 3, 4, 5)\n",
      "Length of the Tuple is: 5\n"
     ]
    }
   ],
   "source": [
    "#3.\n",
    "print(tup)\n",
    "c=0\n",
    "for i in tup:\n",
    "    c=c+1\n",
    "print(\"Length of the Tuple is:\",c)"
   ]
  },
  {
   "cell_type": "code",
   "execution_count": 27,
   "id": "8dbb1dae-d679-43ae-a2d0-b5034dac07dd",
   "metadata": {},
   "outputs": [
    {
     "name": "stdout",
     "output_type": "stream",
     "text": [
      "(1, 23, 5, 5, 6, 88, 1, 9, 11, 1)\n"
     ]
    },
    {
     "name": "stdin",
     "output_type": "stream",
     "text": [
      "Enter: 1\n"
     ]
    },
    {
     "name": "stdout",
     "output_type": "stream",
     "text": [
      "Value:1 occurs--3times\n"
     ]
    }
   ],
   "source": [
    "#4\n",
    "tup2=(1,23,5,5,6,88,1,9,11,1)\n",
    "print(tup2)\n",
    "n=int(input(\"Enter:\"))\n",
    "c=0\n",
    "for i in tup2:\n",
    "    if i==n:\n",
    "        c=c+1\n",
    "    else:\n",
    "        c=c\n",
    "print(f\"Value:{n} occurs--{c}times\")"
   ]
  },
  {
   "cell_type": "code",
   "execution_count": 31,
   "id": "a8901e36-2580-4091-a810-439c6298e792",
   "metadata": {},
   "outputs": [
    {
     "name": "stdout",
     "output_type": "stream",
     "text": [
      "(1, 23, 5, 5, 6, 88, 1, 9, 11, 1)\n"
     ]
    },
    {
     "name": "stdin",
     "output_type": "stream",
     "text": [
      "Enter: 5\n"
     ]
    },
    {
     "name": "stdout",
     "output_type": "stream",
     "text": [
      "The first occurence of 5 is in the index:2\n"
     ]
    }
   ],
   "source": [
    "#5\n",
    "tup2=(1,23,5,5,6,88,1,9,11,1)\n",
    "print(tup2)\n",
    "l=len(tup2)\n",
    "n=int(input(\"Enter:\"))\n",
    "c=0\n",
    "for i in range(0,l+1):\n",
    "    if tup2[i]==n:\n",
    "        print(f\"The first occurence of {n} is in the index:{i}\")\n",
    "        break"
   ]
  },
  {
   "cell_type": "code",
   "execution_count": 35,
   "id": "2fedf4ec-e8b6-4650-9d67-affde54a9acc",
   "metadata": {},
   "outputs": [
    {
     "name": "stdout",
     "output_type": "stream",
     "text": [
      "(1, 23, 5, 5, 6, 88, 1, 9, 11, 1)\n"
     ]
    },
    {
     "name": "stdin",
     "output_type": "stream",
     "text": [
      "Enter element for Checking its existence: 6\n"
     ]
    },
    {
     "name": "stdout",
     "output_type": "stream",
     "text": [
      "Exist\n"
     ]
    }
   ],
   "source": [
    "#6\n",
    "tup2=(1,23,5,5,6,88,1,9,11,1)\n",
    "print(tup2)\n",
    "n=int(input(\"Enter element for Checking its existence:\"))\n",
    "if n in tup2:\n",
    "    print(\"Exist\")\n",
    "else:\n",
    "    print(\"Not Exist\")"
   ]
  },
  {
   "cell_type": "code",
   "execution_count": 36,
   "id": "d7a5fa5e-4501-415a-8355-9b412ecff5ec",
   "metadata": {},
   "outputs": [
    {
     "name": "stdout",
     "output_type": "stream",
     "text": [
      "This is the tuple (1, 23, 5, 5, 6, 88, 1, 9, 11, 1)\n",
      "This is converted tuple [1, 23, 5, 5, 6, 88, 1, 9, 11, 1]\n"
     ]
    }
   ],
   "source": [
    "#7\n",
    "print(\"This is the tuple\",tup2)\n",
    "print(\"This is converted tuple\",list(tup2))"
   ]
  },
  {
   "cell_type": "code",
   "execution_count": 11,
   "id": "16bc013f-56ca-48ad-a411-749b3e5290c8",
   "metadata": {},
   "outputs": [
    {
     "name": "stdout",
     "output_type": "stream",
     "text": [
      "List Converted To Tuple Is (47, 43, 41, 37, 31, 29, 23, 19, 17, 13, 11)\n"
     ]
    }
   ],
   "source": [
    "#8\n",
    "lst=[i for i in range(49,1,-1) if i%2!=0 and i%3!=0 and i%5!=0 and i%7!=0]\n",
    "tup3=tuple(lst)\n",
    "print(\"List Converted To Tuple Is\",tup3)"
   ]
  },
  {
   "cell_type": "code",
   "execution_count": 14,
   "id": "0eeffe8e-5905-40ba-838e-9a21fb435651",
   "metadata": {},
   "outputs": [
    {
     "name": "stdout",
     "output_type": "stream",
     "text": [
      "(47, 43, 41, 37, 31, 29, 23, 19, 17, 13, 11)\n",
      "47 43 41 37 31\n",
      "[29, 23, 19, 17, 13, 11]\n"
     ]
    }
   ],
   "source": [
    "#9.\n",
    "print(tup3)\n",
    "a,b,c,d,e,*f=tup3          #*f stores all the remaining values of tuple \n",
    "print(a,b,c,d,e)\n",
    "print(f)"
   ]
  },
  {
   "cell_type": "code",
   "execution_count": 4,
   "id": "b265a597-bbe2-4f82-b943-b9efc5e3c6fb",
   "metadata": {},
   "outputs": [
    {
     "name": "stdout",
     "output_type": "stream",
     "text": [
      "(2, 4, 6, 8, 10)\n"
     ]
    }
   ],
   "source": [
    "#10\n",
    "tup_even=[i for i in range(2,11) if i%2==0]\n",
    "tup_even=tuple(tup_even)\n",
    "print(tup_even)"
   ]
  },
  {
   "cell_type": "code",
   "execution_count": 1,
   "id": "f34e35bb-b04e-48b4-9c70-055f5b4dda95",
   "metadata": {},
   "outputs": [
    {
     "name": "stdout",
     "output_type": "stream",
     "text": [
      "(3, 5, 7, 9)\n"
     ]
    }
   ],
   "source": [
    "#11\n",
    "tup_odd=[i for i in range(2,11) if i%2!=0]\n",
    "tup_odd=tuple(tup_odd)\n",
    "print(tup_odd)"
   ]
  },
  {
   "cell_type": "code",
   "execution_count": 7,
   "id": "771d30cb-cc31-4f64-95dc-3cf567745179",
   "metadata": {},
   "outputs": [
    {
     "name": "stdout",
     "output_type": "stream",
     "text": [
      "(2, 4, 6, 8, 10)\n",
      "(3, 5, 7, 9)\n",
      "Concatinated: (2, 4, 6, 8, 10, 3, 5, 7, 9)\n"
     ]
    }
   ],
   "source": [
    "#12\n",
    "print(tup_even)\n",
    "print(tup_odd)\n",
    "concat=tup_even+tup_odd\n",
    "print(\"Concatinated:\",concat)"
   ]
  },
  {
   "cell_type": "code",
   "execution_count": 9,
   "id": "d1c86867-7fec-439f-8331-3fca6f32b115",
   "metadata": {},
   "outputs": [
    {
     "name": "stdout",
     "output_type": "stream",
     "text": [
      "(2, 4, 6, 8, 10)\n",
      "Repeated Tuple (2, 4, 6, 8, 10, 2, 4, 6, 8, 10, 2, 4, 6, 8, 10)\n"
     ]
    }
   ],
   "source": [
    "#13.\n",
    "print(tup_even)\n",
    "rep=tup_even*3\n",
    "print(\"Repeated Tuple\",rep)"
   ]
  },
  {
   "cell_type": "code",
   "execution_count": 23,
   "id": "f536c033-9987-4f1a-b979-50e6031fcdc5",
   "metadata": {},
   "outputs": [
    {
     "name": "stdout",
     "output_type": "stream",
     "text": [
      "(1, 1, 23, 5)\n",
      "Not an Empty Tuple\n",
      "()\n",
      "Empty Tuple\n"
     ]
    }
   ],
   "source": [
    "#14\n",
    "tupg2=(1,1,23,5)\n",
    "tupg1=()\n",
    "print(tupg2)\n",
    "if len(tupg2)!=0:\n",
    "    print(\"Not an Empty Tuple\")\n",
    "else:\n",
    "    print(\"Empty Tuple\")\n",
    "print(tupg1)\n",
    "if len(tupg1)!=0:\n",
    "    print(\"Not an Empty Tuple\")\n",
    "else:\n",
    "    print(\"Empty Tuple\")"
   ]
  },
  {
   "cell_type": "code",
   "execution_count": 32,
   "id": "9adf37b8-95e9-4f4c-9fc7-11ca2a05af41",
   "metadata": {},
   "outputs": [
    {
     "name": "stdout",
     "output_type": "stream",
     "text": [
      "This is a nested Tuple ((2, 3, 4), (10, 9, 8, 7, 6), ('Hi', 'No', 'Yes'))\n"
     ]
    }
   ],
   "source": [
    "#15\n",
    "l1=[i for i in range(2,5)]\n",
    "l2=[i for i in range(10,5,-1)]\n",
    "l3=[\"Hi\",\"No\",\"Yes\"]\n",
    "t=(tuple(l1),tuple(l2),tuple(l3))\n",
    "print(\"This is a nested Tuple\",t)"
   ]
  },
  {
   "cell_type": "code",
   "execution_count": 34,
   "id": "e88b0aa6-acad-4574-9366-6bbbdf1226b9",
   "metadata": {},
   "outputs": [
    {
     "name": "stdout",
     "output_type": "stream",
     "text": [
      "((2, 3, 4), (10, 9, 8, 7, 6), ('Hi', 'No', 'Yes'))\n",
      "This is The first Element of The Nested Tuple (2, 3, 4)\n",
      "This is the First Element of The Tuple which is the first element of the tuple: 2\n"
     ]
    }
   ],
   "source": [
    "#16.\n",
    "print(t)\n",
    "print(\"This is The first Element of The Nested Tuple\",t[0])\n",
    "for i in t[0]:\n",
    "    print(\"This is the First Element of The Tuple which is the first element of the tuple:\",i)\n",
    "    break"
   ]
  },
  {
   "cell_type": "code",
   "execution_count": 35,
   "id": "52801f10-9d54-4b77-a9e3-005c6c124e3b",
   "metadata": {},
   "outputs": [
    {
     "name": "stdout",
     "output_type": "stream",
     "text": [
      "('Tup_with_one_element',)\n"
     ]
    }
   ],
   "source": [
    "#17.\n",
    "tw1=(\"Tup_with_one_element\",)\n",
    "print(tw1)"
   ]
  },
  {
   "cell_type": "code",
   "execution_count": 38,
   "id": "541df4ef-fbde-424a-9bf1-ec6b6c4b7b2f",
   "metadata": {},
   "outputs": [
    {
     "name": "stdout",
     "output_type": "stream",
     "text": [
      "(2, 3, 4)\n",
      "(10, 9, 8, 7, 6)\n",
      "These Two Are Not Equivalent\n",
      "(2, 3, 4)\n",
      "(2, 3, 4)\n",
      "These Two Are Equal\n"
     ]
    }
   ],
   "source": [
    "#18.\n",
    "print(t[0])\n",
    "print(t[1])\n",
    "if len(t[0])==len(t[1]):\n",
    "    print(\"These Two Are Equivalent\")\n",
    "else:\n",
    "    print(\"These Two Are Not Equivalent\")\n",
    "x=t[0]\n",
    "y=t[0]\n",
    "print(x)\n",
    "print(y)\n",
    "if x==y:\n",
    "    print(\"These Two Are Equal\")\n",
    "else:\n",
    "    print(\"These Two Are Not Equal\")\n",
    "\n",
    "    \n"
   ]
  },
  {
   "cell_type": "code",
   "execution_count": 51,
   "id": "76d08436-0400-4199-98bc-cb59b4bfba1f",
   "metadata": {},
   "outputs": [
    {
     "name": "stdout",
     "output_type": "stream",
     "text": [
      "(1, 1, 23, 5)\n",
      "Deleted Tuple ()\n"
     ]
    }
   ],
   "source": [
    "#19\n",
    "y=tupg2\n",
    "print(tupg2)\n",
    "y=list(y)\n",
    "y.clear()\n",
    "y=tuple(y)\n",
    "print(\"Deleted Tuple\",y)"
   ]
  },
  {
   "cell_type": "code",
   "execution_count": 56,
   "id": "5d47f77f-9575-4c35-907d-780e25566eb9",
   "metadata": {},
   "outputs": [
    {
     "name": "stdout",
     "output_type": "stream",
     "text": [
      "(1, 1, 23, 5)\n",
      "Sliced: (1, 23)\n"
     ]
    }
   ],
   "source": [
    "#20\n",
    "y=tupg2\n",
    "print(y)\n",
    "print(\"Sliced:\",y[1:3])"
   ]
  },
  {
   "cell_type": "code",
   "execution_count": 3,
   "id": "bdcd1b23-3d5d-4782-9154-844860610ae6",
   "metadata": {},
   "outputs": [
    {
     "name": "stdout",
     "output_type": "stream",
     "text": [
      "The maximum value in the tuple is 10\n"
     ]
    }
   ],
   "source": [
    "#21.\n",
    "tup21=(1,10,3,4,5)\n",
    "max=tup21[0]\n",
    "for i in tup21:\n",
    "    if i>max:\n",
    "        max=i\n",
    "print(\"The maximum value in the tuple is\",max)"
   ]
  },
  {
   "cell_type": "code",
   "execution_count": 8,
   "id": "49655be1-4943-4c6f-922b-b81f038f4fe3",
   "metadata": {},
   "outputs": [
    {
     "name": "stdout",
     "output_type": "stream",
     "text": [
      "The mimnimum value in the tuple is 3\n"
     ]
    }
   ],
   "source": [
    "#22.\n",
    "tp=(11,10,3,4,53)\n",
    "def min(tup):\n",
    "    mn=tup[0]\n",
    "    for i in tup:\n",
    "        if i<mn:\n",
    "            mn=i\n",
    "    return mn\n",
    "send=min(tp)\n",
    "print(\"The mimnimum value in the tuple is\",send)"
   ]
  },
  {
   "cell_type": "code",
   "execution_count": 9,
   "id": "ca6550ec-bb76-4657-83c3-65a465d03678",
   "metadata": {},
   "outputs": [
    {
     "name": "stdin",
     "output_type": "stream",
     "text": [
      "Enter Your string: asjad\n"
     ]
    },
    {
     "name": "stdout",
     "output_type": "stream",
     "text": [
      "('a', 's', 'j', 'a', 'd')\n"
     ]
    }
   ],
   "source": [
    "#23.\n",
    "str1=input(\"Enter Your string:\")\n",
    "tup=tuple(str1)\n",
    "print(tup)"
   ]
  },
  {
   "cell_type": "code",
   "execution_count": 12,
   "id": "d30a6fc5-c510-4ee0-96ad-6f86bde3b4b7",
   "metadata": {},
   "outputs": [
    {
     "name": "stdout",
     "output_type": "stream",
     "text": [
      "www.google.com\n"
     ]
    }
   ],
   "source": [
    "#24.\n",
    "tup_cr=(\"w\",\"w\",\"w\",\".\",\"g\",\"o\",\"o\",\"g\",\"l\",\"e\",\".\",\"c\",\"o\",\"m\")\n",
    "char=\"\"\n",
    "for i in tup_cr:\n",
    "    char=char+i\n",
    "print(char)"
   ]
  },
  {
   "cell_type": "code",
   "execution_count": 19,
   "id": "f7ab5703-b575-4156-872b-0c96974dcbce",
   "metadata": {},
   "outputs": [
    {
     "name": "stdout",
     "output_type": "stream",
     "text": [
      "(24, 'pw', 23.5, [2, 6, 'hi'])\n"
     ]
    }
   ],
   "source": [
    "#25.\n",
    "it=24\n",
    "char=\"pw\"\n",
    "flot=23.5\n",
    "lst=[2,6,\"hi\"]\n",
    "tup1=()\n",
    "tup2=tup1+(it,char,flot,lst)\n",
    "print(tup2)"
   ]
  },
  {
   "cell_type": "code",
   "execution_count": 25,
   "id": "bd02133c-8a5d-43c8-a8cd-3b2e1b41f380",
   "metadata": {},
   "outputs": [
    {
     "name": "stdout",
     "output_type": "stream",
     "text": [
      "Yes They are identical\n"
     ]
    }
   ],
   "source": [
    "#26.\n",
    "tup_1=tuple(i for i in range(1,5))\n",
    "tup_2=(1,2,3,4)\n",
    "if tup_1==tup_2:\n",
    "    print(\"Yes They are identical\")\n",
    "else:\n",
    "    print(\"No They are not\")"
   ]
  },
  {
   "cell_type": "code",
   "execution_count": 31,
   "id": "4579b6cd-a214-4e9b-a1a4-f176a2446ae8",
   "metadata": {},
   "outputs": [
    {
     "name": "stdout",
     "output_type": "stream",
     "text": [
      "sorted tuple is (0, 4, 15, 15.8, 16, 28)\n"
     ]
    }
   ],
   "source": [
    "#27.\n",
    "tup_s=(15.8,16,4,0,15,28)\n",
    "lst=list(tup_s)\n",
    "lst.sort()\n",
    "tup_new=tuple(lst)\n",
    "print(\"sorted tuple is\",tup_new)"
   ]
  },
  {
   "cell_type": "code",
   "execution_count": 40,
   "id": "3398cccb-2fe4-4de6-aecc-a051a02bf6c3",
   "metadata": {},
   "outputs": [
    {
     "name": "stdout",
     "output_type": "stream",
     "text": [
      "original (1, 4, 5, 17, 19, 888)\n",
      "converted ('1', '4', '5', '17', '19', '888')\n"
     ]
    }
   ],
   "source": [
    "#28.\n",
    "tup_int=(1,4,5,17,19,888)\n",
    "print(\"original\",tup_int)\n",
    "def con_str(tup):\n",
    "    tup_str=()\n",
    "    for i in tup_int:\n",
    "        tup_str=tup_str+(str(i),)\n",
    "    print(\"converted\",tup_str)\n",
    "con_str(tup_int)"
   ]
  },
  {
   "cell_type": "code",
   "execution_count": 41,
   "id": "f8a53126-e429-451c-84ce-1ae42a505c7c",
   "metadata": {},
   "outputs": [
    {
     "name": "stdout",
     "output_type": "stream",
     "text": [
      "original ('1', '2', '2', '7', '4', '0', '9')\n",
      "converted (1, 4, 5, 17, 19, 888)\n"
     ]
    }
   ],
   "source": [
    "#29.\n",
    "tup_str=tuple(i for i in \"1227409\")\n",
    "print(\"original\",tup_str)\n",
    "def con_int(tup):\n",
    "    tup_str=()\n",
    "    for i in tup_int:\n",
    "        tup_str=tup_str+(int(i),)\n",
    "    print(\"converted\",tup_str)\n",
    "con_int(tup_str)"
   ]
  },
  {
   "cell_type": "code",
   "execution_count": 43,
   "id": "80378c6e-7de4-406b-870b-0db77672c9e5",
   "metadata": {},
   "outputs": [
    {
     "name": "stdout",
     "output_type": "stream",
     "text": [
      "('h', 'i', 1, 2, 3, 4, 5)\n"
     ]
    }
   ],
   "source": [
    "#30.\n",
    "tup_1=tuple(i for i in \"hi\")\n",
    "tup_2=tuple(i for i in range(1,6))\n",
    "tup_3=tup_1+tup_2\n",
    "print(tup_3)\n"
   ]
  },
  {
   "cell_type": "code",
   "execution_count": 53,
   "id": "231190ee-d5f0-4759-902d-3a78b3754cd1",
   "metadata": {},
   "outputs": [
    {
     "name": "stdout",
     "output_type": "stream",
     "text": [
      "Nested Tuple is ('hi', 2, 5, ('hello', 'n'), (24, 'hi'))\n",
      "Flattend Tuple is ('hi', 2, 5, 'hello', 'n', 24, 'hi')\n"
     ]
    }
   ],
   "source": [
    "#31.\n",
    "tup_nest=(\"hi\",2,5,(\"hello\",\"n\"),(24,\"hi\"))\n",
    "flat_tup=()\n",
    "for item in tup_nest:\n",
    "    if type(item)==tuple:\n",
    "        for i in item:\n",
    "            flat_tup=flat_tup+(i,)\n",
    "    else:\n",
    "        flat_tup=flat_tup+(item,)\n",
    "print(\"Nested Tuple is\",tup_nest)\n",
    "print(\"Flattend Tuple is\",flat_tup)\n",
    "    "
   ]
  },
  {
   "cell_type": "code",
   "execution_count": 58,
   "id": "ba67901c-e745-4ef0-9511-85948ed32cb7",
   "metadata": {},
   "outputs": [
    {
     "name": "stdout",
     "output_type": "stream",
     "text": [
      "List of first 5 prime numbers using loop (2, 3, 5, 7, 11)\n"
     ]
    }
   ],
   "source": [
    "#32.\n",
    "tup=(2,)\n",
    "tup2=[]\n",
    "for i in range(3,13):\n",
    "    is_prime=True\n",
    "    for j in range(2,i):\n",
    "        if i%j==0:\n",
    "            is_prime=False\n",
    "    if is_prime==True:\n",
    "        tup2.append(i)\n",
    "print(\"List of first 5 prime numbers using loop\",tup+tuple(tup2))"
   ]
  },
  {
   "cell_type": "code",
   "execution_count": 71,
   "id": "4b004638-25de-46e5-9a1e-41e6c978e6a4",
   "metadata": {},
   "outputs": [
    {
     "name": "stdout",
     "output_type": "stream",
     "text": [
      "This Tuple is palindrome\n"
     ]
    }
   ],
   "source": [
    "#33.\n",
    "tup=(\"l\",\"e\",\"v\",\"e\",\"l\")\n",
    "is_pal=True\n",
    "l=len(tup)-1\n",
    "for i in range(l+1):\n",
    "    if tup[i]!=tup[l-i]:\n",
    "        is_pal=False\n",
    "if is_pal:\n",
    "    print(\"This Tuple is palindrome\")\n",
    "else:\n",
    "    print(\"Not a palindrome\")\n"
   ]
  },
  {
   "cell_type": "code",
   "execution_count": 72,
   "id": "f5984043-78ee-43be-8fc2-3301d07a7a45",
   "metadata": {},
   "outputs": [
    {
     "name": "stdout",
     "output_type": "stream",
     "text": [
      "(1, 4, 9, 16, 25)\n"
     ]
    }
   ],
   "source": [
    "#34.\n",
    "tup_sqr=tuple(i*i for i in range(1,6))\n",
    "print(tup_sqr)"
   ]
  },
  {
   "cell_type": "code",
   "execution_count": 78,
   "id": "5c3d5f7c-594e-46f3-819e-0f509664742c",
   "metadata": {},
   "outputs": [
    {
     "name": "stdout",
     "output_type": "stream",
     "text": [
      "(1, 2, 5, 3, 4, 1, 6, 8, 7, 9, 1, 0)\n",
      "All the even numbers are (2, 4, 6, 8, 0)\n"
     ]
    }
   ],
   "source": [
    "#35.\n",
    "tup=tuple((int(i) for i in \"125341687910\"))\n",
    "tup_evn=[]\n",
    "for i in tup:\n",
    "    if i%2==0:\n",
    "        tup_evn.append(i)\n",
    "print(tup)\n",
    "print(\"All the even numbers are\",tuple(tup_evn))\n",
    "    "
   ]
  },
  {
   "cell_type": "code",
   "execution_count": 82,
   "id": "fc0bdf9f-19c2-42ee-8bb9-687ccb260074",
   "metadata": {},
   "outputs": [
    {
     "name": "stdout",
     "output_type": "stream",
     "text": [
      "original (2, 6, 5, 1, 0)\n",
      "Doubled (4, 12, 10, 2, 0)\n"
     ]
    }
   ],
   "source": [
    "#36.\n",
    "tup=tuple((int(i) for i in \"26510\"))\n",
    "print(\"original\",tup)\n",
    "tup2=tuple(i*2 for i in tup)\n",
    "print(\"Doubled\",tup2)\n"
   ]
  },
  {
   "cell_type": "code",
   "execution_count": 90,
   "id": "8aac5112-e6f1-482b-9f7f-d28089160fc7",
   "metadata": {},
   "outputs": [
    {
     "name": "stdout",
     "output_type": "stream",
     "text": [
      "(27, 44, 67, 2, 86, 10, 41, 76, 4, 65)\n"
     ]
    }
   ],
   "source": [
    "#37.\n",
    "import random as r\n",
    "tup_r=[]\n",
    "for i in range(10):\n",
    "    x=r.choices((range(1,100)))[0]\n",
    "    tup_r.append(x)\n",
    "print(tuple(tup_r))\n"
   ]
  },
  {
   "cell_type": "code",
   "execution_count": 101,
   "id": "614acca8-a014-43ba-9801-47c9c86eb0b8",
   "metadata": {},
   "outputs": [
    {
     "name": "stdout",
     "output_type": "stream",
     "text": [
      "No it is not sorted\n"
     ]
    }
   ],
   "source": [
    "#38.\n",
    "tup=(91,7,19,647,89,10)\n",
    "lst=list(tup)\n",
    "if lst.sort():\n",
    "    print(\"Yes it is sorted\")\n",
    "else:\n",
    "    print(\"No it is not sorted\")"
   ]
  },
  {
   "cell_type": "code",
   "execution_count": 96,
   "id": "e6954135-db87-457e-8a24-9a5470522aec",
   "metadata": {},
   "outputs": [
    {
     "name": "stdin",
     "output_type": "stream",
     "text": [
      "Enter position to rotate the tuple 2\n"
     ]
    },
    {
     "name": "stdout",
     "output_type": "stream",
     "text": [
      "(8, 'numbers', 261, 94, 89, 19, 10)\n"
     ]
    }
   ],
   "source": [
    "#39.\n",
    "tup=(19,10,8,\"numbers\",261,94,89)\n",
    "n=int(input(\"Enter position to rotate the tuple to left\"))\n",
    "print(tup[n:]+tup[:n])"
   ]
  },
  {
   "cell_type": "code",
   "execution_count": 100,
   "id": "00596f99-956c-49c2-8d72-375bc67afe6d",
   "metadata": {},
   "outputs": [
    {
     "name": "stdin",
     "output_type": "stream",
     "text": [
      "Enter position to rotate the tuple to right 2\n"
     ]
    },
    {
     "name": "stdout",
     "output_type": "stream",
     "text": [
      "(94, 89, 19, 10, 8, 'numbers', 261)\n"
     ]
    }
   ],
   "source": [
    "#40.\n",
    "tup=(19,10,8,\"numbers\",261,94,89)\n",
    "n=int(input(\"Enter position to rotate the tuple to right\"))\n",
    "print(tup[-n:]+tup[:-n])"
   ]
  },
  {
   "cell_type": "code",
   "execution_count": 1,
   "id": "ffa2c9e2-4d8c-40cf-95a4-f22d4f9a507a",
   "metadata": {},
   "outputs": [
    {
     "name": "stdin",
     "output_type": "stream",
     "text": [
      "Enter: 5\n"
     ]
    },
    {
     "name": "stdout",
     "output_type": "stream",
     "text": [
      "The first 5 fibonnaci numbers are:(0, 1, 1, 2, 3)\n"
     ]
    }
   ],
   "source": [
    "#41.\n",
    "def fib(n):\n",
    "    tup=[0,1]\n",
    "    x=0\n",
    "    y=1\n",
    "    while len(tup)<n:\n",
    "        x,y=y,x+y\n",
    "        tup.append(y)\n",
    "    return tup\n",
    "x=int(input(\"Enter:\"))\n",
    "send=fib(x)\n",
    "print(f\"The first {x} fibonnaci numbers are:{tuple(send)}\")\n"
   ]
  },
  {
   "cell_type": "code",
   "execution_count": 2,
   "id": "9ed9e8ae-2aab-438a-8b33-4261d27622f2",
   "metadata": {},
   "outputs": [
    {
     "name": "stdout",
     "output_type": "stream",
     "text": [
      "For Not Sending any input value press EXIT\n"
     ]
    },
    {
     "name": "stdin",
     "output_type": "stream",
     "text": [
      "Element for the tuple: 1\n"
     ]
    },
    {
     "name": "stdout",
     "output_type": "stream",
     "text": [
      "For Not Sending any input value press EXIT\n"
     ]
    },
    {
     "name": "stdin",
     "output_type": "stream",
     "text": [
      "Element for the tuple: 2\n"
     ]
    },
    {
     "name": "stdout",
     "output_type": "stream",
     "text": [
      "For Not Sending any input value press EXIT\n"
     ]
    },
    {
     "name": "stdin",
     "output_type": "stream",
     "text": [
      "Element for the tuple: 3\n"
     ]
    },
    {
     "name": "stdout",
     "output_type": "stream",
     "text": [
      "For Not Sending any input value press EXIT\n"
     ]
    },
    {
     "name": "stdin",
     "output_type": "stream",
     "text": [
      "Element for the tuple: exit\n"
     ]
    },
    {
     "name": "stdout",
     "output_type": "stream",
     "text": [
      "Your Tuple is: ('1', '2', '3')\n"
     ]
    }
   ],
   "source": [
    "#42.\n",
    "x=True\n",
    "tup=()\n",
    "while x:\n",
    "    print(\"For Not Sending any input value press EXIT\")\n",
    "    n=(input( \"Element for the tuple:\"))\n",
    "    if n.upper()=='EXIT':\n",
    "        x=False\n",
    "    else:\n",
    "        tup=tup+(n,)\n",
    "print(\"Your Tuple is:\",tup)"
   ]
  },
  {
   "cell_type": "code",
   "execution_count": 3,
   "id": "afd02b03-78ef-4016-9ca4-b46c532d1fa2",
   "metadata": {},
   "outputs": [
    {
     "name": "stdout",
     "output_type": "stream",
     "text": [
      "original (1, 10, 12, 19, 20)\n"
     ]
    },
    {
     "name": "stdin",
     "output_type": "stream",
     "text": [
      "Enter the position of element you want to swap: 2\n",
      "Enter the position whom with you want to do swapping: 5\n"
     ]
    },
    {
     "name": "stdout",
     "output_type": "stream",
     "text": [
      "After Swapping (1, 20, 12, 19, 10)\n"
     ]
    }
   ],
   "source": [
    "#43.\n",
    "tup=(1,10,12,19,20)\n",
    "print('original',tup)\n",
    "n1=int(input(\"Enter the position of element you want to swap:\"))\n",
    "#for first element press 1 and so\n",
    "n2=int(input(\"Enter the position whom with you want to do swapping:\"))\n",
    "lst=list(tup)\n",
    "lst[n1-1],lst[n2-1]=lst[n2-1],lst[n1-1]\n",
    "new_tup=tuple(lst)\n",
    "print(\"After Swapping\",new_tup)"
   ]
  },
  {
   "cell_type": "code",
   "execution_count": 4,
   "id": "7443eb28-25e1-414d-b350-99416d8005d6",
   "metadata": {},
   "outputs": [
    {
     "name": "stdout",
     "output_type": "stream",
     "text": [
      "Original (14, 17, 18, 25)\n",
      "Reversed (25, 18, 17, 14)\n"
     ]
    }
   ],
   "source": [
    "#44.\n",
    "tup=(14,17,18,25)\n",
    "print(\"Original\",tup)\n",
    "l=len(tup)-1\n",
    "new_tup=()\n",
    "for i in range(l+1):\n",
    "    new_tup=new_tup+(tup[l-i],)\n",
    "print(\"Reversed\",new_tup)"
   ]
  },
  {
   "cell_type": "code",
   "execution_count": 6,
   "id": "578d9027-c377-4617-b3d4-3ea5cf3bf6a1",
   "metadata": {},
   "outputs": [
    {
     "name": "stdin",
     "output_type": "stream",
     "text": [
      "Enter power for 2's 5\n"
     ]
    },
    {
     "name": "stdout",
     "output_type": "stream",
     "text": [
      "(2, 4, 8, 16, 32)\n"
     ]
    }
   ],
   "source": [
    "#45.\n",
    "n=int(input(\"Enter power for 2's\"))\n",
    "tup_p=tuple(2**i for i in range(1,n+1))\n",
    "print(tup_p)"
   ]
  },
  {
   "cell_type": "code",
   "execution_count": 9,
   "id": "d37cb745-e380-4a49-9a8e-5458daebf3e3",
   "metadata": {},
   "outputs": [
    {
     "name": "stdout",
     "output_type": "stream",
     "text": [
      "('maths', 'calculus', 'operating', 'data', 'structure')\n",
      "The largest string among them is: operating\n"
     ]
    }
   ],
   "source": [
    "#46.\n",
    "tup_str=(\"maths\",\"calculus\",\"operating\",\"data\",\"structure\")\n",
    "print(tup_str)\n",
    "l=len(tup_str)\n",
    "max_str=tup_str[0]\n",
    "for i in range(1,l):\n",
    "    if len(max_str)<len(tup_str[i]):\n",
    "        max_str=tup_str[i]\n",
    "    else:\n",
    "        max_str=max_str\n",
    "print(\"The largest string among them is:\",max_str)\n"
   ]
  },
  {
   "cell_type": "code",
   "execution_count": 11,
   "id": "5c019e6e-1c82-485b-9410-5eec6bc31237",
   "metadata": {},
   "outputs": [
    {
     "name": "stdout",
     "output_type": "stream",
     "text": [
      "('maths', 'calculus', 'operating', 'data', 'structure')\n",
      "The smallest string among them is: data\n"
     ]
    }
   ],
   "source": [
    "#47.\n",
    "tup_str=(\"maths\",\"calculus\",\"operating\",\"data\",\"structure\")\n",
    "print(tup_str)\n",
    "l=len(tup_str)\n",
    "min_str=tup_str[0]\n",
    "for i in range(1,l):\n",
    "    if len(min_str)>len(tup_str[i]):\n",
    "        min_str=tup_str[i]\n",
    "    else:\n",
    "        min_str=min_str\n",
    "print(\"The smallest string among them is:\",min_str)\n"
   ]
  },
  {
   "cell_type": "code",
   "execution_count": 21,
   "id": "69f62cf0-a895-435c-952b-56f0fed26498",
   "metadata": {},
   "outputs": [
    {
     "name": "stdin",
     "output_type": "stream",
     "text": [
      "Enter: 4\n"
     ]
    },
    {
     "name": "stdout",
     "output_type": "stream",
     "text": [
      "The first n triangular numbers are: (1, 3, 6, 10)\n"
     ]
    }
   ],
   "source": [
    "#48.\n",
    "n=int(input(\"Enter:\"))\n",
    "#T=(n*(n+1))//2 #formula to calculate nth triangular number\n",
    "\"\"\"The third triangular number is 6, as it's the sum of the first three natural numbers (1+2+3)=6\"\"\"\n",
    "tup_tri=tuple((i*(i+1))//2 for  i in range(1,n+1))\n",
    "print(\"The first n triangular numbers are:\",tup_tri)"
   ]
  },
  {
   "cell_type": "code",
   "execution_count": 25,
   "id": "1f367385-5feb-487b-8aec-18794e6cc3d1",
   "metadata": {},
   "outputs": [
    {
     "name": "stdout",
     "output_type": "stream",
     "text": [
      "Yes it is a nested tuple\n"
     ]
    }
   ],
   "source": [
    "#49.\n",
    "tup_nst=((1,2),4,23,\"hi\")\n",
    "for i in tup_nst:\n",
    "    if type(i)==tuple:\n",
    "        print(\"Yes it is a nested tuple\")\n",
    "        break\n",
    "else:\n",
    "    print(\"No it is not a nested tuple\")"
   ]
  },
  {
   "cell_type": "code",
   "execution_count": 29,
   "id": "15a5695f-6b8d-4dad-8491-6ccf9f93c21e",
   "metadata": {},
   "outputs": [
    {
     "name": "stdin",
     "output_type": "stream",
     "text": [
      "Enter: 20\n"
     ]
    },
    {
     "name": "stdout",
     "output_type": "stream",
     "text": [
      "(0, 1, 0, 1, 0, 1, 0, 1, 0, 1, 0, 1, 0, 1, 0, 1, 0, 1, 0, 1)\n"
     ]
    }
   ],
   "source": [
    "#50.\n",
    "n=int(input(\"Enter:\"))\n",
    "alternating_tuple=tuple((i%2) for i in range(n))\n",
    "print(alternating_tuple)\n"
   ]
  },
  {
   "cell_type": "code",
   "execution_count": 30,
   "id": "cc138e89-8f69-4aa2-8cf2-090d2943ed45",
   "metadata": {},
   "outputs": [],
   "source": [
    "#---------------------------------------------------------------------sets--------------------------------------------------"
   ]
  },
  {
   "cell_type": "code",
   "execution_count": 2,
   "id": "950b5caf-b7b1-4f38-a5ce-1905e8dc1b75",
   "metadata": {},
   "outputs": [
    {
     "name": "stdout",
     "output_type": "stream",
     "text": [
      "{1, 2, 3, 4, 5}\n"
     ]
    }
   ],
   "source": [
    "#1.\n",
    "set_1={i for i in range(1,6)}\n",
    "print(set_1)"
   ]
  },
  {
   "cell_type": "code",
   "execution_count": 3,
   "id": "d8a81e73-dfaf-4269-a17d-0db08ace2442",
   "metadata": {},
   "outputs": [
    {
     "name": "stdout",
     "output_type": "stream",
     "text": [
      "{33, 2, 4, 6, 8}\n"
     ]
    }
   ],
   "source": [
    "#2.\n",
    "set_2={i for i in range(1,10) if i%2==0}\n",
    "set_2.add(33)\n",
    "print(set_2)"
   ]
  },
  {
   "cell_type": "code",
   "execution_count": 9,
   "id": "9cd093a6-feaf-4c9b-bf59-2e336b050096",
   "metadata": {},
   "outputs": [
    {
     "name": "stdout",
     "output_type": "stream",
     "text": [
      "{8, 2, 4, 6}\n",
      "New set {8, 2, 6}\n"
     ]
    }
   ],
   "source": [
    "#3.\n",
    "set_3={i for i in range(1,10) if i%2==0}\n",
    "print(set_3)\n",
    "set_3.remove(4)\n",
    "print(\"New set\",set_3)"
   ]
  },
  {
   "cell_type": "code",
   "execution_count": 15,
   "id": "fca7821d-3b95-4e48-ac35-b197b52769e7",
   "metadata": {},
   "outputs": [
    {
     "name": "stdout",
     "output_type": "stream",
     "text": [
      "Yes 13 exists in the set\n"
     ]
    }
   ],
   "source": [
    "#4.\n",
    "set_4={13,5,19,27}\n",
    "for i in set_4:\n",
    "    if i==13:\n",
    "        print(\"Yes 13 exists in the set\")\n",
    "        break\n",
    "else:\n",
    "    print(\"No 13 is not in the set\")"
   ]
  },
  {
   "cell_type": "code",
   "execution_count": 16,
   "id": "95819186-31db-4966-8b5a-4dd5722af262",
   "metadata": {},
   "outputs": [
    {
     "name": "stdout",
     "output_type": "stream",
     "text": [
      "Length of the set is 4\n"
     ]
    }
   ],
   "source": [
    "#5.\n",
    "swt={17,\"hi\",4897,12}\n",
    "def length(sst):\n",
    "    c=0\n",
    "    for i in sst:\n",
    "        c=c+1\n",
    "    return c\n",
    "send=length(swt)\n",
    "print(\"Length of the set is\",send)"
   ]
  },
  {
   "cell_type": "code",
   "execution_count": 18,
   "id": "3603f592-0874-42e7-8829-72cbceed30b3",
   "metadata": {},
   "outputs": [
    {
     "name": "stdout",
     "output_type": "stream",
     "text": [
      "{16, '1872', 'jk', 45, 14}\n",
      "After deleting: set()\n"
     ]
    }
   ],
   "source": [
    "#6.\n",
    "set_a={14,\"jk\",16,\"1872\",45}\n",
    "print(set_a)\n",
    "set_a.clear()\n",
    "print(\"After deleting:\",set_a)"
   ]
  },
  {
   "cell_type": "code",
   "execution_count": 19,
   "id": "9cc69a51-820c-445a-b6e4-a7ffb34f3c2d",
   "metadata": {},
   "outputs": [
    {
     "name": "stdout",
     "output_type": "stream",
     "text": [
      "{2, 4, 6, 8, 10}\n"
     ]
    }
   ],
   "source": [
    "#7.\n",
    "set_even={i for i in range(1,11) if i%2==0}\n",
    "print(set_even)\n"
   ]
  },
  {
   "cell_type": "code",
   "execution_count": 20,
   "id": "9da9d3b0-1e08-4d3d-a75f-1eb9e6287ff5",
   "metadata": {},
   "outputs": [
    {
     "name": "stdout",
     "output_type": "stream",
     "text": [
      "{1, 3, 5, 7, 9}\n"
     ]
    }
   ],
   "source": [
    "#8.\n",
    "set_odd={i for i in range(1,11) if i%2!=0}\n",
    "print(set_odd)\n"
   ]
  },
  {
   "cell_type": "code",
   "execution_count": 23,
   "id": "5ee872bf-db2a-4325-abac-65ef104700cd",
   "metadata": {},
   "outputs": [
    {
     "name": "stdout",
     "output_type": "stream",
     "text": [
      "{1, 2, 5, 6, 7, 8, 9}\n"
     ]
    }
   ],
   "source": [
    "#9.\n",
    "set_A={1,3,5,7}\n",
    "set_B={2,4,6,8}\n",
    "print(set_A.union(set_B))"
   ]
  },
  {
   "cell_type": "code",
   "execution_count": 26,
   "id": "bde0136b-d5e4-4ef3-86c6-868a6dc4f667",
   "metadata": {},
   "outputs": [
    {
     "name": "stdout",
     "output_type": "stream",
     "text": [
      "{3, 4}\n"
     ]
    }
   ],
   "source": [
    "#10.\n",
    "set_A={1,3,4,7}\n",
    "set_B={2,4,3,8}\n",
    "print(set_A.intersection(set_B))"
   ]
  },
  {
   "cell_type": "code",
   "execution_count": 1,
   "id": "3948cdc8-4b94-4615-9450-a5b321661e5f",
   "metadata": {},
   "outputs": [
    {
     "name": "stdout",
     "output_type": "stream",
     "text": [
      "{1, 7}\n"
     ]
    }
   ],
   "source": [
    "#11.\n",
    "set_A={1,3,4,7}\n",
    "set_B={2,4,3,8}\n",
    "print(set_A.difference(set_B))\n"
   ]
  },
  {
   "cell_type": "code",
   "execution_count": 4,
   "id": "00a5fdc4-221b-4393-a673-d58140e06e9a",
   "metadata": {},
   "outputs": [
    {
     "name": "stdout",
     "output_type": "stream",
     "text": [
      "Yes\n"
     ]
    }
   ],
   "source": [
    "#12.\n",
    "set_a={1,2,3,4,5,6}\n",
    "sub_a={3,4,5}\n",
    "if sub_a.issubset(set_a):\n",
    "    print(\"Yes\")\n",
    "else:\n",
    "    print(\"No\")"
   ]
  },
  {
   "cell_type": "code",
   "execution_count": 5,
   "id": "f681f8dd-a382-476b-8190-305b7f2ce3e7",
   "metadata": {},
   "outputs": [
    {
     "name": "stdout",
     "output_type": "stream",
     "text": [
      "No\n"
     ]
    }
   ],
   "source": [
    "#13.\n",
    "\"A set A is considered a superset of another set B if every element of B is also an element of A.\"\n",
    "set_a={1,2,3,4,5,6}\n",
    "sub_a={3,4,5}\n",
    "if sub_a.issuperset(set_a):\n",
    "    print(\"Yes\")\n",
    "else:\n",
    "    print(\"No\")"
   ]
  },
  {
   "cell_type": "code",
   "execution_count": 6,
   "id": "997085df-677e-4560-8a18-4459da75cdcc",
   "metadata": {},
   "outputs": [
    {
     "name": "stdout",
     "output_type": "stream",
     "text": [
      "{1, 2, 3, 4, 5, 6, 7}\n"
     ]
    }
   ],
   "source": [
    "#14.\n",
    "lst=[1,2,3,4,5,6,7]\n",
    "set_lst={i for i in lst}\n",
    "print(set_lst)"
   ]
  },
  {
   "cell_type": "code",
   "execution_count": 7,
   "id": "9cacf899-db8b-4301-9345-e3f6aa4bef64",
   "metadata": {},
   "outputs": [
    {
     "name": "stdout",
     "output_type": "stream",
     "text": [
      "[10, 28, 14]\n"
     ]
    }
   ],
   "source": [
    "#15.\n",
    "set2={14,28,10,10}\n",
    "lst=list(set2)\n",
    "print(lst)"
   ]
  },
  {
   "cell_type": "code",
   "execution_count": 13,
   "id": "94970e16-7f20-4a34-a54b-33f11dcda7e3",
   "metadata": {},
   "outputs": [
    {
     "name": "stdout",
     "output_type": "stream",
     "text": [
      "{18, 10, 43, 12, 47}\n",
      "{10, 43, 12, 47}\n"
     ]
    }
   ],
   "source": [
    "#16.\n",
    "set_1={10,18,47,43,12}\n",
    "print(set_1)\n",
    "set_1.pop()\n",
    "print(set_1)"
   ]
  },
  {
   "cell_type": "code",
   "execution_count": 1,
   "id": "dce79b67-e7c4-4a71-9b40-c41efce0446d",
   "metadata": {},
   "outputs": [
    {
     "name": "stdout",
     "output_type": "stream",
     "text": [
      "{18, 10, 43, 12, 47}\n",
      "{10, 43, 12, 47}\n"
     ]
    }
   ],
   "source": [
    "#17.\n",
    "set_1={10,18,47,43,12}\n",
    "print(set_1)\n",
    "set_1.remove(18)\n",
    "print(set_1)"
   ]
  },
  {
   "cell_type": "code",
   "execution_count": 15,
   "id": "d483f481-0b48-4873-858f-2c1ae72347eb",
   "metadata": {},
   "outputs": [
    {
     "name": "stdout",
     "output_type": "stream",
     "text": [
      "Elements are common\n",
      "Yes These two sets has no elements common\n"
     ]
    }
   ],
   "source": [
    "#18.\n",
    "set_11={12,13,15,16}\n",
    "set_22={17,18,19,20}\n",
    "print(\"Elements are common\")\n",
    "for i in set_22:\n",
    "    if i  in set_11:\n",
    "        print(\"Elements are common\")\n",
    "        break\n",
    "else:\n",
    "    print(\"Yes These two sets has no elements common\")\n"
   ]
  },
  {
   "cell_type": "code",
   "execution_count": 2,
   "id": "a18d6363-03ff-4976-8290-9998cc19abc4",
   "metadata": {},
   "outputs": [
    {
     "data": {
      "text/plain": [
       "{1, 2, 7, 9}"
      ]
     },
     "execution_count": 2,
     "metadata": {},
     "output_type": "execute_result"
    }
   ],
   "source": [
    "#19.\n",
    "\"\"\"The symmetric difference of two sets is the set of elements that are in either of the sets, but not in both.\"\"\"\n",
    "s1={1,2,3,4,5,6}\n",
    "s2={9,7,6,5,4,3}\n",
    "s1.symmetric_difference(s2)"
   ]
  },
  {
   "cell_type": "code",
   "execution_count": 5,
   "id": "7e3a65ae-ab3a-4ffd-a2a2-11899c750987",
   "metadata": {},
   "outputs": [
    {
     "name": "stdout",
     "output_type": "stream",
     "text": [
      "{50, 20, 40, 10, 60, 30}\n"
     ]
    }
   ],
   "source": [
    "#20.\n",
    "s1={10,20,30,40}\n",
    "s2={50,60}\n",
    "s1.update(s2)\n",
    "print(s1)"
   ]
  },
  {
   "cell_type": "code",
   "execution_count": 25,
   "id": "4a05a54f-b9e0-4e1f-a4bb-f0c4b4fc5db7",
   "metadata": {},
   "outputs": [
    {
     "name": "stdout",
     "output_type": "stream",
     "text": [
      "{2, 3, 5, 7, 11, 13, 17, 19}\n"
     ]
    }
   ],
   "source": [
    "#21.\n",
    "prime_numbers={num for num in range(2, 20) if all(num % i != 0 for i in range(2, int(num**0.5) + 1))}\n",
    "print(prime_numbers)"
   ]
  },
  {
   "cell_type": "code",
   "execution_count": 3,
   "id": "59730e0a-5090-418b-896c-af021a29e270",
   "metadata": {},
   "outputs": [
    {
     "name": "stdout",
     "output_type": "stream",
     "text": [
      "These two sets are identical\n"
     ]
    }
   ],
   "source": [
    "#22.\n",
    "#if two sets are having same elements irrespective of order are called identical sets\n",
    "s1={13,18,90,23}\n",
    "s2={90,23,13,18}\n",
    "if s1==s2:\n",
    "    print(\"These two sets are identical\")\n",
    "else:\n",
    "    print(\"These two sets are not identical\")"
   ]
  },
  {
   "cell_type": "code",
   "execution_count": 4,
   "id": "c840de96-f46e-454a-884e-a35efb292272",
   "metadata": {},
   "outputs": [
    {
     "name": "stdout",
     "output_type": "stream",
     "text": [
      "frozenset({1, 2, 3, 4})\n"
     ]
    }
   ],
   "source": [
    "#23.\n",
    "#Forzen sets are immutable sets once created we can't modify it\n",
    "set1={1,2,3,4}\n",
    "set2=frozenset(set1)\n",
    "print(set2)"
   ]
  },
  {
   "cell_type": "code",
   "execution_count": 6,
   "id": "3bb78f9f-6c87-4711-b27e-b85213e3819e",
   "metadata": {},
   "outputs": [
    {
     "name": "stdout",
     "output_type": "stream",
     "text": [
      "{2, 4, 6, 8, 10}\n",
      "{1, 3, 5, 7, 9}\n",
      "True\n"
     ]
    }
   ],
   "source": [
    "#24.\n",
    "#disjoint sets are those having no elements common\n",
    "set1={i for i in range(1,11) if i%2==0}\n",
    "set2={i for i in range(1,11) if i%2!=0}\n",
    "print(set1)\n",
    "print(set2)\n",
    "print(set1.isdisjoint(set2))"
   ]
  },
  {
   "cell_type": "code",
   "execution_count": 7,
   "id": "0faedee4-da76-413f-b9b8-d8d4ec9843d8",
   "metadata": {},
   "outputs": [
    {
     "name": "stdout",
     "output_type": "stream",
     "text": [
      "{1, 4, 9, 16, 25}\n"
     ]
    }
   ],
   "source": [
    "#25.\n",
    "set_sqr={i*i for i in range(1,6)}\n",
    "print(set_sqr)"
   ]
  },
  {
   "cell_type": "code",
   "execution_count": 10,
   "id": "905f46bc-fe25-48f2-bcf4-44fb7aacec11",
   "metadata": {},
   "outputs": [
    {
     "name": "stdout",
     "output_type": "stream",
     "text": [
      "All the even numbers are: {66, 34, 12, 76, 26, 28}\n"
     ]
    }
   ],
   "source": [
    "#26.\n",
    "seta={12,28,43,55,66,77,26,76,34,35,33,73,61}\n",
    "set_sqra={i for i in seta if i%2==0}\n",
    "print(\"All the even numbers are:\",set_sqra)"
   ]
  },
  {
   "cell_type": "code",
   "execution_count": 11,
   "id": "2d8a95b1-2d1b-46c2-b045-f0c9798628f0",
   "metadata": {},
   "outputs": [
    {
     "name": "stdout",
     "output_type": "stream",
     "text": [
      "All the elements when multiplied by 2 is {66, 56, 132, 68, 70, 122, 110, 146, 52, 86, 24, 154, 152}\n"
     ]
    }
   ],
   "source": [
    "#27.\n",
    "setb={12,28,43,55,66,77,26,76,34,35,33,73,61}\n",
    "set_mult_2={i*2 for i in setb}\n",
    "print(\"All the elements when multiplied by 2 is\",set_mult_2)"
   ]
  },
  {
   "cell_type": "code",
   "execution_count": 23,
   "id": "7845cfdc-8eee-4996-b958-e7a871ebf385",
   "metadata": {},
   "outputs": [
    {
     "name": "stdout",
     "output_type": "stream",
     "text": [
      "{1, 2, 3, 4, 5, 6}\n"
     ]
    }
   ],
   "source": [
    "#28.\n",
    "import random\n",
    "choice=[i for i in range(1,10)]\n",
    "n=random.choice(choice)\n",
    "random_set = set((i for i in range(1, n+1)))\n",
    "print(random_set)"
   ]
  },
  {
   "cell_type": "code",
   "execution_count": 25,
   "id": "9271ec39-3bfe-4631-8239-df5bcebaef41",
   "metadata": {},
   "outputs": [
    {
     "name": "stdout",
     "output_type": "stream",
     "text": [
      "This set is not empty:{1, 2, 3}\n",
      "This set is empty:{}\n"
     ]
    }
   ],
   "source": [
    "#29.\n",
    "set1={}\n",
    "set2={1,2,3}\n",
    "def chck(emp):\n",
    "    if len(emp)!=0:\n",
    "        print(f\"This set is not empty:{emp}\")\n",
    "    else:\n",
    "        print(f\"This set is empty:{emp}\")\n",
    "chck(set2)\n",
    "chck(set1)"
   ]
  },
  {
   "cell_type": "code",
   "execution_count": 34,
   "id": "281187f0-0b55-4a91-8b0d-f2108db0b625",
   "metadata": {},
   "outputs": [
    {
     "name": "stdout",
     "output_type": "stream",
     "text": [
      "{frozenset({97, 99, 89, 91, 93, 95}), frozenset({96, 98, 90, 92, 94})}\n"
     ]
    }
   ],
   "source": [
    "#30.\n",
    "set_a={i for i in range(99,88,-1) if i%2==0}\n",
    "set_a1=frozenset(set_a)\n",
    "set_b={i for i in range(99,88,-1) if i%2!=0}\n",
    "nested_set={set_a1,frozenset(set_b)}\n",
    "print(nested_set)"
   ]
  },
  {
   "cell_type": "code",
   "execution_count": 36,
   "id": "c17ac36f-035d-424b-9347-bd812de4ab88",
   "metadata": {},
   "outputs": [
    {
     "name": "stdout",
     "output_type": "stream",
     "text": [
      "{96, 98, 88, 90, 92, 94}\n",
      "{96, 98, 90, 92, 94}\n"
     ]
    }
   ],
   "source": [
    "#31.\n",
    "set_a={i for i in range(99,87,-1) if i%2==0}\n",
    "print(set_a)\n",
    "set_a.discard(88)\n",
    "print(set_a)"
   ]
  },
  {
   "cell_type": "code",
   "execution_count": 37,
   "id": "75172059-9436-4a81-add4-a843db4627a8",
   "metadata": {},
   "outputs": [
    {
     "name": "stdout",
     "output_type": "stream",
     "text": [
      "These two are not equal\n"
     ]
    }
   ],
   "source": [
    "#32.\n",
    "set_c1={12,14,16,18}\n",
    "set_c2={19,28,34,15}\n",
    "if set_c1==set_c2:\n",
    "    print(\"These two are equal\")\n",
    "else:\n",
    "    print(\"These two are not equal\")"
   ]
  },
  {
   "cell_type": "code",
   "execution_count": 40,
   "id": "4c73dff8-7afd-4109-9408-b354d13f2d96",
   "metadata": {},
   "outputs": [
    {
     "name": "stdout",
     "output_type": "stream",
     "text": [
      "{'i', 'p', 'k', 's', 'l', 'w'}\n"
     ]
    }
   ],
   "source": [
    "#33.\n",
    "set_str={i for i in \"pwskills\"}\n",
    "print(set_str)"
   ]
  },
  {
   "cell_type": "code",
   "execution_count": 45,
   "id": "e133de07-57f7-437b-8f9e-6e8fe130b206",
   "metadata": {},
   "outputs": [
    {
     "name": "stdout",
     "output_type": "stream",
     "text": [
      "strings {'11', '12', '23', '13'}\n",
      "integers {11, 12, 13, 23}\n"
     ]
    }
   ],
   "source": [
    "#34.\n",
    "set_str={\"11\",\"12\",\"13\",\"23\"}\n",
    "set_int=[]\n",
    "for i in set_str:\n",
    "    set_int.append(int(i))\n",
    "set_int=set(set_int)\n",
    "print(\"strings\",set_str)\n",
    "print(\"integers\",set_int)"
   ]
  },
  {
   "cell_type": "code",
   "execution_count": 48,
   "id": "cb166d26-e885-4c20-b261-674950284bc5",
   "metadata": {},
   "outputs": [
    {
     "name": "stdout",
     "output_type": "stream",
     "text": [
      "integers {33, 19, 20, 43, 77}\n",
      "strings {'33', '20', '19', '43', '77'}\n"
     ]
    }
   ],
   "source": [
    "#35.\n",
    "set_int1={33,77,19,20,43}\n",
    "set_str1={str(i) for i in set_int1}\n",
    "print(\"integers\",set_int1)\n",
    "print(\"strings\",set_str1)"
   ]
  },
  {
   "cell_type": "code",
   "execution_count": 49,
   "id": "0ab9cd7c-d4ee-42c5-ad7e-6e45f56d5f23",
   "metadata": {},
   "outputs": [
    {
     "name": "stdout",
     "output_type": "stream",
     "text": [
      "Tuple: ('a', 23, 12, 'b')\n",
      "set: {'a', 'b', 12, 23}\n"
     ]
    }
   ],
   "source": [
    "#36.\n",
    "tup=(\"a\",23,12,\"b\")\n",
    "set_tup={i for i in tup}\n",
    "print(\"Tuple:\",tup)\n",
    "print(\"set:\",set_tup)"
   ]
  },
  {
   "cell_type": "code",
   "execution_count": 54,
   "id": "76848855-41b3-485c-9d77-82e8112acead",
   "metadata": {},
   "outputs": [
    {
     "name": "stdout",
     "output_type": "stream",
     "text": [
      "set: {5, 6, 7, 8, 9, 10, 11}\n",
      "Tuple: (5, 6, 7, 8, 9, 10, 11)\n"
     ]
    }
   ],
   "source": [
    "#37\n",
    "set_tup1={i for i in range(5,12)}\n",
    "tup1=tuple((i for i in set_tup1))\n",
    "print(\"set:\",set_tup1)\n",
    "print(\"Tuple:\",tup1)\n"
   ]
  },
  {
   "cell_type": "code",
   "execution_count": 63,
   "id": "3e3fbddc-2353-4d21-afe2-48e65d895125",
   "metadata": {},
   "outputs": [
    {
     "name": "stdout",
     "output_type": "stream",
     "text": [
      "The largest element of the set {132, 180, 21, 181, 184, 183} is:184\n"
     ]
    }
   ],
   "source": [
    "#38.\n",
    "set11={132,184,183,21,180,181}\n",
    "lst=list(set11)\n",
    "mx=lst[0]\n",
    "l=len(lst)\n",
    "for i in range(0,l):\n",
    "    if lst[i]>mx:\n",
    "        mx=lst[i]\n",
    "print(f\"The largest element of the set {set11} is:{mx}\")"
   ]
  },
  {
   "cell_type": "code",
   "execution_count": 62,
   "id": "e3eb35a7-60bd-45df-a573-1b4c882b6b17",
   "metadata": {},
   "outputs": [
    {
     "name": "stdout",
     "output_type": "stream",
     "text": [
      "The smallest element of the set {132, 180, 21, 181, 184, 183} is:21\n"
     ]
    }
   ],
   "source": [
    "#39.\n",
    "set11={132,184,183,21,180,181}\n",
    "smal=min(set11)\n",
    "print(f\"The smallest element of the set {set11} is:{smal}\")"
   ]
  },
  {
   "cell_type": "code",
   "execution_count": 68,
   "id": "8c7ff91c-c3cf-4871-9bd3-0fb20c8dce8d",
   "metadata": {},
   "outputs": [
    {
     "name": "stdin",
     "output_type": "stream",
     "text": [
      "Enter element of the set: 12\n",
      "Enter 1:For more Enter 0:For Exit 1\n",
      "Enter element of the set: 13\n",
      "Enter 1:For more Enter 0:For Exit 1\n",
      "Enter element of the set: 14\n",
      "Enter 1:For more Enter 0:For Exit 0\n"
     ]
    },
    {
     "name": "stdout",
     "output_type": "stream",
     "text": [
      "Your Set: {12, 13, 14}\n"
     ]
    }
   ],
   "source": [
    "#40.\n",
    "choice=1\n",
    "set_usr=set()\n",
    "while(choice):\n",
    "    n=int(input(\"Enter element of the set:\"))\n",
    "    set_usr.add(n)\n",
    "    choice=int(input(\"Enter 1:For more Enter 0:For Exit\"))\n",
    "print(\"Your Set:\",set_usr)"
   ]
  },
  {
   "cell_type": "code",
   "execution_count": 4,
   "id": "04a63691-7dab-4e2a-b580-3b9b3480bed6",
   "metadata": {},
   "outputs": [
    {
     "name": "stdout",
     "output_type": "stream",
     "text": [
      "The intersection of {25, 12, 13, 14} and {'12', 33, 20, '14'} is Empty\n"
     ]
    }
   ],
   "source": [
    "#41.\n",
    "set_1={12,13,14,25}\n",
    "set_2={\"12\",\"14\",20,33}\n",
    "x=set_1.intersection(set_2)\n",
    "if len(x)!=0:\n",
    "    print(f\"The intersection of {set_1} and {set_2} is not Empty\")\n",
    "else:\n",
    "    print(f\"The intersection of {set_1} and {set_2} is Empty\")\n"
   ]
  },
  {
   "cell_type": "code",
   "execution_count": 8,
   "id": "f2093fe1-947d-4753-8ab9-517fa198f793",
   "metadata": {},
   "outputs": [
    {
     "name": "stdin",
     "output_type": "stream",
     "text": [
      "Enter n fot fibbonaci set 5\n"
     ]
    },
    {
     "name": "stdout",
     "output_type": "stream",
     "text": [
      "Fibonacci set is: {0, 1, 2, 3, 5, 8}\n"
     ]
    }
   ],
   "source": [
    "#42.\n",
    "x=0\n",
    "y=1\n",
    "set_fib={x,y}\n",
    "n=int(input(\"Enter n fot fibbonaci set\"))\n",
    "for i in range(n):\n",
    "    x,y=y,x+y\n",
    "    set_fib.add(y)\n",
    "print(\"Fibonacci set is:\",set_fib)"
   ]
  },
  {
   "cell_type": "code",
   "execution_count": 19,
   "id": "a8cee16c-159c-432d-a12c-9b6f20f0fafb",
   "metadata": {},
   "outputs": [
    {
     "name": "stdout",
     "output_type": "stream",
     "text": [
      "original: [1, 2, 3, 4, 5, 6, 7, 8, 9, 10, 1, 2, 3]\n",
      "Duplicates elements are removed: {1, 2, 3, 4, 5, 6, 7, 8, 9, 10}\n"
     ]
    }
   ],
   "source": [
    "#43.\n",
    "lst=[i for i in range(1,11)]\n",
    "for i in range(1,4):\n",
    "    lst.append(i)\n",
    "print(\"original:\",lst)\n",
    "lst=set(lst)\n",
    "print(\"Duplicates elements are removed:\",lst)"
   ]
  },
  {
   "cell_type": "code",
   "execution_count": 21,
   "id": "224b17f0-fa05-4b60-9c06-a6590464a3d2",
   "metadata": {},
   "outputs": [
    {
     "name": "stdout",
     "output_type": "stream",
     "text": [
      "The sets have the same elements regardless of their count.\n"
     ]
    }
   ],
   "source": [
    "#44.\n",
    "set1={1, 2, 3, 4, 5}\n",
    "set2={5, 4, 3, 2, 1}\n",
    "if set1==set2:\n",
    "    print(\"The sets have the same elements regardless of their count.\")\n",
    "else:\n",
    "    print(\"The sets do not have the same elements regardless of their count.\")\n"
   ]
  },
  {
   "cell_type": "code",
   "execution_count": 23,
   "id": "ff880a8a-1308-4511-a222-a9dafac408db",
   "metadata": {},
   "outputs": [
    {
     "name": "stdin",
     "output_type": "stream",
     "text": [
      "Enter N: 5\n"
     ]
    },
    {
     "name": "stdout",
     "output_type": "stream",
     "text": [
      "The set of 5 power's of 2 are{32, 2, 4, 8, 16}\n"
     ]
    }
   ],
   "source": [
    "#45.\n",
    "n=int(input(\"Enter N:\"))\n",
    "set_pow_2={2**i for i in range(1,n+1)}\n",
    "print(f\"The set of {n} power's of 2 are{set_pow_2}\")\n",
    "#set is a collection of undorederd unique elements"
   ]
  },
  {
   "cell_type": "code",
   "execution_count": 25,
   "id": "0d61557c-5856-4e22-b34e-a8d331b498e2",
   "metadata": {},
   "outputs": [
    {
     "name": "stdout",
     "output_type": "stream",
     "text": [
      "The common elements between list:[12, 15, 129, 13] and set{2, 19, 109, 13, 14, 15} are:{13, 15}\n"
     ]
    }
   ],
   "source": [
    "#46.\n",
    "lst=[12,15,129,13]\n",
    "seta={13,109,14,19,15,2}\n",
    "setb=set(lst)\n",
    "print(f\"The common elements between list:{lst} and set{seta} are:{seta.intersection(setb)}\")"
   ]
  },
  {
   "cell_type": "code",
   "execution_count": 27,
   "id": "08d2f395-c7a7-4dc7-acce-e14ec335094c",
   "metadata": {},
   "outputs": [
    {
     "name": "stdin",
     "output_type": "stream",
     "text": [
      "Enter number: 5\n"
     ]
    },
    {
     "name": "stdout",
     "output_type": "stream",
     "text": [
      "Triangular numbers upto5 are:{1, 3, 6, 10, 15}\n"
     ]
    }
   ],
   "source": [
    "#47.\n",
    "n=int(input(\"Enter number:\"))\n",
    "set_a={(i*(i+1))//2 for i in range(1,n+1)}\n",
    "print(f\"Triangular numbers upto{n} are:{set_a}\")"
   ]
  },
  {
   "cell_type": "code",
   "execution_count": 28,
   "id": "41913e18-5ea9-44a6-9312-1d8987a1a2a2",
   "metadata": {},
   "outputs": [
    {
     "name": "stdout",
     "output_type": "stream",
     "text": [
      "Yes {131, 15} is a subset of {16, 178, 131, 214, 13, 15}\n"
     ]
    }
   ],
   "source": [
    "#48.\n",
    "set1={13,15,16,178,131,214}\n",
    "set11={131,15}\n",
    "if set11.issubset(set1):\n",
    "    print(f\"Yes {set11} is a subset of {set1}\")\n",
    "else:\n",
    "    print(f\"No {set11} is  not a subset of {set1}\")\n"
   ]
  },
  {
   "cell_type": "code",
   "execution_count": 45,
   "id": "f2b4028a-f2e1-42f9-8963-19934a54137f",
   "metadata": {},
   "outputs": [
    {
     "name": "stdin",
     "output_type": "stream",
     "text": [
      "Enter Length: 5\n"
     ]
    },
    {
     "name": "stdout",
     "output_type": "stream",
     "text": [
      "[0, 1, 0, 1, 0]\n"
     ]
    }
   ],
   "source": [
    "#49\n",
    "n=int(input(\"Enter Length:\"))\n",
    "set_alt=[i%2 for i in range(n)]\n",
    "print(set_alt)\n",
    "#set does not allow duplication."
   ]
  },
  {
   "cell_type": "code",
   "execution_count": null,
   "id": "9fcf01bb-6360-4cae-8bd8-d610601bec63",
   "metadata": {},
   "outputs": [],
   "source": [
    "#50.\n",
    "set1 = {1, 2, 3}\n",
    "set2 = {3, 4, 5}\n",
    "set3 = {5, 6, 7}\n",
    "# Using union metho\n",
    "merged_set = set1.union(set2, set3)\n",
    "\n",
    "# Alternatively, using the | operator\n",
    "# merged_set = set1 | set2 | set3\n",
    "\n",
    "print(\"Merged Set:\", merged_set)\n"
   ]
  }
 ],
 "metadata": {
  "kernelspec": {
   "display_name": "Python 3 (ipykernel)",
   "language": "python",
   "name": "python3"
  },
  "language_info": {
   "codemirror_mode": {
    "name": "ipython",
    "version": 3
   },
   "file_extension": ".py",
   "mimetype": "text/x-python",
   "name": "python",
   "nbconvert_exporter": "python",
   "pygments_lexer": "ipython3",
   "version": "3.10.8"
  }
 },
 "nbformat": 4,
 "nbformat_minor": 5
}
