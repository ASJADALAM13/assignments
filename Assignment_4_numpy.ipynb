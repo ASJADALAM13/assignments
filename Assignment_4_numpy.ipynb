{
 "cells": [
  {
   "cell_type": "code",
   "execution_count": 2,
   "id": "6ac24206-bffa-456d-9f94-a8f1c17eefdf",
   "metadata": {},
   "outputs": [],
   "source": [
    "import numpy as np\n",
    "list_ = [ '1' , '2' , '3' , '4' , '5' ]\n",
    "array_list = np.array(object = list_)"
   ]
  },
  {
   "cell_type": "code",
   "execution_count": 7,
   "id": "ddc67319-79ee-4c9b-8107-79a3456510c9",
   "metadata": {},
   "outputs": [
    {
     "name": "stdout",
     "output_type": "stream",
     "text": [
      "<class 'list'>\n",
      "<class 'numpy.ndarray'>\n",
      "['1' '2' '3' '4' '5']\n"
     ]
    }
   ],
   "source": [
    "#1.\n",
    "\"\"\"\n",
    "list can store elements of the different data type,it is a bulit in data type.\n",
    "\n",
    "Array can only sotre elements of same data type and it is not a built in data type  for using array in python u have to import numpy module or array module\n",
    "\"\"\"\n",
    "print(type(list_))\n",
    "print(type(array_list))"
   ]
  },
  {
   "cell_type": "code",
   "execution_count": 12,
   "id": "e2796cfa-a640-4e05-98ee-5342299bffcc",
   "metadata": {},
   "outputs": [
    {
     "name": "stdout",
     "output_type": "stream",
     "text": [
      "1 element of list has type<class 'str'>\n",
      "2 element of list has type<class 'str'>\n",
      "3 element of list has type<class 'str'>\n",
      "4 element of list has type<class 'str'>\n",
      "5 element of list has type<class 'str'>\n",
      " \n",
      "1 element of Array has type<class 'numpy.str_'>\n",
      "2 element of Array has type<class 'numpy.str_'>\n",
      "3 element of Array has type<class 'numpy.str_'>\n",
      "4 element of Array has type<class 'numpy.str_'>\n",
      "5 element of Array has type<class 'numpy.str_'>\n"
     ]
    }
   ],
   "source": [
    "#2\n",
    "#code to print the data type of each and every element of both the variables list_ and array_list.\n",
    "\n",
    "def func2(lst,arr):\n",
    "    for i in lst:\n",
    "        print(f\"{i} element of list has type{type(i)}\")\n",
    "    print(\" \")\n",
    "    for i in arr:\n",
    "        print(f\"{i} element of Array has type{type(i)}\")\n",
    "\n",
    "func2(list_,array_list)"
   ]
  },
  {
   "cell_type": "code",
   "execution_count": 14,
   "id": "cf40df99-b72c-4f35-91b4-4af15632e192",
   "metadata": {},
   "outputs": [
    {
     "name": "stdout",
     "output_type": "stream",
     "text": [
      "1 element of list has type<class 'str'>\n",
      "2 element of list has type<class 'str'>\n",
      "3 element of list has type<class 'str'>\n",
      "4 element of list has type<class 'str'>\n",
      "5 element of list has type<class 'str'>\n",
      " \n",
      "1 element of Array has type<class 'numpy.int64'>\n",
      "2 element of Array has type<class 'numpy.int64'>\n",
      "3 element of Array has type<class 'numpy.int64'>\n",
      "4 element of Array has type<class 'numpy.int64'>\n",
      "5 element of Array has type<class 'numpy.int64'>\n"
     ]
    }
   ],
   "source": [
    "#3.\n",
    "array_list = np.array(object = list_, dtype = int)\n",
    "\"\"\"\n",
    "f each element of list_ is a string and you use dtype=int when converting it into a NumPy array, \n",
    "NumPy will attempt to convert each string to an integer.\n",
    "If the conversion is possible (i.e., the strings represent valid integers),\n",
    "it will succeed; otherwise, it will raise a ValueError.\"\"\"\n",
    "\n",
    "def func3(lst,arr):\n",
    "    for i in lst:\n",
    "        print(f\"{i} element of list has type{type(i)}\")\n",
    "    print(\" \")\n",
    "    for i in arr:\n",
    "        print(f\"{i} element of Array has type{type(i)}\")\n",
    "\n",
    "func3(list_,array_list)"
   ]
  },
  {
   "cell_type": "code",
   "execution_count": 20,
   "id": "8bbf3e81-5a66-41b3-8d80-758db8ca6c39",
   "metadata": {},
   "outputs": [
    {
     "data": {
      "text/plain": [
       "array([[1, 2, 3],\n",
       "       [4, 5, 6]])"
      ]
     },
     "execution_count": 20,
     "metadata": {},
     "output_type": "execute_result"
    }
   ],
   "source": [
    "import numpy as np\n",
    "num_list = [ [ 1 , 2 , 3 ] , [ 4 , 5 , 6 ] ]\n",
    "num_array = np.array(object = num_list)\n",
    "num_array"
   ]
  },
  {
   "cell_type": "code",
   "execution_count": 25,
   "id": "3c1bb7de-a37e-4178-950f-a94f2eed4223",
   "metadata": {},
   "outputs": [
    {
     "name": "stdout",
     "output_type": "stream",
     "text": [
      "(2, 3)\n",
      "6\n"
     ]
    }
   ],
   "source": [
    "#4\n",
    "\"\"\"\n",
    "Q4. Write a code to find the following characteristics of variable, num_array:\n",
    "(i) shape\n",
    "(ii) size\n",
    "\"\"\"\n",
    "print(num_array.shape) #gives u the shape of the array(number of rows and columns)\n",
    "print(num_array.size) #gives u the  size of the array(number of elements)\n"
   ]
  },
  {
   "cell_type": "code",
   "execution_count": 29,
   "id": "c7e8b3f7-3c05-43a4-a776-a26dbe1d488b",
   "metadata": {},
   "outputs": [
    {
     "name": "stdout",
     "output_type": "stream",
     "text": [
      "[[0. 0. 0.]\n",
      " [0. 0. 0.]\n",
      " [0. 0. 0.]]\n"
     ]
    }
   ],
   "source": [
    "#5.\n",
    "\"\"\"\n",
    "Q5. Write a code to create numpy array of 3*3 matrix containing zeros only, using a numpy array\n",
    "creation function.\"\"\"\n",
    "arr5=np.zeros((3,3))\n",
    "print(arr5)"
   ]
  },
  {
   "cell_type": "code",
   "execution_count": 32,
   "id": "6b1a82e6-0c91-45da-be0b-e051210aeb77",
   "metadata": {},
   "outputs": [
    {
     "name": "stdout",
     "output_type": "stream",
     "text": [
      "[[1. 1. 1. 1. 1.]\n",
      " [1. 1. 1. 1. 1.]\n",
      " [1. 1. 1. 1. 1.]\n",
      " [1. 1. 1. 1. 1.]\n",
      " [1. 1. 1. 1. 1.]]\n"
     ]
    }
   ],
   "source": [
    "#6.\n",
    "\"\"\"\n",
    "Q6. Create an identity matrix of shape (5,5) using numpy functions?\"\"\"\n",
    "arr6=np.ones((5,5))\n",
    "print(arr6)"
   ]
  },
  {
   "cell_type": "code",
   "execution_count": null,
   "id": "2b330122-761c-4ad8-926f-84cf036be3ba",
   "metadata": {},
   "outputs": [],
   "source": []
  }
 ],
 "metadata": {
  "kernelspec": {
   "display_name": "Python 3 (ipykernel)",
   "language": "python",
   "name": "python3"
  },
  "language_info": {
   "codemirror_mode": {
    "name": "ipython",
    "version": 3
   },
   "file_extension": ".py",
   "mimetype": "text/x-python",
   "name": "python",
   "nbconvert_exporter": "python",
   "pygments_lexer": "ipython3",
   "version": "3.11.4"
  }
 },
 "nbformat": 4,
 "nbformat_minor": 5
}
