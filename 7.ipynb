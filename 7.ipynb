{
 "cells": [
  {
   "cell_type": "code",
   "execution_count": null,
   "id": "c927cdfe-a421-4b5e-8ac4-603934f5db2b",
   "metadata": {},
   "outputs": [],
   "source": [
    "#------------------------------------------Constructor--------------------------------------------------------#"
   ]
  },
  {
   "cell_type": "code",
   "execution_count": 14,
   "id": "ecbd5baf-b16c-4a13-b5bf-27c1251d2e65",
   "metadata": {},
   "outputs": [
    {
     "data": {
      "text/plain": [
       "'A constructor is a special method that is automatically called when an object of a class is created.\\nIt is named __init__ and is used to initialize the attributes of the object. \\n\"\"The two main purpose of a constructor are:\\n1.It assigns value\\'s to the attributes of the object.\\n2.It enables us to pass values as parameters while creating an object.\\nIn short constructor is like setup process for object it sets everything for the usage of object.'"
      ]
     },
     "execution_count": 14,
     "metadata": {},
     "output_type": "execute_result"
    }
   ],
   "source": [
    "#1.\n",
    "#When we create an object using a class we are creating instance(occurence) of that class\n",
    "\"\"\"A constructor is a special method that is automatically called when an object of a class is created.\n",
    "It is named __init__ and is used to initialize the attributes of the object. \n",
    "\"\"The two main purpose of a constructor are:\n",
    "1.It assigns value's to the attributes of the object.\n",
    "2.It enables us to pass values as parameters while creating an object.\n",
    "In short constructor is like setup process for object it sets everything for the usage of object.\"\"\"\n"
   ]
  },
  {
   "cell_type": "code",
   "execution_count": 1,
   "id": "64aaffc6-6ed3-4f76-867b-cf58d2536544",
   "metadata": {},
   "outputs": [
    {
     "data": {
      "text/plain": [
       "\"\\n1.:Parameterless constructor:It is a constructor that does not take any parameters except self.\\n1.1:It is used for basic initialization of object or provide same value to all the objects.\\n\\n2.:Parameterized constructor: It is a constructor That take's one or more parameter\\n2.1:It helps to assign values to the object while creation of object.\\n\""
      ]
     },
     "execution_count": 1,
     "metadata": {},
     "output_type": "execute_result"
    }
   ],
   "source": [
    "#2.\n",
    "\"\"\"\n",
    "1.:Parameterless constructor:It is a constructor that does not take any parameters except self.\n",
    "1.1:It is used for basic initialization of object or provide same value to all the objects.\n",
    "\n",
    "2.:Parameterized constructor: It is a constructor That take's one or more parameter\n",
    "2.1:It helps to assign values to the object while creation of object.\n",
    "\"\"\""
   ]
  },
  {
   "cell_type": "code",
   "execution_count": 4,
   "id": "353b206b-d248-497b-8d9d-2433f33b98c9",
   "metadata": {},
   "outputs": [
    {
     "name": "stdout",
     "output_type": "stream",
     "text": [
      "Black Thar\n"
     ]
    }
   ],
   "source": [
    "#3.\n",
    "\"\"\"we can define a constructor in python class using __init__ keyword\"\"\"\n",
    "\"\"\"Example\"\"\"\n",
    "class car:\n",
    "    def __init__(self,model,color):\n",
    "        self.model=model #instance attribute\n",
    "        self.color=color\n",
    "my_car=car(model=\"Thar\",color=\"Black\") \n",
    "print(my_car.color,my_car.model)"
   ]
  },
  {
   "cell_type": "code",
   "execution_count": 2,
   "id": "6eb7335c-b282-4274-860e-0e2b2c5d8b90",
   "metadata": {},
   "outputs": [
    {
     "data": {
      "text/plain": [
       "'synatx:\\nclass class_name:\\n    def __init__(self,parameter1,paramter2,....)\\n    self.parameter1=paramter1\\n    ...\\n    self.paramterN=paramterN\\n1.self refers to the instance of the class\\n2.paramter1....paramterN are the paramters which we passed while craeting an object.\\n3.By using self.paramter1=paramter1 we are initializing attributes of the class with the values provided as paramters.\\n\\n4.When we create an instance of a class, the __init__ method is automatically called. For example:\\nmy_object=MyClass(arg1, arg2) #here we pass the arguments.'"
      ]
     },
     "execution_count": 2,
     "metadata": {},
     "output_type": "execute_result"
    }
   ],
   "source": [
    "#4.\n",
    "\"\"\"the __init__ method is a special method within a class that serves as the constructor.\"\"\"\n",
    "\"\"\"synatx:\n",
    "class class_name:\n",
    "    def __init__(self,parameter1,paramter2,....)\n",
    "    self.parameter1=paramter1\n",
    "    ...\n",
    "    self.paramterN=paramterN\n",
    "1.self refers to the instance of the class\n",
    "2.paramter1....paramterN are the paramters which we passed while craeting an object.\n",
    "3.By using self.paramter1=paramter1 we are initializing attributes of the class with the values provided as paramters.\n",
    "\n",
    "4.When we create an instance of a class, the __init__ method is automatically called. For example:\n",
    "my_object=MyClass(arg1, arg2) #here we pass the arguments.\"\"\""
   ]
  },
  {
   "cell_type": "code",
   "execution_count": 3,
   "id": "2251f950-a200-44f5-a7e2-3bcffd1179b8",
   "metadata": {},
   "outputs": [
    {
     "name": "stdout",
     "output_type": "stream",
     "text": [
      "Name of the person: ASHU\n",
      "Age of this person is: 15\n"
     ]
    }
   ],
   "source": [
    "#5.\n",
    "class person:\n",
    "    def __init__(self,name,age):\n",
    "        self.name=name\n",
    "        self.age=age\n",
    "p1=person(\"ASHU\",15)\n",
    "print(\"Name of the person:\",p1.name)\n",
    "print(\"Age of this person is:\",p1.age)"
   ]
  },
  {
   "cell_type": "code",
   "execution_count": 11,
   "id": "8852a05a-12b8-4a2f-83ac-5730ac91386f",
   "metadata": {},
   "outputs": [
    {
     "name": "stdout",
     "output_type": "stream",
     "text": [
      "Parent class is called\n",
      "Now Child class is called\n"
     ]
    }
   ],
   "source": [
    "#6.\n",
    "\"\"\"When we create an object(instance of the class) The __init__ method is called implicitly \n",
    "however we can call a constructor indirectly using  a little concept of inheritence i.e using super().__init__()\"\"\"\n",
    "\"\"\"example\"\"\"\n",
    "class parentclass():\n",
    "    def __init__(self):\n",
    "        print(\"Parent class is called\")\n",
    "        \n",
    "class childclass(parentclass):\n",
    "    def __init__(self):\n",
    "        super().__init__()#Here i am calling the parent class constructor explicitly\n",
    "        print(\"Now Child class is called\")\n",
    "child=childclass()   "
   ]
  },
  {
   "cell_type": "code",
   "execution_count": 16,
   "id": "ef49a6a2-f92b-4414-adf0-967dfdbd18f8",
   "metadata": {},
   "outputs": [
    {
     "name": "stdout",
     "output_type": "stream",
     "text": [
      "Object is created\n"
     ]
    }
   ],
   "source": [
    "#7.\n",
    "\"\"\"self paramter is the first parameter of a constructor which refer to the instance of the class which is created \n",
    "it helps to distinguish between the local variables of the class and instance varaible of the instance created\"\"\"\n",
    "\"\"\"Example\"\"\"\n",
    "class new():\n",
    "    def createdornot(self): #Here the self refers to the created object whenever i create an object\n",
    "        print(\"Object is created\")\n",
    "person1=new()\n",
    "person1.createdornot()"
   ]
  },
  {
   "cell_type": "code",
   "execution_count": 1,
   "id": "9e8a3a05-022d-465c-a77e-701c68af996a",
   "metadata": {},
   "outputs": [
    {
     "data": {
      "text/plain": [
       "'When we want to just create an instance of the class without procideing any argumnets to the object/instance we use concept of default constructor'"
      ]
     },
     "execution_count": 1,
     "metadata": {},
     "output_type": "execute_result"
    }
   ],
   "source": [
    "#8.\n",
    "\"\"\"\n",
    "In python if we don't provide an __init__ method in the class.Then python provides a default constructor that does nothing.\"\"\"\n",
    "\"\"\"example\"\"\"\n",
    "class MyClass:\n",
    "    pass\n",
    "obj = MyClass()\n",
    "#in this example instance of the class is created even without __init__ method because of the default constructor\n",
    "\"\"\"When we want to just create an instance of the class without procideing any argumnets to the object/instance we use concept of default constructor\"\"\"\n"
   ]
  },
  {
   "cell_type": "code",
   "execution_count": 10,
   "id": "6f7d112c-cf4b-4b6c-af68-db115da02f25",
   "metadata": {},
   "outputs": [
    {
     "name": "stdout",
     "output_type": "stream",
     "text": [
      "Area of the rectangle is: 300\n"
     ]
    }
   ],
   "source": [
    "#9.\n",
    "class rectangle:\n",
    "    def __init__(self,hght,wdth):\n",
    "        self.hght=hght\n",
    "        self.wdth=wdth\n",
    "    def calc(self):\n",
    "        area=(self.hght)*(self.wdth)\n",
    "        return area\n",
    "r1=rectangle(20,15)\n",
    "print(\"Area of the rectangle is:\",r1.calc())"
   ]
  },
  {
   "cell_type": "code",
   "execution_count": 5,
   "id": "5b973395-7d13-4e24-b4da-6f80cee5f5fa",
   "metadata": {},
   "outputs": [
    {
     "name": "stdout",
     "output_type": "stream",
     "text": [
      "Rectangle 1 - Height: 20 Width: 15\n",
      "Square - Height: 10 Width: 10\n"
     ]
    }
   ],
   "source": [
    "#10.\n",
    "\"\"\"We can achieve the concept of multiple construtors in python using __init__ method\"\"\"\n",
    "\"\"\"and an decorator\"\"\"\n",
    "\"\"\"we can have multiple constructors in our program by only creating seprate class for each constructor\"\"\"\n",
    "\"\"\"example\"\"\"\n",
    "class Rectangle:\n",
    "    def __init__(self, height, width):\n",
    "        self.height = height\n",
    "        self.width = width\n",
    "\n",
    "    @classmethod\n",
    "    def create_square(cls, side_length):   #cls is the first parameter refrs to the class itself rather than the instance of the class\n",
    "        return cls(height=side_length, width=side_length)\n",
    "rect1 = Rectangle(20, 15)\n",
    "print(\"Rectangle 1 - Height:\", rect1.height, \"Width:\", rect1.width)\n",
    "square = Rectangle.create_square(10)\n",
    "print(\"Square - Height:\", square.height, \"Width:\", square.width)\n",
    "#IN this example i have created a constructor of the rectangle class \n",
    "#after that i have created a method using a decorator so rreturn back an instance to the rectangle class"
   ]
  },
  {
   "cell_type": "code",
   "execution_count": 7,
   "id": "52508ed2-1355-494c-8924-7dcff0b58351",
   "metadata": {},
   "outputs": [
    {
     "data": {
      "text/plain": [
       "\"Method overloading is a concept where a class can have multiple methods with same name but different paramters,\\nin python we can create a single constructor using __init__ method,we can't have multiple __init__ methods with different parameter lists.\""
      ]
     },
     "execution_count": 7,
     "metadata": {},
     "output_type": "execute_result"
    }
   ],
   "source": [
    "#11.\n",
    "\"\"\"Method overloading is a concept where a class can have multiple methods with same name but different paramters,\n",
    "in python we can create a single constructor using __init__ method,we can't have multiple __init__ methods with different parameter lists.\"\"\"\n"
   ]
  },
  {
   "cell_type": "code",
   "execution_count": 16,
   "id": "44065c3a-ce0d-447f-802b-1d70e48eb191",
   "metadata": {},
   "outputs": [
    {
     "name": "stdout",
     "output_type": "stream",
     "text": [
      "child\n",
      "parent\n"
     ]
    }
   ],
   "source": [
    "#12.\n",
    "\"\"\"In python super function is used to call a method from the parent class,but we can also use super function with a\n",
    "constructor.To invoke(activate) the constructor of the parent class in addition to the constructor of the current class \"\"\"\n",
    "class parent_cls:\n",
    "    def __init__(self,new1):\n",
    "        self.new1=new1\n",
    "    \n",
    "class child_cls(parent_cls):\n",
    "    def __init__(self,parent1,new2):\n",
    "        super().__init__(parent1)\n",
    "        self.new2=new2\n",
    "p=child_cls(parent1=\"parent\",new2=\"child\")\n",
    "print(p.new2) \n",
    "#here i haven't passsed any arguments to the parent class still  i am able to print new1 from parent classs using super function\n",
    "print(p.new1)"
   ]
  },
  {
   "cell_type": "code",
   "execution_count": 33,
   "id": "e4f3d794-e649-4cab-93d9-423212d571d7",
   "metadata": {},
   "outputs": [
    {
     "name": "stdout",
     "output_type": "stream",
     "text": [
      "Book_1:\n",
      "The title of the book is: Harry potter\n",
      "The author of the book is: Jk rowling\n",
      "Published date of the book is: 12-8-1940 \n",
      "\n",
      "Book_2:\n",
      "The title of the book is: Lord's of the ring\n",
      "The author of the book is: AK madison\n",
      "Published date of the book is: 13-7-1966 \n",
      "\n"
     ]
    }
   ],
   "source": [
    "#13.\n",
    "class book:\n",
    "    def __init__(self,title,author,published_yr):\n",
    "        self.title=title\n",
    "        self.author=author\n",
    "        self.published_yr=published_yr\n",
    "    \n",
    "    def show_det(self,name):\n",
    "        print(F\"{name}:\")\n",
    "        print(\"The title of the book is:\",self.title)\n",
    "        print(\"The author of the book is:\",self.author)\n",
    "        print(\"Published date of the book is:\",self.published_yr,\"\\n\")\n",
    "        \n",
    "\n",
    "b1=book(\"Harry potter\",\"Jk rowling\",\"12-8-1940\")\n",
    "b1.show_det(\"Book_1\")\n",
    "b2=book(\"Lord's of the ring\",\"AK madison\",\"13-7-1966\")\n",
    "b2.show_det(\"Book_2\")"
   ]
  },
  {
   "cell_type": "code",
   "execution_count": 2,
   "id": "88728d0b-6d8a-416e-a79e-99fe7bdf673d",
   "metadata": {},
   "outputs": [
    {
     "data": {
      "text/plain": [
       "'Regular methods-Are explicitly called on an instance of the class.\\n1.regular methods can return values as needed\\n2.regular methods can have valid method name \\n3.They are used for performing operations on an object.'"
      ]
     },
     "execution_count": 2,
     "metadata": {},
     "output_type": "execute_result"
    }
   ],
   "source": [
    "#14.\n",
    "\"\"\"Constructors-1.In python constructor is an method to initialize the attributes of an object when it is created,\n",
    "constructor method is called-__init__.\n",
    "2.When an object is created constructor is automatically invoked\n",
    "3.We use self keyword to initialize the attributes of the class\"\"\"\n",
    "\"\"\"Regular methods-Are explicitly called on an instance of the class.\n",
    "1.regular methods can return values as needed\n",
    "2.regular methods can have valid method name \n",
    "3.They are used for performing operations on an object.\"\"\"\n"
   ]
  },
  {
   "cell_type": "code",
   "execution_count": 3,
   "id": "a785fea0-e84d-4b49-81b1-ff4faef4be14",
   "metadata": {},
   "outputs": [
    {
     "data": {
      "text/plain": [
       "'self is a reference to the instance of the class, and it is the first parameter of every instance method, including the constructor.\\nWhen you use self within the constructor, you are referring to the instance that is being created.\\nself.variable_name is used to define and access instance variables.'"
      ]
     },
     "execution_count": 3,
     "metadata": {},
     "output_type": "execute_result"
    }
   ],
   "source": [
    "#15.\n",
    "\"\"\"self is a reference to the instance of the class, and it is the first parameter of every instance method, including the constructor.\n",
    "When you use self within the constructor, you are referring to the instance that is being created.\n",
    "self.variable_name is used to define and access instance variables.\"\"\""
   ]
  },
  {
   "cell_type": "code",
   "execution_count": 9,
   "id": "2f46e6bc-8978-48fa-8478-f7bcfa9e7df9",
   "metadata": {},
   "outputs": [
    {
     "name": "stdout",
     "output_type": "stream",
     "text": [
      "Instance 1 status: Instance Created\n",
      "Instance 2 status:Not created\n"
     ]
    }
   ],
   "source": [
    "#16.\n",
    "\"\"\"In Python, you can prevent a class from having multiple instances by using a class variable to track whether \n",
    "an instance has already been created.\"\"\"\n",
    "\"\"\"example\"\"\"\n",
    "class one_class():\n",
    "    class_var=True\n",
    "    \n",
    "    def __init__(self):\n",
    "        if one_class.class_var==False:\n",
    "            print(\"Instance 2 status:Not created\")\n",
    "        else:\n",
    "            self.data=\"Instance Created\"\n",
    "            one_class.class_var=False\n",
    "inst_1=one_class()\n",
    "print(\"Instance 1 status:\",inst_1.data)\n",
    "\n",
    "inst_2=one_class()\n"
   ]
  },
  {
   "cell_type": "code",
   "execution_count": 10,
   "id": "1d35bb51-9ec1-431d-8e1d-3ff9dbac6621",
   "metadata": {},
   "outputs": [
    {
     "name": "stdout",
     "output_type": "stream",
     "text": [
      "Student 1 Subjects: ['Math', 'Science', 'History']\n",
      "Student 2 Subjects: ['English', 'Physics', 'Computer Science', 'Art']\n"
     ]
    }
   ],
   "source": [
    "#17.\n",
    "class Student:\n",
    "    def __init__(self, *args):\n",
    "        self.subjects = list(args)\n",
    "student1 = Student('Math', 'Science', 'History')\n",
    "student2 = Student('English', 'Physics', 'Computer Science', 'Art')\n",
    "\n",
    "print(\"Student 1 Subjects:\", student1.subjects)\n",
    "print(\"Student 2 Subjects:\", student2.subjects)\n"
   ]
  },
  {
   "cell_type": "code",
   "execution_count": 11,
   "id": "eef533f9-4fdf-4160-a155-1446fd8fa57b",
   "metadata": {},
   "outputs": [
    {
     "data": {
      "text/plain": [
       "'The __del__ method in Python is a special method that is called when an object is about to be destroyed,\\nwhich happens when there are no more references to the object. It is the counterpart to the constructor __init__, \\nwhich is called when an object is created.'"
      ]
     },
     "execution_count": 11,
     "metadata": {},
     "output_type": "execute_result"
    }
   ],
   "source": [
    "#18.\n",
    "\"\"\"The __del__ method in Python is a special method that is called when an object is about to be destroyed,\n",
    "which happens when there are no more references to the object. It is the counterpart to the constructor __init__, \n",
    "which is called when an object is created.\"\"\""
   ]
  },
  {
   "cell_type": "code",
   "execution_count": 12,
   "id": "71c7a01a-c4f5-465f-bd28-b464365b0d2f",
   "metadata": {},
   "outputs": [
    {
     "name": "stdout",
     "output_type": "stream",
     "text": [
      "Name: Alice, Age: 20\n",
      "Student ID: S12345\n"
     ]
    }
   ],
   "source": [
    "#19.\n",
    "\"\"\"Constructor chaining in Python refers to the ability of one constructor to call another constructor within the same class\"\"\"\n",
    "class Person:\n",
    "    def __init__(self, name, age):\n",
    "        self.name = name\n",
    "        self.age = age\n",
    "\n",
    "    def display(self):\n",
    "        print(f\"Name: {self.name}, Age: {self.age}\")\n",
    "\n",
    "class Student(Person):\n",
    "    def __init__(self, name, age, student_id):\n",
    "        # Call the constructor of the base class (Person)\n",
    "        super().__init__(name, age)\n",
    "        self.student_id = student_id\n",
    "\n",
    "    def display_student(self):\n",
    "        # Reuse the display method from the base class\n",
    "        self.display()\n",
    "        print(f\"Student ID: {self.student_id}\")\n",
    "\n",
    "# Example usage\n",
    "student1 = Student(\"Alice\", 20, \"S12345\")\n",
    "student1.display_student()\n"
   ]
  },
  {
   "cell_type": "code",
   "execution_count": 15,
   "id": "37f026bd-014e-487f-8b84-bf1257213318",
   "metadata": {},
   "outputs": [
    {
     "name": "stdout",
     "output_type": "stream",
     "text": [
      "The model of the car is: Toyota\n",
      "It is Being make in: 1990\n",
      "The model of the car is: Wagon-R\n",
      "It is Being make in: 2000\n"
     ]
    }
   ],
   "source": [
    "#20.\n",
    "class Car():\n",
    "    def __init__(self,make,model):\n",
    "        self.make=make\n",
    "        self.model=model\n",
    "        \n",
    "    def display(self):\n",
    "        print(\"The model of the car is:\",self.model)\n",
    "        print(\"It is Being make in:\",self.make)\n",
    "c1=Car(1990,\"Toyota\")\n",
    "c2=Car(2000,\"Wagon-R\")\n",
    "\n",
    "c1.display()\n",
    "c2.display()"
   ]
  },
  {
   "cell_type": "code",
   "execution_count": 16,
   "id": "0c05f6b5-0921-4564-a838-a58ef0c507d4",
   "metadata": {},
   "outputs": [],
   "source": [
    "#----------------------------------------------inheritance--------------------------------------------------------#"
   ]
  },
  {
   "cell_type": "code",
   "execution_count": 4,
   "id": "905373ab-055b-4038-af8e-ef00d8ea3972",
   "metadata": {},
   "outputs": [
    {
     "data": {
      "text/plain": [
       "\"Significance of Inheritance in OOPs:\\n1.code reusability: we don't need to write code  which is same for multiple classes.\\n2.Enhances the readibilty and maintaince of code.\""
      ]
     },
     "execution_count": 4,
     "metadata": {},
     "output_type": "execute_result"
    }
   ],
   "source": [
    "#1.\n",
    "\"\"\"In python inheritance simply means passing the existing characterstics of a class to another class\"\"\"\n",
    "\"\"\"for example: let's suppose i have a class with some methods in it, and i created a second class in which i wanted to have \n",
    "same methods as in my first class so i can use inheritance to pass characterstics from first class to second class\"\"\"\n",
    "\n",
    "\"\"\"Significance of Inheritance in OOPs:\n",
    "1.code reusability: we don't need to write code  which is same for multiple classes.\n",
    "2.Enhances the readibilty and maintaince of code.\"\"\""
   ]
  },
  {
   "cell_type": "code",
   "execution_count": 7,
   "id": "33165821-7e96-41b3-bddb-7cd79b633f26",
   "metadata": {},
   "outputs": [
    {
     "name": "stdout",
     "output_type": "stream",
     "text": [
      "This is the base class\n",
      "This is a child class\n",
      "Can fly\n",
      "Can swim\n"
     ]
    }
   ],
   "source": [
    "#2.\n",
    "\"\"\"In single inheritance:A class can inherit the properties from a single base class only.\"\"\"\n",
    "\n",
    "class Cars:\n",
    "    def fourwheels(self):\n",
    "        print(\"This is the base class\")\n",
    "class Thar(Cars):\n",
    "    def colouredwheels(self):\n",
    "        print(\"This is a child class\")\n",
    "\n",
    "my_car=Thar()   #I have created object with child class\n",
    "my_car.fourwheels()   #But it have access to the methods of parent class\n",
    "my_car.colouredwheels()\n",
    "\n",
    "\n",
    "\"\"\"In multile inheritance:A class can inherit the properties from multiple base classes\"\"\"\n",
    "class Flyable:\n",
    "    def fly(self):\n",
    "        print(\"Can fly\")\n",
    "\n",
    "class Swimmable:\n",
    "    def swim(self):\n",
    "        print(\"Can swim\")\n",
    "\n",
    "class Amphibian(Flyable, Swimmable):\n",
    "    pass\n",
    "\n",
    "# Amphibian inherits from both Flyable and Swimmable\n",
    "frog = Amphibian()\n",
    "frog.fly()  # It can access the fly method from Flyable\n",
    "frog.swim()  # It can access the swim method from Swimmable\n"
   ]
  },
  {
   "cell_type": "code",
   "execution_count": 13,
   "id": "44a00254-7154-40cf-804b-d763f08e63a5",
   "metadata": {},
   "outputs": [
    {
     "name": "stdout",
     "output_type": "stream",
     "text": [
      "blue\n",
      "60\n",
      "Toyota\n"
     ]
    }
   ],
   "source": [
    "#3.\n",
    "class vehicle:\n",
    "    def __init__(self,color,speed):\n",
    "        self.color=color\n",
    "        self.speed=speed\n",
    "class car(vehicle):\n",
    "    def __init__(self,color,speed,brand):\n",
    "        super().__init__(color,speed)#calls the constructor of parent class\n",
    "        self.brand=brand\n",
    "\n",
    "my_car=car(\"blue\",60,\"Toyota\")\n",
    "print(my_car.color)\n",
    "print(my_car.speed)\n",
    "print(my_car.brand)\n",
    "#When u creates a car object then it will have access to both car as well as vechile attributes "
   ]
  },
  {
   "cell_type": "code",
   "execution_count": 25,
   "id": "12614aa8-a352-4a0b-94bb-60b77bab44d0",
   "metadata": {},
   "outputs": [
    {
     "name": "stdout",
     "output_type": "stream",
     "text": [
      "Animal speaks\n",
      "MEOW\n"
     ]
    }
   ],
   "source": [
    "#4.\n",
    "\"\"\"Inheritance overriding in nothing but overriding the methods of base class when implementing with derived class\"\"\"\n",
    "\"\"\"example\"\"\"\n",
    "class ANIMAL:\n",
    "    def speak(self):\n",
    "        print(\"Animal speaks\")\n",
    "\n",
    "class Cat(ANIMAL):\n",
    "    #here i am overriding the speak method which is in our base class ANIMAL\n",
    "    def speak(self):\n",
    "        super().speak()\n",
    "        print(\"MEOW\")\n",
    "        \n",
    "my_ani=Cat()\n",
    "my_ani.speak()"
   ]
  },
  {
   "cell_type": "code",
   "execution_count": 6,
   "id": "dea68c16-cb5d-4cc9-b85f-262a3008140f",
   "metadata": {},
   "outputs": [
    {
     "name": "stdout",
     "output_type": "stream",
     "text": [
      "Generic animal sound\n",
      "Woof!\n",
      "Buddy is a Golden Retriever dog\n"
     ]
    }
   ],
   "source": [
    "#5.\n",
    "\"\"\"In python we can access the methods and attributes of parent class from child class using super().__init__(attribute name) function\"\"\"\n",
    "\n",
    "# Base class\n",
    "class Animal:\n",
    "    def __init__(self, name):\n",
    "        self.name = name\n",
    "\n",
    "    def make_sound(self):\n",
    "        print(\"Generic animal sound\")\n",
    "\n",
    "# Derived class\n",
    "class Dog(Animal):\n",
    "    def __init__(self, name, breed):\n",
    "        # Accessing the __init__ method of the parent class using super()\n",
    "        super().__init__(name)\n",
    "        self.breed = breed\n",
    "\n",
    "    def make_sound(self):\n",
    "        # Accessing the make_sound method of the parent class using super()\n",
    "        super().make_sound()\n",
    "        print(\"Woof!\")\n",
    "\n",
    "    def display_info(self):\n",
    "        # Accessing the attribute of the parent class\n",
    "        print(f\"{self.name} is a {self.breed} dog\")\n",
    "\n",
    "# Create an instance of the child class\n",
    "dog_instance = Dog(\"Buddy\", \"Golden Retriever\")\n",
    "\n",
    "# Accessing methods and attributes of the parent class\n",
    "dog_instance.make_sound()\n",
    "dog_instance.display_info()\n"
   ]
  },
  {
   "cell_type": "code",
   "execution_count": 5,
   "id": "3a7b2c76-17f8-4190-a85d-835dc6a9a7f6",
   "metadata": {},
   "outputs": [
    {
     "name": "stdout",
     "output_type": "stream",
     "text": [
      "blue\n",
      "Alto\n"
     ]
    }
   ],
   "source": [
    "#6.\n",
    "\"\"\"The super() function in the context of inheritance is used to access the methods and attributes of parent class from child classs\"\"\"\n",
    "\"\"\"We use it when we want to override a method from parent class to child class\"\"\"\n",
    "\"\"\"example\"\"\"\n",
    "class vehicle:\n",
    "    def __init__(self,color):\n",
    "        self.color=color\n",
    "class car(vehicle):\n",
    "    def __init__(self,color,brand):\n",
    "        super().__init__(color)#calls the constructor of parent class\n",
    "        self.brand=brand\n",
    "my_car=car(\"blue\",\"Alto\")\n",
    "print(my_car.color)\n",
    "print(my_car.brand)"
   ]
  },
  {
   "cell_type": "code",
   "execution_count": 13,
   "id": "7ef25139-70a6-4892-8d45-8fff3dc3e444",
   "metadata": {},
   "outputs": [
    {
     "name": "stdout",
     "output_type": "stream",
     "text": [
      "Animal Sound\n",
      "MEOW\n"
     ]
    }
   ],
   "source": [
    "#7.\n",
    "class Animal:\n",
    "    def speak(self):\n",
    "        print(\"Animal Sound\")\n",
    "class dog(Animal):\n",
    "    def speak(self):            #I am overriding the same method speak with some new attributes\n",
    "        super().speak()\n",
    "        print(\"BARK\")\n",
    "class cat(Animal):\n",
    "    def speak(self):\n",
    "        super().speak()\n",
    "        print(\"MEOW\")\n",
    "\n",
    "cat1=cat()\n",
    "dog1=dog()\n",
    "\n",
    "cat1.speak()"
   ]
  },
  {
   "cell_type": "code",
   "execution_count": 14,
   "id": "1ce737f0-b43a-4585-91dc-ab6fbbe255d4",
   "metadata": {},
   "outputs": [
    {
     "data": {
      "text/plain": [
       "'In the context of inheritance, the isinstance()\\nfunction is particularly useful for checking whether an object is an instance of a specific class or its subclasses.'"
      ]
     },
     "execution_count": 14,
     "metadata": {},
     "output_type": "execute_result"
    }
   ],
   "source": [
    "#8.\n",
    "\"\"\"The isinstance() function in Python is used to check if an object belongs to a particular class or a tuple of classes. \n",
    "It returns True if the object is an instance of any of the specified classes, and False otherwise.\"\"\"\n",
    "\"\"\"In the context of inheritance, the isinstance()\n",
    "function is particularly useful for checking whether an object is an instance of a specific class or its subclasses.\"\"\"\n"
   ]
  },
  {
   "cell_type": "code",
   "execution_count": 16,
   "id": "8ca2e7f8-862b-483d-aa79-a20f213a7b98",
   "metadata": {},
   "outputs": [
    {
     "name": "stdout",
     "output_type": "stream",
     "text": [
      "True\n"
     ]
    }
   ],
   "source": [
    "#9.\n",
    "\"\"\"\n",
    "The issubclass() function in Python is used to check whether a class is a subclass of another class.\n",
    "It returns True if the first class is a subclass of the second class or a tuple of classes, and False otherwise.\"\"\"\n",
    "\n",
    "\n",
    "class parent:\n",
    "    pass\n",
    "\n",
    "class child(parent):\n",
    "    pass\n",
    "\n",
    "print(issubclass(child,parent))\n"
   ]
  },
  {
   "cell_type": "code",
   "execution_count": 17,
   "id": "35883326-b98a-4c64-8dfe-6f1b3b48b8dd",
   "metadata": {},
   "outputs": [],
   "source": [
    "#10.\n",
    "\"\"\"\n",
    "In Python, constructor inheritance refers to the mechanism by which a child class can inherit the constructor (the __init__ method) \n",
    "from its parent class.When a child class is created,\n",
    "it can automatically inherit and utilize the constructor of its parent class by using the super() function\"\"\"\n",
    "\n",
    "\"\"\"We have to use super() function to inherit the constrctor of parent class to the child class\"\"\"\n",
    "\n",
    "\n",
    "class Parent:\n",
    "    def __init__(self, parent_param):\n",
    "        self.parent_param = parent_param\n",
    "\n",
    "class Child(Parent):\n",
    "    def __init__(self, parent_param, child_param):\n",
    "        super().__init__(parent_param)\n",
    "        self.child_param = child_param"
   ]
  },
  {
   "cell_type": "code",
   "execution_count": 48,
   "id": "944e4c5c-2ff3-4dd7-8c3b-c1b7c65641a4",
   "metadata": {},
   "outputs": [
    {
     "name": "stdout",
     "output_type": "stream",
     "text": [
      "Area of\tcicrcle is:\n",
      "1256.0\n",
      "Area of\tRectangle is:\n",
      "600\n"
     ]
    }
   ],
   "source": [
    "#11.\n",
    "class Area:\n",
    "    def calc(self):\n",
    "        print(\"Area of\",end=\"\\t\")\n",
    "class circle(Area):\n",
    "    def __init__(self,radius): #__init_ returns none\n",
    "        self.radius=radius\n",
    "        \n",
    "    def calc(self):\n",
    "        super().calc()\n",
    "        print(\"cicrcle is:\")\n",
    "        return 3.14*(self.radius*self.radius)\n",
    "class rectangle(Area):\n",
    "    def __init__(self,length,breadth):\n",
    "        self.length=length\n",
    "        self.breadth=breadth\n",
    "    def calc(self):\n",
    "        super().calc()\n",
    "        print(\"Rectangle is:\")\n",
    "        return self.length*self.breadth\n",
    "c1=circle(radius=20)\n",
    "area_c1=c1.calc()\n",
    "print(area_c1)\n",
    "\n",
    "r1=rectangle(length=20,breadth=30)\n",
    "area_r1=r1.calc()\n",
    "print(area_r1)"
   ]
  },
  {
   "cell_type": "code",
   "execution_count": 4,
   "id": "edcb4474-ee4e-4ae9-b87b-4ca793c0ff32",
   "metadata": {},
   "outputs": [
    {
     "name": "stdout",
     "output_type": "stream",
     "text": [
      "1256.0\n"
     ]
    }
   ],
   "source": [
    "#12.\n",
    "\"\"\"ABC'S-Abstract base classes in python helps to define a common interface between for a group of related classes\"\"\"\n",
    "\"\"\"I.ABC'S define a set of rules(methods) that has to be followed by other classes to be it's subclass\"\"\"\n",
    "\"\"\"we have to import abc first\"\"\"\n",
    "\"\"\"example\"\"\"\n",
    "\n",
    "from abc import ABC,abstractmethod\n",
    "class Shape(ABC):\n",
    "    @abstractmethod    #If a subclass doesn't provide an implementation for an abstract method marked with @abstractmethod, \n",
    "                        #attempting to create an object of that subclass will result in a TypeError\n",
    "    def area(self):\n",
    "        pass\n",
    "#Abstract base class \n",
    "    @abstractmethod\n",
    "    def perimeter(self):\n",
    "        pass\n",
    "    \n",
    "class circle(Shape):\n",
    "    def __init__(self,r):\n",
    "        self.r=r\n",
    "    \n",
    "    def area(self):\n",
    "        return 3.14*self.r*self.r\n",
    "    \n",
    "    def perimeter(self):\n",
    "        return 2*3.14*self.r\n",
    "\n",
    "c1=circle(r=20)\n",
    "c1_area=c1.area()\n",
    "print(c1_area)"
   ]
  },
  {
   "cell_type": "code",
   "execution_count": 1,
   "id": "700a9bb6-3c7b-4786-86be-0ca692eab2c3",
   "metadata": {},
   "outputs": [],
   "source": [
    "#13.\n",
    "\"\"\"\n",
    "In Python, you can prevent a child class from modifying certain attributes or methods\n",
    "inherited from a parent class by making use of encapsulation and access control. \"\"\"\n",
    "\n",
    "\"\"\"By using property decorator=@property\n",
    "class Parent:\n",
    "    def __init__(self):\n",
    "        self.__protected_attribute = 42\n",
    "\n",
    "class Child(Parent):\n",
    "    def modify_attribute(self):\n",
    "        # This will raise an AttributeError\n",
    "        self.__protected_attribute = 10\n",
    "\"\"\"\n",
    "\"\"\"By using private attributes=__self.__attribut_name\"\"\"\n",
    "class Parent:\n",
    "    def __init__(self):\n",
    "        self._protected_attribute = 42\n",
    "\n",
    "    @property\n",
    "    def protected_attribute(self):\n",
    "        return self._protected_attribute\n",
    "\n",
    "    @protected_attribute.setter\n",
    "    def protected_attribute(self, value):\n",
    "        raise AttributeError(\"Cannot modify protected_attribute directly\")\n"
   ]
  },
  {
   "cell_type": "code",
   "execution_count": 7,
   "id": "7d9d5749-465b-4225-bb80-ec4c8b12554d",
   "metadata": {},
   "outputs": [
    {
     "name": "stdout",
     "output_type": "stream",
     "text": [
      "Manager Name is Asjad from Software department and salary is 55000\n"
     ]
    }
   ],
   "source": [
    "#14.\n",
    "class Employee:\n",
    "    def __init__(self,name,salary):\n",
    "        self.name=name\n",
    "        self.salary=salary\n",
    "\n",
    "class manager(Employee):\n",
    "    def __init__(self,name,salary,department):\n",
    "        super().__init__(name,salary)\n",
    "        self.department=department\n",
    "\n",
    "e1=Employee(name=\"Asjad\",salary=55000)\n",
    "m1=manager(name=e1.name,salary=e1.salary,department=\"Software\")\n",
    "\n",
    "print(f\"Manager Name is {m1.name} from {m1.department} department and salary is {m1.salary}\")"
   ]
  },
  {
   "cell_type": "code",
   "execution_count": 9,
   "id": "938ccbf5-15de-4dc7-82ea-b06fec8a42d4",
   "metadata": {},
   "outputs": [
    {
     "data": {
      "text/plain": [
       "'Method overloading refers to the ability to define multiple methods in the same class with the same name but with different parameters.\\nIt is differ from method overriding in the way as:\\nMethod overriding occurs when a subclass provides a specific implementation for a method that is already defined in its superclass.\\n'"
      ]
     },
     "execution_count": 9,
     "metadata": {},
     "output_type": "execute_result"
    }
   ],
   "source": [
    "#15.\n",
    "\"\"\"Method overloading refers to the ability to define multiple methods in the same class with the same name but with different parameters.\n",
    "It is differ from method overriding in the way as:\n",
    "Method overriding occurs when a subclass provides a specific implementation for a method that is already defined in its superclass.\n",
    "\"\"\""
   ]
  },
  {
   "cell_type": "code",
   "execution_count": 10,
   "id": "b32e9ae0-c875-40f7-98ce-a6fb665575a2",
   "metadata": {},
   "outputs": [
    {
     "data": {
      "text/plain": [
       "'The __init__() method in Python is a special method, also known as a constructor.\\nIts purpose is to initialize the attributes or properties of an object when an instance of a class is created.\\nwe have to use super().__init__ syntax in order to uttilite the constructor of parent class with child class'"
      ]
     },
     "execution_count": 10,
     "metadata": {},
     "output_type": "execute_result"
    }
   ],
   "source": [
    "#16.\n",
    "\"\"\"The __init__() method in Python is a special method, also known as a constructor.\n",
    "Its purpose is to initialize the attributes or properties of an object when an instance of a class is created.\n",
    "we have to use super().__init__ syntax in order to uttilite the constructor of parent class with child class\"\"\""
   ]
  },
  {
   "cell_type": "code",
   "execution_count": 14,
   "id": "486eb56c-2f50-4869-9fdd-dc799c454c05",
   "metadata": {},
   "outputs": [
    {
     "name": "stdout",
     "output_type": "stream",
     "text": [
      "Not All birds fly in same manner\n",
      "Eagle's have Broad wings they do minimal wing flapping\n",
      "Not All birds fly in same manner\n",
      "Sparrow's have small wings they have to do continious wing flapping\n"
     ]
    }
   ],
   "source": [
    "#17.\n",
    "class Bird:\n",
    "    def fly(self):\n",
    "        print(\"Not All birds fly in same manner\")\n",
    "\n",
    "class Eagle(Bird):\n",
    "    def fly(self):\n",
    "        super().fly()\n",
    "        print(\"Eagle's have Broad wings they do minimal wing flapping\")\n",
    "    \n",
    "class sparrow(Bird):\n",
    "    def fly(self):\n",
    "        super().fly()\n",
    "        print(\"Sparrow's have small wings they have to do continious wing flapping\")\n",
    "        \n",
    "e1=Eagle()\n",
    "s1=sparrow()\n",
    "\n",
    "e1.fly()\n",
    "\n",
    "s1.fly()\n",
    "            "
   ]
  },
  {
   "cell_type": "code",
   "execution_count": 15,
   "id": "5e677eb4-4e80-44d8-a4d6-a0ed251046d7",
   "metadata": {},
   "outputs": [
    {
     "data": {
      "text/plain": [
       "'Python first looks for method in class D. Since D does not have its own implementation of method, it proceeds to the next class in the MRO.\\nPython then looks for method in class B. It finds the implementation in class B, so it executes \"Method in class B.'"
      ]
     },
     "execution_count": 15,
     "metadata": {},
     "output_type": "execute_result"
    }
   ],
   "source": [
    "#18.\n",
    "\"\"\"\n",
    "The \"diamond problem\" is a term used in the context of multiple inheritance in object-oriented programming, \n",
    "where a particular issue arises due to the presence of a diamond-shaped inheritance hierarchy.\n",
    "This problem occurs when a class inherits from two classes that have a common ancestor\"\"\"\n",
    "\"\"\"Python uses a mechanism called Method Resolution Order (MRO) to address the diamond problem in multiple inheritance.\"\"\"\n",
    "class A:\n",
    "    def method(self):\n",
    "        print(\"Method in class A\")\n",
    "\n",
    "class B(A):\n",
    "    def method(self):\n",
    "        print(\"Method in class B\")\n",
    "\n",
    "class C(A):\n",
    "    def method(self):\n",
    "        print(\"Method in class C\")\n",
    "\n",
    "class D(B, C):\n",
    "    pass\n",
    "\"\"\"The Method Resolution Order (MRO) for class D is [D, B, C, A]. This means that when you call D().method(),\n",
    "Python will look for the method in the following order: D, B, C, and finally A.\"\"\"\n",
    "\"\"\"Python first looks for method in class D. Since D does not have its own implementation of method, it proceeds to the next class in the MRO.\n",
    "Python then looks for method in class B. It finds the implementation in class B, so it executes \"Method in class B.\"\"\""
   ]
  },
  {
   "cell_type": "code",
   "execution_count": 1,
   "id": "95055b37-064a-4a82-93c6-c83bd22889cf",
   "metadata": {},
   "outputs": [
    {
     "data": {
      "text/plain": [
       "'\\n1.The \"is-a\" relationship represents inheritance or specialization, indicating that a subclass is a specialized version of its superclass.\\n2.The \"has-a\" relationship represents composition or aggregation, indicating that a class has another class as a part of its structure.'"
      ]
     },
     "execution_count": 1,
     "metadata": {},
     "output_type": "execute_result"
    }
   ],
   "source": [
    "#19.\n",
    "\"\"\"\n",
    "1.The \"is-a\" relationship represents inheritance or specialization, indicating that a subclass is a specialized version of its superclass.\n",
    "2.The \"has-a\" relationship represents composition or aggregation, indicating that a class has another class as a part of its structure.\"\"\"\n"
   ]
  },
  {
   "cell_type": "code",
   "execution_count": 6,
   "id": "4323cff0-d29d-4981-af48-a9055a6d1758",
   "metadata": {},
   "outputs": [
    {
     "name": "stdout",
     "output_type": "stream",
     "text": [
      "Details of the student:\n",
      "NAME= Harris Kamal Student's-ID= ST1234 IS a 2nd Student\n",
      "Details of the Professor:\n",
      "NAME= Dr. Smith Staff's-ID=PR5678 Experience=10 years from Physics Department\n"
     ]
    }
   ],
   "source": [
    "#20.\n",
    "class person:\n",
    "    def __init__(self,name,ID):\n",
    "        self.name=name\n",
    "        self.ID=ID\n",
    "    \n",
    "class student(person):\n",
    "    def __init__(self,name,ID,course,year):\n",
    "        super().__init__(name,ID)\n",
    "        self.course=course\n",
    "        self.year=year\n",
    "        \n",
    "        \n",
    "    def show(self):\n",
    "        print(\"Details of the student:\")\n",
    "        print(\"NAME=\",self.name,end=\" \")\n",
    "        print(\"Student's-ID=\",self.ID,end=\" \")\n",
    "        print(\"IS a\",self.year,\"Student\")\n",
    "\n",
    "          \n",
    "class professor(person):\n",
    "    def __init__(self,name,ID,Department,Experience):\n",
    "        super().__init__(name,ID)\n",
    "        self.Department=Department\n",
    "        self.Experience=Experience\n",
    "    \n",
    "    def show(self):\n",
    "        print(\"Details of the Professor:\")\n",
    "        print(\"NAME=\",self.name,end=\" \")\n",
    "        print(f\"Staff's-ID={self.ID} Experience={self.Experience} from {self.Department} Department\")\n",
    "        \n",
    "student1 = student(\"Harris Kamal\", \"ST1234\", \"Computer Science\", \"2nd\")\n",
    "professor1 = professor(\"Dr. Smith\", \"PR5678\", \"Physics\", \"10 years\")\n",
    "\n",
    "# Displaying details\n",
    "student1.show()\n",
    "professor1.show()"
   ]
  },
  {
   "cell_type": "code",
   "execution_count": 7,
   "id": "f0b7779b-df76-4c36-a897-e3d9f5fefee6",
   "metadata": {},
   "outputs": [],
   "source": [
    "#-------------------------------------------------------Encapsulation---------------------------------------------#"
   ]
  },
  {
   "cell_type": "code",
   "execution_count": 16,
   "id": "3d74df44-1099-4fe6-831d-58bdd2e5e6ea",
   "metadata": {},
   "outputs": [
    {
     "data": {
      "text/plain": [
       "\"Encapsulation:\\n\\n-Bundling of Data or attributes with functions/methods for building of a class is known as encapsulation\\n\\nRole in object oriented programming:\\n1.Information hiding: By using Access modifiers Encapsulation helps to Control the visibility of information\\n\\n2.Security: Since encapsultion Can Restrict the use and modification of certain variable's or attributes it can Secure our code\\n\\n\\n\""
      ]
     },
     "execution_count": 16,
     "metadata": {},
     "output_type": "execute_result"
    }
   ],
   "source": [
    "#1.\n",
    "\"\"\"Encapsulation:\n",
    "\n",
    "-Bundling of Data or attributes with functions/methods for building of a class is known as encapsulation\n",
    "\n",
    "Role in object oriented programming:\n",
    "1.Information hiding: By using Access modifiers Encapsulation helps to Control the visibility of information\n",
    "\n",
    "2.Security: Since encapsultion Can Restrict the use and modification of certain variable's or attributes it can Secure our code\n",
    "\n",
    "\n",
    "\"\"\""
   ]
  },
  {
   "cell_type": "code",
   "execution_count": 15,
   "id": "d9b6e7ce-59c3-4625-98cc-dcbde74b3718",
   "metadata": {},
   "outputs": [
    {
     "data": {
      "text/plain": [
       "\"\\n*Key principle of Encapsulation:\\n1.Abstraction:Encapsultion helps to Hide the internal details showing what is necessary\\n\\n2.Modularity:it means breaking a large problem into smaller units\\n  ---Encapsulation helps to bundle's the Related Data and methods to form a class\\n\\n*Access control: it means restricting the access of internal memebers of the class(Atrributes/methods)\\n           Encapsulation provides access control through access modifiers:\\n            Public: Members are accessible from outside the class.\\n            Private: Members are accessible only within the class.\\n            Protected: Members are accessible within the class and its subclasses.\\n\\n\\n*Data hiding: Data hiding involves restricting the visibility of certain aspects of a class to prevent direct access or modification\\n\\nEncapsulation enables data hiding by marking certain \\nattributes as private.\\n\""
      ]
     },
     "execution_count": 15,
     "metadata": {},
     "output_type": "execute_result"
    }
   ],
   "source": [
    "#2.\n",
    "\"\"\"\n",
    "*Key principle of Encapsulation:\n",
    "1.Abstraction:Encapsultion helps to Hide the internal details showing what is necessary\n",
    "\n",
    "2.Modularity:it means breaking a large problem into smaller units\n",
    "  ---Encapsulation helps to bundle's the Related Data and methods to form a class\n",
    "\n",
    "*Access control: it means restricting the access of internal memebers of the class(Atrributes/methods)\n",
    "           Encapsulation provides access control through access modifiers:\n",
    "            Public: Members are accessible from outside the class.\n",
    "            Private: Members are accessible only within the class.\n",
    "            Protected: Members are accessible within the class and its subclasses.\n",
    "\n",
    "\n",
    "*Data hiding: Data hiding involves restricting the visibility of certain aspects of a class to prevent direct access or modification\n",
    "\n",
    "Encapsulation enables data hiding by marking certain \n",
    "attributes as private.\n",
    "\"\"\"\n"
   ]
  },
  {
   "cell_type": "code",
   "execution_count": 4,
   "id": "715e9e0a-1d1a-4564-bdf4-8ed33f9740af",
   "metadata": {},
   "outputs": [
    {
     "data": {
      "text/plain": [
       "'In python classes we can achieve Encapsulation in this way:\\n\\n\\n\\n\\n\\nexample:\\n'"
      ]
     },
     "execution_count": 4,
     "metadata": {},
     "output_type": "execute_result"
    }
   ],
   "source": [
    "#3.\n",
    "\n",
    "\"\"\"In python classes we can achieve Encapsulation in this way:\n",
    "In Python, you can achieve encapsulation by using access modifiers (public, private, protected)\n",
    "to control the visibility of attributes and methods within a class\n",
    "example:\n",
    "\"\"\"\n",
    "class Person:\n",
    "    \n",
    "    def __init__(self,name):\n",
    "        self.__name=name      # Double underscore indicate private attribute means can't access this attribute outside the class\n",
    "        \n",
    "    def set_name(self,new_name):\n",
    "        self.__name=new_name\n",
    "        \n",
    "    def get_name(self):\n",
    "        return self.__name\n",
    "    \n",
    "p1=Person(\"ASJAD\")\n",
    "\n",
    "name=p1.get_name()\n",
    "\n",
    "p1.set_name(\"ALAM\")\n",
    "\n",
    "p1.get_name()"
   ]
  },
  {
   "cell_type": "code",
   "execution_count": 18,
   "id": "dbb43df7-198d-4392-b5be-a0ef3528dc9a",
   "metadata": {},
   "outputs": [
    {
     "data": {
      "text/plain": [
       "'\\n*Public Access Modifiers:\\n    Members are accessible from outside the class.\\n*Private Access Modifiers:\\n    Members are accessible only within the class.\\n*Protected Acess Modifiers:\\n     Members are accessible within the class and its subclasses'"
      ]
     },
     "execution_count": 18,
     "metadata": {},
     "output_type": "execute_result"
    }
   ],
   "source": [
    "#4.\n",
    "\"\"\"\n",
    "*Public Access Modifiers:\n",
    "    Members are accessible from outside the class.\n",
    "*Private Access Modifiers:\n",
    "    Members are accessible only within the class.\n",
    "*Protected Acess Modifiers:\n",
    "     Members are accessible within the class and its subclasses\"\"\""
   ]
  },
  {
   "cell_type": "code",
   "execution_count": 19,
   "id": "0e279005-4262-41f1-8842-b9bf1c9422f1",
   "metadata": {},
   "outputs": [
    {
     "data": {
      "text/plain": [
       "'ALAM'"
      ]
     },
     "execution_count": 19,
     "metadata": {},
     "output_type": "execute_result"
    }
   ],
   "source": [
    "#5.\n",
    "class Person:\n",
    "    \n",
    "    def __init__(self,name):\n",
    "        self.__name=name      # Double underscore indicate private attribute means can't access this attribute outside the class\n",
    "        \n",
    "    def set_name(self,new_name):\n",
    "        self.__name=new_name\n",
    "        \n",
    "    def get_name(self):\n",
    "        return self.__name\n",
    "    \n",
    "p1=Person(\"ASJAD\")\n",
    "\n",
    "name=p1.get_name()\n",
    "\n",
    "p1.set_name(\"ALAM\")\n",
    "\n",
    "p1.get_name()"
   ]
  },
  {
   "cell_type": "code",
   "execution_count": 2,
   "id": "cf8a9b10-3a83-4ff3-bdea-9d7544f75f78",
   "metadata": {},
   "outputs": [
    {
     "name": "stdout",
     "output_type": "stream",
     "text": [
      "Stark\n",
      "Steve\n"
     ]
    }
   ],
   "source": [
    "#6.\n",
    "\"\"\"Getter and setter methods in Python Encapsulation\n",
    "1.Getter=allows you to \"get\" or retrieve the value of an attribute.\n",
    "2.Setter Method: It allows you to \"set\" or update the value of an attribute.\"\"\"\n",
    "class Student:\n",
    "    def __init__(self, name, age):\n",
    "        self._name = name  \n",
    "        self._age = age\n",
    "\n",
    "    # Getter for name\n",
    "    @property\n",
    "    def name(self):\n",
    "        return self._name\n",
    "\n",
    "    # Setter for name\n",
    "    @name.setter\n",
    "    def name(self, new_name):\n",
    "        if isinstance(new_name, str):\n",
    "            self._name = new_name\n",
    "        else:\n",
    "            print(\"Name must be a string.\")\n",
    "\n",
    "student = Student(\"Stark\", 20)\n",
    "print(student.name)  \n",
    "\n",
    "student.name = \"Steve\" \n",
    "print(student.name)\n"
   ]
  },
  {
   "cell_type": "code",
   "execution_count": 4,
   "id": "77620b93-6133-4f92-afd2-0bcb62fd19be",
   "metadata": {},
   "outputs": [
    {
     "data": {
      "text/plain": [
       "'\\nName mangling in Python is a mechanism used to make class attributes more\\ndifficult to access directly from outside the class, And Hence supporting encapsulation. \\nPython does this by prefixing the attribute name with and Underscore \\ne.g _ClassName'"
      ]
     },
     "execution_count": 4,
     "metadata": {},
     "output_type": "execute_result"
    }
   ],
   "source": [
    "#7.\n",
    "\"\"\"\n",
    "Name mangling in Python is a mechanism used to make class attributes more\n",
    "difficult to access directly from outside the class, And Hence supporting encapsulation. \n",
    "Python does this by prefixing the attribute name with and Underscore \n",
    "e.g _ClassName\"\"\""
   ]
  },
  {
   "cell_type": "code",
   "execution_count": 5,
   "id": "8bec914e-2ca5-4f89-8682-950bd8a0f4ef",
   "metadata": {},
   "outputs": [
    {
     "name": "stdout",
     "output_type": "stream",
     "text": [
      "Deposited $500. New balance is: $1500\n",
      "Withdrew $200. New balance is: $1300\n",
      "1300\n",
      "12345678\n"
     ]
    }
   ],
   "source": [
    "#8.\n",
    "class BankAccount:\n",
    "    def __init__(self, account_number, initial_balance=0):\n",
    "        self.__account_number = account_number  \n",
    "        self.__balance = initial_balance       \n",
    "\n",
    "    def deposit(self, amount):\n",
    "        if amount > 0:\n",
    "            self.__balance += amount\n",
    "            print(f\"Deposited ${amount}. New balance is: ${self.__balance}\")\n",
    "        else:\n",
    "            print(\"Deposit amount must be positive.\")\n",
    "\n",
    "    def withdraw(self, amount):\n",
    "        if 0 < amount <= self.__balance:\n",
    "            self.__balance -= amount\n",
    "            print(f\"Withdrew ${amount}. New balance is: ${self.__balance}\")\n",
    "        else:\n",
    "            print(\"Insufficient funds or invalid withdrawal amount.\")\n",
    "\n",
    "    def get_balance(self):\n",
    "        return self.__balance\n",
    "\n",
    "    def get_account_number(self):\n",
    "        return self.__account_number\n",
    "\n",
    "account = BankAccount(\"12345678\", 1000)\n",
    "\n",
    "account.deposit(500)        \n",
    "account.withdraw(200)       \n",
    "print(account.get_balance()) \n",
    "print(account.get_account_number())  "
   ]
  },
  {
   "cell_type": "code",
   "execution_count": 6,
   "id": "e5521179-ba58-464f-9f5d-967b1a060ac6",
   "metadata": {},
   "outputs": [
    {
     "data": {
      "text/plain": [
       "\"Encapsulation makes your code easier to manage and safer by keeping important details hidden.\\nIt helps you change how things work inside a class without affecting other parts of your program. Encapsulation\\nalso protects your data, ensuring it's only accessed or changed in controlled ways, reducing errors and improving security.\""
      ]
     },
     "execution_count": 6,
     "metadata": {},
     "output_type": "execute_result"
    }
   ],
   "source": [
    "#9.\n",
    "\"\"\"Encapsulation makes your code easier to manage and safer by keeping important details hidden.\n",
    "It helps you change how things work inside a class without affecting other parts of your program. Encapsulation\n",
    "also protects your data, ensuring it's only accessed or changed in controlled ways, reducing errors and improving security.\"\"\""
   ]
  },
  {
   "cell_type": "code",
   "execution_count": 7,
   "id": "2472b3d4-dcb2-4799-9e08-15c40649681b",
   "metadata": {},
   "outputs": [
    {
     "name": "stdout",
     "output_type": "stream",
     "text": [
      "42\n",
      "42\n"
     ]
    }
   ],
   "source": [
    "#10.\n",
    "\"\"\"In python Private Attributes can be accessed if needed by using the name-mangled version of the attribute.\"\"\"\n",
    "class MyClass:\n",
    "    def __init__(self, value):\n",
    "        self.__private_attribute = value  # Private attribute\n",
    "    def get_private_attribute(self):\n",
    "        return self.__private_attribute  # Accessing the private attribute within the class\n",
    "    \n",
    "obj2 = MyClass(42)\n",
    "print(obj2._MyClass__private_attribute) \n",
    "\n",
    "print(obj2.get_private_attribute())\n"
   ]
  },
  {
   "cell_type": "code",
   "execution_count": 8,
   "id": "0621f4aa-4c36-4f85-bbff-7552a202ff97",
   "metadata": {},
   "outputs": [
    {
     "name": "stdout",
     "output_type": "stream",
     "text": [
      "Course: Mathematics\n",
      "Teacher: Ronnie\n",
      "Enrolled Students: ['Stark', 'Banner']\n",
      "Stark's Grades: {'Mathematics': 'A'}\n",
      "Banner's Grades: {'Mathematics': 'B'}\n"
     ]
    }
   ],
   "source": [
    "#11.\n",
    "class Person1:\n",
    "    def __init__(self, name, age):\n",
    "        self.name = name  \n",
    "        self.age = age    \n",
    "\n",
    "class Student(Person1):\n",
    "    def __init__(self, name, age, student_id):\n",
    "        super().__init__(name, age)\n",
    "        self.__student_id = student_id  \n",
    "        self.__grades = {}  \n",
    "\n",
    "    def get_student_id(self):\n",
    "        return self.__student_id\n",
    "\n",
    "    def add_grade(self, course, grade):\n",
    "        self.__grades[course] = grade\n",
    "\n",
    "    def view_grades(self):\n",
    "        return self.__grades\n",
    "\n",
    "class Teacher(Person1):\n",
    "    def __init__(self, name, age, employee_id):\n",
    "        super().__init__(name, age)\n",
    "        self.__employee_id = employee_id \n",
    "\n",
    "    def get_employee_id(self):\n",
    "        return self.__employee_id\n",
    "\n",
    "    def assign_grade(self, student, course, grade):\n",
    "        student.add_grade(course, grade)\n",
    "\n",
    "class Course:\n",
    "    def __init__(self, course_name):\n",
    "        self.course_name = course_name  \n",
    "        self.__students = []  \n",
    "        self.__teacher = None  \n",
    "\n",
    "    def enroll_student(self, student):\n",
    "        self.__students.append(student)\n",
    "\n",
    "    def assign_teacher(self, teacher):\n",
    "        self.__teacher = teacher\n",
    "\n",
    "    def get_teacher(self):\n",
    "        return self.__teacher.name if self.__teacher else \"No teacher assigned\"\n",
    "\n",
    "    def get_students(self):\n",
    "        return [student.name for student in self.__students]\n",
    "\n",
    "\n",
    "student1 = Student(\"Stark\", 20, \"S1001\")\n",
    "student2 = Student(\"Banner\", 21, \"S1002\")\n",
    "\n",
    "teacher1 = Teacher(\"Ronnie\", 40, \"TR2001\")\n",
    "\n",
    "course1 = Course(\"Mathematics\")\n",
    "\n",
    "\n",
    "course1.enroll_student(student1)\n",
    "course1.enroll_student(student2)\n",
    "course1.assign_teacher(teacher1)\n",
    "\n",
    "teacher1.assign_grade(student1, \"Mathematics\", \"A\")\n",
    "teacher1.assign_grade(student2, \"Mathematics\", \"B\")\n",
    "\n",
    "\n",
    "\n",
    "print(f\"Course: {course1.course_name}\")\n",
    "print(f\"Teacher: {course1.get_teacher()}\")\n",
    "print(\"Enrolled Students:\", course1.get_students())\n",
    "print(f\"{student1.name}'s Grades:\", student1.view_grades())\n",
    "print(f\"{student2.name}'s Grades:\", student2.view_grades())\n"
   ]
  },
  {
   "cell_type": "code",
   "execution_count": 9,
   "id": "af893364-afae-449b-bfbd-e4b7a3253dde",
   "metadata": {},
   "outputs": [
    {
     "data": {
      "text/plain": [
       "'\\nIn Python, property decorators are a way to manage access to \\nclass attributes \\nwhile keeping the code clean and readable. \\n\\nProperty decorators support encapsulation by:\\n1.Controlling Access\\n2.Hiding Implementation Details'"
      ]
     },
     "execution_count": 9,
     "metadata": {},
     "output_type": "execute_result"
    }
   ],
   "source": [
    "#12.\n",
    "\"\"\"\n",
    "In Python, property decorators are a way to manage access to \n",
    "class attributes \n",
    "while keeping the code clean and readable. \n",
    "\n",
    "Property decorators support encapsulation by:\n",
    "1.Controlling Access\n",
    "2.Hiding Implementation Details\"\"\""
   ]
  },
  {
   "cell_type": "code",
   "execution_count": 10,
   "id": "8f0538e0-1c6f-4480-a8f1-86e3bcb41cb7",
   "metadata": {},
   "outputs": [
    {
     "data": {
      "text/plain": [
       "'Data Hiding in Encapsulation Helps in \\nControl Over Data,Reduced Complexity,Improved Security,Ease of Maintenance etc;'"
      ]
     },
     "execution_count": 10,
     "metadata": {},
     "output_type": "execute_result"
    }
   ],
   "source": [
    "#13.\n",
    "\"\"\"Data hiding is a concept in object-oriented programming where the internal state of an object\n",
    "is kept private and only accessible through well-defined methods. \"\"\"\n",
    "\"\"\"Data Hiding in Encapsulation Helps in \n",
    "Control Over Data,Reduced Complexity,Improved Security,Ease of Maintenance etc;\"\"\""
   ]
  },
  {
   "cell_type": "code",
   "execution_count": 1,
   "id": "f77eebb0-f4c6-4714-9976-037ce5544ff6",
   "metadata": {},
   "outputs": [
    {
     "name": "stdout",
     "output_type": "stream",
     "text": [
      "Employee ID: E12345\n",
      "Yearly Bonus: $5000.0\n",
      "Updated Salary: $60000\n",
      "Updated Yearly Bonus: $6000.0\n"
     ]
    }
   ],
   "source": [
    "#14.\n",
    "class Employee:\n",
    "    def __init__(self, employee_id, salary):\n",
    "        self.__employee_id = employee_id  \n",
    "        self.__salary = salary            \n",
    "\n",
    "    def get_employee_id(self):\n",
    "        return self.__employee_id\n",
    "    \n",
    "    def set_salary(self, new_salary):\n",
    "        if new_salary >= 0:\n",
    "            self.__salary = new_salary\n",
    "        else:\n",
    "            print(\"Salary must be non-negative.\")\n",
    "\n",
    "    def get_salary(self):\n",
    "        return self.__salary\n",
    "    \n",
    "    def calculate_yearly_bonus(self):\n",
    "        bonus_percentage = 0.10  \n",
    "        return self.__salary * bonus_percentage\n",
    "\n",
    "\n",
    "employee = Employee(\"E12345\", 50000)\n",
    "\n",
    "print(f\"Employee ID: {employee.get_employee_id()}\")\n",
    "print(f\"Yearly Bonus: ${employee.calculate_yearly_bonus()}\")\n",
    "\n",
    "employee.set_salary(60000)\n",
    "print(f\"Updated Salary: ${employee.get_salary()}\")\n",
    "print(f\"Updated Yearly Bonus: ${employee.calculate_yearly_bonus()}\")\n"
   ]
  },
  {
   "cell_type": "code",
   "execution_count": 2,
   "id": "b1ccb88a-0357-47e9-9222-62bc9f678650",
   "metadata": {},
   "outputs": [
    {
     "data": {
      "text/plain": [
       "\"\\nAccessors (getters) and mutators (setters) are methods used in encapsulation to control access to an object's attributes.\\nAccessors (Getters): Allow you to retrieve the value of a private attribute.\\nMutators (Setters): Allow you to modify the value of a private attribute, often with validation.\\n\\nThey Help To Controlled Access:,Data Integrity(help to maintain consistency),Security\\n\""
      ]
     },
     "execution_count": 2,
     "metadata": {},
     "output_type": "execute_result"
    }
   ],
   "source": [
    "#15.\n",
    "\"\"\"\n",
    "Accessors (getters) and mutators (setters) are methods used in encapsulation to control access to an object's attributes.\n",
    "Accessors (Getters): Allow you to retrieve the value of a private attribute.\n",
    "Mutators (Setters): Allow you to modify the value of a private attribute, often with validation.\n",
    "\n",
    "They Help To Controlled Access:,Data Integrity(help to maintain consistency),Security\n",
    "\"\"\"\n"
   ]
  },
  {
   "cell_type": "code",
   "execution_count": 3,
   "id": "e8f0ee3a-eee2-44be-a197-e59d674e713d",
   "metadata": {},
   "outputs": [
    {
     "data": {
      "text/plain": [
       "'Disadvantages Or Drawbacks of Encapsulation in python\\nIncreased Complexity,reduce flexibility,create a slight performance overhead,Overuse of Accessors and Mutators\\n'"
      ]
     },
     "execution_count": 3,
     "metadata": {},
     "output_type": "execute_result"
    }
   ],
   "source": [
    "#16.\n",
    "\"\"\"Disadvantages Or Drawbacks of Encapsulation in python\n",
    "Increased Complexity,reduce flexibility,create a slight performance overhead,Overuse of Accessors and Mutators\n",
    "\"\"\""
   ]
  },
  {
   "cell_type": "code",
   "execution_count": 6,
   "id": "6eb38e33-a415-4406-a801-e09dc68de0c9",
   "metadata": {},
   "outputs": [
    {
     "name": "stdout",
     "output_type": "stream",
     "text": [
      "The book '1984' by George Orwell has been borrowed.\n",
      "Sorry, the book '1984' is currently unavailable.\n",
      "The book 'To Kill a Mockingbird' was not borrowed.\n",
      "Is 'To Kill a Mockingbird' available? Yes\n"
     ]
    }
   ],
   "source": [
    "#17.\n",
    "class Book:\n",
    "    def __init__(self, title, author):\n",
    "        self.__title = title         \n",
    "        self.__author = author       \n",
    "        self.__is_available = True   \n",
    "\n",
    "    \n",
    "    def get_title(self):\n",
    "        return self.__title\n",
    "\n",
    "    \n",
    "    def get_author(self):\n",
    "        return self.__author\n",
    "\n",
    "\n",
    "    def is_available(self):\n",
    "        return self.__is_available\n",
    "\n",
    "    \n",
    "    def borrow(self):\n",
    "        if self.__is_available:\n",
    "            self.__is_available = False\n",
    "            print(f\"The book '{self.__title}' by {self.__author} has been borrowed.\")\n",
    "        else:\n",
    "            print(f\"Sorry, the book '{self.__title}' is currently unavailable.\")\n",
    "\n",
    "    def return_book(self):\n",
    "        if not self.__is_available:\n",
    "            self.__is_available = True\n",
    "            print(f\"The book '{self.__title}' by {self.__author} has been returned.\")\n",
    "        else:\n",
    "            print(f\"The book '{self.__title}' was not borrowed.\")\n",
    "\n",
    "\n",
    "book1 = Book(\"1984\", \"George Orwell\")\n",
    "book2 = Book(\"To Kill a Mockingbird\", \"Harper Lee\")\n",
    "\n",
    "\n",
    "book1.borrow() \n",
    "book1.borrow()\n",
    "book2.return_book() \n",
    "\n",
    "print(f\"Is 'To Kill a Mockingbird' available? {'Yes' if book2.is_available() else 'No'}\")\n"
   ]
  },
  {
   "cell_type": "code",
   "execution_count": 7,
   "id": "66555586-2905-45e0-aa1c-8ed3d035f8d5",
   "metadata": {},
   "outputs": [
    {
     "data": {
      "text/plain": [
       "'\\nEncapsulation helps you create self-contained classes that can be easily reused and extended in different parts of a program.\\nIt keeps different parts of the code separate and organized, protects data,\\nand allows for flexible design. This makes your Python programs easier to maintain, modify, and scale over time.'"
      ]
     },
     "execution_count": 7,
     "metadata": {},
     "output_type": "execute_result"
    }
   ],
   "source": [
    "#18.\n",
    "\"\"\"\n",
    "Encapsulation helps you create self-contained classes that can be easily reused and extended in different parts of a program.\n",
    "It keeps different parts of the code separate and organized, protects data,\n",
    "and allows for flexible design. This makes your Python programs easier to maintain, modify, and scale over time.\"\"\""
   ]
  },
  {
   "cell_type": "code",
   "execution_count": 8,
   "id": "15a3d1ab-b3f6-4b3c-8ed2-fa1d8cca65e6",
   "metadata": {},
   "outputs": [
    {
     "data": {
      "text/plain": [
       "'\\nInformation hiding is essential in software development because it protects data,\\nreduces complexity, promotes modularity, and enhances both maintainability and security.\\nBy controlling access to internal details, it helps create more robust and reliable software systems.'"
      ]
     },
     "execution_count": 8,
     "metadata": {},
     "output_type": "execute_result"
    }
   ],
   "source": [
    "#19.\n",
    "\"\"\"\n",
    "Information hiding is essential in software development because it protects data,\n",
    "reduces complexity, promotes modularity, and enhances both maintainability and security.\n",
    "By controlling access to internal details, it helps create more robust and reliable software systems.\"\"\"\n",
    "\n"
   ]
  },
  {
   "cell_type": "code",
   "execution_count": 9,
   "id": "06467fa7-6779-44da-b60c-a60fe1122df1",
   "metadata": {},
   "outputs": [
    {
     "name": "stdout",
     "output_type": "stream",
     "text": [
      "Name: John Doe\n",
      "Address: 123 Elm Street\n",
      "Contact Info: 555-1234\n",
      "Updated Name: Jane Doe\n",
      "Updated Address: 456 Oak Avenue\n",
      "Updated Contact Info: 555-5678\n"
     ]
    }
   ],
   "source": [
    "#20.\n",
    "class Customer:\n",
    "    def __init__(self, name, address, contact_info):\n",
    "        self.__name = name                   \n",
    "        self.__address = address            \n",
    "        self.__contact_info = contact_info   \n",
    "\n",
    "    \n",
    "    def get_name(self):\n",
    "        return self.__name\n",
    "\n",
    "\n",
    "    def set_name(self, new_name):\n",
    "        if isinstance(new_name, str) and new_name.strip():\n",
    "            self.__name = new_name\n",
    "        else:\n",
    "            print(\"Invalid name provided.\")\n",
    "\n",
    "\n",
    "    def get_address(self):\n",
    "        return self.__address\n",
    "\n",
    "    \n",
    "    def set_address(self, new_address):\n",
    "        if isinstance(new_address, str) and new_address.strip():\n",
    "            self.__address = new_address\n",
    "        else:\n",
    "            print(\"Invalid address provided.\")\n",
    "\n",
    "\n",
    "    def get_contact_info(self):\n",
    "        return self.__contact_info\n",
    "\n",
    "\n",
    "    def set_contact_info(self, new_contact_info):\n",
    "        if isinstance(new_contact_info, str) and new_contact_info.strip():\n",
    "            self.__contact_info = new_contact_info\n",
    "        else:\n",
    "            print(\"Invalid contact information provided.\")\n",
    "\n",
    "customer = Customer(\"John Doe\", \"123 Elm Street\", \"555-1234\")\n",
    "\n",
    "print(f\"Name: {customer.get_name()}\")\n",
    "print(f\"Address: {customer.get_address()}\")\n",
    "print(f\"Contact Info: {customer.get_contact_info()}\")\n",
    "\n",
    "customer.set_name(\"Jane Doe\")\n",
    "customer.set_address(\"456 Oak Avenue\")\n",
    "customer.set_contact_info(\"555-5678\")\n",
    "\n",
    "print(f\"Updated Name: {customer.get_name()}\")\n",
    "print(f\"Updated Address: {customer.get_address()}\")\n",
    "print(f\"Updated Contact Info: {customer.get_contact_info()}\")\n"
   ]
  },
  {
   "cell_type": "code",
   "execution_count": 10,
   "id": "7380459a-c00f-423d-85d6-a717b5109260",
   "metadata": {},
   "outputs": [],
   "source": [
    "#-----------------------------------------------Polymorphism----------------------------------------------------"
   ]
  },
  {
   "cell_type": "code",
   "execution_count": 1,
   "id": "1d68270d-3790-423b-9bb5-ef565db54f9e",
   "metadata": {},
   "outputs": [
    {
     "data": {
      "text/plain": [
       "'Polymorphism in Python allows objects of different classes to be treated as objects of a common superclass\\n, often through method overriding. This means that methods can have the same name but behave differently based on the object’s class.\\n'"
      ]
     },
     "execution_count": 1,
     "metadata": {},
     "output_type": "execute_result"
    }
   ],
   "source": [
    "#1.\n",
    "\"\"\"Polymorphism in Python allows objects of different classes to be treated as objects of a common superclass\n",
    ", often through method overriding. This means that methods can have the same name but behave differently based on the object’s class.\n",
    "\"\"\""
   ]
  },
  {
   "cell_type": "code",
   "execution_count": 2,
   "id": "753dd352-986b-4a84-b64e-1d8d9b5d0f36",
   "metadata": {},
   "outputs": [
    {
     "data": {
      "text/plain": [
       "\"\\nCompile-Time Polymorphism:\\nNot explicitly supported in Python as it is in some other languages.\\nIn Python, we can achieve this using default or variable-length arguments within a single method.\\n----------------------------------------------------------------\\nRuntime Polymorphism:\\nAchieved through method overriding.\\nAllows subclasses to provide specific implementations of methods defined in their superclass.\\nThe method to be executed is determined at runtime based on the object's class.\""
      ]
     },
     "execution_count": 2,
     "metadata": {},
     "output_type": "execute_result"
    }
   ],
   "source": [
    "#2.\n",
    "\"\"\"\n",
    "Compile-Time Polymorphism:\n",
    "Not explicitly supported in Python as it is in some other languages.\n",
    "In Python, we can achieve this using default or variable-length arguments within a single method.\n",
    "----------------------------------------------------------------\n",
    "Runtime Polymorphism:\n",
    "Achieved through method overriding.\n",
    "Allows subclasses to provide specific implementations of methods defined in their superclass.\n",
    "The method to be executed is determined at runtime based on the object's class.\"\"\"\n"
   ]
  },
  {
   "cell_type": "code",
   "execution_count": 4,
   "id": "74fcefeb-74d0-4e98-b7d0-b817bd34ef4d",
   "metadata": {},
   "outputs": [
    {
     "name": "stdout",
     "output_type": "stream",
     "text": [
      "The area of the shape is: 78.53981633974483\n",
      "The area of the shape is: 16\n",
      "The area of the shape is: 9.0\n"
     ]
    }
   ],
   "source": [
    "#3.\n",
    "import math\n",
    "\n",
    "class Shape:\n",
    "    def calculate_area(self):\n",
    "        raise NotImplementedError(\"Subclasses must implement this method\")\n",
    "\n",
    "class Circle(Shape):\n",
    "    def __init__(self, radius):\n",
    "        self.radius = radius\n",
    "\n",
    "    def calculate_area(self):\n",
    "        return math.pi * self.radius ** 2\n",
    "\n",
    "class Square(Shape):\n",
    "    def __init__(self, side_length):\n",
    "        self.side_length = side_length\n",
    "\n",
    "    def calculate_area(self):\n",
    "        return self.side_length ** 2\n",
    "\n",
    "class Triangle(Shape):\n",
    "    def __init__(self, base, height):\n",
    "        self.base = base\n",
    "        self.height = height\n",
    "\n",
    "    def calculate_area(self):\n",
    "        return 0.5 * self.base * self.height\n",
    "\n",
    "def print_area(shape):\n",
    "    print(f\"The area of the shape is: {shape.calculate_area()}\")\n",
    "\n",
    "circle = Circle(5)\n",
    "square = Square(4)\n",
    "triangle = Triangle(3, 6)\n",
    "\n",
    "print_area(circle)   \n",
    "print_area(square)   \n",
    "print_area(triangle)\n"
   ]
  },
  {
   "cell_type": "code",
   "execution_count": 5,
   "id": "2ae82ce0-2168-4434-8554-19bee3022e92",
   "metadata": {},
   "outputs": [
    {
     "name": "stdout",
     "output_type": "stream",
     "text": [
      "Woof!\n",
      "Meow!\n"
     ]
    }
   ],
   "source": [
    "#4.\n",
    "\"\"\"Method overriding allows a subclass to provide a specific implementation of a method that is already defined in its superclass.\"\"\"\n",
    "class Animal:\n",
    "    def speak(self):\n",
    "        return \"Some generic sound\"\n",
    "\n",
    "class Dog(Animal):\n",
    "    def speak(self):\n",
    "        return \"Woof!\"\n",
    "\n",
    "class Cat(Animal):\n",
    "    def speak(self):\n",
    "        return \"Meow!\"\n",
    "\n",
    "def animal_sound(animal):\n",
    "    print(animal.speak())\n",
    "\n",
    "dog = Dog()\n",
    "cat = Cat()\n",
    "    \n",
    "animal_sound(dog)  \n",
    "animal_sound(cat)  \n"
   ]
  },
  {
   "cell_type": "code",
   "execution_count": 9,
   "id": "f40d56c6-88ae-465e-891f-daeb3f8cb3ae",
   "metadata": {},
   "outputs": [
    {
     "name": "stdout",
     "output_type": "stream",
     "text": [
      "Woof!\n",
      "Meow!\n",
      " \n",
      "No message provided\n",
      "Hello!\n"
     ]
    }
   ],
   "source": [
    "#5.\n",
    "\"\"\"\n",
    "Polymorphism: Achieved through method overriding, allows different classes to implement the same method differently, \n",
    "and the method executed is based on the object’s class at runtime.\n",
    "\n",
    "Method Overloading: Allows multiple methods with the same name but different parameter lists. \n",
    "Python does not support traditional method overloading; instead,\n",
    "similar behavior can be implemented using default or variable-length arguments.\"\"\"\n",
    "\n",
    "\n",
    "\n",
    "\n",
    "#example 1\n",
    "class Animal:\n",
    "    def speak(self):\n",
    "        return \"Some generic sound\"\n",
    "\n",
    "class Dog(Animal):\n",
    "    def speak(self):\n",
    "        return \"Woof!\"\n",
    "\n",
    "class Cat(Animal):\n",
    "    def speak(self):\n",
    "        return \"Meow!\"\n",
    "\n",
    "def make_animal_speak(animal):\n",
    "    print(animal.speak())\n",
    "    \n",
    "\n",
    "dog = Dog()\n",
    "cat = Cat()\n",
    "\n",
    "make_animal_speak(dog)  \n",
    "make_animal_speak(cat) \n",
    "\n",
    "#----------------#\n",
    "\n",
    "\n",
    "\n",
    "print(\" \",end='\\n')\n",
    "\n",
    "\n",
    "\n",
    "#example 2\n",
    "class Printer:\n",
    "    def print_message(self, message=None):\n",
    "        if message is None:\n",
    "            print(\"No message provided\")\n",
    "        else:\n",
    "            print(message)\n",
    "\n",
    "\n",
    "printer = Printer()\n",
    "\n",
    "printer.print_message()          \n",
    "printer.print_message(\"Hello!\") \n",
    "\n",
    "\n"
   ]
  },
  {
   "cell_type": "code",
   "execution_count": 10,
   "id": "127477c3-c9f7-4613-9119-ec45afacce40",
   "metadata": {},
   "outputs": [
    {
     "name": "stdout",
     "output_type": "stream",
     "text": [
      "Woof!\n",
      "Meow!\n",
      "Tweet!\n"
     ]
    }
   ],
   "source": [
    "#6.\n",
    "class Animal:\n",
    "    def speak(self):\n",
    "        raise NotImplementedError(\"Subclasses must implement this method\")\n",
    "\n",
    "class Dog(Animal):\n",
    "    def speak(self):\n",
    "        return \"Woof!\"\n",
    "\n",
    "class Cat(Animal):\n",
    "    def speak(self):\n",
    "        return \"Meow!\"\n",
    "\n",
    "class Bird(Animal):\n",
    "    def speak(self):\n",
    "        return \"Tweet!\"\n",
    "\n",
    "def make_animal_speak(animal):\n",
    "    print(animal.speak())\n",
    "\n",
    "dog = Dog()\n",
    "cat = Cat()\n",
    "bird = Bird()\n",
    "\n",
    "\n",
    "make_animal_speak(dog)  \n",
    "make_animal_speak(cat) \n",
    "make_animal_speak(bird) \n"
   ]
  },
  {
   "cell_type": "code",
   "execution_count": 12,
   "id": "b087587e-a3c3-4e60-a0f7-91bccd23b6b2",
   "metadata": {},
   "outputs": [
    {
     "name": "stdout",
     "output_type": "stream",
     "text": [
      "Woof!\n",
      "Meow!\n",
      "Tweet!\n"
     ]
    }
   ],
   "source": [
    "#7.\n",
    "\"\"\"Abstract Classes:\n",
    "-Cannot be instantiated directly.\n",
    "-Serve as blueprints for other classes.\n",
    "-Can include abstract methods and concrete methods.\n",
    "\n",
    "Abstract Methods:\n",
    "-Declared in an abstract class without implementation.\n",
    "-Must be implemented by any subclass of the abstract class.\n",
    "\n",
    "abc Module:\n",
    "-Provides tools for defining abstract classes and methods.\n",
    "-Use the ABC class and @abstractmethod decorator to create abstract methods.\"\"\"\n",
    "\n",
    "#example\n",
    "from abc import ABC, abstractmethod\n",
    "\n",
    "class Animal(ABC):\n",
    "    @abstractmethod\n",
    "    def speak(self):\n",
    "        pass\n",
    "\n",
    "class Dog(Animal):\n",
    "    def speak(self):\n",
    "        return \"Woof!\"\n",
    "\n",
    "class Cat(Animal):\n",
    "    def speak(self):\n",
    "        return \"Meow!\"\n",
    "\n",
    "class Bird(Animal):\n",
    "    def speak(self):\n",
    "        return \"Tweet!\"\n",
    "\n",
    "def make_animal_speak(animal):\n",
    "    print(animal.speak())\n",
    "\n",
    "\n",
    "dog = Dog()\n",
    "cat = Cat()\n",
    "bird = Bird()\n",
    "\n",
    "make_animal_speak(dog)  \n",
    "make_animal_speak(cat)  \n",
    "make_animal_speak(bird) \n"
   ]
  },
  {
   "cell_type": "code",
   "execution_count": 13,
   "id": "c53cd3d7-8031-4f69-b931-bd1af7ea8548",
   "metadata": {},
   "outputs": [
    {
     "name": "stdout",
     "output_type": "stream",
     "text": [
      "The car engine roars to life!\n",
      "The bicycle's bell rings and you're ready to ride!\n",
      "The boat's motor starts and it begins to move!\n"
     ]
    }
   ],
   "source": [
    "#8.\n",
    "class Vehicle:\n",
    "    def start(self):\n",
    "        raise NotImplementedError(\"Subclasses must implement this method\")\n",
    "\n",
    "class Car(Vehicle):\n",
    "    def start(self):\n",
    "        print(\"The car engine roars to life!\")\n",
    "\n",
    "class Bicycle(Vehicle):\n",
    "    def start(self):\n",
    "        print(\"The bicycle's bell rings and you're ready to ride!\")\n",
    "\n",
    "class Boat(Vehicle):\n",
    "    def start(self):\n",
    "        print(\"The boat's motor starts and it begins to move!\")\n",
    "\n",
    "def start_vehicle(vehicle):\n",
    "    vehicle.start()\n",
    "\n",
    "\n",
    "car = Car()\n",
    "bicycle = Bicycle()\n",
    "boat = Boat()\n",
    "\n",
    "\n",
    "start_vehicle(car)      \n",
    "start_vehicle(bicycle)  \n",
    "start_vehicle(boat)     \n",
    "\n"
   ]
  },
  {
   "cell_type": "code",
   "execution_count": 14,
   "id": "c63ab1ea-880e-42eb-bc81-745a36b956e0",
   "metadata": {},
   "outputs": [
    {
     "data": {
      "text/plain": [
       "'\\n1.isinstance():\\n    It helps in verifying the type of an object at runtime and making decisions based on that type.\\n    \\n2.issubclass():\\n    It helps in verifying class hierarchies and ensuring that a class adheres to a certain inheritance structure\\n'"
      ]
     },
     "execution_count": 14,
     "metadata": {},
     "output_type": "execute_result"
    }
   ],
   "source": [
    "#9.\n",
    "\"\"\"\n",
    "1.isinstance():\n",
    "    It helps in verifying the type of an object at runtime and making decisions based on that type.\n",
    "    \n",
    "2.issubclass():\n",
    "    It helps in verifying class hierarchies and ensuring that a class adheres to a certain inheritance structure\n",
    "\"\"\""
   ]
  },
  {
   "cell_type": "code",
   "execution_count": 15,
   "id": "c37637fc-89f3-4bb6-a2e4-3f7b17bf4433",
   "metadata": {},
   "outputs": [
    {
     "data": {
      "text/plain": [
       "'\\nThe @abstractmethod decorator is used in abstract base classes to define methods that must be implemented by any subclass.\\n\\nRoles:\\n    1.Defines a Contract: Ensures that all subclasses adhere to a common interface by implementing the abstract methods.\\n    2.Prevents Instantiation: Abstract base classes with abstract methods cannot be instantiated directly,\\n    preventing objects that do not fulfill the required interface.\\n    3.Facilitates Polymorphism: Provides a uniform interface for different subclasses, allowing them to be used interchangeably.\\n'"
      ]
     },
     "execution_count": 15,
     "metadata": {},
     "output_type": "execute_result"
    }
   ],
   "source": [
    "#10.\n",
    "\"\"\"\n",
    "The @abstractmethod decorator is used in abstract base classes to define methods that must be implemented by any subclass.\n",
    "\n",
    "Roles:\n",
    "    1.Defines a Contract: Ensures that all subclasses adhere to a common interface by implementing the abstract methods.\n",
    "    2.Prevents Instantiation: Abstract base classes with abstract methods cannot be instantiated directly,\n",
    "    preventing objects that do not fulfill the required interface.\n",
    "    3.Facilitates Polymorphism: Provides a uniform interface for different subclasses, allowing them to be used interchangeably.\n",
    "\"\"\"\n",
    "    "
   ]
  },
  {
   "cell_type": "code",
   "execution_count": 3,
   "id": "abde08c5-316b-4f78-a8b3-4f2368cd23ea",
   "metadata": {},
   "outputs": [
    {
     "name": "stdout",
     "output_type": "stream",
     "text": [
      "The area of the Circle is: 78.53981633974483\n",
      "The area of the Rectangle is: 24\n",
      "The area of the Triangle is: 10.5\n"
     ]
    }
   ],
   "source": [
    "#11.\n",
    "import math\n",
    "class Shape:\n",
    "    def area(self):\n",
    "        self\n",
    "\n",
    "class Circle(Shape):\n",
    "    def __init__(self, radius):\n",
    "        self.radius = radius\n",
    "    def area(self):\n",
    "        return math.pi * (self.radius ** 2)\n",
    "\n",
    "class Rectangle(Shape):\n",
    "    def __init__(self, width, height):\n",
    "        self.width = width\n",
    "        self.height = height  \n",
    "    def area(self):\n",
    "        return self.width * self.height\n",
    "\n",
    "class Triangle(Shape):\n",
    "    def __init__(self, base, height):\n",
    "        self.base = base\n",
    "        self.height = height\n",
    "    def area(self):\n",
    "        return 0.5 * self.base * self.height\n",
    "shapes = [\n",
    "    Circle(5),\n",
    "    Rectangle(4, 6),\n",
    "    Triangle(3, 7)\n",
    "]\n",
    "for shape in shapes:\n",
    "    print(f\"The area of the {shape.__class__.__name__} is: {shape.area()}\")\n"
   ]
  },
  {
   "cell_type": "code",
   "execution_count": 4,
   "id": "b0b55c91-0fb6-4360-b626-4e7e9ddfb1ce",
   "metadata": {},
   "outputs": [
    {
     "data": {
      "text/plain": [
       "'\\npolymorphism helps you write cleaner, more adaptable code that can handle different situations without a lot of changes.\\n\\nSome of the Benefits of Polymorphism are:\\nCode Reusability,Flexibility,Cleaner Code,Interchangeability'"
      ]
     },
     "execution_count": 4,
     "metadata": {},
     "output_type": "execute_result"
    }
   ],
   "source": [
    "#12.\n",
    "\"\"\"\n",
    "polymorphism helps you write cleaner, more adaptable code that can handle different situations without a lot of changes.\n",
    "\n",
    "Some of the Benefits of Polymorphism are:\n",
    "Code Reusability,Flexibility,Cleaner Code,Interchangeability\"\"\""
   ]
  },
  {
   "cell_type": "code",
   "execution_count": 5,
   "id": "b2aa5cbd-cfc3-432f-af47-c1b289b13809",
   "metadata": {},
   "outputs": [
    {
     "data": {
      "text/plain": [
       "'\\nsuper() in Python is a powerful tool in polymorphism that allows child classes to call and\\nextend the methods of their parent classes. It ensures that the method resolution follows the correct order and promotes cleaner,\\nmore maintainable, and reusable code.'"
      ]
     },
     "execution_count": 5,
     "metadata": {},
     "output_type": "execute_result"
    }
   ],
   "source": [
    "#13.\n",
    "\"\"\"\n",
    "super() in Python is a powerful tool in polymorphism that allows child classes to call and\n",
    "extend the methods of their parent classes. It ensures that the method resolution follows the correct order and promotes cleaner,\n",
    "more maintainable, and reusable code.\"\"\"\n",
    "\n",
    "\n",
    "\n",
    "\n",
    "\n",
    "\n"
   ]
  },
  {
   "cell_type": "code",
   "execution_count": 8,
   "id": "3a48ad98-4afb-4577-97ef-e7738ab54c86",
   "metadata": {},
   "outputs": [
    {
     "name": "stdout",
     "output_type": "stream",
     "text": [
      "Withdrew 50 from savings account. New balance: 50\n",
      "Withdrew 50 from checking account. New balance: 150\n",
      "Charged 50 to credit card. New balance: 50\n"
     ]
    }
   ],
   "source": [
    "#14.\n",
    "class BankAccount:\n",
    "    def __init__(self, balance):\n",
    "        self.balance = balance\n",
    "\n",
    "    def withdraw(self, amount):\n",
    "        self\n",
    "\n",
    "class SavingsAccount(BankAccount):\n",
    "    def withdraw(self, amount):\n",
    "        if amount > self.balance:\n",
    "            print(\"Insufficient funds in savings account.\")\n",
    "        else:\n",
    "            self.balance -= amount\n",
    "            print(f\"Withdrew {amount} from savings account. New balance: {self.balance}\")\n",
    "\n",
    "class CheckingAccount(BankAccount):\n",
    "    def withdraw(self, amount):\n",
    "        self.balance -= amount\n",
    "        print(f\"Withdrew {amount} from checking account. New balance: {self.balance}\")\n",
    "\n",
    "class CreditCardAccount(BankAccount):\n",
    "    def withdraw(self, amount):\n",
    "        self.balance += amount\n",
    "        print(f\"Charged {amount} to credit card. New balance: {self.balance}\")\n",
    "\n",
    "savings = SavingsAccount(100)\n",
    "checking = CheckingAccount(200)\n",
    "credit_card = CreditCardAccount(0)\n",
    "\n",
    "# Perform withdrawal operations individually\n",
    "savings.withdraw(50)\n",
    "checking.withdraw(50)\n",
    "credit_card.withdraw(50)\n"
   ]
  },
  {
   "cell_type": "code",
   "execution_count": 9,
   "id": "21852e2a-4d46-466f-8bab-01215b42c49f",
   "metadata": {},
   "outputs": [
    {
     "data": {
      "text/plain": [
       "'\\nOperator overloading lets you define how operators like + and * work with your own classes.\\nIt’s related to polymorphism because it allows different classes to handle these operators in their own way.'"
      ]
     },
     "execution_count": 9,
     "metadata": {},
     "output_type": "execute_result"
    }
   ],
   "source": [
    "#15.\n",
    "\"\"\"\n",
    "Operator overloading lets you define how operators like + and * work with your own classes.\n",
    "It’s related to polymorphism because it allows different classes to handle these operators in their own way.\"\"\""
   ]
  },
  {
   "cell_type": "code",
   "execution_count": 10,
   "id": "7ee09823-35e2-4089-8268-85990d1997c1",
   "metadata": {},
   "outputs": [
    {
     "data": {
      "text/plain": [
       "'\\nDynamic polymorphism, also known as runtime polymorphism,\\nrefers to the ability of a program to decide at runtime which method or function to execute based on the actual type of the object.\\nIn Python, dynamic polymorphism is achieved through features like inheritance and method overriding, '"
      ]
     },
     "execution_count": 10,
     "metadata": {},
     "output_type": "execute_result"
    }
   ],
   "source": [
    "#16.\n",
    "\"\"\"\n",
    "Dynamic polymorphism, also known as runtime polymorphism,\n",
    "refers to the ability of a program to decide at runtime which method or function to execute based on the actual type of the object.\n",
    "In Python, dynamic polymorphism is achieved through features like inheritance and method overriding, \"\"\""
   ]
  },
  {
   "cell_type": "code",
   "execution_count": 11,
   "id": "5875b4fa-d29a-4970-a723-c9957bd95aeb",
   "metadata": {},
   "outputs": [
    {
     "name": "stdout",
     "output_type": "stream",
     "text": [
      "Alice's salary: $75000\n",
      "Bob's salary: $60500\n",
      "Charlie's salary: $57000\n"
     ]
    }
   ],
   "source": [
    "#17.\n",
    "class Employee:\n",
    "    def __init__(self, name):\n",
    "        self.name = name\n",
    "\n",
    "    def calculate_salary(self):\n",
    "        self\n",
    "\n",
    "class Manager(Employee):\n",
    "    def __init__(self, name, base_salary, bonus):\n",
    "        super().__init__(name)\n",
    "        self.base_salary = base_salary\n",
    "        self.bonus = bonus\n",
    "\n",
    "    def calculate_salary(self):\n",
    "        return self.base_salary + self.bonus\n",
    "\n",
    "class Developer(Employee):\n",
    "    def __init__(self, name, base_salary, overtime_hours):\n",
    "        super().__init__(name)\n",
    "        self.base_salary = base_salary\n",
    "        self.overtime_hours = overtime_hours\n",
    "\n",
    "    def calculate_salary(self):\n",
    "        overtime_pay = self.overtime_hours * 50  \n",
    "        return self.base_salary + overtime_pay\n",
    "\n",
    "class Designer(Employee):\n",
    "    def __init__(self, name, base_salary, commission):\n",
    "        super().__init__(name)\n",
    "        self.base_salary = base_salary\n",
    "        self.commission = commission\n",
    "\n",
    "    def calculate_salary(self):\n",
    "        return self.base_salary + self.commission\n",
    "\n",
    "employees = [\n",
    "    Manager(\"Alice\", 70000, 5000),\n",
    "    Developer(\"Bob\", 60000, 10),\n",
    "    Designer(\"Charlie\", 55000, 2000)\n",
    "]\n",
    "\n",
    "for employee in employees:\n",
    "    print(f\"{employee.name}'s salary: ${employee.calculate_salary()}\")\n"
   ]
  },
  {
   "cell_type": "code",
   "execution_count": 13,
   "id": "8b71b37c-ea2e-4363-b97a-7539943339fa",
   "metadata": {},
   "outputs": [
    {
     "data": {
      "text/plain": [
       "'\\n In languages like C/C++, function pointers are variables that store the address of a function,\\n Python doesn’t have function pointers per se, but it allows functions and methods to be assigned to variables, passed around,\\n and invoked.\\n \\n In Python, you can use function references to achieve polymorphism by creating\\n a mechanism that selects and executes different functions based on context or input.'"
      ]
     },
     "execution_count": 13,
     "metadata": {},
     "output_type": "execute_result"
    }
   ],
   "source": [
    "#18.\n",
    "\"\"\"\n",
    " In languages like C/C++, function pointers are variables that store the address of a function,\n",
    " Python doesn’t have function pointers per se, but it allows functions and methods to be assigned to variables, passed around,\n",
    " and invoked.\n",
    " \n",
    " In Python, you can use function references to achieve polymorphism by creating\n",
    " a mechanism that selects and executes different functions based on context or input.\"\"\"\n",
    " "
   ]
  },
  {
   "cell_type": "code",
   "execution_count": 14,
   "id": "013a08a9-ce6c-45b6-983e-9ee58f121e4d",
   "metadata": {},
   "outputs": [
    {
     "data": {
      "text/plain": [
       "'\\nIn programming, both interfaces and abstract classes are used to define a contract\\nor blueprint that classes must follow, which is fundamental to achieving polymorphism.\\n\\nDifferences:\\nAbstract classes and interfaces are tools for achieving polymorphism.\\nAbstract classes provide a partial implementation and can include both abstract and concrete methods, \\nwhile interfaces define a contract that classes must fully implement, ensuring consistent behavior across different classes.\\n\\n'"
      ]
     },
     "execution_count": 14,
     "metadata": {},
     "output_type": "execute_result"
    }
   ],
   "source": [
    "#19.\n",
    "\"\"\"\n",
    "In programming, both interfaces and abstract classes are used to define a contract\n",
    "or blueprint that classes must follow, which is fundamental to achieving polymorphism.\n",
    "\n",
    "Differences:\n",
    "Abstract classes and interfaces are tools for achieving polymorphism.\n",
    "Abstract classes provide a partial implementation and can include both abstract and concrete methods, \n",
    "while interfaces define a contract that classes must fully implement, ensuring consistent behavior across different classes.\n",
    "\n",
    "\"\"\"\n"
   ]
  },
  {
   "cell_type": "code",
   "execution_count": 15,
   "id": "843c767b-e913-4271-8134-5f137e045114",
   "metadata": {},
   "outputs": [
    {
     "name": "stdout",
     "output_type": "stream",
     "text": [
      "Mammal:\n",
      "Eating\n",
      "Sleeping\n",
      "Some generic mammal sound\n",
      "\n",
      "Bird:\n",
      "Eating\n",
      "Sleeping\n",
      "Tweet!\n",
      "\n",
      "Reptile:\n",
      "Eating\n",
      "Sleeping\n",
      "Hiss!\n",
      "\n"
     ]
    }
   ],
   "source": [
    "#20.\n",
    "class Animal:\n",
    "    def eat(self):\n",
    "        return \"Eating\"\n",
    "    def sleep(self):\n",
    "        return \"Sleeping\"\n",
    "    def make_sound(self):\n",
    "        self\n",
    "\n",
    "class Mammal(Animal):\n",
    "    def make_sound(self):\n",
    "        return \"Some generic mammal sound\"\n",
    "\n",
    "class Bird(Animal):\n",
    "    def make_sound(self):\n",
    "        return \"Tweet!\"\n",
    "\n",
    "class Reptile(Animal):\n",
    "    def make_sound(self):\n",
    "        return \"Hiss!\"\n",
    "\n",
    "def zoo_activity(animal):\n",
    "    print(f\"{animal.__class__.__name__}:\")\n",
    "    print(animal.eat())\n",
    "    print(animal.sleep())\n",
    "    print(animal.make_sound())\n",
    "    print()\n",
    "\n",
    "lion = Mammal()\n",
    "parrot = Bird()\n",
    "snake = Reptile()\n",
    "\n",
    "zoo_activity(lion)\n",
    "zoo_activity(parrot)\n",
    "zoo_activity(snake)\n"
   ]
  },
  {
   "cell_type": "code",
   "execution_count": 16,
   "id": "34cc29ea-969f-412b-bb74-7ae659988013",
   "metadata": {},
   "outputs": [],
   "source": [
    "#---------------------------------------Abstraction------------------------------------------------------------\n"
   ]
  },
  {
   "cell_type": "code",
   "execution_count": 1,
   "id": "44758122-cc1e-4234-88fb-a1ed8972424f",
   "metadata": {},
   "outputs": [
    {
     "data": {
      "text/plain": [
       "'\\nAbstraction in Python is a way to simplify things by hiding complicated details and showing only what’s necessary.\\nIt helps you work with objects without worrying about how they work inside. In Python,\\nyou can use abstract classes to set rules for what certain objects should be able to do,\\nwithout showing how they do it. This makes your code easier to understand and use.'"
      ]
     },
     "execution_count": 1,
     "metadata": {},
     "output_type": "execute_result"
    }
   ],
   "source": [
    "#1\n",
    "\"\"\"\n",
    "Abstraction in Python is a way to simplify things by hiding complicated details and showing only what’s necessary.\n",
    "It helps you work with objects without worrying about how they work inside. In Python,\n",
    "you can use abstract classes to set rules for what certain objects should be able to do,\n",
    "without showing how they do it. This makes your code easier to understand and use.\"\"\""
   ]
  },
  {
   "cell_type": "code",
   "execution_count": 2,
   "id": "8334224e-9ce8-49bf-9c0f-8ffb3e06e23b",
   "metadata": {},
   "outputs": [
    {
     "data": {
      "text/plain": [
       "'\\nAbstraction helps in:\\nMaking Code Simpler: It hides unnecessary details, so you only see what you need to work with.\\n\\nOrganizing Code Better: It breaks down complex tasks into smaller, more manageable pieces.\\n\\nReusing Code: You can create standard templates or structures that can be used in different parts of your program, saving time and effort.\\n\\nReducing Complexity: You don’t have to worry about how things work inside, just what they do.\\n\\nEasier Maintenance: It’s easier to update or fix parts of the code without affecting the whole program.'"
      ]
     },
     "execution_count": 2,
     "metadata": {},
     "output_type": "execute_result"
    }
   ],
   "source": [
    "#2.\n",
    "\"\"\"\n",
    "Abstraction helps in:\n",
    "Making Code Simpler: It hides unnecessary details, so you only see what you need to work with.\n",
    "Organizing Code Better: It breaks down complex tasks into smaller, more manageable pieces.\n",
    "Reusing Code: You can create standard templates or structures that can be used in different parts of your program, saving time and effort.\n",
    "Reducing Complexity: You don’t have to worry about how things work inside, just what they do.\n",
    "Easier Maintenance: It’s easier to update or fix parts of the code without affecting the whole program.\"\"\""
   ]
  },
  {
   "cell_type": "code",
   "execution_count": 3,
   "id": "120ce617-e524-4cc8-9b01-eb01a4cfbc70",
   "metadata": {},
   "outputs": [
    {
     "name": "stdout",
     "output_type": "stream",
     "text": [
      "Circle area: 78.53981633974483\n",
      "Rectangle area: 24\n"
     ]
    }
   ],
   "source": [
    "#3.\n",
    "from abc import ABC, abstractmethod\n",
    "import math\n",
    "\n",
    "class Shape(ABC):\n",
    "    @abstractmethod\n",
    "    def calculate_area(self):\n",
    "        pass\n",
    "\n",
    "class Circle(Shape):\n",
    "    def __init__(self, radius):\n",
    "        self.radius = radius\n",
    "    \n",
    "    def calculate_area(self):\n",
    "        return math.pi * self.radius ** 2\n",
    "\n",
    "class Rectangle(Shape):\n",
    "    def __init__(self, width, height):\n",
    "        self.width = width\n",
    "        self.height = height\n",
    "    def calculate_area(self):\n",
    "        return self.width * self.height\n",
    "\n",
    "    \n",
    "    \n",
    "    \n",
    "    \n",
    "circle = Circle(5)\n",
    "rectangle = Rectangle(4, 6)\n",
    "\n",
    "print(\"Circle area:\", circle.calculate_area())  \n",
    "print(\"Rectangle area:\", rectangle.calculate_area())  \n"
   ]
  },
  {
   "cell_type": "code",
   "execution_count": 5,
   "id": "e3f94714-77e0-43c5-a028-fa245760626c",
   "metadata": {},
   "outputs": [
    {
     "data": {
      "text/plain": [
       "\"\\nAbstract classes in Python are special classes that you can’t create objects from directly.\\nThey are used to define methods that all child classes must have, but they don't provide full implementations of these methods.\\nYou create abstract classes using the abc module and the @abstractmethod decorator\\n\""
      ]
     },
     "execution_count": 5,
     "metadata": {},
     "output_type": "execute_result"
    }
   ],
   "source": [
    "#4.\n",
    "\"\"\"\n",
    "Abstract classes in Python are special classes that you can’t create objects from directly.\n",
    "They are used to define methods that all child classes must have, but they don't provide full implementations of these methods.\n",
    "You create abstract classes using the abc module and the @abstractmethod decorator\n",
    "\"\"\""
   ]
  },
  {
   "cell_type": "code",
   "execution_count": 7,
   "id": "f2d36e70-89da-42c7-bbd8-1ba9fb135480",
   "metadata": {},
   "outputs": [
    {
     "data": {
      "text/plain": [
       "'\\nAbstract Classes:\\nCannot be used to create objects directly. They are just blueprints.\\nDefine methods that must be created in any subclass.\\nUsed to ensure certain methods are always present in subclasses\\n\\nRegular Classes:\\nCan be used to create objects.\\nProvide full implementations of methods and can be used to define specific behaviors and attributes.\\nUsed to build actual working objects \\n\\n\\nyou can use:\\nAbstract Classes: When you want to set up a common set of methods that different classes must have.\\nRegular Classes: When you want to create real objects with complete methods and attributes.'"
      ]
     },
     "execution_count": 7,
     "metadata": {},
     "output_type": "execute_result"
    }
   ],
   "source": [
    "#5.\n",
    "\"\"\"\n",
    "Abstract Classes:\n",
    "Cannot be used to create objects directly. They are just blueprints.\n",
    "Define methods that must be created in any subclass.\n",
    "Used to ensure certain methods are always present in subclasses\n",
    "\n",
    "Regular Classes:\n",
    "Can be used to create objects.\n",
    "Provide full implementations of methods and can be used to define specific behaviors and attributes.\n",
    "Used to build actual working objects \n",
    "\n",
    "\n",
    "you can use:\n",
    "Abstract Classes: When you want to set up a common set of methods that different classes must have.\n",
    "Regular Classes: When you want to create real objects with complete methods and attributes.\"\"\""
   ]
  },
  {
   "cell_type": "code",
   "execution_count": 8,
   "id": "81f9959b-0ecb-4bfc-83e4-f3431725bea2",
   "metadata": {},
   "outputs": [
    {
     "name": "stdout",
     "output_type": "stream",
     "text": [
      "Deposited $500. New balance is $500.\n",
      "Withdrew $200. New balance is $300.\n",
      "Current balance: $300\n"
     ]
    }
   ],
   "source": [
    "#6\n",
    "class BankAccount:\n",
    "    def __init__(self, account_number):\n",
    "        self._account_number = account_number\n",
    "        self.__balance = 0  \n",
    "\n",
    "    def deposit(self, amount):\n",
    "        if amount > 0:\n",
    "            self.__balance += amount\n",
    "            print(f\"Deposited ${amount}. New balance is ${self.__balance}.\")\n",
    "        else:\n",
    "            print(\"Deposit amount must be positive.\")\n",
    "\n",
    "    def withdraw(self, amount):\n",
    "        if amount > 0:\n",
    "            if amount <= self.__balance:\n",
    "                self.__balance -= amount\n",
    "                print(f\"Withdrew ${amount}. New balance is ${self.__balance}.\")\n",
    "            else:\n",
    "                print(\"Insufficient funds.\")\n",
    "        else:\n",
    "            print(\"Withdrawal amount must be positive.\")\n",
    "\n",
    "    def get_balance(self):\n",
    "        return self.__balance  \n",
    "\n",
    "# Example usage\n",
    "account = BankAccount(\"123456789\")\n",
    "account.deposit(500)\n",
    "account.withdraw(200)\n",
    "print(f\"Current balance: ${account.get_balance()}\")\n"
   ]
  },
  {
   "cell_type": "code",
   "execution_count": 9,
   "id": "6cea1182-d57f-4c9e-8d0f-58e07688466c",
   "metadata": {},
   "outputs": [
    {
     "data": {
      "text/plain": [
       "'\\nInterface classes in Python define a set of methods that other classes must implement, without providing the actual code for these methods.\\nThey ensure that different classes follow the same rules, allowing for consistent behavior and easier code management. \\n\\nInterface classes play a key role in achieving abstraction by defining a common set of methods that must be implemented by any class that \\nconforms to the interface,\\nwithout specifying how those methods are implemented\\n'"
      ]
     },
     "execution_count": 9,
     "metadata": {},
     "output_type": "execute_result"
    }
   ],
   "source": [
    "#7.\n",
    "\"\"\"\n",
    "Interface classes in Python define a set of methods that other classes must implement, without providing the actual code for these methods.\n",
    "They ensure that different classes follow the same rules, allowing for consistent behavior and easier code management. \n",
    "\n",
    "Interface classes play a key role in achieving abstraction by defining a common set of methods that must be implemented by any class that \n",
    "conforms to the interface,\n",
    "without specifying how those methods are implemented\n",
    "\"\"\"\n"
   ]
  },
  {
   "cell_type": "code",
   "execution_count": 10,
   "id": "194d7552-beb9-437c-aa36-384679d623d0",
   "metadata": {},
   "outputs": [
    {
     "name": "stdout",
     "output_type": "stream",
     "text": [
      "Dog is eating dog food.\n",
      "Dog is sleeping in its bed.\n",
      "Cat is eating cat food.\n",
      "Cat is sleeping on the couch.\n"
     ]
    }
   ],
   "source": [
    "#8.\n",
    "from abc import ABC, abstractmethod\n",
    "\n",
    "class Animal(ABC):\n",
    "    @abstractmethod\n",
    "    def eat(self):\n",
    "        pass\n",
    "\n",
    "    @abstractmethod\n",
    "    def sleep(self):\n",
    "        pass\n",
    "\n",
    "class Dog(Animal):\n",
    "    def eat(self):\n",
    "        print(\"Dog is eating dog food.\")\n",
    "\n",
    "    def sleep(self):\n",
    "        print(\"Dog is sleeping in its bed.\")\n",
    "\n",
    "class Cat(Animal):\n",
    "    def eat(self):\n",
    "        print(\"Cat is eating cat food.\")\n",
    "\n",
    "    def sleep(self):\n",
    "        print(\"Cat is sleeping on the couch.\")\n",
    "\n",
    "def describe_animal(animal):\n",
    "    animal.eat()\n",
    "    animal.sleep()\n",
    "\n",
    "dog = Dog()\n",
    "cat = Cat()\n",
    "\n",
    "describe_animal(dog)\n",
    "describe_animal(cat)\n"
   ]
  },
  {
   "cell_type": "code",
   "execution_count": 25,
   "id": "dc886c9f-45b4-490b-8533-aa6563e4aa77",
   "metadata": {},
   "outputs": [
    {
     "name": "stdout",
     "output_type": "stream",
     "text": [
      "Start the engine first.\n"
     ]
    }
   ],
   "source": [
    "#9.\n",
    "\"\"\" Encapsulation helps achieve abstraction by hiding how an object works internally and only showing the necessary methods for interaction.\n",
    "This simplifies the use of objects and reduces complexity by keeping internal details private.\n",
    "\n",
    "\"\"\"\n",
    "#example\n",
    "class Car:\n",
    "    def __init__(self):\n",
    "        self.__engine_status = 'off'\n",
    "    \n",
    "    def start(self):\n",
    "        self.__engine_status = 'on'\n",
    "    \n",
    "    def drive(self):\n",
    "        if self.__engine_status == 'on':\n",
    "            print(\"The car is driving.\")\n",
    "        else:\n",
    "            print(\"Start the engine first.\")\n",
    "            \n",
    "            \n",
    "\n",
    "car=Car()\n",
    "\n",
    "car.drive()\n",
    "\n"
   ]
  },
  {
   "cell_type": "code",
   "execution_count": 28,
   "id": "b436ffab-5ff8-41f4-ba65-b0ec055cb4f3",
   "metadata": {},
   "outputs": [
    {
     "data": {
      "text/plain": [
       "'\\nAbstract methods are a key feature of abstract classes in Python that enforce abstraction by defining methods that must be implemented by any subclass.\\n\\n\\nPurpose of Abstract Methods:\\nDefine a Contract,Promote Consistency,Encourage Modular Design\\n\\n\\nTo enforce abstract methods in Python, we have to define them in an abstract base class using the @abstractmethod decorator from the abc module.'"
      ]
     },
     "execution_count": 28,
     "metadata": {},
     "output_type": "execute_result"
    }
   ],
   "source": [
    "#10.\n",
    "\"\"\"\n",
    "Abstract methods are a key feature of abstract classes in Python that enforce abstraction by defining methods that must be implemented by any subclass.\n",
    "\n",
    "\n",
    "Purpose of Abstract Methods:\n",
    "Define a Contract,Promote Consistency,Encourage Modular Design\n",
    "\n",
    "\n",
    "To enforce abstract methods in Python, we have to define them in an abstract base class using the @abstractmethod decorator from the abc module.\"\"\""
   ]
  },
  {
   "cell_type": "code",
   "execution_count": 1,
   "id": "17b664ab-3fca-4b33-8aa7-93a66b2a4192",
   "metadata": {},
   "outputs": [
    {
     "name": "stdout",
     "output_type": "stream",
     "text": [
      "Car started.\n",
      "Car stopped.\n",
      "Bike started.\n",
      "Bike stopped.\n",
      "Truck started.\n",
      "Truck stopped.\n"
     ]
    }
   ],
   "source": [
    "#11.\n",
    "from abc import ABC, abstractmethod\n",
    "\n",
    "class Vehicle(ABC):\n",
    "\n",
    "    @abstractmethod\n",
    "    def start(self):\n",
    "        pass\n",
    "\n",
    "    @abstractmethod\n",
    "    def stop(self):\n",
    "        pass\n",
    "\n",
    "class Car(Vehicle):\n",
    "\n",
    "    def start(self):\n",
    "        print(\"Car started.\")\n",
    "\n",
    "    def stop(self):\n",
    "        print(\"Car stopped.\")\n",
    "\n",
    "class Bike(Vehicle):\n",
    "\n",
    "    def start(self):\n",
    "        print(\"Bike started.\")\n",
    "\n",
    "    def stop(self):\n",
    "        print(\"Bike stopped.\")\n",
    "\n",
    "\n",
    "class Truck(Vehicle):\n",
    "\n",
    "    def start(self):\n",
    "        print(\"Truck started.\")\n",
    "\n",
    "    def stop(self):\n",
    "        print(\"Truck stopped.\")\n",
    "\n",
    "vehicles = [Car(), Bike(), Truck()]\n",
    "\n",
    "for vehicle in vehicles:\n",
    "    vehicle.start()\n",
    "    vehicle.stop()\n"
   ]
  },
  {
   "cell_type": "code",
   "execution_count": 2,
   "id": "ae39caa0-bbe8-40f8-aa86-3a4a0a4969b0",
   "metadata": {},
   "outputs": [
    {
     "data": {
      "text/plain": [
       "'\\nAbstract properties in Python allow you to define properties in an abstract base class that must be implemented in any subclass. \\nthey work similarly to abstract methods but are used for attributes that need to be calculated or have specific logic in the subclasses,\\nYou  can define abstract properties using the @property decorator along with the @abstractmethod decorator. '"
      ]
     },
     "execution_count": 2,
     "metadata": {},
     "output_type": "execute_result"
    }
   ],
   "source": [
    "#12.\n",
    "\"\"\"\n",
    "Abstract properties in Python allow you to define properties in an abstract base class that must be implemented in any subclass. \n",
    "they work similarly to abstract methods but are used for attributes that need to be calculated or have specific logic in the subclasses,\n",
    "You  can define abstract properties using the @property decorator along with the @abstractmethod decorator. \"\"\""
   ]
  },
  {
   "cell_type": "code",
   "execution_count": 3,
   "id": "4991552e-7977-46df-b401-b2efe96220c2",
   "metadata": {},
   "outputs": [
    {
     "name": "stdout",
     "output_type": "stream",
     "text": [
      "Manager Salary: 100000\n",
      "Developer Salary: 80000\n",
      "Designer Salary: 75000\n"
     ]
    }
   ],
   "source": [
    "#13\n",
    "from abc import ABC, abstractmethod\n",
    "\n",
    "class Employee(ABC):\n",
    "\n",
    "    @abstractmethod\n",
    "    def get_salary(self):\n",
    "        pass\n",
    "\n",
    "class Manager(Employee):\n",
    "\n",
    "    def __init__(self, base_salary, bonus):\n",
    "        self.base_salary = base_salary\n",
    "        self.bonus = bonus\n",
    "\n",
    "    def get_salary(self):\n",
    "        return self.base_salary + self.bonus\n",
    "\n",
    "class Developer(Employee):\n",
    "\n",
    "    def __init__(self, base_salary, overtime_pay):\n",
    "        self.base_salary = base_salary\n",
    "        self.overtime_pay = overtime_pay\n",
    "\n",
    "    def get_salary(self):\n",
    "        return self.base_salary + self.overtime_pay\n",
    "\n",
    "class Designer(Employee):\n",
    "\n",
    "    def __init__(self, base_salary, commission):\n",
    "        self.base_salary = base_salary\n",
    "        self.commission = commission\n",
    "\n",
    "    def get_salary(self):\n",
    "        return self.base_salary + self.commission\n",
    "\n",
    "employees = [\n",
    "    Manager(base_salary=80000, bonus=20000),\n",
    "    Developer(base_salary=70000, overtime_pay=10000),\n",
    "    Designer(base_salary=60000, commission=15000)\n",
    "]\n",
    "\n",
    "for employee in employees:\n",
    "    print(f\"{employee.__class__.__name__} Salary: {employee.get_salary()}\")\n"
   ]
  },
  {
   "cell_type": "code",
   "execution_count": 4,
   "id": "4f7ede88-c248-488c-a493-fa3f6ee627ed",
   "metadata": {},
   "outputs": [
    {
     "data": {
      "text/plain": [
       "\"\\nAbstract classes in Python are like blueprints that define what methods and properties should exist,\\nbut they don't provide full details on how those methods work.\\n\\nConcrete classes,on the other hand, provide complete details for all methods and properties, \\nso you can create objects directly from them.\\n\""
      ]
     },
     "execution_count": 4,
     "metadata": {},
     "output_type": "execute_result"
    }
   ],
   "source": [
    "#14.\n",
    "\"\"\"\n",
    "Abstract classes in Python are like blueprints that define what methods and properties should exist,\n",
    "but they don't provide full details on how those methods work.\n",
    "\n",
    "Concrete classes,on the other hand, provide complete details for all methods and properties, \n",
    "so you can create objects directly from them.\n",
    "\"\"\""
   ]
  },
  {
   "cell_type": "code",
   "execution_count": 5,
   "id": "ca193c3f-942a-4949-aafe-a1b7fd20a49d",
   "metadata": {},
   "outputs": [
    {
     "data": {
      "text/plain": [
       "\"\\nAbstract Data Types (ADTs) are a way of organizing and managing data in programming by defining what operations can be performed on the data,\\nwithout specifying how these operations are implemented.\\n\\nThey help in achieving abstraction by focusing on the what rather than the how. For example,\\na list or stack is an ADT because it defines what you can do (like adding or removing items),\\nbut it doesn't dictate how these actions should be carried out internally.\""
      ]
     },
     "execution_count": 5,
     "metadata": {},
     "output_type": "execute_result"
    }
   ],
   "source": [
    "#15.\n",
    "\"\"\"\n",
    "Abstract Data Types (ADTs) are a way of organizing and managing data in programming by defining what operations can be performed on the data,\n",
    "without specifying how these operations are implemented.\n",
    "\n",
    "They help in achieving abstraction by focusing on the what rather than the how. For example,\n",
    "a list or stack is an ADT because it defines what you can do (like adding or removing items),\n",
    "but it doesn't dictate how these actions should be carried out internally.\"\"\"\n"
   ]
  },
  {
   "cell_type": "code",
   "execution_count": 6,
   "id": "38f5650c-5413-44ff-bb7e-d272f8cf6e12",
   "metadata": {},
   "outputs": [
    {
     "name": "stdout",
     "output_type": "stream",
     "text": [
      "Desktop powering on...\n",
      "Desktop shutting down...\n",
      "Laptop powering on...\n",
      "Laptop shutting down...\n",
      "Server powering on...\n",
      "Server shutting down...\n"
     ]
    }
   ],
   "source": [
    "#16.\n",
    "from abc import ABC, abstractmethod\n",
    "\n",
    "class ComputerSystem(ABC):\n",
    "\n",
    "    @abstractmethod\n",
    "    def power_on(self):\n",
    "        pass\n",
    "\n",
    "    @abstractmethod\n",
    "    def shutdown(self):\n",
    "        pass\n",
    "\n",
    "class Desktop(ComputerSystem):\n",
    "\n",
    "    def power_on(self):\n",
    "        print(\"Desktop powering on...\")\n",
    "\n",
    "    def shutdown(self):\n",
    "        print(\"Desktop shutting down...\")\n",
    "\n",
    "class Laptop(ComputerSystem):\n",
    "\n",
    "    def power_on(self):\n",
    "        print(\"Laptop powering on...\")\n",
    "\n",
    "    def shutdown(self):\n",
    "        print(\"Laptop shutting down...\")\n",
    "\n",
    "class Server(ComputerSystem):\n",
    "\n",
    "    def power_on(self):\n",
    "        print(\"Server powering on...\")\n",
    "\n",
    "    def shutdown(self):\n",
    "        print(\"Server shutting down...\")\n",
    "\n",
    "systems = [Desktop(), Laptop(), Server()]\n",
    "\n",
    "for system in systems:\n",
    "    system.power_on()\n",
    "    system.shutdown()\n"
   ]
  },
  {
   "cell_type": "code",
   "execution_count": 7,
   "id": "61f7e93a-11c2-4be2-ab5f-a8c17d3c9003",
   "metadata": {},
   "outputs": [
    {
     "data": {
      "text/plain": [
       "'\\nAbstraction in large software projects makes things simpler by letting developers focus on big ideas without worrying about all the details.\\nIt allows code to be reused and organized into smaller, manageable parts, making the project easier to work on and understand.\\n Abstraction also makes the system more flexible, as you can change parts without breaking everything.'"
      ]
     },
     "execution_count": 7,
     "metadata": {},
     "output_type": "execute_result"
    }
   ],
   "source": [
    "#17.\n",
    "\"\"\"\n",
    "Abstraction in large software projects makes things simpler by letting developers focus on big ideas without worrying about all the details.\n",
    "It allows code to be reused and organized into smaller, manageable parts, making the project easier to work on and understand.\n",
    " Abstraction also makes the system more flexible, as you can change parts without breaking everything.\"\"\""
   ]
  },
  {
   "cell_type": "code",
   "execution_count": 8,
   "id": "d64ca49a-4368-4414-b900-21811aca8bc6",
   "metadata": {},
   "outputs": [
    {
     "data": {
      "text/plain": [
       "'\\nAbstraction boosts code reusability and modularity by allowing you to define general,\\ncomponents that can be used in multiple places without rewriting code. It lets you break down complex programs into smaller,\\nindependent modules that handle specific tasks, making it easier to manage, test, and update your code.'"
      ]
     },
     "execution_count": 8,
     "metadata": {},
     "output_type": "execute_result"
    }
   ],
   "source": [
    "#18.\n",
    "\"\"\"\n",
    "Abstraction boosts code reusability and modularity by allowing you to define general,\n",
    "components that can be used in multiple places without rewriting code. It lets you break down complex programs into smaller,\n",
    "independent modules that handle specific tasks, making it easier to manage, test, and update your code.\"\"\""
   ]
  },
  {
   "cell_type": "code",
   "execution_count": 9,
   "id": "96734af7-7cbb-4a62-8d86-589642b0c769",
   "metadata": {},
   "outputs": [
    {
     "name": "stdout",
     "output_type": "stream",
     "text": [
      "Added '1984' by George Orwell.\n",
      "Borrowed '1984'.\n",
      "Returned '1984'.\n"
     ]
    }
   ],
   "source": [
    "#19.\n",
    "from abc import ABC, abstractmethod\n",
    "\n",
    "class LibrarySystem(ABC):\n",
    "\n",
    "    @abstractmethod\n",
    "    def add_book(self, title, author):\n",
    "        pass\n",
    "\n",
    "    @abstractmethod\n",
    "    def borrow_book(self, title):\n",
    "        pass\n",
    "\n",
    "    @abstractmethod\n",
    "    def return_book(self, title):\n",
    "        pass\n",
    "\n",
    "class LocalLibrary(LibrarySystem):\n",
    "\n",
    "    def __init__(self):\n",
    "        self.books = {}\n",
    "\n",
    "    def add_book(self, title, author):\n",
    "        if title in self.books:\n",
    "            print(f\"Book '{title}' already in the library.\")\n",
    "        else:\n",
    "            self.books[title] = author\n",
    "            print(f\"Added '{title}' by {author}.\")\n",
    "\n",
    "    def borrow_book(self, title):\n",
    "        if title in self.books:\n",
    "            del self.books[title]\n",
    "            print(f\"Borrowed '{title}'.\")\n",
    "        else:\n",
    "            print(f\"Book '{title}' is not available.\")\n",
    "\n",
    "    def return_book(self, title):\n",
    "        self.books[title] = \"Unknown\"\n",
    "        print(f\"Returned '{title}'.\")\n",
    "\n",
    "library = LocalLibrary()\n",
    "library.add_book(\"1984\", \"George Orwell\")\n",
    "library.borrow_book(\"1984\")\n",
    "library.return_book(\"1984\")\n"
   ]
  },
  {
   "cell_type": "code",
   "execution_count": 10,
   "id": "638f3919-39fc-4433-af6e-f5c4914149d9",
   "metadata": {},
   "outputs": [
    {
     "data": {
      "text/plain": [
       "'\\nmethod abstraction creates a blueprint for methods in a base class,\\nwhile polymorphism ensures that different classes can provide specific implementations of these methods.\\nThis combination allows for flexible and interchangeable use of objects, enhancing code reusability and maintainability.'"
      ]
     },
     "execution_count": 10,
     "metadata": {},
     "output_type": "execute_result"
    }
   ],
   "source": [
    "#20\n",
    "\"\"\"\n",
    "method abstraction creates a blueprint for methods in a base class,\n",
    "while polymorphism ensures that different classes can provide specific implementations of these methods.\n",
    "This combination allows for flexible and interchangeable use of objects, enhancing code reusability and maintainability.\"\"\""
   ]
  },
  {
   "cell_type": "code",
   "execution_count": 11,
   "id": "aa4a65f3-4012-4597-9b4a-dd140d8f6ada",
   "metadata": {},
   "outputs": [],
   "source": [
    "#---------------------------------------------Composition---------------------------------------------------------------------"
   ]
  },
  {
   "cell_type": "code",
   "execution_count": 2,
   "id": "543f6ec1-01dc-4197-8512-b896a5e487b4",
   "metadata": {},
   "outputs": [
    {
     "data": {
      "text/plain": [
       "'\\nComposition is a way to build complex objects by combining simpler ones.\\nComposition in Python lets you create more flexible and reusable code by building complex objects from simpler ones, \\nwithout needing a strict class hierarchy. This makes your code easier to manage, adapt, and extend.'"
      ]
     },
     "execution_count": 2,
     "metadata": {},
     "output_type": "execute_result"
    }
   ],
   "source": [
    "#1.\n",
    "\"\"\"\n",
    "Composition is a way to build complex objects by combining simpler ones.\n",
    "Composition in Python lets you create more flexible and reusable code by building complex objects from simpler ones, \n",
    "without needing a strict class hierarchy. This makes your code easier to manage, adapt, and extend.\"\"\"\n",
    "\n",
    "\n"
   ]
  },
  {
   "cell_type": "code",
   "execution_count": 3,
   "id": "b26ec55b-f90c-449d-95ca-bf754a5b75c6",
   "metadata": {},
   "outputs": [
    {
     "data": {
      "text/plain": [
       "'\\nComposition and inheritance are ways to relate classes in object-oriented programming.\\nComposition (\"has-a\" relationship) builds objects from other objects, offering flexibility and reusability. \\nInheritance (\"is-a\" relationship) creates specialized versions of a class, \\nbut changes in the parent class can impact all its children.'"
      ]
     },
     "execution_count": 3,
     "metadata": {},
     "output_type": "execute_result"
    }
   ],
   "source": [
    "#2.\n",
    "\"\"\"\n",
    "Composition and inheritance are ways to relate classes in object-oriented programming.\n",
    "Composition (\"has-a\" relationship) builds objects from other objects, offering flexibility and reusability. \n",
    "Inheritance (\"is-a\" relationship) creates specialized versions of a class, \n",
    "but changes in the parent class can impact all its children.\"\"\""
   ]
  },
  {
   "cell_type": "code",
   "execution_count": 4,
   "id": "5b3a5ef6-c3f2-4c2b-8716-1c8a2bb843f9",
   "metadata": {},
   "outputs": [
    {
     "name": "stdout",
     "output_type": "stream",
     "text": [
      "'Harry Potter and the Philosopher's Stone' by Author: J.K. Rowling, Born: July 31, 1965, Published in 1997\n"
     ]
    }
   ],
   "source": [
    "#3.\n",
    "from datetime import date\n",
    "\n",
    "class Author:\n",
    "    def __init__(self, name, birthdate):\n",
    "        self.name = name\n",
    "        self.birthdate = birthdate  # birthdate should be a datetime.date object\n",
    "\n",
    "    def get_details(self):\n",
    "        return f\"Author: {self.name}, Born: {self.birthdate.strftime('%B %d, %Y')}\"\n",
    "\n",
    "class Book:\n",
    "    def __init__(self, title, author: Author, publication_year):\n",
    "        self.title = title\n",
    "        self.author = author \n",
    "        self.publication_year = publication_year\n",
    "\n",
    "    def get_book_info(self):\n",
    "        author_details = self.author.get_details()\n",
    "        return f\"'{self.title}' by {author_details}, Published in {self.publication_year}\"\n",
    "\n",
    "author = Author(\"J.K. Rowling\", date(1965, 7, 31))\n",
    "book = Book(\"Harry Potter and the Philosopher's Stone\", author, 1997)\n",
    "\n",
    "print(book.get_book_info())\n"
   ]
  },
  {
   "cell_type": "code",
   "execution_count": 5,
   "id": "10bbee24-d966-41d7-a1d0-ee57058df85a",
   "metadata": {},
   "outputs": [
    {
     "data": {
      "text/plain": [
       "'\\nComposition in Python offers better flexibility and reusability compared to inheritance. \\nWith composition,\\nyou build complex objects by combining simpler parts, making it easy to change or swap components without affecting the whole system.\\nThis approach allows you to reuse parts across different objects, promoting cleaner and more maintainable code. Unlike inheritance, \\nwhich can lead to complex and rigid class hierarchies, composition avoids issues like tightly coupled classes and the diamond problem.'"
      ]
     },
     "execution_count": 5,
     "metadata": {},
     "output_type": "execute_result"
    }
   ],
   "source": [
    "#4.\n",
    "\"\"\"\n",
    "Composition in Python offers better flexibility and reusability compared to inheritance. \n",
    "With composition,\n",
    "you build complex objects by combining simpler parts, making it easy to change or swap components without affecting the whole system.\n",
    "This approach allows you to reuse parts across different objects, promoting cleaner and more maintainable code. Unlike inheritance, \n",
    "which can lead to complex and rigid class hierarchies, composition avoids issues like tightly coupled classes and the diamond problem.\"\"\""
   ]
  },
  {
   "cell_type": "code",
   "execution_count": 6,
   "id": "db7e6333-8f39-428f-a181-ecfc6546eafd",
   "metadata": {},
   "outputs": [
    {
     "data": {
      "text/plain": [
       "\"\\nTo use composition in Python,\\nyou build complex objects by combining simpler classes. \\nFor example, you might have an Engine class and a Car class where the Car class contains an instance of Engine. \\nThis way, the Car class can use the Engine class's features without inheriting from it.\\nSimilarly, you can create a Computer class with components like CPU, Memory, and HardDrive,\\nwhere each component is a separate class. This approach makes it easy to mix and match components,\\nreuse code, and keep your design flexible and manageable.\""
      ]
     },
     "execution_count": 6,
     "metadata": {},
     "output_type": "execute_result"
    }
   ],
   "source": [
    "#5.\n",
    "\"\"\"\n",
    "To use composition in Python,\n",
    "you build complex objects by combining simpler classes. \n",
    "For example, you might have an Engine class and a Car class where the Car class contains an instance of Engine. \n",
    "This way, the Car class can use the Engine class's features without inheriting from it.\n",
    "Similarly, you can create a Computer class with components like CPU, Memory, and HardDrive,\n",
    "where each component is a separate class. This approach makes it easy to mix and match components,\n",
    "reuse code, and keep your design flexible and manageable.\"\"\"\n",
    "\n"
   ]
  },
  {
   "cell_type": "code",
   "execution_count": 7,
   "id": "fd6a9863-f12e-40e1-bc1d-3ec468c59fcb",
   "metadata": {},
   "outputs": [
    {
     "name": "stdout",
     "output_type": "stream",
     "text": [
      "Playlist: My Favorites\n",
      "'Song One' by Artist A, Duration: 3m 0s\n",
      "'Song Two' by Artist B, Duration: 3m 30s\n"
     ]
    }
   ],
   "source": [
    "#6.\n",
    "class Song:\n",
    "    def __init__(self, title, artist, duration):\n",
    "        self.title = title\n",
    "        self.artist = artist\n",
    "        self.duration = duration\n",
    "    def get_song_details(self):\n",
    "        return f\"'{self.title}' by {self.artist}, Duration: {self.duration // 60}m {self.duration % 60}s\"\n",
    "\n",
    "class Playlist:\n",
    "    def __init__(self, name):\n",
    "        self.name = name\n",
    "        self.songs = [] \n",
    "\n",
    "    def add_song(self, song: Song):\n",
    "        self.songs.append(song)\n",
    "\n",
    "    def get_playlist_details(self):\n",
    "        details = [f\"Playlist: {self.name}\"]\n",
    "        for song in self.songs:\n",
    "            details.append(song.get_song_details())\n",
    "        return \"\\n\".join(details)\n",
    "\n",
    "class MusicPlayer:\n",
    "    def __init__(self):\n",
    "        self.playlists = {} \n",
    "\n",
    "    def add_playlist(self, playlist: Playlist):\n",
    "        self.playlists[playlist.name] = playlist\n",
    "\n",
    "    def play_playlist(self, playlist_name):\n",
    "        if playlist_name in self.playlists:\n",
    "            playlist = self.playlists[playlist_name]\n",
    "            print(playlist.get_playlist_details())\n",
    "        else:\n",
    "            print(f\"Playlist '{playlist_name}' not found.\")\n",
    "\n",
    "song1 = Song(\"Song One\", \"Artist A\", 180)\n",
    "song2 = Song(\"Song Two\", \"Artist B\", 210)\n",
    "\n",
    "playlist1 = Playlist(\"My Favorites\")\n",
    "playlist1.add_song(song1)\n",
    "playlist1.add_song(song2)\n",
    "\n",
    "player = MusicPlayer()\n",
    "player.add_playlist(playlist1)\n",
    "\n",
    "player.play_playlist(\"My Favorites\")\n"
   ]
  },
  {
   "cell_type": "code",
   "execution_count": 9,
   "id": "1db7edf4-3d12-410c-8bff-e47034324d0c",
   "metadata": {},
   "outputs": [
    {
     "data": {
      "text/plain": [
       "'\\nThe \"has-a\" relationship in composition helps design software systems \\nby allowing classes to contain and manage other classes as components.\\nThis approach offers flexibility,\\nreusability, and maintainability while avoiding the complexity and rigidity of inheritance hierarchies.\\n\\n'"
      ]
     },
     "execution_count": 9,
     "metadata": {},
     "output_type": "execute_result"
    }
   ],
   "source": [
    "#7.\n",
    "\"\"\"\n",
    "The \"has-a\" relationship in composition helps design software systems \n",
    "by allowing classes to contain and manage other classes as components.\n",
    "This approach offers flexibility,\n",
    "reusability, and maintainability while avoiding the complexity and rigidity of inheritance hierarchies.\n",
    "\n",
    "\"\"\""
   ]
  },
  {
   "cell_type": "code",
   "execution_count": 10,
   "id": "1aaafcb7-e3a9-4ed7-beee-c8d83d5159ef",
   "metadata": {},
   "outputs": [
    {
     "name": "stdout",
     "output_type": "stream",
     "text": [
      "Computer Specifications:\n",
      "CPU Model: Intel i7, Cores: 8, Speed: 3.6 GHz\n",
      "RAM Size: 16 GB, Speed: 3200 MHz\n",
      "Storage Type: SSD, Capacity: 512 GB\n"
     ]
    }
   ],
   "source": [
    "#8.\n",
    "class CPU:\n",
    "    def __init__(self, model, cores, speed_ghz):\n",
    "        self.model = model\n",
    "        self.cores = cores\n",
    "        self.speed_ghz = speed_ghz\n",
    "\n",
    "    def get_cpu_details(self):\n",
    "        return f\"CPU Model: {self.model}, Cores: {self.cores}, Speed: {self.speed_ghz} GHz\"\n",
    "\n",
    "class RAM:\n",
    "    def __init__(self, size_gb, speed_mhz):\n",
    "        self.size_gb = size_gb\n",
    "        self.speed_mhz = speed_mhz\n",
    "\n",
    "    def get_ram_details(self):\n",
    "        return f\"RAM Size: {self.size_gb} GB, Speed: {self.speed_mhz} MHz\"\n",
    "\n",
    "class Storage:\n",
    "    def __init__(self, type, capacity_gb):\n",
    "        self.type = type\n",
    "        self.capacity_gb = capacity_gb\n",
    "\n",
    "    def get_storage_details(self):\n",
    "        return f\"Storage Type: {self.type}, Capacity: {self.capacity_gb} GB\"\n",
    "\n",
    "class Computer:\n",
    "    def __init__(self, cpu: CPU, ram: RAM, storage: Storage):\n",
    "        self.cpu = cpu\n",
    "        self.ram = ram\n",
    "        self.storage = storage\n",
    "\n",
    "    def get_computer_details(self):\n",
    "        cpu_details = self.cpu.get_cpu_details()\n",
    "        ram_details = self.ram.get_ram_details()\n",
    "        storage_details = self.storage.get_storage_details()\n",
    "        return (f\"Computer Specifications:\\n{cpu_details}\\n{ram_details}\\n{storage_details}\")\n",
    "\n",
    "cpu = CPU(\"Intel i7\", 8, 3.6)\n",
    "ram = RAM(16, 3200)\n",
    "storage = Storage(\"SSD\", 512)\n",
    "\n",
    "computer = Computer(cpu, ram, storage)\n",
    "\n",
    "print(computer.get_computer_details())\n"
   ]
  },
  {
   "cell_type": "code",
   "execution_count": 11,
   "id": "e9090d67-3678-4146-b038-7b199ca1b4b8",
   "metadata": {},
   "outputs": [
    {
     "data": {
      "text/plain": [
       "'\\nDelegation in composition simplifies the design of complex systems by allowing objects to pass responsibilities\\nto other specialized objects. This approach promotes separation of concerns, flexibility, maintainability,\\nand reusability, making the system easier to understand and manage.'"
      ]
     },
     "execution_count": 11,
     "metadata": {},
     "output_type": "execute_result"
    }
   ],
   "source": [
    "#9.\n",
    "\"\"\"\n",
    "Delegation in composition simplifies the design of complex systems by allowing objects to pass responsibilities\n",
    "to other specialized objects. This approach promotes separation of concerns, flexibility, maintainability,\n",
    "and reusability, making the system easier to understand and manage.\"\"\""
   ]
  },
  {
   "cell_type": "code",
   "execution_count": 3,
   "id": "7f234b86-cb4f-4dc2-9732-360c961e0496",
   "metadata": {},
   "outputs": [
    {
     "name": "stdout",
     "output_type": "stream",
     "text": [
      "Engine starts with 150 horsepower.\n",
      "All 4 wheels are rotating.\n",
      "Transmission shifts to automatic.\n"
     ]
    }
   ],
   "source": [
    "#10.\n",
    "class Engine:\n",
    "    def __init__(self, horsepower):\n",
    "        self.horsepower = horsepower\n",
    "\n",
    "    def start(self):\n",
    "        return\"Engine starts with {} horsepower.\".format(self.horsepower)\n",
    "\n",
    "class Wheels:\n",
    "    def __init__(self, wheel_count):\n",
    "        self.wheel_count = wheel_count\n",
    "\n",
    "    def rotate(self):\n",
    "        return\"All {} wheels are rotating.\".format(self.wheel_count)\n",
    "\n",
    "class Transmission:\n",
    "    def __init__(self, transmission_type):\n",
    "        self.transmission_type = transmission_type\n",
    "\n",
    "    def shift(self):\n",
    "        return\"Transmission shifts to {}.\".format(self.transmission_type)\n",
    "\n",
    "\n",
    "# Car Class (uses composition)\n",
    "class Car:\n",
    "    def __init__(self, horsepower, wheel_count, transmission_type):\n",
    "        self.engine = Engine(horsepower)         # Composed object (Engine)\n",
    "        self.wheels = Wheels(wheel_count)       # Composed object (Wheels)\n",
    "        self.transmission = Transmission(transmission_type)  # Composed object (Transmission)\n",
    "\n",
    "    def drive(self):\n",
    "        return\"{}\\n{}\\n{}\".format(self.engine.start(), self.wheels.rotate(), self.transmission.shift())\n",
    "\n",
    "\n",
    "# Example usage:\n",
    "my_car = Car(150, 4,\"automatic\")\n",
    "print(my_car.drive())\n"
   ]
  },
  {
   "cell_type": "code",
   "execution_count": 4,
   "id": "aef7254c-ae41-4dd2-8a13-b6d7a97b4893",
   "metadata": {},
   "outputs": [
    {
     "data": {
      "text/plain": [
       "\"\\nEncapsulation in Python hides a class's internal details by making attributes private (using _ or __).\\nExternal access is controlled through getter and setter methods.\\n i.e:\\n 1.Using private attributes\\n 2.Providing getter and setter methods\\n \""
      ]
     },
     "execution_count": 4,
     "metadata": {},
     "output_type": "execute_result"
    }
   ],
   "source": [
    "#11\n",
    "\"\"\"\n",
    "Encapsulation in Python hides a class's internal details by making attributes private (using _ or __).\n",
    "External access is controlled through getter and setter methods.\n",
    " i.e:\n",
    " 1.Using private attributes\n",
    " 2.Providing getter and setter methods\n",
    " \"\"\"\n",
    "\n"
   ]
  },
  {
   "cell_type": "code",
   "execution_count": 5,
   "id": "787284d7-37c1-44c1-8851-2c22abc5174a",
   "metadata": {},
   "outputs": [
    {
     "name": "stdout",
     "output_type": "stream",
     "text": [
      "Course: Object-Oriented Programming\n",
      "Instructor Info: Instructor: Dr. Smith (Department: Computer Science)\n",
      "\n",
      "Students Enrolled:\n",
      "Student: Alice (ID: 101)\n",
      "Student: Bob (ID: 102)\n",
      "\n",
      "Course Materials:\n",
      "Material: Introduction to Python (Type: Book)\n",
      "Material: OOP Concepts (Type: Lecture Notes)\n"
     ]
    }
   ],
   "source": [
    "#12.\n",
    "class Student:\n",
    "    def __init__(self, name, student_id):\n",
    "        self.name = name\n",
    "        self.student_id = student_id\n",
    "\n",
    "    def get_details(self):\n",
    "        return \"Student: {} (ID: {})\".format(self.name, self.student_id)\n",
    "\n",
    "class Instructor:\n",
    "    def __init__(self, name, department):\n",
    "        self.name = name\n",
    "        self.department = department\n",
    "\n",
    "    def get_details(self):\n",
    "        return \"Instructor: {} (Department: {})\".format(self.name, self.department)\n",
    "\n",
    "class CourseMaterial:\n",
    "    def __init__(self, title, material_type):\n",
    "        self.title = title\n",
    "        self.material_type = material_type\n",
    "\n",
    "    def get_details(self):\n",
    "        return \"Material: {} (Type: {})\".format(self.title, self.material_type)\n",
    "\n",
    "\n",
    "class Course:\n",
    "    def __init__(self, course_name, instructor, students, materials):\n",
    "        self.course_name = course_name\n",
    "        self.instructor = instructor              # Composed object (Instructor)\n",
    "        self.students = students                  # Composed objects (Students - list)\n",
    "        self.materials = materials                # Composed objects (Materials - list)\n",
    "\n",
    "    def get_course_details(self):\n",
    "        course_info = \"Course: {}\\nInstructor Info: {}\\n\".format(\n",
    "            self.course_name, self.instructor.get_details()\n",
    "        )\n",
    "        \n",
    "        student_info = \"\\n\".join([student.get_details() for student in self.students])\n",
    "        material_info = \"\\n\".join([material.get_details() for material in self.materials])\n",
    "\n",
    "        return \"{}\\nStudents Enrolled:\\n{}\\n\\nCourse Materials:\\n{}\".format(\n",
    "            course_info, student_info, material_info\n",
    "        )\n",
    "\n",
    "\n",
    "instructor = Instructor(\"Dr. Smith\", \"Computer Science\")\n",
    "students = [Student(\"Alice\", 101), Student(\"Bob\", 102)]\n",
    "materials = [CourseMaterial(\"Introduction to Python\", \"Book\"), CourseMaterial(\"OOP Concepts\", \"Lecture Notes\")]\n",
    "\n",
    "course = Course(\"Object-Oriented Programming\", instructor, students, materials)\n",
    "print(course.get_course_details())\n"
   ]
  },
  {
   "cell_type": "code",
   "execution_count": 6,
   "id": "179b6f19-1fe5-4004-af05-80adb6f0d2e7",
   "metadata": {},
   "outputs": [
    {
     "data": {
      "text/plain": [
       "'\\nChallenges of composition include:\\n\\nIncreased complexity: Multiple small classes make the code harder to understand and maintain.\\nTight coupling: Objects depend on each other, so changes in one part can affect others.\\nHarder debugging: Tracking errors can be difficult due to interactions between multiple components.\\nMaintenance overhead: More classes require more effort to update or refactor.\\nInstantiation overhead: Creating objects with multiple components can slow down the process.\\nReduced reusability: Tightly coupled components limit reuse in different contexts.\\n\\n'"
      ]
     },
     "execution_count": 6,
     "metadata": {},
     "output_type": "execute_result"
    }
   ],
   "source": [
    "#13\n",
    "\"\"\"\n",
    "Challenges of composition include:\n",
    "\n",
    "Increased complexity: Multiple small classes make the code harder to understand and maintain.\n",
    "Tight coupling: Objects depend on each other, so changes in one part can affect others.\n",
    "Harder debugging: Tracking errors can be difficult due to interactions between multiple components.\n",
    "Maintenance overhead: More classes require more effort to update or refactor.\n",
    "Instantiation overhead: Creating objects with multiple components can slow down the process.\n",
    "Reduced reusability: Tightly coupled components limit reuse in different contexts.\n",
    "\n",
    "\"\"\""
   ]
  },
  {
   "cell_type": "code",
   "execution_count": 7,
   "id": "13fd765e-fd37-4a1d-8c9b-e0ef2024aa03",
   "metadata": {},
   "outputs": [
    {
     "name": "stdout",
     "output_type": "stream",
     "text": [
      "Restaurant: Good Eats\n",
      "\n",
      "Menu:\n",
      "Dish: Pizza (Price: $10.99)\n",
      "Ingredients: Flour (200g), Cheese (100g), Tomato Sauce (50g)\n",
      "Dish: Burger (Price: $7.99)\n",
      "Ingredients: Bun (1), Patty (150g), Lettuce (30g)\n"
     ]
    }
   ],
   "source": [
    "#14.\n",
    "class Ingredient:\n",
    "    def __init__(self, name, quantity):\n",
    "        self.name = name\n",
    "        self.quantity = quantity\n",
    "\n",
    "    def get_details(self):\n",
    "        return \"{} ({})\".format(self.name, self.quantity)\n",
    "\n",
    "\n",
    "class Dish:\n",
    "    def __init__(self, name, price, ingredients):\n",
    "        self.name = name\n",
    "        self.price = price\n",
    "        self.ingredients = ingredients  # List of Ingredient objects\n",
    "\n",
    "    def get_details(self):\n",
    "        ingredients_info = \", \".join([ingredient.get_details() for ingredient in self.ingredients])\n",
    "        return \"Dish: {} (Price: ${})\\nIngredients: {}\".format(self.name, self.price, ingredients_info)\n",
    "\n",
    "\n",
    "class Menu:\n",
    "    def __init__(self, name):\n",
    "        self.name = name\n",
    "        self.dishes = []  # List of Dish objects\n",
    "\n",
    "    def add_dish(self, dish):\n",
    "        self.dishes.append(dish)\n",
    "\n",
    "    def get_menu_details(self):\n",
    "        return \"\\n\".join([dish.get_details() for dish in self.dishes])\n",
    "\n",
    "\n",
    "# Restaurant Class (uses composition)\n",
    "class Restaurant:\n",
    "    def __init__(self, name, menu):\n",
    "        self.name = name\n",
    "        self.menu = menu  \n",
    "    def get_restaurant_details(self):\n",
    "        return \"Restaurant: {}\\n\\nMenu:\\n{}\".format(self.name, self.menu.get_menu_details())\n",
    "\n",
    "\n",
    "# Example usage:\n",
    "ingredients_pizza = [Ingredient(\"Flour\", \"200g\"), Ingredient(\"Cheese\", \"100g\"), Ingredient(\"Tomato Sauce\", \"50g\")]\n",
    "ingredients_burger = [Ingredient(\"Bun\", \"1\"), Ingredient(\"Patty\", \"150g\"), Ingredient(\"Lettuce\", \"30g\")]\n",
    "\n",
    "# Dishes\n",
    "pizza = Dish(\"Pizza\", 10.99, ingredients_pizza)\n",
    "burger = Dish(\"Burger\", 7.99, ingredients_burger)\n",
    "\n",
    "# Menu\n",
    "menu = Menu(\"Lunch Menu\")\n",
    "menu.add_dish(pizza)\n",
    "menu.add_dish(burger)\n",
    "\n",
    "# Restaurant\n",
    "restaurant = Restaurant(\"Good Eats\", menu)\n",
    "\n",
    "# Display restaurant details\n",
    "print(restaurant.get_restaurant_details())\n"
   ]
  },
  {
   "cell_type": "code",
   "execution_count": 8,
   "id": "a94da2be-6cf6-400a-b536-1e8441e23303",
   "metadata": {},
   "outputs": [
    {
     "data": {
      "text/plain": [
       "'\\nComposition improves code maintainability and modularity by:\\n\\nSeparation of concerns: Dividing the system into smaller, independent components.\\n\\nReusability: Reusing components like classes across different contexts.\\n\\nEasier maintenance: Updating parts of the system without affecting others.\\n\\nImproved testing: Testing individual components in isolation.\\n\\nFlexibility: Easily adding or replacing components without major changes.\\n\\nAvoiding inheritance pitfalls: Promoting loosely-coupled systems over rigid hierarchies.\\n\\n\\n'"
      ]
     },
     "execution_count": 8,
     "metadata": {},
     "output_type": "execute_result"
    }
   ],
   "source": [
    "#15.\n",
    "\"\"\"\n",
    "Composition improves code maintainability and modularity by:\n",
    "\n",
    "Separation of concerns: Dividing the system into smaller, independent components.\n",
    "\n",
    "Reusability: Reusing components like classes across different contexts.\n",
    "\n",
    "Easier maintenance: Updating parts of the system without affecting others.\n",
    "\n",
    "Improved testing: Testing individual components in isolation.\n",
    "\n",
    "Flexibility: Easily adding or replacing components without major changes.\n",
    "\n",
    "Avoiding inheritance pitfalls: Promoting loosely-coupled systems over rigid hierarchies.\n",
    "\n",
    "\n",
    "\"\"\""
   ]
  },
  {
   "cell_type": "code",
   "execution_count": 9,
   "id": "bd617ac5-f1e7-4042-a24c-8967a7b03555",
   "metadata": {},
   "outputs": [
    {
     "name": "stdout",
     "output_type": "stream",
     "text": [
      "Character: Knight\n",
      "Health: 100\n",
      "Weapon: Sword (Damage: 50)\n",
      "Armor: Shield (Defense: 30)\n",
      "\n",
      "Inventory:\n",
      "Item: Health Potion (Quantity: 3)\n",
      "Item: Apple (Quantity: 5)\n"
     ]
    }
   ],
   "source": [
    "#16.\n",
    "# Component Classes\n",
    "class Weapon:\n",
    "    def __init__(self, name, damage):\n",
    "        self.name = name\n",
    "        self.damage = damage\n",
    "\n",
    "    def get_details(self):\n",
    "        return\"Weapon: {} (Damage: {})\".format(self.name, self.damage)\n",
    "\n",
    "\n",
    "class Armor:\n",
    "    def __init__(self, name, defense):\n",
    "        self.name =name\n",
    "        self.defense =defense\n",
    "\n",
    "    def get_details(self):\n",
    "        return\"Armor: {} (Defense: {})\".format(self.name, self.defense)\n",
    "\n",
    "\n",
    "class InventoryItem:\n",
    "    def __init__(self, name, quantity):\n",
    "        self.name = name\n",
    "        self.quantity = quantity\n",
    "\n",
    "    def get_details(self):\n",
    "        return \"Item: {} (Quantity: {})\".format(self.name, self.quantity)\n",
    "\n",
    "\n",
    "# Character Class (uses composition)\n",
    "class GameCharacter:\n",
    "    def __init__(self, name, health, weapon, armor, inventory):\n",
    "        self.name =name\n",
    "        self.health =health\n",
    "        self.weapon =weapon      # Composed object (Weapon)\n",
    "        self.armor =armor        # Composed object (Armor)\n",
    "        self.inventory =inventory  # Composed objects (Inventory - list)\n",
    "\n",
    "    def get_character_details(self):\n",
    "        inventory_details = \"\\n\".join([item.get_details() for item in self.inventory])\n",
    "        return (\n",
    "            \"Character: {}\\nHealth: {}\\n{}\\n{}\\n\\nInventory:\\n{}\".format(\n",
    "                self.name, self.health, self.weapon.get_details(),\n",
    "                self.armor.get_details(), inventory_details\n",
    "            )\n",
    "        )\n",
    "\n",
    "\n",
    "# Example usage:\n",
    "# Create a weapon, armor, and inventory items\n",
    "sword = Weapon(\"Sword\", 50)\n",
    "shield = Armor(\"Shield\", 30)\n",
    "potion = InventoryItem(\"Health Potion\", 3)\n",
    "food = InventoryItem(\"Apple\", 5)\n",
    "\n",
    "# Create a game character with these attributes\n",
    "character_inventory = [potion, food]\n",
    "game_character = GameCharacter(\"Knight\", 100, sword, shield, character_inventory)\n",
    "\n",
    "# Display character details\n",
    "print(game_character.get_character_details())\n"
   ]
  },
  {
   "cell_type": "code",
   "execution_count": 10,
   "id": "ede9e52c-2f22-4156-bdbf-a46e35b12a18",
   "metadata": {},
   "outputs": [
    {
     "data": {
      "text/plain": [
       "\"\\nAggregation is a weaker form of composition where a container class has a relationship with contained objects that\\ncan exist independently of the container.\\n\\nLifetime: Contained objects' lifetimes are not strictly tied to the container's lifetime.\\nOwnership: The container does not own the contained objects; they can exist and be used elsewhere.\""
      ]
     },
     "execution_count": 10,
     "metadata": {},
     "output_type": "execute_result"
    }
   ],
   "source": [
    "#17.\n",
    "\"\"\"\n",
    "Aggregation is a weaker form of composition where a container class has a relationship with contained objects that\n",
    "can exist independently of the container.\n",
    "\n",
    "Lifetime: Contained objects' lifetimes are not strictly tied to the container's lifetime.\n",
    "Ownership: The container does not own the contained objects; they can exist and be used elsewhere.\"\"\""
   ]
  },
  {
   "cell_type": "code",
   "execution_count": 11,
   "id": "ae2ef060-3795-42e5-8675-88ef31c4b64f",
   "metadata": {},
   "outputs": [
    {
     "name": "stdout",
     "output_type": "stream",
     "text": [
      "House at 123 Elm Street\n",
      "\n",
      "Room: Living Room\n",
      "Furniture:\n",
      "Furniture: Sofa (Material: Leather)\n",
      "Furniture: Table (Material: Wood)\n",
      "Appliances:\n",
      "Appliance: Refrigerator (Power Usage: 150 watts)\n",
      "Room: Kitchen\n",
      "Furniture:\n",
      "\n",
      "Appliances:\n",
      "Appliance: Oven (Power Usage: 1200 watts)\n"
     ]
    }
   ],
   "source": [
    "#18.\n",
    "# Component Classes\n",
    "class Furniture:\n",
    "    def __init__(self, name, material):\n",
    "        self.name = name\n",
    "        self.material = material\n",
    "\n",
    "    def get_details(self):\n",
    "        return \"Furniture: {} (Material: {})\".format(self.name, self.material)\n",
    "\n",
    "\n",
    "class Appliance:\n",
    "    def __init__(self, name, power_usage):\n",
    "        self.name = name\n",
    "        self.power_usage = power_usage\n",
    "\n",
    "    def get_details(self):\n",
    "        return \"Appliance: {} (Power Usage: {} watts)\".format(self.name, self.power_usage)\n",
    "\n",
    "\n",
    "class Room:\n",
    "    def __init__(self, name):\n",
    "        self.name = name\n",
    "        self.furniture = []  # List of Furniture objects\n",
    "        self.appliances = []  # List of Appliance objects\n",
    "\n",
    "    def add_furniture(self, furniture):\n",
    "        self.furniture.append(furniture)\n",
    "\n",
    "    def add_appliance(self, appliance):\n",
    "        self.appliances.append(appliance)\n",
    "\n",
    "    def get_room_details(self):\n",
    "        furniture_details = \"\\n\".join([furniture.get_details() for furniture in self.furniture])\n",
    "        appliance_details = \"\\n\".join([appliance.get_details() for appliance in self.appliances])\n",
    "        return \"Room: {}\\nFurniture:\\n{}\\nAppliances:\\n{}\".format(\n",
    "            self.name, furniture_details, appliance_details\n",
    "        )\n",
    "\n",
    "\n",
    "class House:\n",
    "    def __init__(self, address):\n",
    "        self.address = address\n",
    "        self.rooms = []  # List of Room objects\n",
    "\n",
    "    def add_room(self, room):\n",
    "        self.rooms.append(room)\n",
    "\n",
    "    def get_house_details(self):\n",
    "        room_details = \"\\n\".join([room.get_room_details() for room in self.rooms])\n",
    "        return \"House at {}\\n\\n{}\".format(self.address, room_details)\n",
    "\n",
    "\n",
    "# Example usage:\n",
    "# Create furniture and appliances\n",
    "sofa = Furniture(\"Sofa\", \"Leather\")\n",
    "table = Furniture(\"Table\", \"Wood\")\n",
    "fridge = Appliance(\"Refrigerator\", 150)\n",
    "oven = Appliance(\"Oven\", 1200)\n",
    "\n",
    "living_room = Room(\"Living Room\")\n",
    "living_room.add_furniture(sofa)\n",
    "living_room.add_furniture(table)\n",
    "living_room.add_appliance(fridge)\n",
    "\n",
    "kitchen = Room(\"Kitchen\")\n",
    "kitchen.add_appliance(oven)\n",
    "\n",
    "# Create a house and add rooms\n",
    "house = House(\"123 Elm Street\")\n",
    "house.add_room(living_room)\n",
    "house.add_room(kitchen)\n",
    "\n",
    "# Display house details\n",
    "print(house.get_house_details())\n"
   ]
  },
  {
   "cell_type": "code",
   "execution_count": 12,
   "id": "88c20719-6916-415e-98bd-04e02e0f3440",
   "metadata": {},
   "outputs": [
    {
     "data": {
      "text/plain": [
       "'\\nTo allow composed objects to be replaced or modified dynamically:\\n\\nDependency Injection: Pass dependencies into a class rather than creating them inside.\\nFactory Patterns: Use factories to create instances, enabling easy replacement.\\nStrategy Pattern: Encapsulate algorithms or behaviors and switch them dynamically.\\nDynamic Composition: Use mutable structures to replace or modify objects at runtime.'"
      ]
     },
     "execution_count": 12,
     "metadata": {},
     "output_type": "execute_result"
    }
   ],
   "source": [
    "#19.\n",
    "\"\"\"\n",
    "To allow composed objects to be replaced or modified dynamically:\n",
    "\n",
    "Dependency Injection: Pass dependencies into a class rather than creating them inside.\n",
    "Factory Patterns: Use factories to create instances, enabling easy replacement.\n",
    "Strategy Pattern: Encapsulate algorithms or behaviors and switch them dynamically.\n",
    "Dynamic Composition: Use mutable structures to replace or modify objects at runtime.\"\"\""
   ]
  },
  {
   "cell_type": "code",
   "execution_count": 13,
   "id": "63f6c2db-a142-4e31-988c-4e7a98e83bf0",
   "metadata": {},
   "outputs": [
    {
     "name": "stdout",
     "output_type": "stream",
     "text": [
      "User: alice\n",
      "\n",
      "Posts:\n",
      "alice: This is Alice's first post!\n",
      "Comments:\n",
      "bob: Great post, Alice!\n",
      "\n",
      "alice: Another day, another post.\n",
      "Comments:\n",
      "\n"
     ]
    }
   ],
   "source": [
    "#20.\n",
    "# Component Classes\n",
    "class Comment:\n",
    "    def __init__(self, user, content):\n",
    "        self.user =user  # User who made the comment\n",
    "        self.content =content\n",
    "\n",
    "    def get_details(self):\n",
    "        return\"{}: {}\".format(self.user.username, self.content)\n",
    "\n",
    "\n",
    "class Post:\n",
    "    def __init__(self, user, content):\n",
    "        self.user = user  # User who made the post\n",
    "        self.content = content\n",
    "        self.comments = []  # List of Comment objects\n",
    "\n",
    "    def add_comment(self, comment):\n",
    "        self.comments.append(comment)\n",
    "\n",
    "    def get_post_details(self):\n",
    "        comments_details=\"\\n\".join([comment.get_details() for comment in self.comments])\n",
    "        return\"{}: {}\\nComments:\\n{}\".format(\n",
    "            self.user.username, self.content, comments_details\n",
    "        )\n",
    "\n",
    "\n",
    "class User:\n",
    "    def __init__(self, username):\n",
    "        self.username = username\n",
    "        self.posts = []  # List of Post objects\n",
    "\n",
    "    def create_post(self, content):\n",
    "        post = Post(self, content)\n",
    "        self.posts.append(post)\n",
    "        return post\n",
    "\n",
    "    def get_user_details(self):\n",
    "        posts_details=\"\\n\\n\".join([post.get_post_details() for post in self.posts])\n",
    "        return \"User: {}\\n\\nPosts:\\n{}\".format(self.username, posts_details)\n",
    "\n",
    "\n",
    "# Example usage:\n",
    "# Create users\n",
    "user1 = User(\"alice\")\n",
    "user2 = User(\"bob\")\n",
    "\n",
    "# User1 creates a post\n",
    "post1 = user1.create_post(\"This is Alice's first post!\")\n",
    "# User2 comments on Alice's post\n",
    "comment1 = Comment(user2, \"Great post, Alice!\")\n",
    "post1.add_comment(comment1)\n",
    "\n",
    "# User1 creates another post\n",
    "post2 = user1.create_post(\"Another day, another post.\")\n",
    "\n",
    "# Display user details\n",
    "print(user1.get_user_details())\n"
   ]
  },
  {
   "cell_type": "code",
   "execution_count": null,
   "id": "7f09949b-c5ea-402b-a314-054c8fff8c85",
   "metadata": {},
   "outputs": [],
   "source": []
  }
 ],
 "metadata": {
  "kernelspec": {
   "display_name": "Python 3 (ipykernel)",
   "language": "python",
   "name": "python3"
  },
  "language_info": {
   "codemirror_mode": {
    "name": "ipython",
    "version": 3
   },
   "file_extension": ".py",
   "mimetype": "text/x-python",
   "name": "python",
   "nbconvert_exporter": "python",
   "pygments_lexer": "ipython3",
   "version": "3.10.8"
  }
 },
 "nbformat": 4,
 "nbformat_minor": 5
}
