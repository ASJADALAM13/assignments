{
 "cells": [
  {
   "cell_type": "code",
   "execution_count": 26,
   "id": "13d66d6a-454f-427b-b5a9-c19279ef0a7f",
   "metadata": {},
   "outputs": [
    {
     "name": "stdout",
     "output_type": "stream",
     "text": [
      "Duplicate element: True\n"
     ]
    }
   ],
   "source": [
    "#1.\n",
    "arr = [1,2,4,5,2,9]\n",
    "l=len(arr)\n",
    "dup=False #First initialize a dup variable with false\n",
    "for i in range(l):#outer for loop\n",
    "    for j in range(i+1,l):#inner loop\n",
    "        if arr[i]==arr[j]: #If there will be any duplicate element the dup becomes True\n",
    "            dup=True\n",
    "if dup:\n",
    "    print(\"Duplicate element:\",True)\n",
    "else:\n",
    "    print(\"Duplicate element:\",False)"
   ]
  },
  {
   "cell_type": "code",
   "execution_count": 19,
   "id": "2d76f2b6-15d3-4498-a6e7-d531123bba8c",
   "metadata": {},
   "outputs": [
    {
     "name": "stdout",
     "output_type": "stream",
     "text": [
      "[5, 6, 7, 1, 2, 3, 4]\n"
     ]
    }
   ],
   "source": [
    "#2.\n",
    "arr = [1, 2, 3, 4, 5, 6, 7]\n",
    "k = 3\n",
    "#arr[-k:] means only -k index element,arr[:-k] means all the elements except -k index element\n",
    "\n",
    "rotated_array=arr[-k:]+arr[:-k]\n",
    "#arr[-1:]=7+arr[:-1]=[1,2,3,4,5,6]\n",
    "#and so,\n",
    "print(rotated_array)\n"
   ]
  },
  {
   "cell_type": "code",
   "execution_count": 33,
   "id": "f6be0fb7-85c5-4535-945f-43cb3a1b2062",
   "metadata": {},
   "outputs": [
    {
     "name": "stdout",
     "output_type": "stream",
     "text": [
      "[12, 4, 5, 7, 9, 2]\n"
     ]
    }
   ],
   "source": [
    "#3.\n",
    "arr=[2, 4, 5, 7, 9, 12]\n",
    "l=len(arr)-1\n",
    "for i in range(l+1//2): #here i have stared a loop till half of length of arr.\n",
    "    arr[i],arr[l-i]=arr[l-i],arr[i] #without creating any extra data structure \n",
    "#The array is rotated\n",
    "print(arr)"
   ]
  },
  {
   "cell_type": "code",
   "execution_count": 35,
   "id": "c6452cc5-306a-44a8-9053-a7c72b483f01",
   "metadata": {},
   "outputs": [
    {
     "name": "stdout",
     "output_type": "stream",
     "text": [
      "The maximum element is: 20\n"
     ]
    }
   ],
   "source": [
    "#4.\n",
    "arr = [10, 5, 20, 8, 15]\n",
    "mx=arr[0] #initializing a mx varaible with first element of array\n",
    "l=len(arr)\n",
    "for i in arr:\n",
    "    if i>mx:\n",
    "        mx=i\n",
    "print(\"The maximum element is:\",mx) "
   ]
  },
  {
   "cell_type": "code",
   "execution_count": 57,
   "id": "c4820f3e-996e-478b-948a-ff6aac6611f2",
   "metadata": {},
   "outputs": [
    {
     "name": "stdout",
     "output_type": "stream",
     "text": [
      "[1, 2, 3, 4, 5]\n"
     ]
    }
   ],
   "source": [
    "#5.\n",
    "arr = [1, 1, 2, 2, 2, 3, 3, 4, 4, 4, 5, 5]\n",
    "l = len(arr)\n",
    "i=l-1 #last element index\n",
    "while i>0:                \n",
    "    if arr[i]==arr[i-1]: #element at index i,element at index i-1\n",
    "        arr.pop(i) #removes if duplicate\n",
    "    i=i-1\n",
    "print(arr)"
   ]
  },
  {
   "cell_type": "code",
   "execution_count": null,
   "id": "c53c7ce4-313b-41d1-be41-cd70b7e94dd5",
   "metadata": {},
   "outputs": [],
   "source": []
  },
  {
   "cell_type": "code",
   "execution_count": null,
   "id": "7c051139-b2f6-4728-a135-88a157e98ace",
   "metadata": {},
   "outputs": [],
   "source": []
  }
 ],
 "metadata": {
  "kernelspec": {
   "display_name": "Python 3 (ipykernel)",
   "language": "python",
   "name": "python3"
  },
  "language_info": {
   "codemirror_mode": {
    "name": "ipython",
    "version": 3
   },
   "file_extension": ".py",
   "mimetype": "text/x-python",
   "name": "python",
   "nbconvert_exporter": "python",
   "pygments_lexer": "ipython3",
   "version": "3.10.8"
  }
 },
 "nbformat": 4,
 "nbformat_minor": 5
}
