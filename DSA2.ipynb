{
 "cells": [
  {
   "cell_type": "code",
   "execution_count": 2,
   "id": "60e13992-afee-4e41-b8d2-4f8017b7acae",
   "metadata": {},
   "outputs": [],
   "source": [
    "#1.\n",
    "def reverse_linked_list(head):\n",
    "    prev = None\n",
    "    current = head\n",
    "    while current:\n",
    "        next_node = current.next\n",
    "        current.next = prev\n",
    "        prev = current\n",
    "        current = next_node\n",
    "    return prev\n"
   ]
  },
  {
   "cell_type": "code",
   "execution_count": 4,
   "id": "ed841e14-a2a9-4a58-b556-6dc26cb81e34",
   "metadata": {},
   "outputs": [],
   "source": [
    "#2.\n",
    "def merge_sorted_lists(l1, l2):\n",
    "    dummy = ListNode(0)\n",
    "    current = dummy\n",
    "    while l1 and l2:\n",
    "        if l1.data < l2.data:\n",
    "            current.next = l1\n",
    "            l1 = l1.next\n",
    "        else:\n",
    "            current.next = l2\n",
    "            l2 = l2.next\n",
    "        current = current.next\n",
    "    current.next = l1 or l2\n",
    "    return dummy.next\n"
   ]
  },
  {
   "cell_type": "code",
   "execution_count": 6,
   "id": "269e421e-736a-4ed0-9fcc-ba88119de669",
   "metadata": {},
   "outputs": [],
   "source": [
    "#3.\n",
    "def remove_nth_from_end(head, n):\n",
    "    dummy = ListNode(0)\n",
    "    dummy.next = head\n",
    "    fast = slow = dummy\n",
    "    for _ in range(n + 1):\n",
    "        fast = fast.next\n",
    "    while fast:\n",
    "        fast, slow = fast.next, slow.next\n",
    "    slow.next = slow.next.next\n",
    "    return dummy.next\n"
   ]
  },
  {
   "cell_type": "code",
   "execution_count": 8,
   "id": "0347f3c9-4889-40fb-b296-05373ef5ce2b",
   "metadata": {},
   "outputs": [],
   "source": [
    "#4.\n",
    "def get_intersection_node(headA, headB):\n",
    "    if not headA or not headB:\n",
    "        return None\n",
    "    a, b = headA, headB\n",
    "    while a != b:\n",
    "        a = a.next if a else headB\n",
    "        b = b.next if b else headA\n",
    "    return a\n"
   ]
  },
  {
   "cell_type": "code",
   "execution_count": 12,
   "id": "8dc267df-7a1a-4d15-a594-8df4ec1b3a7b",
   "metadata": {},
   "outputs": [],
   "source": [
    "#5.\n",
    "def remove_duplicates(head):\n",
    "    current = head\n",
    "    while current and current.next:\n",
    "        if current.data == current.next.data:\n",
    "            current.next = current.next.next\n",
    "        else:\n",
    "            current = current.next\n",
    "    return head\n"
   ]
  },
  {
   "cell_type": "code",
   "execution_count": 14,
   "id": "6c732522-150a-4232-aa05-5932911b44b3",
   "metadata": {},
   "outputs": [],
   "source": [
    "#6.\n",
    "def add_two_numbers(l1, l2):\n",
    "    dummy = ListNode(0)\n",
    "    current, carry = dummy, 0\n",
    "    while l1 or l2 or carry:\n",
    "        sum_value = (l1.data if l1 else 0) + (l2.data if l2 else 0) + carry\n",
    "        carry, val = divmod(sum_value, 10)\n",
    "        current.next = ListNode(val)\n",
    "        current = current.next\n",
    "        l1 = l1.next if l1 else None\n",
    "        l2 = l2.next if l2 else None\n",
    "    return dummy.next\n"
   ]
  },
  {
   "cell_type": "code",
   "execution_count": 16,
   "id": "f1eb2fbb-3c9a-4300-bc87-fa9989e20b96",
   "metadata": {},
   "outputs": [],
   "source": [
    "#7.\n",
    "def swap_pairs(head):\n",
    "    dummy = ListNode(0)\n",
    "    dummy.next = head\n",
    "    prev, current = dummy, head\n",
    "    while current and current.next:\n",
    "        next_pair = current.next.next\n",
    "        second = current.next\n",
    "        second.next = current\n",
    "        current.next = next_pair\n",
    "        prev.next = second\n",
    "        prev = current\n",
    "        current = next_pair\n",
    "    return dummy.next\n"
   ]
  },
  {
   "cell_type": "code",
   "execution_count": 18,
   "id": "d019a84b-a6be-49ad-871e-b61881ab37fa",
   "metadata": {},
   "outputs": [],
   "source": [
    "#8.\n",
    "def reverse_k_group(head, k):\n",
    "    def reverse(head, k):\n",
    "        prev, curr = None, head\n",
    "        for _ in range(k):\n",
    "            if not curr:\n",
    "                return head\n",
    "            curr = curr.next\n",
    "        curr, prev = head, None\n",
    "        for _ in range(k):\n",
    "            next_node = curr.next\n",
    "            curr.next = prev\n",
    "            prev = curr\n",
    "            curr = next_node\n",
    "        head.next = reverse_k_group(curr, k)\n",
    "        return prev\n",
    "    return reverse(head, k)\n"
   ]
  },
  {
   "cell_type": "code",
   "execution_count": null,
   "id": "ed27f581-7aed-47c1-8ba5-19ee99ff6d19",
   "metadata": {},
   "outputs": [],
   "source": []
  }
 ],
 "metadata": {
  "kernelspec": {
   "display_name": "Python 3 (ipykernel)",
   "language": "python",
   "name": "python3"
  },
  "language_info": {
   "codemirror_mode": {
    "name": "ipython",
    "version": 3
   },
   "file_extension": ".py",
   "mimetype": "text/x-python",
   "name": "python",
   "nbconvert_exporter": "python",
   "pygments_lexer": "ipython3",
   "version": "3.12.4"
  }
 },
 "nbformat": 4,
 "nbformat_minor": 5
}
