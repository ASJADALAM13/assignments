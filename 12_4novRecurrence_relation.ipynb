{
 "cells": [
  {
   "cell_type": "code",
   "execution_count": 1,
   "id": "6577b089-7deb-4ed4-a1ac-e61dc68245a8",
   "metadata": {},
   "outputs": [
    {
     "data": {
      "text/plain": [
       "'Given:\\nT(n)=3T(n-1)+12n\\nT(0)=5\\n\\nFor finding the value of T(2) we have to work through the recurrence relation from T(1) to T(2)\\n\\nT(n)=3T(n-1)+12n\\ntherefore\\n\\nT(1)=3T(1-1)+12*1\\n\\nT(1) = 3T(0) + 12(1) = 3 * 5 + 12 = 15 + 12 = 27\\nT(2) = 3T(1) + 12(2) = 3 * 27 + 12 * 2 = 81 + 24 = 105\\n\\nTherefore, T(2) = 105 for the given recurrence relation.\\n'"
      ]
     },
     "execution_count": 1,
     "metadata": {},
     "output_type": "execute_result"
    }
   ],
   "source": [
    "#1.\n",
    "\"\"\"Given:\n",
    "T(n)=3T(n-1)+12n\n",
    "T(0)=5\n",
    "\n",
    "For finding the value of T(2) we have to work through the recurrence relation from T(1) to T(2)\n",
    "\n",
    "T(n)=3T(n-1)+12n\n",
    "therefore\n",
    "\n",
    "T(1)=3T(1-1)+12*1\n",
    "\n",
    "T(1) = 3T(0) + 12(1) = 3 * 5 + 12 = 15 + 12 = 27\n",
    "T(2) = 3T(1) + 12(2) = 3 * 27 + 12 * 2 = 81 + 24 = 105\n",
    "\n",
    "Therefore, T(2) = 105 for the given recurrence relation.\n",
    "\"\"\""
   ]
  },
  {
   "cell_type": "code",
   "execution_count": 2,
   "id": "391a8249-1339-4966-98ad-88cee14ec053",
   "metadata": {},
   "outputs": [
    {
     "data": {
      "text/plain": [
       "'2. Solving Recurrence Relations using Substitution Method:'"
      ]
     },
     "execution_count": 2,
     "metadata": {},
     "output_type": "execute_result"
    }
   ],
   "source": [
    "#2.\n",
    "\"\"\"2. Solving Recurrence Relations using Substitution Method:\"\"\"\n"
   ]
  },
  {
   "cell_type": "code",
   "execution_count": 3,
   "id": "05410171-9915-4404-a182-dfad2a69b056",
   "metadata": {},
   "outputs": [
    {
     "data": {
      "text/plain": [
       "'a. T(n) = T(n-1) + c\\n\\nsolution:\\nT(n) = T(n-1) + c\\nT(n-1) = T(n-2) + c\\nT(n-2) = T(n-3) + c\\n\\n\\nBy substituiton:\\nT(n) = T(n-2) + 2c\\n= T(n-3) + 3c\\n=>T(n)= T(n-k) + kc ----i)\\n\\nIf we assume the base case is T(1) = 1,then\\nlet n-k=1 =>k=n-1\\n\\ntherefore T(n)=(n-(n-1))+(n-1)*c   [putting the value of k in i]\\n=>T(n)=T(1)+(n-1)*c\\n=1+(n-1)*c  [since,t(1)=1 assumption]\\n\\ntherefore, Time complexity is O(N)\\n'"
      ]
     },
     "execution_count": 3,
     "metadata": {},
     "output_type": "execute_result"
    }
   ],
   "source": [
    "#2.a\n",
    "\"\"\"a. \n",
    "T(n) = T(n-1) + c--i)\n",
    "\n",
    "solution:\n",
    "T(n) = T(n-1) + c\n",
    "T(n-1) = T(n-2) + c\n",
    "T(n-2) = T(n-3) + c\n",
    "\n",
    "\n",
    "By substituiton on i:\n",
    "T(n) = T(n-2) + 2c\n",
    "= T(n-3) + 3c\n",
    "=>T(n)= T(n-k) + kc ----ii)\n",
    "\n",
    "If we assume the base case is T(1) = 1,then\n",
    "let n-k=1 =>k=n-1\n",
    "\n",
    "therefore T(n)=(n-(n-1))+(n-1)*c   [putting the value of k in ii]\n",
    "=>T(n)=T(1)+(n-1)*c\n",
    "=1+(n-1)*c  [since,t(1)=1 assumption]\n",
    "\n",
    "therefore, Time complexity is O(n)\n",
    "\"\"\""
   ]
  },
  {
   "cell_type": "code",
   "execution_count": 4,
   "id": "30a8d267-5974-4a12-97a7-892d751c493c",
   "metadata": {},
   "outputs": [
    {
     "data": {
      "text/plain": [
       "' b.\\nT(n) = 2T(n/2) + n-i)\\n\\nsolution:\\nT(n)=2T(n/2)+n\\nT(n/2)=2T(n/4)+n/2\\nT(n/4)=2T(n/8)+n/4\\n\\nOn substitution in i)\\nT(n)=2T(n/2)+n\\n=>T(n)=2*[2T(n/4)+n/2]+n\\n=>T(n)=2^2(T(n/2^2))+2n \\n\\nagain substtiuing value of T(n/4) we get,\\n=>2^3(T(n/2^3))+3*n\\n\\nultimately,\\nT(n)=2^kT(n/2^k)+k*n ---ii)\\n\\nassumption: T(n)=1 when n=1\\n\\nwhen n=1 => n/2^k=1\\n=>n=2^k\\n\\nby apllying log on both sides:\\n=>logn=log2k (base-2)\\n=>logn=k\\n\\nputting values in t(n) i.e in ii),\\nT(n)=n*T(n/n)+k*n [since, 2^k=n]\\n=>n*T(1)+logn*n\\n\\nTime complexity is O(n*logn)'"
      ]
     },
     "execution_count": 4,
     "metadata": {},
     "output_type": "execute_result"
    }
   ],
   "source": [
    "#2.b\n",
    "\"\"\" b.\n",
    "T(n) = 2T(n/2) + n-i)\n",
    "\n",
    "solution:\n",
    "T(n)=2T(n/2)+n\n",
    "T(n/2)=2T(n/4)+n/2\n",
    "T(n/4)=2T(n/8)+n/4\n",
    "\n",
    "On substitution in i)\n",
    "T(n)=2T(n/2)+n\n",
    "=>T(n)=2*[2T(n/4)+n/2]+n\n",
    "=>T(n)=2^2(T(n/2^2))+2n \n",
    "\n",
    "again substtiuing value of T(n/4) we get,\n",
    "=>2^3(T(n/2^3))+3*n\n",
    "\n",
    "ultimately,\n",
    "T(n)=2^kT(n/2^k)+k*n ---ii)\n",
    "\n",
    "assumption: T(n)=1 when n=1\n",
    "\n",
    "when n=1 =>\n",
    "let, n/2^k=1\n",
    "=>n=2^k\n",
    "\n",
    "by applying log on both sides:\n",
    "=>logn=log2^k (base-2)\n",
    "=>logn=k\n",
    "\n",
    "putting values in T(n) i.e in ii),\n",
    "T(n)=n*T(n/n)+k*n [since, 2^k=n and logn=k and T(1)=1]\n",
    "=>n*T(1)+logn*n\n",
    "=>n+logn*n\n",
    "Time complexity is O(n*logn)\"\"\""
   ]
  },
  {
   "cell_type": "code",
   "execution_count": 5,
   "id": "4b4cba8b-39c9-4bd1-a2dc-c90b61ca6828",
   "metadata": {},
   "outputs": [
    {
     "data": {
      "text/plain": [
       "'\\nc. T(n) = 2T(n/2) + c\\n\\nsolution:\\nT(n)=2T(n/2)+c --i)\\nT(n/2)=2T(n/4)+c\\nT(n/4)=2T(n/8)+c\\n\\non substituion:\\nT(n)=2^2(T(n/2^2)+3c [substituting value of T(n/2) in T(n)]\\nagain,\\nT(n)=2^3T(n/2^3)+7c  [substituting value of T(n/4) in T(n)]\\nor by observing we can say,\\nT(n)=2^3(T(n/2^3))+(2^3-1)*c\\n\\n\\nultimately repeating k times:\\nT(n)=2^kT(n/2^k)+(2^k-1)*c --ii)\\n\\n\\nassumption: T(n)=1 when n=1\\nwhen n=1 =>\\nlet, n/2^k=1\\n=>n=2^k\\n\\nputting in T(n) i.e in ii):\\nwe get,\\nT(n)=n*T(n/n)+(n-1)*c [since,2^k=n and T(1)=1]\\n=>T(n)=n+(n-1)*c\\n\\n\\nTherefore time complexity is O(n).'"
      ]
     },
     "execution_count": 5,
     "metadata": {},
     "output_type": "execute_result"
    }
   ],
   "source": [
    "#2.c\n",
    "\"\"\"\n",
    "c. T(n) = 2T(n/2) + c\n",
    "\n",
    "solution:\n",
    "T(n)=2T(n/2)+c --i)\n",
    "T(n/2)=2T(n/4)+c\n",
    "T(n/4)=2T(n/8)+c\n",
    "\n",
    "on substituion:\n",
    "T(n)=2^2(T(n/2^2)+3c [substituting value of T(n/2) in T(n)]\n",
    "again,\n",
    "T(n)=2^3T(n/2^3)+7c  [substituting value of T(n/4) in T(n)]\n",
    "or by observing we can say,\n",
    "T(n)=2^3(T(n/2^3))+(2^3-1)*c\n",
    "\n",
    "\n",
    "ultimately repeating k times:\n",
    "T(n)=2^kT(n/2^k)+(2^k-1)*c --ii)\n",
    "\n",
    "\n",
    "assumption: T(n)=1 when n=1\n",
    "when n=1 =>\n",
    "let, n/2^k=1\n",
    "=>n=2^k\n",
    "\n",
    "putting in T(n) i.e in ii):\n",
    "we get,\n",
    "T(n)=n*T(n/n)+(n-1)*c [since,2^k=n and T(1)=1]\n",
    "=>T(n)=n+(n-1)*c\n",
    "\n",
    "\n",
    "Therefore time complexity is O(n).\"\"\""
   ]
  },
  {
   "cell_type": "code",
   "execution_count": 6,
   "id": "d46c2890-aace-4411-9caf-9d80e8733a3a",
   "metadata": {},
   "outputs": [
    {
     "data": {
      "text/plain": [
       "'d.T(n) = T(n/2) + c\\n\\nT(n)=T(n/2)+c --i)\\nT(n/2)=T(n/4)+c\\nT(n/4)=T(n/8)+c\\n\\non substituion:\\nT(n)=T(n/2^3)+3c\\nrepeating k times,\\nultimately we get,\\n\\nT(n)=T(n/2^k)+K*c\\n\\nassumption T(n)=1 when n=1\\n\\nlet,\\nn/2^k=1\\n=>n=2^k\\n\\non applying log on both sides:\\n we get,\\n logn=k\\n \\nputting values in T(n) \\nT(n)=T(n/n)+logn*c\\nT(n)=1+logn*c\\n\\ntherefore time complexity is O(logn)'"
      ]
     },
     "execution_count": 6,
     "metadata": {},
     "output_type": "execute_result"
    }
   ],
   "source": [
    "#2.d\n",
    "\"\"\"d.T(n) = T(n/2) + c\n",
    "\n",
    "T(n)=T(n/2)+c --i)\n",
    "T(n/2)=T(n/4)+c\n",
    "T(n/4)=T(n/8)+c\n",
    "\n",
    "on substituion:\n",
    "T(n)=T(n/2^3)+3c\n",
    "repeating k times,\n",
    "ultimately we get,\n",
    "\n",
    "T(n)=T(n/2^k)+K*c\n",
    "\n",
    "assumption T(n)=1 when n=1\n",
    "\n",
    "let,\n",
    "n/2^k=1\n",
    "=>n=2^k\n",
    "\n",
    "on applying log on both sides:\n",
    " we get,\n",
    " logn=k\n",
    " \n",
    "putting values in T(n) \n",
    "T(n)=T(n/n)+logn*c\n",
    "T(n)=1+logn*c\n",
    "\n",
    "therefore time complexity is O(logn)\"\"\"\n",
    "\n",
    "\n"
   ]
  },
  {
   "cell_type": "code",
   "execution_count": 7,
   "id": "a94a0bc4-3d96-48a4-b9c7-d8a21288768e",
   "metadata": {},
   "outputs": [],
   "source": [
    "#3"
   ]
  },
  {
   "cell_type": "code",
   "execution_count": 1,
   "id": "a38b160d-1108-4646-8dfa-836a5083d88d",
   "metadata": {},
   "outputs": [
    {
     "data": {
      "text/plain": [
       "'a. T(n) = 2T(n-1) + 1\\nThis recursive relation represents exponential growth, where T(n) = O(2^n).'"
      ]
     },
     "execution_count": 1,
     "metadata": {},
     "output_type": "execute_result"
    }
   ],
   "source": [
    "#3.a\n",
    "\"\"\"a. T(n) = 2T(n-1) + 1\n",
    "This recursive relation represents exponential growth, where T(n) = O(2^n).\"\"\"\n",
    "\n",
    "\n",
    "\n"
   ]
  },
  {
   "cell_type": "code",
   "execution_count": null,
   "id": "8eb62d8d-6bd9-4c90-8b91-78943ba5cfc3",
   "metadata": {},
   "outputs": [],
   "source": [
    "#3.b\n",
    "\"\"\"b. T(n) = 2T(n/2) + n\n",
    "Using the Master Theorem,\\\\\\\\\\\\\\\\\\\\\\ this recurrence relation results in a time complexity of O(n log n).\"\"\""
   ]
  }
 ],
 "metadata": {
  "kernelspec": {
   "display_name": "Python 3 (ipykernel)",
   "language": "python",
   "name": "python3"
  },
  "language_info": {
   "codemirror_mode": {
    "name": "ipython",
    "version": 3
   },
   "file_extension": ".py",
   "mimetype": "text/x-python",
   "name": "python",
   "nbconvert_exporter": "python",
   "pygments_lexer": "ipython3",
   "version": "3.10.8"
  }
 },
 "nbformat": 4,
 "nbformat_minor": 5
}
