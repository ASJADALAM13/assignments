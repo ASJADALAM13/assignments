{
 "cells": [
  {
   "cell_type": "code",
   "execution_count": 1,
   "id": "6a239e5f-6556-41b2-94e4-a9508ebb3a08",
   "metadata": {},
   "outputs": [
    {
     "data": {
      "text/plain": [
       "\"\\nThe three measures of central tendency are:\\n\\nMean: The average of a data set, calculated by summing all the values and dividing by the number of values.\\nMedian: The middle value of a data set when the values are arranged in order. If the number of values is even, it's the average of the two middle values.\\nMode: The value that appears most frequently in a data set.\\n\""
      ]
     },
     "execution_count": 1,
     "metadata": {},
     "output_type": "execute_result"
    }
   ],
   "source": [
    "#1.\n",
    "\"\"\"\n",
    "The three measures of central tendency are:\n",
    "\n",
    "Mean: The average of a data set, calculated by summing all the values and dividing by the number of values.\n",
    "Median: The middle value of a data set when the values are arranged in order. If the number of values is even, it's the average of the two middle values.\n",
    "Mode: The value that appears most frequently in a data set.\n",
    "\"\"\"\n"
   ]
  },
  {
   "cell_type": "code",
   "execution_count": 2,
   "id": "e957a10c-8c57-4e6b-ac02-afd6736b192c",
   "metadata": {},
   "outputs": [
    {
     "data": {
      "text/plain": [
       "'\\nMean: Useful for symmetrical distributions without outliers.\\nMedian: Best for skewed distributions or data with outliers.\\nMode: Most effective for categorical data or identifying frequent values.\\n\\nThe mean, median, and mode measure the central tendency of a dataset by providing a single value\\nthat represents the center or most typical value of the data\\n\\n'"
      ]
     },
     "execution_count": 2,
     "metadata": {},
     "output_type": "execute_result"
    }
   ],
   "source": [
    "#2\n",
    "\"\"\"\n",
    "Mean: Useful for symmetrical distributions without outliers.\n",
    "Median: Best for skewed distributions or data with outliers.\n",
    "Mode: Most effective for categorical data or identifying frequent values.\n",
    "\n",
    "The mean, median, and mode measure the central tendency of a dataset by providing a single value\n",
    "that represents the center or most typical value of the data\n",
    "\n",
    "\"\"\"\n"
   ]
  },
  {
   "cell_type": "code",
   "execution_count": 11,
   "id": "b83ca59d-f67e-4f58-a6b0-28bf5ba57711",
   "metadata": {},
   "outputs": [
    {
     "name": "stdout",
     "output_type": "stream",
     "text": [
      "Mean=177.01875,Median=177.0,Mode(s)=(177, 178)\n",
      " \n",
      "Mean: 177.01875\n",
      "Median: 177.0\n",
      "Mean: (array([0. , 0. , 0. , 0. , 0.2, 0. , 0. , 0. , 0. , 0. , 0.9, 0.2, 0. ,\n",
      "       0.5, 0. , 0.5]), array([178., 177., 176., 177., 178., 178., 175., 179., 180., 175., 178.,\n",
      "       176., 177., 172., 178., 176.]))\n"
     ]
    }
   ],
   "source": [
    "#3.\n",
    "\"\"\"\n",
    "Given Dataset:\"\"\" \n",
    "arr=[178,177,176,177,178.2,178,175,179,180,175,178.9,176.2,177,172.5,178,176.5]\n",
    "\n",
    "Mean=sum(arr)/16\n",
    "\n",
    "sorted_arr=[172.5, 175, 175, 176, 176.2, 176.5, 177, 177, 177, 178, 178, 178, 178.2, 178.9, 179, 180]\n",
    "Median=(177+177)/2\n",
    "\n",
    "#Since 177 & 178 are the most frequent elements and appear same number of times.\n",
    "#Therefore fiven data set is multimodal and mode(s) are:\n",
    "Mode1=177\n",
    "Mode2=178\n",
    "\n",
    "print(f\"Mean={Mean},Median={Median},Mode(s)={Mode1,Mode2}\")\n",
    "print(\" \")\n",
    "\n",
    "\n",
    "import numpy as np\n",
    "\n",
    "print(\"Mean:\",np.mean(arr)) \n",
    "print(\"Median:\",np.median(arr)) \n",
    "print(\"Mean:\",np.modf(arr)) "
   ]
  },
  {
   "cell_type": "code",
   "execution_count": 14,
   "id": "70ac5d9b-be5e-4693-bfb2-7770f168b83e",
   "metadata": {},
   "outputs": [
    {
     "data": {
      "text/plain": [
       "np.float64(1.7885814036548633)"
      ]
     },
     "execution_count": 14,
     "metadata": {},
     "output_type": "execute_result"
    }
   ],
   "source": [
    "#4\n",
    "arr4=np.array([178,177,176,177,178.2,178,175,179,180,175,178.9,176.2,177,172.5,178,176.5])\n",
    "arr4.std()"
   ]
  },
  {
   "cell_type": "code",
   "execution_count": 15,
   "id": "31407d2d-6068-42f9-83a2-632d3b6cd053",
   "metadata": {},
   "outputs": [
    {
     "data": {
      "text/plain": [
       "'\\n1. Range:\\nWhat it is: The range shows how spread out the numbers are by subtracting the smallest number from the largest number.\\nExample: If you have test scores like [50, 70, 80, 90, 100], the range is:\\nRange = 100 (highest score) - 50 (lowest score) = 50.\\nWhat it tells you: A larger range means the scores are very different from each other.\\n\\n2. Variance:\\nWhat it is: Variance measures how much the numbers vary from the average. It looks at the differences between each number and the average, \\nthen averages those differences (squared).\\nExample: For scores [60, 70, 80], you first find the average (70), then calculate how far each score is from the average. You square those \\ndifferences and find the average of those squares.\\nWhat it tells you: A higher variance means the scores are more spread out from the average.\\n\\n3. Standard Deviation:\\nWhat it is: The standard deviation is just the square root of the variance. It gives you a sense of spread in the same units as the original data.\\nExample: If the variance of test scores is 25, the standard deviation is √25 = 5.\\nWhat it tells you: A higher standard deviation means scores are more spread out; a lower one means they are closer to the average.\\n'"
      ]
     },
     "execution_count": 15,
     "metadata": {},
     "output_type": "execute_result"
    }
   ],
   "source": [
    "#5.\n",
    "\"\"\"\n",
    "1. Range:\n",
    "What it is: The range shows how spread out the numbers are by subtracting the smallest number from the largest number.\n",
    "Example: If you have test scores like [50, 70, 80, 90, 100], the range is:\n",
    "Range = 100 (highest score) - 50 (lowest score) = 50.\n",
    "What it tells you: A larger range means the scores are very different from each other.\n",
    "\n",
    "2. Variance:\n",
    "What it is: Variance measures how much the numbers vary from the average. It looks at the differences between each number and the average, \n",
    "then averages those differences (squared).\n",
    "Example: For scores [60, 70, 80], you first find the average (70), then calculate how far each score is from the average. You square those \n",
    "differences and find the average of those squares.\n",
    "What it tells you: A higher variance means the scores are more spread out from the average.\n",
    "\n",
    "3. Standard Deviation:\n",
    "What it is: The standard deviation is just the square root of the variance. It gives you a sense of spread in the same units as the original data.\n",
    "Example: If the variance of test scores is 25, the standard deviation is √25 = 5.\n",
    "What it tells you: A higher standard deviation means scores are more spread out; a lower one means they are closer to the average.\n",
    "\"\"\""
   ]
  },
  {
   "cell_type": "code",
   "execution_count": 16,
   "id": "37bb9986-4eb0-4149-9461-62788bfd10d3",
   "metadata": {},
   "outputs": [
    {
     "data": {
      "text/plain": [
       "'\\nA Venn diagram is a visual representation used to show the relationships between different sets of items.'"
      ]
     },
     "execution_count": 16,
     "metadata": {},
     "output_type": "execute_result"
    }
   ],
   "source": [
    "#6.\n",
    "\"\"\"\n",
    "A Venn diagram is a visual representation used to show the relationships between different sets of items.\"\"\""
   ]
  },
  {
   "cell_type": "code",
   "execution_count": 17,
   "id": "48e11612-8ec6-40a0-a8fc-a078d8e1b672",
   "metadata": {},
   "outputs": [
    {
     "data": {
      "text/plain": [
       "'\\nQ7. For the two given sets A = (2,3,4,5,6,7) & B = (0,2,6,8,10). Find:\\n(i)A intersection  B\\n\\n(ii)A ⋃ B\\n\\ni)A nd B=(2,6)\\nii) A⋃B=(0,2,3,4,5,6,7,8,10)\\n'"
      ]
     },
     "execution_count": 17,
     "metadata": {},
     "output_type": "execute_result"
    }
   ],
   "source": [
    "#7.\n",
    "\"\"\"\n",
    "Q7. For the two given sets A = (2,3,4,5,6,7) & B = (0,2,6,8,10). Find:\n",
    "(i)A intersection  B\n",
    "\n",
    "(ii)A ⋃ B\n",
    "\n",
    "i)A nd B=(2,6)\n",
    "ii) A⋃B=(0,2,3,4,5,6,7,8,10)\n",
    "\"\"\""
   ]
  },
  {
   "cell_type": "code",
   "execution_count": 18,
   "id": "4095d6fb-bba2-4d40-b126-64505d5fd4ed",
   "metadata": {},
   "outputs": [
    {
     "data": {
      "text/plain": [
       "\"\\nWhat is Skewness?\\nSkewness tells us how data is spread out in a dataset and whether it leans to one side.\\n\\nTypes of Skewness:\\nPositive Skewness (Right Skewed):\\n\\nThe data has a longer tail on the right side.\\nMost of the data points are on the left.\\nThe average (mean) is higher than the middle value (median).\\nExample: Income distribution, where a few people earn much more than most.\\nNegative Skewness (Left Skewed):\\n\\nThe data has a longer tail on the left side.\\nMost data points are on the right.\\nThe average is lower than the middle value.\\nExample: Age at retirement, where most people retire around the same age, but a few retire much earlier.\\nZero Skewness (Symmetrical):\\n\\nThe data is evenly spread out.\\nThe average, median, and most common value (mode) are about the same.\\nExample: A bell-shaped curve, like a normal distribution.\\nWhy It Matters:\\nSkewness helps us understand how data behaves.\\nIf data is skewed, we might need to use different methods to analyze it.\\nIt can help identify unusual values that don't fit with the rest of the data.\\n\\n\""
      ]
     },
     "execution_count": 18,
     "metadata": {},
     "output_type": "execute_result"
    }
   ],
   "source": [
    "#8.\n",
    "\"\"\"\n",
    "What is Skewness?\n",
    "Skewness tells us how data is spread out in a dataset and whether it leans to one side.\n",
    "\n",
    "Types of Skewness:\n",
    "Positive Skewness (Right Skewed):\n",
    "\n",
    "The data has a longer tail on the right side.\n",
    "Most of the data points are on the left.\n",
    "The average (mean) is higher than the middle value (median).\n",
    "Example: Income distribution, where a few people earn much more than most.\n",
    "Negative Skewness (Left Skewed):\n",
    "\n",
    "The data has a longer tail on the left side.\n",
    "Most data points are on the right.\n",
    "The average is lower than the middle value.\n",
    "Example: Age at retirement, where most people retire around the same age, but a few retire much earlier.\n",
    "Zero Skewness (Symmetrical):\n",
    "\n",
    "The data is evenly spread out.\n",
    "The average, median, and most common value (mode) are about the same.\n",
    "Example: A bell-shaped curve, like a normal distribution.\n",
    "Why It Matters:\n",
    "Skewness helps us understand how data behaves.\n",
    "If data is skewed, we might need to use different methods to analyze it.\n",
    "It can help identify unusual values that don't fit with the rest of the data.\n",
    "\n",
    "\"\"\""
   ]
  },
  {
   "cell_type": "code",
   "execution_count": 20,
   "id": "db2e963e-ac81-4c62-9a09-0505b1d9fcd4",
   "metadata": {},
   "outputs": [
    {
     "data": {
      "text/plain": [
       "'\\nIf a dataset is right skewed (positively skewed), the median will be less than the mean.'"
      ]
     },
     "execution_count": 20,
     "metadata": {},
     "output_type": "execute_result"
    }
   ],
   "source": [
    "#9.\n",
    "\"\"\"\n",
    "If a dataset is right skewed (positively skewed), the median will be less than the mean.\"\"\"\n",
    "\n"
   ]
  },
  {
   "cell_type": "code",
   "execution_count": 21,
   "id": "3ba76fa9-4344-4239-8291-f00dbbcb2664",
   "metadata": {},
   "outputs": [
    {
     "data": {
      "text/plain": [
       "'\\nCovariance:\\nWhat it is: Covariance shows how two variables change together. If one variable goes up, covariance tells us if the other goes up (positive) or down (negative).\\nRange: Covariance can be any number, so it’s hard to tell how strong the relationship is just by looking at it.\\nHow to calculate: It involves finding the average of the products of the differences from the mean for both variables.\\nUse: It helps understand if variables move in the same direction but doesn’t show how strong that relationship is.\\n\\nCorrelation:\\nWhat it is: Correlation also shows how two variables change together, but it measures both the strength and direction of their relationship.\\nRange: Correlation ranges from -1 to +1.\\n+1 means a perfect positive relationship (as one increases, the other increases).\\n-1 means a perfect negative relationship (as one increases, the other decreases).\\n0 means no relationship.\\nHow to calculate: It standardizes covariance, making it easier to interpret.\\nUse: Correlation gives a clearer picture of how strongly the two variables are related.\\n'"
      ]
     },
     "execution_count": 21,
     "metadata": {},
     "output_type": "execute_result"
    }
   ],
   "source": [
    "#10.\n",
    "\"\"\"\n",
    "Covariance:\n",
    "What it is: Covariance shows how two variables change together. If one variable goes up, covariance tells us if the other goes up (positive) or down (negative).\n",
    "Range: Covariance can be any number, so it’s hard to tell how strong the relationship is just by looking at it.\n",
    "How to calculate: It involves finding the average of the products of the differences from the mean for both variables.\n",
    "Use: It helps understand if variables move in the same direction but doesn’t show how strong that relationship is.\n",
    "\n",
    "Correlation:\n",
    "What it is: Correlation also shows how two variables change together, but it measures both the strength and direction of their relationship.\n",
    "Range: Correlation ranges from -1 to +1.\n",
    "+1 means a perfect positive relationship (as one increases, the other increases).\n",
    "-1 means a perfect negative relationship (as one increases, the other decreases).\n",
    "0 means no relationship.\n",
    "How to calculate: It standardizes covariance, making it easier to interpret.\n",
    "Use: Correlation gives a clearer picture of how strongly the two variables are related.\n",
    "\"\"\""
   ]
  },
  {
   "cell_type": "code",
   "execution_count": null,
   "id": "60a785a7-2f1e-47ba-94b9-ed2fcb3eabf8",
   "metadata": {},
   "outputs": [],
   "source": [
    "#11.\n"
   ]
  }
 ],
 "metadata": {
  "kernelspec": {
   "display_name": "Python 3 (ipykernel)",
   "language": "python",
   "name": "python3"
  },
  "language_info": {
   "codemirror_mode": {
    "name": "ipython",
    "version": 3
   },
   "file_extension": ".py",
   "mimetype": "text/x-python",
   "name": "python",
   "nbconvert_exporter": "python",
   "pygments_lexer": "ipython3",
   "version": "3.11.4"
  }
 },
 "nbformat": 4,
 "nbformat_minor": 5
}
