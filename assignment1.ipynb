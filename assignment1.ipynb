{
 "cells": [
  {
   "cell_type": "code",
   "execution_count": 1,
   "id": "b6b5ff6c-20dd-4a44-a5f0-62331764e89f",
   "metadata": {},
   "outputs": [
    {
     "name": "stdout",
     "output_type": "stream",
     "text": [
      "12\n",
      "13\n"
     ]
    }
   ],
   "source": [
    "#To swap two numbers without 3rd variable\n",
    "x=12\n",
    "y=13\n",
    "y,x=x,y\n",
    "print(y)\n",
    "print(x)\n"
   ]
  },
  {
   "cell_type": "code",
   "execution_count": 8,
   "id": "d65c5125-d048-4e1c-874f-af3dd1ef4735",
   "metadata": {},
   "outputs": [
    {
     "name": "stdout",
     "output_type": "stream",
     "text": [
      "Enter lenth 4\n",
      "Enter width 5\n"
     ]
    },
    {
     "name": "stdout",
     "output_type": "stream",
     "text": [
      "Area of the rectangle is20\n"
     ]
    }
   ],
   "source": [
    "#program to find area of a rectangle\n",
    "l=int(input(\"Enter lenth\"))\n",
    "w=int(input(\"Enter width\"))\n",
    "area=l*w\n",
    "print(f\"Area of the rectangle is{area}\")"
   ]
  },
  {
   "cell_type": "code",
   "execution_count": 7,
   "id": "7cad8aba-cc71-438b-bea5-5fd4e68f4aee",
   "metadata": {},
   "outputs": [
    {
     "name": "stdout",
     "output_type": "stream",
     "text": [
      "Enter temperature in c 32\n"
     ]
    },
    {
     "name": "stdout",
     "output_type": "stream",
     "text": [
      "Temperature in farenhiet is 89.6\n"
     ]
    }
   ],
   "source": [
    "#To convert degree celsius to farenhiet\n",
    "temp=int(input(\"Enter temperature in c\"))\n",
    "frn=(temp*9/5)+32\n",
    "print(f\"Temperature in farenhiet is {frn}\")\n",
    "\n",
    "         "
   ]
  },
  {
   "cell_type": "code",
   "execution_count": 9,
   "id": "10de6b2e-dd37-4897-a41f-1b672b0ea783",
   "metadata": {},
   "outputs": [
    {
     "name": "stdout",
     "output_type": "stream",
     "text": [
      "Enter string str\n"
     ]
    },
    {
     "name": "stdout",
     "output_type": "stream",
     "text": [
      "lenth of string is 3\n"
     ]
    }
   ],
   "source": [
    "#To find length of a given string\n",
    "str=input(\"Enter string\")\n",
    "print(f\"length of string is {len(str)}\")"
   ]
  },
  {
   "cell_type": "code",
   "execution_count": 3,
   "id": "f247935b-3a4b-4810-8483-63a1f111da9a",
   "metadata": {},
   "outputs": [
    {
     "name": "stdout",
     "output_type": "stream",
     "text": [
      "Enter string as\n"
     ]
    },
    {
     "name": "stdout",
     "output_type": "stream",
     "text": [
      "number of vowels are1\n"
     ]
    }
   ],
   "source": [
    "#To count number of vowels in a given string\n",
    "str=input(\"Enter string\")\n",
    "count=0\n",
    "for i in str:\n",
    "    if i == \"a\":\n",
    "        count=count+1\n",
    "    elif i==\"e\":\n",
    "        count=count+1\n",
    "    elif i==\"i\":\n",
    "        count=count+1\n",
    "    elif i==\"o\":\n",
    "        count=count+1\n",
    "    elif i==\"u\":\n",
    "        count=count+1\n",
    "    else:\n",
    "        count=count\n",
    "print(f\"number of vowels are{count}\")\n",
    "    "
   ]
  },
  {
   "cell_type": "code",
   "execution_count": 5,
   "id": "7cc40859-5e94-4b46-bfc5-03a38742dc99",
   "metadata": {},
   "outputs": [
    {
     "name": "stdout",
     "output_type": "stream",
     "text": [
      "msirehpromyloP si ta\n"
     ]
    }
   ],
   "source": [
    "#To print a given string from backwards\n",
    "str=\"What is Polymorpherism\"\n",
    "print(str[-1:1:-1])\n"
   ]
  },
  {
   "cell_type": "code",
   "execution_count": null,
   "id": "9eafda65-b111-4898-b264-429a07f5f778",
   "metadata": {},
   "outputs": [],
   "source": [
    "#To check whether a given string is palindrome or not\n",
    "str=input(\"Enter the string\")\n",
    "l=len(str)-1\n",
    "i=0\n",
    "while i<=l:\n",
    "    if str[i]==str[l-i]:\n",
    "        i=i+1\n",
    "        x=True\n",
    "    else:\n",
    "        x=False\n",
    "        break\n",
    "if x!=True:\n",
    "    print(\"Given string is not palindrome \")\n",
    "else:\n",
    "    print(\"Given string is palindrome\")\n",
    "\n",
    "\n",
    "\n",
    "\n",
    "\n"
   ]
  },
  {
   "cell_type": "code",
   "execution_count": 37,
   "id": "a09d8517-d6f8-4011-a609-0b381a3c194c",
   "metadata": {},
   "outputs": [
    {
     "name": "stdout",
     "output_type": "stream",
     "text": [
      "Enter string a h kj\n"
     ]
    },
    {
     "name": "stdout",
     "output_type": "stream",
     "text": [
      "ahkj\n"
     ]
    }
   ],
   "source": [
    "#To remove all the whitespaces from a string\n",
    "str=input(\"Enter string\")\n",
    "new_str=str.split()\n",
    "i=\"\"\n",
    "for j in new_str:\n",
    "    i=i+j\n",
    "print(i)\n"
   ]
  },
  {
   "cell_type": "code",
   "execution_count": null,
   "id": "89de7ed2-36b4-4ff8-b368-b3a924c9df87",
   "metadata": {},
   "outputs": [],
   "source": []
  }
 ],
 "metadata": {
  "kernelspec": {
   "display_name": "Python 3 (ipykernel)",
   "language": "python",
   "name": "python3"
  },
  "language_info": {
   "codemirror_mode": {
    "name": "ipython",
    "version": 3
   },
   "file_extension": ".py",
   "mimetype": "text/x-python",
   "name": "python",
   "nbconvert_exporter": "python",
   "pygments_lexer": "ipython3",
   "version": "3.11.4"
  }
 },
 "nbformat": 4,
 "nbformat_minor": 5
}
