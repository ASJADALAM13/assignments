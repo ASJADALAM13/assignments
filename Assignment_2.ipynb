{
 "cells": [
  {
   "cell_type": "code",
   "execution_count": 3,
   "id": "9d0122f1-328b-440c-ab5a-5166ca6ee311",
   "metadata": {},
   "outputs": [],
   "source": [
    "import pandas as pd\n"
   ]
  },
  {
   "cell_type": "code",
   "execution_count": null,
   "id": "d40ce947-6927-4de8-a1a4-5550d80a7fb2",
   "metadata": {},
   "outputs": [],
   "source": [
    "#1\n",
    "\"\"\"\n",
    "read_csv() -\n",
    "head() - \n",
    "describe() - \n",
    "drop() - \n",
    "groupby()\"\"\""
   ]
  },
  {
   "cell_type": "code",
   "execution_count": 4,
   "id": "726223a3-f988-42f8-879d-f649a0684cfc",
   "metadata": {},
   "outputs": [
    {
     "name": "stdout",
     "output_type": "stream",
     "text": [
      "Old Data set:-\n",
      "   A   B  C\n",
      "0  1  10  9\n",
      "1  2  11  8\n",
      "2  3  13  7\n",
      "3  4  14  6\n",
      "4  5  15  5 \n",
      "\n",
      "New Data_set:-\n",
      "   A   B  C\n",
      "1  1  10  9\n",
      "3  2  11  8\n",
      "5  3  13  7\n",
      "7  4  14  6\n",
      "9  5  15  5\n"
     ]
    }
   ],
   "source": [
    "#2\n",
    "print(\"Old Data set:-\")\n",
    "\n",
    "lst={'A':[1,2,3,4,5],'B':[10,11,13,14,15],'C':[9,8,7,6,5]}\n",
    "df=pd.DataFrame(lst)\n",
    "print(df,\"\\n\")\n",
    "\n",
    "def to_re_index(Data_set):\n",
    "    len_dat=len(Data_set)\n",
    "    indices=[]\n",
    "    x=1\n",
    "    for i in range(len_dat):\n",
    "        indices.append(x)\n",
    "        x=x+2\n",
    "\n",
    "    Data_set.index=indices\n",
    "    print(Data_set)\n",
    "\n",
    "print(\"New Data_set:-\")\n",
    "to_re_index(df)\n",
    "\n"
   ]
  },
  {
   "cell_type": "code",
   "execution_count": 6,
   "id": "a65d1821-efb4-4708-8bc1-5b83d7d927ff",
   "metadata": {},
   "outputs": [
    {
     "name": "stdout",
     "output_type": "stream",
     "text": [
      "Sum of first three values of values column are: 60\n"
     ]
    }
   ],
   "source": [
    "#3.\n",
    "data = {\n",
    "    'ID': [1, 2, 3, 4, 5],\n",
    "    'Name': ['Alice', 'Bob', 'Charlie', 'David', 'Eva'],\n",
    "    'values': [10, 20, 30, 40, 50]\n",
    "}\n",
    "df=pd.DataFrame(data)\n",
    "\n",
    "sum=0\n",
    "for i in range(3):\n",
    "    sum=sum+df['values'][i]\n",
    "\n",
    "print(\"Sum of first three values of values column are:\",sum)"
   ]
  },
  {
   "cell_type": "code",
   "execution_count": 8,
   "id": "2c301074-e61b-4e55-974b-52ebef873da3",
   "metadata": {},
   "outputs": [
    {
     "name": "stdout",
     "output_type": "stream",
     "text": [
      "         Text Starts_With\n",
      "0       apple           A\n",
      "1      banana           B\n",
      "2      cherry           C\n",
      "3        date           D\n",
      "4  elderberry           E\n",
      "5         fig           F\n",
      "6       grape           G\n",
      "7    honeydew           H \n",
      "\n",
      "         Text Starts_With  words_count\n",
      "0       apple           A            5\n",
      "1      banana           B            6\n",
      "2      cherry           C            6\n",
      "3        date           D            4\n",
      "4  elderberry           E           10\n",
      "5         fig           F            3\n",
      "6       grape           G            5\n",
      "7    honeydew           H            8\n"
     ]
    }
   ],
   "source": [
    "#4.\n",
    "data4 = {\n",
    "    'Text': ['apple', 'banana', 'cherry', 'date', 'elderberry', 'fig', 'grape', 'honeydew'],\n",
    "    'Starts_With': ['A', 'B', 'C', 'D', 'E', 'F', 'G', 'H'],  # First letter of each word\n",
    "}\n",
    "\n",
    "df4=pd.DataFrame(data4)\n",
    "print(df4,'\\n')\n",
    "def create_column(data_frame):\n",
    "    data_frame['words_count']=data_frame['Text'].apply(len)\n",
    "    return data_frame\n",
    "\n",
    "df4_A=create_column(df4)\n",
    "print(df4_A)"
   ]
  },
  {
   "cell_type": "code",
   "execution_count": 11,
   "id": "bcd837dd-fdca-408c-b0de-b8264368d564",
   "metadata": {},
   "outputs": [
    {
     "data": {
      "text/plain": [
       "'DataFrame.shape: This gives you the dimensions of the DataFrame in the form of (rows, columns).\\nIt\\'s like asking, \"How many rows and columns are there\"\\n\\nDataFrame.size: This gives you the total number of elements in the DataFrame.\\nIt\\'s like multiplying the number of rows by the number of columns to know how many cells the DataFrame has in total.'"
      ]
     },
     "execution_count": 11,
     "metadata": {},
     "output_type": "execute_result"
    }
   ],
   "source": [
    "#5\n",
    "\"\"\"DataFrame.shape: This gives you the dimensions of the DataFrame in the form of (rows, columns).\n",
    "It's like asking, \"How many rows and columns are there\"\n",
    "\n",
    "DataFrame.size: This gives you the total number of elements in the DataFrame.\n",
    "It's like multiplying the number of rows by the number of columns to know how many cells the DataFrame has in total.\"\"\""
   ]
  },
  {
   "cell_type": "code",
   "execution_count": 12,
   "id": "0d203aa3-a8d6-46f1-98a1-4a0d01d02591",
   "metadata": {},
   "outputs": [
    {
     "data": {
      "text/plain": [
       "'\\nTo read an Excel file in Pandas, you use the read_excel() function.'"
      ]
     },
     "execution_count": 12,
     "metadata": {},
     "output_type": "execute_result"
    }
   ],
   "source": [
    "#6\n",
    "\"\"\"\n",
    "To read an Excel file in Pandas, you use the read_excel() function.\"\"\""
   ]
  },
  {
   "cell_type": "code",
   "execution_count": 30,
   "id": "00afcf8b-2826-4117-9bec-e763e25adcd2",
   "metadata": {},
   "outputs": [
    {
     "name": "stdout",
     "output_type": "stream",
     "text": [
      "Old Data Frame:\n",
      "                     Email       Phone Number\n",
      "0        alice@example.com    +1 555-123-4567\n",
      "1           bob@domain.com   +44 20 7946 0958\n",
      "2  charlie.deo@website.com    +91 98765 43210\n",
      "3         dave@company.com    +1 555-987-6543\n",
      "4     eve@organization.com  +86 139 1234 5678\n",
      " \n",
      "Data Frame with New column Username:\n",
      "                     Email       Phone Number     Username\n",
      "0        alice@example.com    +1 555-123-4567        alice\n",
      "1           bob@domain.com   +44 20 7946 0958          bob\n",
      "2  charlie.deo@website.com    +91 98765 43210  charlie.deo\n",
      "3         dave@company.com    +1 555-987-6543         dave\n",
      "4     eve@organization.com  +86 139 1234 5678          eve\n"
     ]
    }
   ],
   "source": [
    "#7\n",
    "data7 = {\n",
    "    'Email': [\n",
    "        'alice@example.com','bob@domain.com','charlie.deo@website.com','dave@company.com','eve@organization.com'],\n",
    "    'Phone Number': ['+1 555-123-4567', '+44 20 7946 0958', '+91 98765 43210', '+1 555-987-6543', '+86 139 1234 5678']\n",
    "       }\n",
    "\n",
    "df_7=pd.DataFrame(data7)\n",
    "print(\"Old Data Frame:\")\n",
    "print(df_7)\n",
    "\n",
    "\n",
    "def func7(df):\n",
    "    lst=[]\n",
    "    for str in df['Email']:\n",
    "        s=\"\"\n",
    "        for i in str:\n",
    "            if i==\"@\":\n",
    "                break\n",
    "            s=s+i\n",
    "        lst.append(s)\n",
    "    return lst\n",
    "\n",
    "username=func7(df_7)\n",
    "df_7['Username']=username\n",
    "print(\" \")\n",
    "print(\"Data Frame with New column Username:\")\n",
    "print(df_7)"
   ]
  },
  {
   "cell_type": "code",
   "execution_count": 17,
   "id": "fabd6d8b-191f-426b-8a04-eba9939bcaa5",
   "metadata": {},
   "outputs": [
    {
     "name": "stdout",
     "output_type": "stream",
     "text": [
      "   A   B  C\n",
      "0  3   7  3\n",
      "1  6  11  5\n",
      "2  1   8  9\n",
      "3  8   4  1\n",
      "4  7   2  2\n",
      "\n",
      "\n",
      "   A  B  C\n",
      "3  8  4  1\n",
      "4  7  2  2\n"
     ]
    }
   ],
   "source": [
    "#8\n",
    "data={'A':[3,6,1,8,7 ],'B':[7,11,8,4,2] ,'C':[3, 5,9, 1, 2,]}\n",
    "\n",
    "df8=pd.DataFrame(data)\n",
    "print(df8)\n",
    "print(\"\\n\")\n",
    "def func8(df):\n",
    "    new_dat=[]\n",
    "    for i,row in df8.iterrows():\n",
    "        if row['A']>5 and row['B']<10:\n",
    "            new_dat.append(row)\n",
    "    new_df=pd.DataFrame(new_dat)\n",
    "    print(new_df)\n",
    "\n",
    "func8(df8)"
   ]
  },
  {
   "cell_type": "code",
   "execution_count": 31,
   "id": "7deae513-8791-4bff-af3e-341adf9c17cf",
   "metadata": {},
   "outputs": [
    {
     "name": "stdout",
     "output_type": "stream",
     "text": [
      "The Mean ,median ,standard deviation of  the values of value column are:13.2, 12.5, 5.084904128889748\n"
     ]
    }
   ],
   "source": [
    "#9\n",
    "data9 = {'A': [3, 6, 1, 8, 7],  # Integers\n",
    "        'B': [7.5, 11.3, 8.2, 4.0, 2.9],  # Floats\n",
    "        'C': ['apple', 'banana', 'cherry', 'date', 'elderberry'],  # Strings\n",
    "        'value': [10.5, 15.0, 7.25, 20.75, 12.5],  # Floats for 'Values'\n",
    "        'Date': pd.to_datetime(['2024-09-18', '2024-09-19', '2024-09-20', '2024-09-21', '2024-09-22'])}  # Dates\n",
    "\n",
    "df9=pd.DataFrame(data9)\n",
    "\n",
    "\n",
    "def func9(df):\n",
    "    mean=df['value'].mean()\n",
    "    median=df['value'].median()\n",
    "    std=df['value'].std()\n",
    "    print(f\"The Mean ,median ,standard deviation of  the values of value column are:{mean}, {median}, {std}\")\n",
    "func9(df9)"
   ]
  },
  {
   "cell_type": "code",
   "execution_count": 51,
   "id": "bf2abf36",
   "metadata": {},
   "outputs": [
    {
     "name": "stdout",
     "output_type": "stream",
     "text": [
      "    Sales       Date\n",
      "0     100 2024-09-01\n",
      "1     150 2024-09-02\n",
      "2     200 2024-09-03\n",
      "3     250 2024-09-04\n",
      "4     300 2024-09-05\n",
      "5     350 2024-09-06\n",
      "6     400 2024-09-07\n",
      "7     450 2024-09-08\n",
      "8     500 2024-09-09\n",
      "9     550 2024-09-10\n",
      "10    600 2024-09-11\n",
      "11    650 2024-09-12\n",
      " \n",
      "New Dataframe with MeanAverage Column is:\n",
      "    Sales       Date  MeanAverage\n",
      "0     100 2024-09-01          100\n",
      "1     150 2024-09-02          250\n",
      "2     200 2024-09-03          450\n",
      "3     250 2024-09-04          700\n",
      "4     300 2024-09-05         1000\n",
      "5     350 2024-09-06         1350\n",
      "6     400 2024-09-07         1750\n",
      "7     450 2024-09-08         2100\n",
      "8     500 2024-09-09         2450\n",
      "9     550 2024-09-10         2800\n",
      "10    600 2024-09-11         3150\n",
      "11    650 2024-09-12         3500\n"
     ]
    }
   ],
   "source": [
    "\"\"\" Q.10 Given a Pandas DataFrame df with a column 'Sales' and a column 'Date', write a Python function to\n",
    "create a new column 'MovingAverage' that contains the moving average of the sales for the past 7 days\n",
    "for each row in the DataFrame. The moving average should be calculated using a window of size 7 and\n",
    "should include the current day.\"\"\"\n",
    "\n",
    "\n",
    "#10\n",
    "data10= {'Sales': [100, 150, 200, 250, 300, 350, 400, 450, 500, 550, 600, 650],\n",
    "        'Date': pd.to_datetime(['2024-09-01', '2024-09-02', '2024-09-03', '2024-09-04',\n",
    "                                '2024-09-05', '2024-09-06', '2024-09-07', '2024-09-08',\n",
    "                                '2024-09-09', '2024-09-10', '2024-09-11', '2024-09-12'])}\n",
    "\n",
    "\n",
    "df10a=pd.DataFrame(data10)\n",
    "print(df10a)\n",
    "print(\" \")\n",
    "\n",
    "print(\"New Dataframe with MeanAverage Column is:\")\n",
    "def func10(df10):\n",
    "    lst=[]\n",
    "    for i in df10.index:\n",
    "        lp=i-7\n",
    "        if lp<0:\n",
    "            lp=-1\n",
    "        sum=0\n",
    "        for j in range(i,lp,-1):\n",
    "            sum=sum+df10['Sales'][j]\n",
    "        lst.append(sum)\n",
    "    df10['MeanAverage']=lst\n",
    "    print(df10)\n",
    "\n",
    "func10(df10a)"
   ]
  },
  {
   "cell_type": "code",
   "execution_count": 4,
   "id": "f0dcaf4e-5bc9-4c1b-b535-0c1c55c224a3",
   "metadata": {},
   "outputs": [
    {
     "name": "stdout",
     "output_type": "stream",
     "text": [
      "          Date     Name  Sales\n",
      "0   2024-09-01    Alice    250\n",
      "1   2024-09-02      Bob    300\n",
      "2   2024-09-03  Charlie    400\n",
      "3   2024-09-04    David    150\n",
      "4   2024-09-05      Eva    500\n",
      "5   2024-09-06    Frank    320\n",
      "6   2024-09-07    Grace    280\n",
      "7   2024-09-08     Hank    390\n",
      "8   2024-09-09      Ivy    210\n",
      "9   2024-09-10     Jack    460\n",
      "10  2024-09-11    Karen    310\n",
      "11  2024-09-12      Leo    270\n",
      "12  2024-09-13     Mona    420\n",
      "13  2024-09-14    Nancy    230\n",
      "14  2024-09-15    Oscar    340\n",
      "15  2024-09-16     Paul    380\n",
      "16  2024-09-17   Quincy    410\n",
      "17  2024-09-18     Rita    450\n",
      "18  2024-09-19      Sam    370\n",
      "19  2024-09-20     Tina    290\n",
      " \n",
      " \n",
      "          Date     Name  Sales   Weekdays\n",
      "0   2024-09-01    Alice    250     Sunday\n",
      "1   2024-09-02      Bob    300     Monday\n",
      "2   2024-09-03  Charlie    400    Tuesday\n",
      "3   2024-09-04    David    150  Wednesday\n",
      "4   2024-09-05      Eva    500   Thursday\n",
      "5   2024-09-06    Frank    320     Friday\n",
      "6   2024-09-07    Grace    280   Saturday\n",
      "7   2024-09-08     Hank    390     Sunday\n",
      "8   2024-09-09      Ivy    210     Monday\n",
      "9   2024-09-10     Jack    460    Tuesday\n",
      "10  2024-09-11    Karen    310  Wednesday\n",
      "11  2024-09-12      Leo    270   Thursday\n",
      "12  2024-09-13     Mona    420     Friday\n",
      "13  2024-09-14    Nancy    230   Saturday\n",
      "14  2024-09-15    Oscar    340     Sunday\n",
      "15  2024-09-16     Paul    380     Monday\n",
      "16  2024-09-17   Quincy    410    Tuesday\n",
      "17  2024-09-18     Rita    450  Wednesday\n",
      "18  2024-09-19      Sam    370   Thursday\n",
      "19  2024-09-20     Tina    290     Friday\n"
     ]
    }
   ],
   "source": [
    "#11\n",
    "\n",
    "data11 = {\n",
    "    'Date': [\n",
    "        '2024-09-01', '2024-09-02', '2024-09-03', '2024-09-04', '2024-09-05',\n",
    "        '2024-09-06', '2024-09-07', '2024-09-08', '2024-09-09', '2024-09-10',\n",
    "        '2024-09-11', '2024-09-12', '2024-09-13', '2024-09-14', '2024-09-15',\n",
    "        '2024-09-16', '2024-09-17', '2024-09-18', '2024-09-19', '2024-09-20'\n",
    "    ],\n",
    "    'Name': [\n",
    "        'Alice', 'Bob', 'Charlie', 'David', 'Eva',\n",
    "        'Frank', 'Grace', 'Hank', 'Ivy', 'Jack',\n",
    "        'Karen', 'Leo', 'Mona', 'Nancy', 'Oscar',\n",
    "        'Paul', 'Quincy', 'Rita', 'Sam', 'Tina'\n",
    "    ],\n",
    "    'Sales': [\n",
    "        250, 300, 400, 150, 500,\n",
    "        320, 280, 390, 210, 460,\n",
    "        310, 270, 420, 230, 340,\n",
    "        380, 410, 450, 370, 290\n",
    "    ]\n",
    "}\n",
    "\n",
    "df11=pd.DataFrame(data11)\n",
    "print(df11)\n",
    "print(\" \")\n",
    "\n",
    "def func11(df11a):\n",
    "    days = ['Sunday', 'Monday', 'Tuesday', 'Wednesday', 'Thursday', 'Friday', 'Saturday']\n",
    "    lst_col=[]\n",
    "    for i in df11a.index:\n",
    "        ind=i%7\n",
    "        lst_col.append(days[ind])\n",
    "    return lst_col\n",
    "    \n",
    "weekdays=func11(df11)\n",
    "df11['Weekdays']=weekdays\n",
    "print(\" \")\n",
    "print(df11)"
   ]
  },
  {
   "cell_type": "code",
   "execution_count": 17,
   "id": "bae4d0e5-e6ba-4638-bc3e-19cdabd2880f",
   "metadata": {},
   "outputs": [
    {
     "name": "stdout",
     "output_type": "stream",
     "text": [
      "                  Date\n",
      "0  2023-01-01 12:30:00\n",
      "1  2023-09-02 14:45:00\n",
      "2  2023-01-03 09:00:00\n",
      "3  2023-05-04 16:15:00\n",
      "4  2023-09-04 16:15:00\n",
      "5  2023-01-04 16:15:00\n",
      "6  2023-03-04 16:15:00\n",
      "7  2023-01-09 16:15:00\n",
      "8  2023-09-04 16:15:00\n",
      "9  2023-01-10 16:15:00\n",
      "10 2023-08-04 16:15:00\n",
      "11 2023-07-04 16:15:00\n",
      "12 2023-01-29 16:15:00\n",
      "13 2023-02-04 16:15:00\n",
      "14 2023-09-08 16:15:00\n",
      "15 2023-01-12 16:15:00\n"
     ]
    },
    {
     "data": {
      "text/html": [
       "<div>\n",
       "<style scoped>\n",
       "    .dataframe tbody tr th:only-of-type {\n",
       "        vertical-align: middle;\n",
       "    }\n",
       "\n",
       "    .dataframe tbody tr th {\n",
       "        vertical-align: top;\n",
       "    }\n",
       "\n",
       "    .dataframe thead th {\n",
       "        text-align: right;\n",
       "    }\n",
       "</style>\n",
       "<table border=\"1\" class=\"dataframe\">\n",
       "  <thead>\n",
       "    <tr style=\"text-align: right;\">\n",
       "      <th></th>\n",
       "      <th>Date</th>\n",
       "    </tr>\n",
       "  </thead>\n",
       "  <tbody>\n",
       "    <tr>\n",
       "      <th>0</th>\n",
       "      <td>2023-01-01 12:30:00</td>\n",
       "    </tr>\n",
       "    <tr>\n",
       "      <th>2</th>\n",
       "      <td>2023-01-03 09:00:00</td>\n",
       "    </tr>\n",
       "    <tr>\n",
       "      <th>5</th>\n",
       "      <td>2023-01-04 16:15:00</td>\n",
       "    </tr>\n",
       "    <tr>\n",
       "      <th>7</th>\n",
       "      <td>2023-01-09 16:15:00</td>\n",
       "    </tr>\n",
       "    <tr>\n",
       "      <th>9</th>\n",
       "      <td>2023-01-10 16:15:00</td>\n",
       "    </tr>\n",
       "    <tr>\n",
       "      <th>12</th>\n",
       "      <td>2023-01-29 16:15:00</td>\n",
       "    </tr>\n",
       "    <tr>\n",
       "      <th>15</th>\n",
       "      <td>2023-01-12 16:15:00</td>\n",
       "    </tr>\n",
       "  </tbody>\n",
       "</table>\n",
       "</div>"
      ],
      "text/plain": [
       "                  Date\n",
       "0  2023-01-01 12:30:00\n",
       "2  2023-01-03 09:00:00\n",
       "5  2023-01-04 16:15:00\n",
       "7  2023-01-09 16:15:00\n",
       "9  2023-01-10 16:15:00\n",
       "12 2023-01-29 16:15:00\n",
       "15 2023-01-12 16:15:00"
      ]
     },
     "execution_count": 17,
     "metadata": {},
     "output_type": "execute_result"
    }
   ],
   "source": [
    "#12\n",
    "from datetime import datetime\n",
    "\n",
    "data = {\n",
    "    'Date': [\n",
    "        datetime(2023, 1, 1, 12, 30),\n",
    "        datetime(2023, 9, 2, 14, 45),\n",
    "        datetime(2023, 1, 3, 9, 0),\n",
    "        datetime(2023, 5, 4, 16, 15),\n",
    "        datetime(2023, 9, 4, 16, 15),\n",
    "        datetime(2023, 1, 4, 16, 15),\n",
    "        datetime(2023, 3, 4, 16, 15),\n",
    "        datetime(2023, 1, 9, 16, 15),\n",
    "        datetime(2023, 9, 4, 16, 15),\n",
    "        datetime(2023, 1, 10, 16, 15),\n",
    "        datetime(2023, 8, 4, 16, 15),\n",
    "        datetime(2023, 7, 4, 16, 15),\n",
    "        datetime(2023, 1, 29, 16, 15),\n",
    "        datetime(2023, 2, 4, 16, 15),\n",
    "        datetime(2023, 9, 8, 16, 15),\n",
    "        datetime(2023, 1, 12, 16, 15)\n",
    "    ]\n",
    "}\n",
    "\n",
    "df12 = pd.DataFrame(data)\n",
    "\n",
    "print(df12)\n",
    "\n",
    "start_date = datetime(2023, 1, 1)\n",
    "end_date = datetime(2023, 1, 31)\n",
    "\n",
    "\n",
    "df12[(df12['Date']>=start_date) & (df12['Date']<=end_date)]"
   ]
  },
  {
   "cell_type": "code",
   "execution_count": 18,
   "id": "6d7a88a6-c9a4-4b8b-a399-a57846d220c4",
   "metadata": {},
   "outputs": [
    {
     "data": {
      "text/plain": [
       "'\\nTo use the basic functions of pandas, you need to import the pandas library itself. You can do this with the following line of code:\\n\\nimport pandas as pd\\n'"
      ]
     },
     "execution_count": 18,
     "metadata": {},
     "output_type": "execute_result"
    }
   ],
   "source": [
    "#13\n",
    "\"\"\"\n",
    "To use the basic functions of pandas, you need to import the pandas library itself. You can do this with the following line of code:\n",
    "\n",
    "import pandas as pd\n",
    "\"\"\""
   ]
  },
  {
   "cell_type": "code",
   "execution_count": null,
   "id": "48d98a91-86f7-464c-a21d-30d38e21b99a",
   "metadata": {},
   "outputs": [],
   "source": []
  }
 ],
 "metadata": {
  "kernelspec": {
   "display_name": "Python 3 (ipykernel)",
   "language": "python",
   "name": "python3"
  },
  "language_info": {
   "codemirror_mode": {
    "name": "ipython",
    "version": 3
   },
   "file_extension": ".py",
   "mimetype": "text/x-python",
   "name": "python",
   "nbconvert_exporter": "python",
   "pygments_lexer": "ipython3",
   "version": "3.11.4"
  }
 },
 "nbformat": 4,
 "nbformat_minor": 5
}
