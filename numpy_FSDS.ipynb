{
 "cells": [
  {
   "cell_type": "code",
   "execution_count": 3,
   "id": "95f6daa4-56e4-441e-98fc-b7d1dc7fa6f5",
   "metadata": {},
   "outputs": [],
   "source": [
    "import numpy as np"
   ]
  },
  {
   "cell_type": "code",
   "execution_count": 1,
   "id": "9e8717ea-aa0e-4583-b8e9-817eacc028a2",
   "metadata": {},
   "outputs": [
    {
     "data": {
      "text/plain": [
       "'\\nA Python Library is a collection of pre-written codes which we can use to perform tasks without having to write everything from scratch.\\n\\nPython libraries are very useful as:\\n.Provides code reusability\\n.save efforts and time\\n.enhances efficiency and quality of code.\\n'"
      ]
     },
     "execution_count": 1,
     "metadata": {},
     "output_type": "execute_result"
    }
   ],
   "source": [
    "#1.\n",
    "\"\"\"\n",
    "A Python Library is a collection of pre-written codes which we can use to perform tasks without having to write everything from scratch.\n",
    "\n",
    "Python libraries are very useful as:\n",
    ".Provides code reusability\n",
    ".save efforts and time\n",
    ".enhances efficiency and quality of code.\n",
    "\"\"\""
   ]
  },
  {
   "cell_type": "code",
   "execution_count": 2,
   "id": "db37cc97-a47b-4acc-a2bc-885c3799b7e9",
   "metadata": {},
   "outputs": [
    {
     "data": {
      "text/plain": [
       "\"Python List is an built-in data type in python You don't have to import any library in order to use python list,\\nwhile Numpy Array is only accesible  when you import numpy library to your code.\\n\\nNumpy Array is faster ,supports element wise operations and can only store same types of data .\\nwhile list is slower and can store data of different data types.\\n\""
      ]
     },
     "execution_count": 2,
     "metadata": {},
     "output_type": "execute_result"
    }
   ],
   "source": [
    "#2.\n",
    "\"\"\"Python List is an built-in data type in python You don't have to import any library in order to use python list,\n",
    "while Numpy Array is only accesible  when you import numpy library to your code.\n",
    "\n",
    "Numpy Array is faster ,supports element wise operations and can only store same types of data .\n",
    "while list is slower and can store data of different data types.\n",
    "\"\"\""
   ]
  },
  {
   "cell_type": "code",
   "execution_count": 64,
   "id": "74b3764a-ea03-426b-a6a5-0baff96a767e",
   "metadata": {},
   "outputs": [
    {
     "name": "stdout",
     "output_type": "stream",
     "text": [
      "The Shape of the given Array is: (3, 4)\n",
      "The Size of the given Array is: 12\n",
      "The Dimension of the given Array is: 2\n"
     ]
    }
   ],
   "source": [
    "#3.\n",
    "arr=np.array([\n",
    "[1, 2, 3, 4],[5, 6, 7, 8],[9, 10, 11, 12]\n",
    "])\n",
    "\n",
    "shape=arr.shape\n",
    "size=arr.size\n",
    "dim=arr.ndim \n",
    "print(\"The Shape of the given Array is:\",shape) #Number of Rows and columns\n",
    "print(\"The Size of the given Array is:\",size) #Number of elements\n",
    "print(\"The Dimension of the given Array is:\",dim) #2-D array"
   ]
  },
  {
   "cell_type": "code",
   "execution_count": 65,
   "id": "47cd4c62-855e-42f3-a1cf-3ae2a1b0075c",
   "metadata": {},
   "outputs": [
    {
     "name": "stdout",
     "output_type": "stream",
     "text": [
      "Given Array:\n",
      " [[ 1  2  3  4]\n",
      " [ 5  6  7  8]\n",
      " [ 9 10 11 12]]\n",
      " \n",
      "The first row of the given array is: [1 2 3 4]\n"
     ]
    }
   ],
   "source": [
    "#4\n",
    "print(\"Given Array:\\n\",arr)\n",
    "print(\" \")\n",
    "print(\"The first row of the given array is:\",arr[0])"
   ]
  },
  {
   "cell_type": "code",
   "execution_count": 66,
   "id": "58862b6a-b8a6-4bd6-a921-442dccdc846f",
   "metadata": {},
   "outputs": [
    {
     "name": "stdout",
     "output_type": "stream",
     "text": [
      "Given Array:\n",
      " [[ 1  2  3  4]\n",
      " [ 5  6  7  8]\n",
      " [ 9 10 11 12]]\n",
      " \n",
      "The element at the third row and fourth column are: 12\n"
     ]
    }
   ],
   "source": [
    "#5\n",
    "\"\"\"We can acces the element at the third row and fourth column by using Double-Brackets \"[][]\".\"\"\"\n",
    "\n",
    "print(\"Given Array:\\n\",arr)\n",
    "print(\" \")\n",
    "print(\"The element at the third row and fourth column are:\",arr[2][3])\n"
   ]
  },
  {
   "cell_type": "code",
   "execution_count": 43,
   "id": "b4af4754-cf50-4e9a-9efb-3cff86637e3a",
   "metadata": {},
   "outputs": [
    {
     "name": "stdout",
     "output_type": "stream",
     "text": [
      "Given Array:\n",
      " [[ 1  2  3  4]\n",
      " [ 5  6  7  8]\n",
      " [ 9 10 11 12]]\n",
      " \n",
      "All The Elements Are:\n",
      "1 2 3 4 5 6 7 8 9 10 11 12 "
     ]
    }
   ],
   "source": [
    "#6\n",
    "#Code to Extract all the indexed elements of the Array\n",
    "print(\"Given Array:\\n\",arr)\n",
    "print(\" \")\n",
    "\n",
    "def Extract(arr):\n",
    "    for i in range(arr.shape[0]):      #For rows\n",
    "        for j in range(arr.shape[1]): #For Columns\n",
    "            print(arr[i][j],end=\" \")\n",
    "\n",
    "print(\"All The Elements Are:\")\n",
    "Extract(arr)"
   ]
  },
  {
   "cell_type": "code",
   "execution_count": 67,
   "id": "13b3e028-be63-4d1d-965d-cfdadfec8e9c",
   "metadata": {},
   "outputs": [
    {
     "name": "stdout",
     "output_type": "stream",
     "text": [
      "[[0 0 1]\n",
      " [1 1 1]\n",
      " [1 0 1]]\n"
     ]
    }
   ],
   "source": [
    "#7.\n",
    "\n",
    "\"\"\"We can Create a random 3x3 matrix with values between 0 and 1 using random function of numpy module\"\"\"\n",
    "\n",
    "\n",
    "arr_random=np.random.randint(0,2,(3,3))\n",
    "print(arr_random)"
   ]
  },
  {
   "cell_type": "code",
   "execution_count": 56,
   "id": "d3014722-1a08-4055-974b-4c28ebed9d3d",
   "metadata": {},
   "outputs": [
    {
     "data": {
      "text/plain": [
       "'\\nnp.random.rand:\\nGenerates random numbers from a uniform distribution between 0 and 1\\n\\nnp.random.randn:\\nGenerates random numbers from a standard normal distribution (mean = 0, standard deviation = 1),i.e generate those values whose mean =0 and standard deviation =1'"
      ]
     },
     "execution_count": 56,
     "metadata": {},
     "output_type": "execute_result"
    }
   ],
   "source": [
    "#8.\n",
    "\"\"\"\n",
    "np.random.rand:\n",
    "Generates random numbers from a uniform distribution between 0 and 1\n",
    "\n",
    "np.random.randn:\n",
    "Generates random numbers from a standard normal distribution (mean = 0, standard deviation = 1),i.e generate those values whose mean =0 and standard deviation =1\"\"\""
   ]
  },
  {
   "cell_type": "code",
   "execution_count": 77,
   "id": "23fc5a52-0cbf-475a-8c10-c5a73ac2d8a8",
   "metadata": {},
   "outputs": [
    {
     "name": "stdout",
     "output_type": "stream",
     "text": [
      "Given Array:\n",
      " [[ 1  2  3  4]\n",
      " [ 5  6  7  8]\n",
      " [ 9 10 11 12]]\n",
      " \n",
      "3-D Array is :\n",
      " [[[ 1  2  3  4]\n",
      "  [ 5  6  7  8]\n",
      "  [ 9 10 11 12]]]\n"
     ]
    }
   ],
   "source": [
    "#9.\n",
    "\n",
    "\"\"\"We can increase the dimension of the given array using np.exand_dims(para1,para2) function.\"\"\"\n",
    "print(\"Given Array:\\n\",arr)\n",
    "print(\" \")\n",
    "\n",
    "\n",
    "incrsd_dim=np.expand_dims(arr,axis=0)\n",
    "print(\"3-D Array is :\\n\",incrsd_dim)"
   ]
  },
  {
   "cell_type": "code",
   "execution_count": 82,
   "id": "59fe6771-727d-44fc-8537-09d9156546fa",
   "metadata": {},
   "outputs": [
    {
     "name": "stdout",
     "output_type": "stream",
     "text": [
      "Given Array:\n",
      " [[ 1  2  3  4]\n",
      " [ 5  6  7  8]\n",
      " [ 9 10 11 12]]\n",
      " \n",
      "[[ 1  5  9]\n",
      " [ 2  6 10]\n",
      " [ 3  7 11]\n",
      " [ 4  8 12]]\n"
     ]
    }
   ],
   "source": [
    "#10.\n",
    "print(\"Given Array:\\n\",arr)   #3 rows and 4 columns\n",
    "print(\" \")       \n",
    "\"\"\"For Transposing this array we can use arr.transpose() function\"\"\"\n",
    "\n",
    "Transposed_array=arr.transpose()  #4 rows and 3 columns\n",
    "print(Transposed_array)"
   ]
  },
  {
   "cell_type": "code",
   "execution_count": 115,
   "id": "3f0ade24-510b-4220-8006-4e731c342158",
   "metadata": {},
   "outputs": [
    {
     "name": "stdout",
     "output_type": "stream",
     "text": [
      "Matrix_A:\n",
      " [[ 1  2  3  4]\n",
      " [ 5  6  7  8]\n",
      " [ 9 10 11 12]]\n",
      " \n",
      "Matrix_B:\n",
      " [[ 1  2  3  4]\n",
      " [ 5  6  7  8]\n",
      " [ 9 10 11 12]]\n",
      " \n",
      "Element Wise Multiplication:\n",
      " [[  1   4   9  16]\n",
      " [ 25  36  49  64]\n",
      " [ 81 100 121 144]]\n",
      " \n",
      "Adding Matrix_A and Matrix_B:\n",
      " [[ 2  4  6  8]\n",
      " [10 12 14 16]\n",
      " [18 20 22 24]]\n",
      " \n",
      "Subtracting Matrix_B From Matrix_A:\n",
      " [[0 0 0 0]\n",
      " [0 0 0 0]\n",
      " [0 0 0 0]]\n",
      " \n",
      "Dividing Matrix_B by Matrix_A:\n",
      " [[1. 1. 1. 1.]\n",
      " [1. 1. 1. 1.]\n",
      " [1. 1. 1. 1.]]\n",
      " \n",
      "Reshaped Matrix_B:\n",
      " [[ 1  2  3]\n",
      " [ 4  5  6]\n",
      " [ 7  8  9]\n",
      " [10 11 12]]\n",
      " \n",
      "Matrix Multiplication:\n",
      " [[ 70  80  90]\n",
      " [158 184 210]\n",
      " [246 288 330]]\n"
     ]
    }
   ],
   "source": [
    "#11.\n",
    "Matrix_A= np.array([[1, 2, 3, 4],[5, 6, 7, 8],[9, 10, 11, 12]])\n",
    "Matrix_B=np.array([[1, 2, 3, 4],[5, 6, 7, 8],[9, 10, 11, 12]])\n",
    "print(\"Matrix_A:\\n\",Matrix_A)\n",
    "print(\" \")\n",
    "print(\"Matrix_B:\\n\",Matrix_B)\n",
    "\n",
    "\n",
    "Mul=Matrix_A*Matrix_B\n",
    "Add=Matrix_A+Matrix_B\n",
    "Sub=Matrix_A-Matrix_B\n",
    "Div=Matrix_B/Matrix_A\n",
    "print(\" \")\n",
    "print(\"Element Wise Multiplication:\\n\",Mul)\n",
    "print(\" \")\n",
    "#print(\" \")\n",
    "print(\"Adding Matrix_A and Matrix_B:\\n\",Add)\n",
    "print(\" \")\n",
    "print(\"Subtracting Matrix_B From Matrix_A:\\n\",Sub)\n",
    "print(\" \")\n",
    "print(\"Dividing Matrix_B by Matrix_A:\\n\",Div)\n",
    "print(\" \")\n",
    "#For Doing Matrix Multiplication we have to reshape a matrix\n",
    "\n",
    "Matrix_B=Matrix_B.reshape(4,3)\n",
    "print(\"Reshaped Matrix_B:\\n\",Matrix_B)\n",
    "print(\" \")\n",
    "Mat_mul=Matrix_A @ Matrix_B\n",
    "print(\"Matrix Multiplication:\\n\",Mat_mul)"
   ]
  },
  {
   "cell_type": "code",
   "execution_count": 116,
   "id": "0212f4ea-67f3-4e6f-a6ee-955f0ebd5a6f",
   "metadata": {},
   "outputs": [
    {
     "data": {
      "text/plain": [
       "'\\narr.byteswap() is used to to swap the byte order of an array i.e used to convert each data into byte format'"
      ]
     },
     "execution_count": 116,
     "metadata": {},
     "output_type": "execute_result"
    }
   ],
   "source": [
    "#12.\n",
    "\"\"\"\n",
    "arr.byteswap() is used to to swap the byte order of an array i.e used to convert each data into byte format\"\"\"\n"
   ]
  },
  {
   "cell_type": "code",
   "execution_count": 117,
   "id": "ce8ab13c-7b5e-445d-8abf-2e12072ee197",
   "metadata": {},
   "outputs": [
    {
     "data": {
      "text/plain": [
       "'\\nThe np.linalg.inv() function in NumPy is used to compute the inverse of a square matrix.\\n\\nSignificance:\\nMatrix Operations\\nSolving Linear Equations\\nNumerical Methods\\n'"
      ]
     },
     "execution_count": 117,
     "metadata": {},
     "output_type": "execute_result"
    }
   ],
   "source": [
    "#13.\n",
    "\"\"\"\n",
    "The np.linalg.inv() function in NumPy is used to compute the inverse of a square matrix.\n",
    "\n",
    "Significance:\n",
    "Matrix Operations\n",
    "Solving Linear Equations\n",
    "Numerical Methods\n",
    "\"\"\""
   ]
  },
  {
   "cell_type": "code",
   "execution_count": 118,
   "id": "30d4126f-4da6-4659-9d52-33eca31f5a98",
   "metadata": {},
   "outputs": [
    {
     "data": {
      "text/plain": [
       "'\\nThe np.reshape() function in NumPy is used to change the shape of an existing array without altering its data. \\n\\nit takes two parameters one:array and second-one:(row,column)'"
      ]
     },
     "execution_count": 118,
     "metadata": {},
     "output_type": "execute_result"
    }
   ],
   "source": [
    "#14.\n",
    "\"\"\"\n",
    "The np.reshape() function in NumPy is used to change the shape of an existing array without altering its data. \n",
    "\n",
    "It takes two parameters one:array and second-one:(row,column)\"\"\"\n"
   ]
  },
  {
   "cell_type": "code",
   "execution_count": 119,
   "id": "5a186731-90f8-4a2a-a33a-96131182bd31",
   "metadata": {},
   "outputs": [
    {
     "data": {
      "text/plain": [
       "'\\nBroadcasting in NumPy is a powerful mechanism that allows for arithmetic operations on arrays of different shapes. \\nBy following specific rules of shape compatibility'"
      ]
     },
     "execution_count": 119,
     "metadata": {},
     "output_type": "execute_result"
    }
   ],
   "source": [
    "#15.\n",
    "\"\"\"\n",
    "Broadcasting in NumPy is a powerful mechanism that allows for arithmetic operations on arrays of different shapes. \n",
    "By following specific rules of shape compatibility\"\"\""
   ]
  },
  {
   "cell_type": "code",
   "execution_count": null,
   "id": "fb1637b6-a941-4a89-9a3b-c556f3687057",
   "metadata": {},
   "outputs": [],
   "source": []
  }
 ],
 "metadata": {
  "kernelspec": {
   "display_name": "Python 3 (ipykernel)",
   "language": "python",
   "name": "python3"
  },
  "language_info": {
   "codemirror_mode": {
    "name": "ipython",
    "version": 3
   },
   "file_extension": ".py",
   "mimetype": "text/x-python",
   "name": "python",
   "nbconvert_exporter": "python",
   "pygments_lexer": "ipython3",
   "version": "3.11.4"
  }
 },
 "nbformat": 4,
 "nbformat_minor": 5
}
