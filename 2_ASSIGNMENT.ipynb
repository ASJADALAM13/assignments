{
 "cells": [
  {
   "cell_type": "code",
   "execution_count": 1,
   "id": "9457f318-5004-4f8f-89e5-83a4310b3894",
   "metadata": {},
   "outputs": [],
   "source": [
    "#TASK_2\n",
    "#FOR LOOP"
   ]
  },
  {
   "cell_type": "code",
   "execution_count": 2,
   "id": "9361efee-27c4-4d02-9d74-787605fb6bc0",
   "metadata": {},
   "outputs": [
    {
     "name": "stdout",
     "output_type": "stream",
     "text": [
      "1\n",
      "2\n",
      "3\n",
      "4\n",
      "5\n",
      "6\n",
      "7\n",
      "8\n",
      "9\n",
      "10\n"
     ]
    }
   ],
   "source": [
    "#1.\n",
    "for i in range(1,11,1):\n",
    "    print(i)"
   ]
  },
  {
   "cell_type": "code",
   "execution_count": 3,
   "id": "f1c97b08-6128-44be-8780-fc3a2d887bc4",
   "metadata": {},
   "outputs": [
    {
     "name": "stdout",
     "output_type": "stream",
     "text": [
      "Resultant sum: 2584\n"
     ]
    }
   ],
   "source": [
    "#2.\n",
    "lst=[1,42,6,2448 ,87]\n",
    "sum=0\n",
    "for i in lst:\n",
    "    sum=sum+i\n",
    "print(\"Resultant sum:\",sum)\n",
    "    "
   ]
  },
  {
   "cell_type": "code",
   "execution_count": 16,
   "id": "ca5d2f48-1f06-4e8e-8299-620f338265e1",
   "metadata": {},
   "outputs": [
    {
     "name": "stdout",
     "output_type": "stream",
     "text": [
      "E\n",
      "T\n",
      "A\n",
      "R\n",
      "A\n",
      "L\n",
      "E\n",
      "C\n",
      "X\n"
     ]
    }
   ],
   "source": [
    "#3.\n",
    "str=\"XCELARATE\"\n",
    "l=len(str)\n",
    "for i in range(1,l+1):\n",
    "    print(str[-i])\n",
    "    \n"
   ]
  },
  {
   "cell_type": "code",
   "execution_count": 20,
   "id": "8167d297-5797-431d-94fe-2e3a71e1280c",
   "metadata": {},
   "outputs": [
    {
     "name": "stdin",
     "output_type": "stream",
     "text": [
      "Enter number: 5\n"
     ]
    },
    {
     "name": "stdout",
     "output_type": "stream",
     "text": [
      "120\n"
     ]
    }
   ],
   "source": [
    "#4.\n",
    "num=int(input(\"Enter number:\"))\n",
    "fact=1\n",
    "for i in range(num):\n",
    "    M=num-i\n",
    "    fact=fact*M\n",
    "print(fact)\n",
    "\n",
    "        "
   ]
  },
  {
   "cell_type": "code",
   "execution_count": 23,
   "id": "248601e6-505d-4d27-b0bc-93fadca24924",
   "metadata": {},
   "outputs": [
    {
     "name": "stdin",
     "output_type": "stream",
     "text": [
      "Enter number: 6\n"
     ]
    },
    {
     "name": "stdout",
     "output_type": "stream",
     "text": [
      "6*1=6\n",
      "6*2=12\n",
      "6*3=18\n",
      "6*4=24\n",
      "6*5=30\n",
      "6*6=36\n",
      "6*7=42\n",
      "6*8=48\n",
      "6*9=54\n",
      "6*10=60\n"
     ]
    }
   ],
   "source": [
    "#5.\n",
    "num=int(input(\"Enter number:\"))\n",
    "for i in range(1,11):\n",
    "    print(f\"{num}*{i}={num*i}\")\n",
    "    \n"
   ]
  },
  {
   "cell_type": "code",
   "execution_count": 25,
   "id": "c785ee39-5780-4ec2-b365-86e0fe31f50b",
   "metadata": {},
   "outputs": [
    {
     "name": "stdout",
     "output_type": "stream",
     "text": [
      "The number of odds are: 4\n",
      "The number of Evens are: 3\n"
     ]
    }
   ],
   "source": [
    "#6.\n",
    "lst=[12,3,5,876,12,7,9,]\n",
    "E=0\n",
    "O=0\n",
    "for i in lst:\n",
    "    if i%2==0:\n",
    "        E=E+1\n",
    "    else:\n",
    "        O=O+1\n",
    "print(\"The number of odds are:\",O)\n",
    "print(\"The number of Evens are:\",E)\n"
   ]
  },
  {
   "cell_type": "code",
   "execution_count": 26,
   "id": "6927067e-38cd-464b-81a4-43aab50c63ad",
   "metadata": {},
   "outputs": [
    {
     "name": "stdout",
     "output_type": "stream",
     "text": [
      "The square of 1 is 1\n",
      "The square of 2 is 4\n",
      "The square of 3 is 9\n",
      "The square of 4 is 16\n",
      "The square of 5 is 25\n"
     ]
    }
   ],
   "source": [
    "#7.\n",
    "for i in range(1,6):\n",
    "    print(f\"The square of {i} is {i*i}\")\n",
    "    "
   ]
  },
  {
   "cell_type": "code",
   "execution_count": 5,
   "id": "facd5965-8b12-486b-8f73-4e287e692bf6",
   "metadata": {},
   "outputs": [
    {
     "name": "stdin",
     "output_type": "stream",
     "text": [
      "enter: I AM IRONMAN\n"
     ]
    },
    {
     "name": "stdout",
     "output_type": "stream",
     "text": [
      "The length of the string is 12\n"
     ]
    }
   ],
   "source": [
    "#8.\n",
    "str=input(\"enter:\")\n",
    "sum=0\n",
    "for i in str:\n",
    "    sum=sum+1\n",
    "print(\"The length of the string is\", sum)\n"
   ]
  },
  {
   "cell_type": "code",
   "execution_count": 8,
   "id": "5827d64c-9097-43fc-8092-61b5ebe964b5",
   "metadata": {},
   "outputs": [
    {
     "name": "stdout",
     "output_type": "stream",
     "text": [
      "The average is: 33.166666666666664\n"
     ]
    }
   ],
   "source": [
    "#9.\n",
    "list=[1,4,8 ,18,78,90]\n",
    "l=len(list)\n",
    "sum=0\n",
    "for i in list:\n",
    "    sum=sum+i\n",
    "avg=sum/l\n",
    "print(\"The average is:\",avg)\n"
   ]
  },
  {
   "cell_type": "code",
   "execution_count": 37,
   "id": "9a0a39bc-3ee5-4be2-b03a-11690ecd1347",
   "metadata": {},
   "outputs": [
    {
     "name": "stdin",
     "output_type": "stream",
     "text": [
      "Enter the number for generating the fibonacci series upto it: 8\n"
     ]
    },
    {
     "name": "stdout",
     "output_type": "stream",
     "text": [
      "0 1 1 2 3 5 8 13 "
     ]
    }
   ],
   "source": [
    "#10.\n",
    "num=int(input(\"Enter the number for generating the fibonacci series upto it:\"))\n",
    "n1=0\n",
    "n2=1\n",
    "print(n1,n2,end=' ')\n",
    "for i in range(num-2):\n",
    "    srs=n1+n2\n",
    "    print(srs,end=' ')\n",
    "    n1=n2\n",
    "    n2=srs\n",
    "    \n",
    "    \n",
    "    \n",
    "\n"
   ]
  },
  {
   "cell_type": "code",
   "execution_count": 28,
   "id": "8b209b93-7251-452b-9a9e-db28a7004505",
   "metadata": {},
   "outputs": [],
   "source": [
    "                                                             #--------------------#"
   ]
  },
  {
   "cell_type": "code",
   "execution_count": 48,
   "id": "fbb3eb29-1163-4360-ace7-297b69c42474",
   "metadata": {},
   "outputs": [
    {
     "name": "stdout",
     "output_type": "stream",
     "text": [
      "1 contains duplicates\n",
      "3 contains duplicates\n",
      "3 contains duplicates\n",
      "1 contains duplicates\n"
     ]
    }
   ],
   "source": [
    "#11.\n",
    "lst = [1, 3, 5,6, 3,1]\n",
    "for item in lst:\n",
    "    if lst.count(item) > 1:\n",
    "        print(f\"{item} contains duplicates\")"
   ]
  },
  {
   "cell_type": "code",
   "execution_count": 28,
   "id": "23c89b0b-79e8-441d-ac45-c331e9f26a30",
   "metadata": {},
   "outputs": [
    {
     "name": "stdout",
     "output_type": "stream",
     "text": [
      "Give the range for getting prime numbers\n"
     ]
    },
    {
     "name": "stdin",
     "output_type": "stream",
     "text": [
      "Enter range: 5\n",
      "To: 8\n"
     ]
    },
    {
     "name": "stdout",
     "output_type": "stream",
     "text": [
      "5 7 are the prime numbers between 5 and 8\n"
     ]
    }
   ],
   "source": [
    "#12.\n",
    "print(\"Give the range for getting prime numbers\")\n",
    "x=int(input(\"Enter range:\"))\n",
    "y=int(input(\"To:\"))\n",
    "for i in range(x,y+1):\n",
    "    for j in range(2,x):\n",
    "        if i%j==1:\n",
    "            print(i,end=\" \")\n",
    "        break\n",
    "print(f\"are the prime numbers between {x} and {y}\")\n",
    "    \n",
    "            \n",
    "    \n",
    "    "
   ]
  },
  {
   "cell_type": "code",
   "execution_count": 42,
   "id": "9e2af8db-05c8-43e0-ad34-5889acb38e47",
   "metadata": {},
   "outputs": [
    {
     "name": "stdin",
     "output_type": "stream",
     "text": [
      "Enter a string: WHAT IS OOPS?\n"
     ]
    },
    {
     "name": "stdout",
     "output_type": "stream",
     "text": [
      "number vowels present are  4\n",
      "Vowels presenr are : A I O O "
     ]
    }
   ],
   "source": [
    "#13.\n",
    "str=input(\"Enter a string:\")\n",
    "lst=['a','e','i','o','u']\n",
    "LST2=[]\n",
    "cnt=0\n",
    "for i in str:\n",
    "    if i.lower() in lst:\n",
    "        LST2.append(i)\n",
    "        cnt=cnt+1\n",
    "print(\"number vowels present are \",cnt)\n",
    "print(\"Vowels present are :\",*LST2,end=\" \")\n",
    "    "
   ]
  },
  {
   "cell_type": "code",
   "execution_count": 48,
   "id": "3a01c342-67b8-4377-80d2-32d4bd8cba46",
   "metadata": {},
   "outputs": [
    {
     "name": "stdout",
     "output_type": "stream",
     "text": [
      "The greatest number is: 98\n"
     ]
    }
   ],
   "source": [
    "#14.\n",
    "list=[[1,2,3,4],\n",
    "      [98,18,9,0],\n",
    "      [10,17,92,24],\n",
    "      [80,89,91,8]]\n",
    "grt=1\n",
    "for row in list:\n",
    "    for j in row:\n",
    "        if j>grt:\n",
    "            grt=j\n",
    "print(\"The greatest number is:\",grt)"
   ]
  },
  {
   "cell_type": "code",
   "execution_count": 50,
   "id": "5dc47ed9-92ad-4078-a5dc-179315d8ce11",
   "metadata": {},
   "outputs": [
    {
     "name": "stdout",
     "output_type": "stream",
     "text": [
      "[1, 6, 89, 6, 81, 999, 6, 818, 90, 118]\n"
     ]
    },
    {
     "name": "stdin",
     "output_type": "stream",
     "text": [
      "Enter the element You want to remove from the list: 6\n"
     ]
    },
    {
     "name": "stdout",
     "output_type": "stream",
     "text": [
      "The new list is  [1, 89, 81, 999, 818, 90, 118]\n"
     ]
    }
   ],
   "source": [
    "#15.\n",
    "list=[1,6,89,6,81,999,6,818,90,118]\n",
    "print(list)\n",
    "list2=[]\n",
    "x=int(input(\"Enter the element You want to remove from the list:\"))\n",
    "for i in list:\n",
    "    if i!=x:\n",
    "        list2.append(i)\n",
    "print(\"The new list is \",list2)\n",
    "        "
   ]
  },
  {
   "cell_type": "code",
   "execution_count": 57,
   "id": "8494d1db-77b8-498c-ad88-322221d28ef8",
   "metadata": {},
   "outputs": [
    {
     "name": "stdout",
     "output_type": "stream",
     "text": [
      "1*1=1\n",
      "1*2=2\n",
      "1*3=3\n",
      "1*4=4\n",
      "1*5=5\n",
      "1*6=6\n",
      "1*7=7\n",
      "1*8=8\n",
      "1*9=9\n",
      "1*10=10\n",
      " \n",
      "2*1=2\n",
      "2*2=4\n",
      "2*3=6\n",
      "2*4=8\n",
      "2*5=10\n",
      "2*6=12\n",
      "2*7=14\n",
      "2*8=16\n",
      "2*9=18\n",
      "2*10=20\n",
      " \n",
      "3*1=3\n",
      "3*2=6\n",
      "3*3=9\n",
      "3*4=12\n",
      "3*5=15\n",
      "3*6=18\n",
      "3*7=21\n",
      "3*8=24\n",
      "3*9=27\n",
      "3*10=30\n",
      " \n",
      "4*1=4\n",
      "4*2=8\n",
      "4*3=12\n",
      "4*4=16\n",
      "4*5=20\n",
      "4*6=24\n",
      "4*7=28\n",
      "4*8=32\n",
      "4*9=36\n",
      "4*10=40\n",
      " \n",
      "5*1=5\n",
      "5*2=10\n",
      "5*3=15\n",
      "5*4=20\n",
      "5*5=25\n",
      "5*6=30\n",
      "5*7=35\n",
      "5*8=40\n",
      "5*9=45\n",
      "5*10=50\n",
      " \n"
     ]
    }
   ],
   "source": [
    "#16.\n",
    "for i in range(1,6):\n",
    "    for j in range(1,11):\n",
    "        print(f\"{i}*{j}={i*j}\")\n",
    "    print(\" \")\n",
    "        "
   ]
  },
  {
   "cell_type": "code",
   "execution_count": 61,
   "id": "33ccc5f4-f4fa-4a15-b429-b780f0e4c60a",
   "metadata": {},
   "outputs": [
    {
     "name": "stdin",
     "output_type": "stream",
     "text": [
      "Enter temperature in farenhiet: 32\n",
      "Enter temperature in farenhiet: 64\n",
      "Enter temperature in farenhiet: 95\n",
      "Enter temperature in farenhiet: 89\n",
      "Enter temperature in farenhiet: 10\n"
     ]
    },
    {
     "name": "stdout",
     "output_type": "stream",
     "text": [
      "The given list of temperatures in farenhiet is  [32, 64, 95, 89, 10]\n",
      " list of temperature's in celsius is  [0.0, 17.7778, 35.0, 31.6667, -12.2222]\n"
     ]
    }
   ],
   "source": [
    "#17.\n",
    "temp=[]\n",
    "cel=[]\n",
    "for i in range(5):\n",
    "    x=int(input(\"Enter temperature in farenhiet:\"))\n",
    "    temp.append(x)\n",
    "print(\"The given list of temperatures in farenhiet is \",temp)\n",
    "for t in temp:\n",
    "    opr=(t-32)*(5/9)\n",
    "    c=round(opr,4) #THis round off function will round off the opr variable upto four places after the decimal\n",
    "    cel.append(c)\n",
    "print(\" list of temperature's in celsius is \",cel)\n"
   ]
  },
  {
   "cell_type": "code",
   "execution_count": 77,
   "id": "97b99ffb-bb34-4c25-8deb-7415962699bb",
   "metadata": {},
   "outputs": [
    {
     "name": "stdout",
     "output_type": "stream",
     "text": [
      "The common elements between the lists are: 89 are python\n"
     ]
    }
   ],
   "source": [
    "#18.\n",
    "list1=[\"hello\" ,7812,89,17, \"python\",67,98]\n",
    "list2=[\"Hello\",\".py\",89,89,\"python\"]\n",
    "l3=[]\n",
    "for i in list1:\n",
    "    for j in list2:\n",
    "        if i==j:\n",
    "            l3.append(j)\n",
    "list3=set(l3)\n",
    "print(\"The common elements between the lists are:\",end=\" \")\n",
    "print(*list3,sep=\" are \")\n",
    "            \n",
    "            "
   ]
  },
  {
   "cell_type": "code",
   "execution_count": 82,
   "id": "33bf06a0-ca4a-4815-a650-9c9b0acf2c9e",
   "metadata": {},
   "outputs": [
    {
     "name": "stdout",
     "output_type": "stream",
     "text": [
      "* * * * * * * * * *  \n",
      "* * * * * * * * *  \n",
      "* * * * * * * *  \n",
      "* * * * * * *  \n",
      "* * * * * *  \n",
      "* * * * *  \n",
      "* * * *  \n",
      "* * *  \n",
      "* *  \n",
      "*  \n",
      " \n",
      "*  \n",
      "* *  \n",
      "* * *  \n",
      "* * * *  \n",
      "* * * * *  \n",
      "* * * * * *  \n",
      "* * * * * * *  \n",
      "* * * * * * * *  \n",
      "* * * * * * * * *  \n"
     ]
    }
   ],
   "source": [
    "#19.\n",
    "for i in range(10,0,-1):\n",
    "    for j in range(i):\n",
    "        print(\"*\",end=\" \")\n",
    "    print(\" \")\n",
    "for i in range(10):\n",
    "    for j in range(i):\n",
    "        print(\"*\",end=\" \")\n",
    "    print(\" \")\n"
   ]
  },
  {
   "cell_type": "code",
   "execution_count": 104,
   "id": "cd1a7186-b5f4-4940-ab5e-cfd8d2cc94cf",
   "metadata": {},
   "outputs": [
    {
     "name": "stdin",
     "output_type": "stream",
     "text": [
      "Enter the 1st number for finding it's GCD 18\n",
      "Enter the 2nd number for finding it's GCD 24\n"
     ]
    },
    {
     "name": "stdout",
     "output_type": "stream",
     "text": [
      "GCD IS  6\n"
     ]
    }
   ],
   "source": [
    "# 20.\n",
    "n1=int(input(\"Enter the 1st number for finding it's GCD\"))\n",
    "n2=int(input(\"Enter the 2nd number for finding it's GCD\"))\n",
    "if n1>n2:\n",
    "    s=n2\n",
    "else:\n",
    "    s=n1\n",
    "for r in range(s,1,-1):\n",
    "    if (n1%r==0 and n2%r==0):\n",
    "        print(\"GCD IS \",r)\n",
    "        break\n",
    "    \n",
    "    \n",
    "\n"
   ]
  },
  {
   "cell_type": "code",
   "execution_count": 7,
   "id": "2aba8645-14ac-491a-a229-c535308e2ff7",
   "metadata": {},
   "outputs": [
    {
     "data": {
      "text/plain": [
       "10"
      ]
     },
     "execution_count": 7,
     "metadata": {},
     "output_type": "execute_result"
    }
   ],
   "source": [
    " #-----------------------------------------------------------------------------------------------------------------------#\n",
    "sum(range(1,5))"
   ]
  },
  {
   "cell_type": "code",
   "execution_count": 49,
   "id": "693fbada-013c-4234-ad64-e3856348ecbd",
   "metadata": {},
   "outputs": [
    {
     "name": "stdout",
     "output_type": "stream",
     "text": [
      "[3, 7, 5, 14]\n"
     ]
    }
   ],
   "source": [
    "#21.\n",
    "lst=[12,43,14,77]\n",
    "lstc=[sum(int(d) for d in str(n)) for n in lst]\n",
    "print(lstc)"
   ]
  },
  {
   "cell_type": "code",
   "execution_count": 51,
   "id": "2218f596-2c0e-45be-8eb9-d520acf8d413",
   "metadata": {},
   "outputs": [
    {
     "name": "stdin",
     "output_type": "stream",
     "text": [
      "Enter a number:  34\n"
     ]
    },
    {
     "name": "stdout",
     "output_type": "stream",
     "text": [
      "Prime factors: [2, 17]\n"
     ]
    }
   ],
   "source": [
    "#22.\n",
    "number = int(input(\"Enter a number: \"))\n",
    "prime_factors = [factor for factor in range(2, number + 1) if number % factor == 0]\n",
    "prime_factors = [factor for factor in prime_factors if all(factor % i != 0 for i in range(2, int(factor**0.5) + 1))]\n",
    "print(\"Prime factors:\", prime_factors)\n"
   ]
  },
  {
   "cell_type": "code",
   "execution_count": 53,
   "id": "f80575b6-3222-4c64-9daf-7446bfd52c72",
   "metadata": {},
   "outputs": [
    {
     "name": "stdout",
     "output_type": "stream",
     "text": [
      "Unique elements: [1, 2, 3, 4, 5, 6, 'hi', 'hello']\n"
     ]
    }
   ],
   "source": [
    "#23.\n",
    "input_list = [1, 2, 2, 3, 4, 4, 5, 6,\"hi\",\"hello\"]\n",
    "unique_elements = [x for i, x in enumerate(input_list) if x not in input_list[i+1:]]\n",
    "print(\"Unique elements:\", unique_elements)\n"
   ]
  },
  {
   "cell_type": "code",
   "execution_count": 1,
   "id": "87efa1ac-5303-4d9c-bb02-dc1791a27921",
   "metadata": {},
   "outputs": [
    {
     "name": "stdin",
     "output_type": "stream",
     "text": [
      "Enter limit: 121\n"
     ]
    },
    {
     "name": "stdout",
     "output_type": "stream",
     "text": [
      "[1, 2, 3, 4, 5, 6, 7, 8, 9, 11, 22, 33, 44, 55, 66, 77, 88, 99, 101, 111, 121]\n"
     ]
    }
   ],
   "source": [
    "#24.\n",
    "num=int(input(\"Enter limit:\"))\n",
    "pald=[i for i in range(1,num+1) if str(i)==str(i)[::-1]]\n",
    "print(pald)"
   ]
  },
  {
   "cell_type": "code",
   "execution_count": 62,
   "id": "a02a9ba4-845b-4c9a-ba4a-93ccaa89e52e",
   "metadata": {},
   "outputs": [
    {
     "name": "stdout",
     "output_type": "stream",
     "text": [
      "Flattened List: [1, 2, 3, 4, 5, 6, 7, 8]\n"
     ]
    }
   ],
   "source": [
    "#25.\n",
    "o_lst=[1,2,3], [4, 5], [6,7,8]\n",
    "\n",
    "f_list = [i for lst in o_lst for i in   lst]\n",
    "\n",
    "print(\"Flattened List:\", f_list)\n"
   ]
  },
  {
   "cell_type": "code",
   "execution_count": 48,
   "id": "6969f62b-9f18-4315-b24f-075019d343ed",
   "metadata": {},
   "outputs": [
    {
     "name": "stdout",
     "output_type": "stream",
     "text": [
      "The sum of all the even numbers are  44\n",
      "The sum of all the odd numbers are  124\n"
     ]
    }
   ],
   "source": [
    "#26.To print the sum of even and odd numbers in a list seprately using list comrehension\n",
    "lst=[13,23,43,45,22,4,8,10]\n",
    "even_lst=[lst[i]for i in range(0,len(lst)) if lst[i]%2==0]\n",
    "odd_lst=[lst[i]for i in range(0,len(lst)) if lst[i]%2!=0]\n",
    "print(\"The sum of all the even numbers are \",sum(even_lst))\n",
    "print(\"The sum of all the odd numbers are \",sum(odd_lst))"
   ]
  },
  {
   "cell_type": "code",
   "execution_count": 49,
   "id": "1070f5ee-5206-46a2-8b48-dabc9c4d475c",
   "metadata": {},
   "outputs": [
    {
     "name": "stdout",
     "output_type": "stream",
     "text": [
      "[1, 9, 25, 49, 81]\n"
     ]
    }
   ],
   "source": [
    "#27.\n",
    "my_lst=[i*i for i in range(1,11) if i%2!=0]\n",
    "print(my_lst)"
   ]
  },
  {
   "cell_type": "code",
   "execution_count": 59,
   "id": "ea3f5790-b5e3-424f-9b83-fb6376f01d1d",
   "metadata": {},
   "outputs": [
    {
     "name": "stdout",
     "output_type": "stream",
     "text": [
      "{'ron': '22', 'harry': '21', 'dumbeldore': '50'}\n"
     ]
    }
   ],
   "source": [
    "#28.To combine two lists into a dictionary using list comprehension\n",
    "lst1=[\"ron\",\"harry\",\"dumbeldore\"]\n",
    "lst2=[\"22\",\"21\",\"50\"]\n",
    "dict={x:y for x,y in zip(lst1,lst2)}  \n",
    "\n",
    "print(dict)"
   ]
  },
  {
   "cell_type": "code",
   "execution_count": 72,
   "id": "bcb9e258-022d-400a-8e3f-29849f038d7b",
   "metadata": {},
   "outputs": [
    {
     "name": "stdin",
     "output_type": "stream",
     "text": [
      "Enter: IRON  MAN,HULK\n"
     ]
    },
    {
     "name": "stdout",
     "output_type": "stream",
     "text": [
      "['i', 'a', 'u'] are the vowels present in your sentence\n"
     ]
    }
   ],
   "source": [
    "#29.\n",
    "word=input(\"Enter:\")\n",
    "lst=[i for i in word.lower() if i==\"a\" or i==\"e\" or i ==\"i\" or i==\"e\" or i==\"u\"]\n",
    "print(f\"{lst} are the vowels present in your sentence\")"
   ]
  },
  {
   "cell_type": "code",
   "execution_count": 12,
   "id": "1f8a0c8b-bde0-4191-9d49-49bb8a0d7bbf",
   "metadata": {},
   "outputs": [
    {
     "name": "stdout",
     "output_type": "stream",
     "text": [
      "['s', 't', 'r', 'i', 'n', 'g', 'f', 's', 't', 'r', 'i', 'n', 'g']\n"
     ]
    }
   ],
   "source": [
    "#30.\n",
    "word=[\"string\",\"fstring@1\"]\n",
    "lst=[i for char in word for i  in char if i.isalpha()==True]\n",
    "print(lst)"
   ]
  },
  {
   "cell_type": "code",
   "execution_count": 13,
   "id": "1f871dd9-938d-4ca7-b684-8dfc975ca72d",
   "metadata": {},
   "outputs": [],
   "source": [
    "#{____________________________________________________________________________________#"
   ]
  },
  {
   "cell_type": "code",
   "execution_count": 24,
   "id": "986db958-7931-4f04-931e-54380aaf1553",
   "metadata": {},
   "outputs": [
    {
     "name": "stdin",
     "output_type": "stream",
     "text": [
      "Enter: 20\n"
     ]
    },
    {
     "name": "stdout",
     "output_type": "stream",
     "text": [
      "[2, 3, 5, 7, 11, 13, 17, 19] Are the prime numbers upto 20\n"
     ]
    }
   ],
   "source": [
    "#31.\n",
    "#sieve of erasthones algorithm \n",
    "import math as m\n",
    "limit=int(input(\"Enter:\"))\n",
    "is_prime = [True] * (limit + 1)    #creating a list of True values upto given limit\n",
    "is_prime[0]=is_prime[1]=False      #setting the 0 and 1 value as false because they are not considered as prime numbers\n",
    "for i in range(2,int(m.sqrt(limit))+1):          #loop starts from 2 to the square root of given number\n",
    "    if is_prime[i]==True:                        #if is_prime list value is True at that iteration(i)\n",
    "        for j in range(i*i,limit+1,i):            #Then starts a loop upto the given number(limit) and convert allthe multiple\n",
    "                is_prime[j]=False\n",
    "prime_num=[]\n",
    "for n in range(2,limit+1):\n",
    "    if is_prime[n]==True:\n",
    "        prime_num.append(n)\n",
    "print(prime_num,\"Are the prime numbers upto\",limit)"
   ]
  },
  {
   "cell_type": "code",
   "execution_count": 32,
   "id": "378a10c0-5739-4b39-9258-fd2623c663c6",
   "metadata": {},
   "outputs": [
    {
     "name": "stdin",
     "output_type": "stream",
     "text": [
      "Enter: 10\n"
     ]
    },
    {
     "name": "stdout",
     "output_type": "stream",
     "text": [
      "[(3, 4, 5), (6, 8, 10)]\n"
     ]
    }
   ],
   "source": [
    "#32.\n",
    "#Pythgorean triplets upto a given number\n",
    "number=int(input(\"Enter:\"))\n",
    "trip=[]\n",
    "for p in range(1,number+1):\n",
    "    for q in range(p+1,number+1):\n",
    "        r_sqrd=p**2 +q**2\n",
    "        r=int(r_sqrd**0.5)\n",
    "        if r*r==r_sqrd and r<=number:\n",
    "            trip.append((p,q,r))\n",
    "print(trip)\n",
    "        \n",
    "        \n",
    "    "
   ]
  },
  {
   "cell_type": "code",
   "execution_count": 15,
   "id": "48815668-fc56-4dc5-946a-025ec3d5e2ed",
   "metadata": {},
   "outputs": [
    {
     "name": "stdout",
     "output_type": "stream",
     "text": [
      "All the possible combinations are [('Hello', 'bye'), ('Hello', 32), ('Hello', 'your'), ('Hello', '34'), (23, 'bye'), (23, 32), (23, 'your'), (23, '34'), ('my', 'bye'), ('my', 32), ('my', 'your'), ('my', '34')]\n"
     ]
    }
   ],
   "source": [
    "#33.To give all the possible combinations of two lists using list comprehension\n",
    "lst1=[\"Hello\", 23,\"my\"]\n",
    "lst2=[\"bye\",32,\"your\",\"34\"]\n",
    "lst3=[(x,y) for x in lst1 for y in lst2]\n",
    "print(\"All the possible combinations are\",lst3)"
   ]
  },
  {
   "cell_type": "code",
   "execution_count": 39,
   "id": "1b3f8fac-f35a-4621-be86-a41850036d62",
   "metadata": {},
   "outputs": [
    {
     "name": "stdout",
     "output_type": "stream",
     "text": [
      "7\n",
      "The mean of the given numbers is 30\n",
      "This is sorted list [10, 12, 12, 14, 28, 52, 88]\n",
      "The median of the given list is  14\n",
      "The mode of the given numbers of list is  12\n"
     ]
    }
   ],
   "source": [
    "#34.To calculate mean median and mode\n",
    "lst_num=[12,14,52,28,10,88,12]\n",
    "l=len(lst_num)\n",
    "print(l)\n",
    "mean=sum([i for i in lst_num])//l\n",
    "print(\"The mean of the given numbers is\",mean)\n",
    "s_lst=sorted(lst_num)\n",
    "print(\"This is sorted list\",s_lst)\n",
    "if l%2!=0:\n",
    "    median=s_lst[l//2]\n",
    "else:\n",
    "    m1=s_lst[(l//2)-1]\n",
    "    m2=s_lst[(l//2)+1]\n",
    "    median=(m1+m2)/2\n",
    "print(\"The median of the given list is \",median)\n",
    "count_of_all={}\n",
    "[count_of_all.update({i: s_lst.count(i)}) for i in s_lst if i not in count_of_all]\n",
    "Mode = max(count_of_all, key=count_of_all.get)\n",
    "print(\"The mode of the given numbers of list is \",Mode)"
   ]
  },
  {
   "cell_type": "code",
   "execution_count": 2,
   "id": "b1a1d6d2-7686-41e6-81b0-d8c56436ae4e",
   "metadata": {},
   "outputs": [
    {
     "name": "stdin",
     "output_type": "stream",
     "text": [
      "Enter 4\n"
     ]
    },
    {
     "name": "stdout",
     "output_type": "stream",
     "text": [
      "[1]\n",
      "[1, 1]\n",
      "[1, 2, 1]\n",
      "[1, 3, 3, 1]\n"
     ]
    }
   ],
   "source": [
    "#35.To generate pasacal's triangle\n",
    "num=int(input(\"Enter\"))\n",
    "p_triangle = [[1]]\n",
    "[p_triangle.append([1] + [p_triangle[row - 1][i - 1] + p_triangle[row - 1][i] for i in range(1, row)] + [1])\n",
    " for row in range(1, num)]\n",
    "\n",
    "for row in p_triangle:\n",
    "    print(row)"
   ]
  },
  {
   "cell_type": "code",
   "execution_count": 6,
   "id": "46415946-0b8d-4d1b-b847-4da6c186683e",
   "metadata": {},
   "outputs": [
    {
     "name": "stdout",
     "output_type": "stream",
     "text": [
      "[25, 16, 9, 4, 1]\n"
     ]
    }
   ],
   "source": [
    "#36.\n",
    "lst=[i*i for i in range(5,0,-1)]\n",
    "print(lst)"
   ]
  },
  {
   "cell_type": "code",
   "execution_count": 21,
   "id": "9c5aa74c-e0e1-42df-a1ed-8de6025b41f0",
   "metadata": {},
   "outputs": [
    {
     "name": "stdout",
     "output_type": "stream",
     "text": [
      "[1, 2, 6, 24, 120]\n",
      "[1, 2, 6, 6, 3]\n"
     ]
    }
   ],
   "source": [
    "#37.\n",
    "fact=[]\n",
    "for i in range(1,6):\n",
    "    f=1\n",
    "    for j in range(i,0,-1):\n",
    "        f=f*j\n",
    "    fact.append(f)\n",
    "    \n",
    "factorial_sums = [\n",
    "    sum(int(digit) for digit in str(factorial)) \n",
    "    for factorial in fact]\n",
    "print(factorial_sums,\"is the sum of digits upto factorial 5\")"
   ]
  },
  {
   "cell_type": "code",
   "execution_count": 23,
   "id": "de322aac-47c9-4666-9f67-22e0172313da",
   "metadata": {},
   "outputs": [
    {
     "name": "stdout",
     "output_type": "stream",
     "text": [
      "Strings with more than three vowels:\n",
      "Operator\n"
     ]
    }
   ],
   "source": [
    "#38.\n",
    "string_list = [\"hello\", \"world\", \"programming\",\"Operator\"]\n",
    "filtered_strings = [s for s in string_list if sum(1 for char in s if char.lower() in \"aeiou\") > 3]\n",
    "\n",
    "print(\"Strings with more than three vowels:\")\n",
    "for string in filtered_strings:\n",
    "    print(string)\n"
   ]
  },
  {
   "cell_type": "code",
   "execution_count": 32,
   "id": "ba274923-f5ec-46fd-93fa-f3b6f5452cbb",
   "metadata": {},
   "outputs": [
    {
     "name": "stdout",
     "output_type": "stream",
     "text": [
      "The sum of digits for numbers from 1 to 1000 is: 13501\n"
     ]
    }
   ],
   "source": [
    "#39.\n",
    "numbers =[i for i in range(1,1001)]\n",
    "digit_sums = [sum(int(digit) for digit in str(num)) for num in numbers]\n",
    "total_sum = sum(digit_sums)\n",
    "print(\"The sum of digits for numbers from 1 to 1000 is:\", total_sum)\n"
   ]
  },
  {
   "cell_type": "code",
   "execution_count": 35,
   "id": "073bc1fb-7336-4f98-8543-310f25b88b6c",
   "metadata": {},
   "outputs": [
    {
     "name": "stdout",
     "output_type": "stream",
     "text": [
      "[1, 2, 3, 5, 7, 11, 101, 131, 151, 181, 191, 313, 353, 373, 383, 727, 757, 787, 797, 919, 929]\n"
     ]
    }
   ],
   "source": [
    "#40.\n",
    "palindromes= [n for n in range(1, 1000) if str(n) == str(n)[::-1]]\n",
    "p_palindromes = [n for n in palindromes if not any(n % i == 0 for i in range(2, int(n**0.5) + 1))]\n",
    "print(p_palindromes)"
   ]
  },
  {
   "cell_type": "code",
   "execution_count": null,
   "id": "11ff6fc6-51a9-4e3d-9376-661b93befa14",
   "metadata": {},
   "outputs": [],
   "source": []
  }
 ],
 "metadata": {
  "kernelspec": {
   "display_name": "Python 3 (ipykernel)",
   "language": "python",
   "name": "python3"
  },
  "language_info": {
   "codemirror_mode": {
    "name": "ipython",
    "version": 3
   },
   "file_extension": ".py",
   "mimetype": "text/x-python",
   "name": "python",
   "nbconvert_exporter": "python",
   "pygments_lexer": "ipython3",
   "version": "3.10.8"
  }
 },
 "nbformat": 4,
 "nbformat_minor": 5
}
