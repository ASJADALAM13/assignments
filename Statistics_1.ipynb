{
 "cells": [
  {
   "cell_type": "code",
   "execution_count": null,
   "id": "bf1a7ad8-5f0f-4cb2-9009-a4407719ab16",
   "metadata": {},
   "outputs": [],
   "source": [
    "#1.\n",
    "\"\"\"\n",
    "Statistics is a way of collecting, organizing, analyzing, and interpreting data to understand patterns, trends, or make decisions\n",
    "\"\"\"\n"
   ]
  },
  {
   "cell_type": "code",
   "execution_count": 2,
   "id": "3d80597a-ea2e-4935-bfe0-3d969a240ede",
   "metadata": {},
   "outputs": [
    {
     "data": {
      "text/plain": [
       "\"\\nThere are two main types of statistics: descriptive and inferential. Here’s a simple breakdown:\\n\\n1. Descriptive Statistics\\nDescriptive statistics summarize and describe the data you have. They help you understand what the data looks like by using numbers \\nlike averages or percentages.\\n\\nExample: Imagine you're a teacher with a class of 30 students,\\nand you want to know the average score on a test. You calculate the average (mean) score, the highest score,\\nand the lowest score. This gives you a snapshot of how the class performed overall.\\n\\nCommon tools: Mean, median, mode, range, and standard deviation.\\n\\n2. Inferential Statistics\\nInferential statistics use the data you have to make predictions or draw conclusions about a larger group (called a population).\\nSince it's often impossible to study everyone in a population, you take a smaller sample and try to infer things about the whole group.\\n\\nExample: Let’s say you want to predict the average height of all students in your school. Instead of measuring every student,\\nyou measure the height of 50 students. Then, you use that data to make an educated guess about the average height of all students in the school.\\n\\nCommon tools: Hypothesis testing, confidence intervals, regression analysis.\\n\\nWhen to Use Each:\\nDescriptive statistics: When you just want to summarize or describe data (e.g., finding the average test score for a single class).\\nInferential statistics: When you want to make predictions or generalizations about a larger group based on a smaller sample (e.g.,\\npredicting the average test score for all students in a school based on a sample).\\n\\n\""
      ]
     },
     "execution_count": 2,
     "metadata": {},
     "output_type": "execute_result"
    }
   ],
   "source": [
    "#2.\n",
    "\"\"\"\n",
    "There are two main types of statistics: descriptive and inferential. Here’s a simple breakdown:\n",
    "\n",
    "1. Descriptive Statistics\n",
    "Descriptive statistics summarize and describe the data you have. They help you understand what the data looks like by using numbers \n",
    "like averages or percentages.\n",
    "\n",
    "Example: Imagine you're a teacher with a class of 30 students,\n",
    "and you want to know the average score on a test. You calculate the average (mean) score, the highest score,\n",
    "and the lowest score. This gives you a snapshot of how the class performed overall.\n",
    "\n",
    "Common tools: Mean, median, mode, range, and standard deviation.\n",
    "\n",
    "2. Inferential Statistics\n",
    "Inferential statistics use the data you have to make predictions or draw conclusions about a larger group (called a population).\n",
    "Since it's often impossible to study everyone in a population, you take a smaller sample and try to infer things about the whole group.\n",
    "\n",
    "Example: Let’s say you want to predict the average height of all students in your school. Instead of measuring every student,\n",
    "you measure the height of 50 students. Then, you use that data to make an educated guess about the average height of all students in the school.\n",
    "\n",
    "Common tools: Hypothesis testing, confidence intervals, regression analysis.\n",
    "\n",
    "When to Use Each:\n",
    "Descriptive statistics: When you just want to summarize or describe data (e.g., finding the average test score for a single class).\n",
    "Inferential statistics: When you want to make predictions or generalizations about a larger group based on a smaller sample (e.g.,\n",
    "predicting the average test score for all students in a school based on a sample).\n",
    "\n",
    "\"\"\"\n",
    "\n",
    "\n",
    "\n"
   ]
  },
  {
   "cell_type": "code",
   "execution_count": 3,
   "id": "ab246f23-cd25-4703-8664-3820f412daa4",
   "metadata": {},
   "outputs": [
    {
     "data": {
      "text/plain": [
       "'\\n\\nData can be classified into two main types: qualitative (categorical) and quantitative (numerical).\\nHere’s a simple breakdown of each, along with examples:\\n\\n1. Qualitative Data (Categorical Data)\\nQualitative data describes qualities or categories that cannot be measured with numbers. \\nIt’s used to label or categorize things based on their characteristics.\\n\\nTypes of Qualitative Data:\\nNominal: Data with categories that have no specific order.\\nExample: Eye color (blue, brown, green).\\nOrdinal: Data with categories that have a specific order or ranking, but the differences between the ranks aren’t measured.\\nExample: Satisfaction levels (satisfied, neutral, dissatisfied).\\n2. Quantitative Data (Numerical Data)\\nQuantitative data represents numbers or quantities, allowing you to measure and perform mathematical operations on the data.\\n\\nTypes of Quantitative Data:\\nDiscrete: Data that consists of whole numbers or counts (you can\\'t have fractions of these values).\\n\\nExample: Number of students in a classroom (e.g., 25 students).\\nContinuous: Data that can take any value within a range, often measured with decimal points.\\n\\nExample: Height of students (e.g., 5.6 feet, 6.1 feet).\\nHow They Differ:\\nQualitative data describes categories or qualities, and it often answers \"what kind\" questions (e.g., \"What color is your car?\").\\nQuantitative data involves numbers and measurements, answering \"how much\" or \"how many\"\\n\\n'"
      ]
     },
     "execution_count": 3,
     "metadata": {},
     "output_type": "execute_result"
    }
   ],
   "source": [
    "#3.\n",
    "\"\"\"\n",
    "\n",
    "Data can be classified into two main types: qualitative (categorical) and quantitative (numerical).\n",
    "Here’s a simple breakdown of each, along with examples:\n",
    "\n",
    "1. Qualitative Data (Categorical Data)\n",
    "Qualitative data describes qualities or categories that cannot be measured with numbers. \n",
    "It’s used to label or categorize things based on their characteristics.\n",
    "\n",
    "Types of Qualitative Data:\n",
    "Nominal: Data with categories that have no specific order.\n",
    "Example: Eye color (blue, brown, green).\n",
    "Ordinal: Data with categories that have a specific order or ranking, but the differences between the ranks aren’t measured.\n",
    "Example: Satisfaction levels (satisfied, neutral, dissatisfied).\n",
    "2. Quantitative Data (Numerical Data)\n",
    "Quantitative data represents numbers or quantities, allowing you to measure and perform mathematical operations on the data.\n",
    "\n",
    "Types of Quantitative Data:\n",
    "Discrete: Data that consists of whole numbers or counts (you can't have fractions of these values).\n",
    "\n",
    "Example: Number of students in a classroom (e.g., 25 students).\n",
    "Continuous: Data that can take any value within a range, often measured with decimal points.\n",
    "\n",
    "Example: Height of students (e.g., 5.6 feet, 6.1 feet).\n",
    "How They Differ:\n",
    "Qualitative data describes categories or qualities, and it often answers \"what kind\" questions (e.g., \"What color is your car?\").\n",
    "Quantitative data involves numbers and measurements, answering \"how much\" or \"how many\"\n",
    "\n",
    "\"\"\""
   ]
  },
  {
   "cell_type": "code",
   "execution_count": 5,
   "id": "4e5b631f-939d-4ab1-a791-80b3899e7bc6",
   "metadata": {},
   "outputs": [
    {
     "data": {
      "text/plain": [
       "'\\n(i) Qualitative (Ordinal)\\n(ii) Qualitative (Nominal)\\n(iii) Quantitative (Continuous)\\n(iv) Quantitative (Discrete)\\n\\n\\n\\n\\n\\n'"
      ]
     },
     "execution_count": 5,
     "metadata": {},
     "output_type": "execute_result"
    }
   ],
   "source": [
    "#4.\n",
    "\"\"\"\n",
    "(i) Qualitative (Ordinal)\n",
    "(ii) Qualitative (Nominal)\n",
    "(iii) Quantitative (Continuous)\n",
    "(iv) Quantitative (Discrete)\n",
    "\n",
    "\"\"\""
   ]
  },
  {
   "cell_type": "code",
   "execution_count": 1,
   "id": "702493bd-0b30-43a7-9828-bff45981fc9d",
   "metadata": {},
   "outputs": [
    {
     "data": {
      "text/plain": [
       "'\\nLevels of measurement are different ways to describe data based on how it\\'s organized and what kind of math we can do with it. \\nThere are four main levels:\\n\\nNominal Level (Names):\\n\\nDefinition: Data is put into categories or groups, but there’s no order to these groups.\\nExample: Hair color (black, brown, blonde).\\nOrdinal Level (Order):\\n\\nDefinition: Data is arranged in a certain order, but the gaps between the ranks don\\'t matter.\\nExample: Movie ratings (good, better, best).\\nInterval Level (Equal Gaps):\\n\\nDefinition: Data is ordered, and the gaps between the numbers matter, but there’s no true zero.\\nExample: Temperature (10°C is hotter than 5°C, but there’s no \"zero\" temperature where heat stops).\\nRatio Level (True Zero):\\n\\nDefinition: Data is ordered, gaps matter, and there’s a true zero, meaning \"none\" of what you’re measuring.\\nExample: Money in your bank account (having $0 means no money).\\n'"
      ]
     },
     "execution_count": 1,
     "metadata": {},
     "output_type": "execute_result"
    }
   ],
   "source": [
    "#5\n",
    "\"\"\"\n",
    "Levels of measurement are different ways to describe data based on how it's organized and what kind of math we can do with it. \n",
    "There are four main levels:\n",
    "\n",
    "Nominal Level (Names):\n",
    "\n",
    "Definition: Data is put into categories or groups, but there’s no order to these groups.\n",
    "Example: Hair color (black, brown, blonde).\n",
    "Ordinal Level (Order):\n",
    "\n",
    "Definition: Data is arranged in a certain order, but the gaps between the ranks don't matter.\n",
    "Example: Movie ratings (good, better, best).\n",
    "Interval Level (Equal Gaps):\n",
    "\n",
    "Definition: Data is ordered, and the gaps between the numbers matter, but there’s no true zero.\n",
    "Example: Temperature (10°C is hotter than 5°C, but there’s no \"zero\" temperature where heat stops).\n",
    "Ratio Level (True Zero):\n",
    "\n",
    "Definition: Data is ordered, gaps matter, and there’s a true zero, meaning \"none\" of what you’re measuring.\n",
    "Example: Money in your bank account (having $0 means no money).\n",
    "\"\"\""
   ]
  },
  {
   "cell_type": "code",
   "execution_count": 2,
   "id": "f5328bbd-3776-45c5-a347-7d600de19c7f",
   "metadata": {},
   "outputs": [
    {
     "data": {
      "text/plain": [
       "'\\n\\nUnderstanding the level of measurement is important because it tells us what kind of data we are dealing with, \\nwhich affects the types of statistical methods we can use to analyze it.\\nUsing the wrong analysis method for the wrong data type can lead to misleading results or incorrect conclusions'"
      ]
     },
     "execution_count": 2,
     "metadata": {},
     "output_type": "execute_result"
    }
   ],
   "source": [
    "#6.\n",
    "\"\"\"\n",
    "\n",
    "Understanding the level of measurement is important because it tells us what kind of data we are dealing with, \n",
    "which affects the types of statistical methods we can use to analyze it.\n",
    "Using the wrong analysis method for the wrong data type can lead to misleading results or incorrect conclusions\"\"\""
   ]
  },
  {
   "cell_type": "code",
   "execution_count": 3,
   "id": "a33f5266-375b-4198-97d6-f64a4e240bf0",
   "metadata": {},
   "outputs": [
    {
     "data": {
      "text/plain": [
       "'\\nNominal Data:\\nDefinition: Data is categorized into groups that have no inherent order.\\nExample: Blood type (A, B, AB, O). These categories are just labels, and there is no ranking between them.\\nKey Feature: No ranking or order.\\nOrdinal Data:\\nDefinition: Data is categorized into groups that can be ordered or ranked, but the differences between ranks aren\\'t equal.\\nExample: Satisfaction level (Very Unsatisfied, Unsatisfied, Neutral, Satisfied, Very Satisfied). These categories have a meaningful order, but the \"distance\" between them isn\\'t clear or equal.\\nKey Feature: Has a meaningful order or ranking, but differences between the ranks are not meaningful.\\n'"
      ]
     },
     "execution_count": 3,
     "metadata": {},
     "output_type": "execute_result"
    }
   ],
   "source": [
    "#7.\n",
    "\"\"\"\n",
    "Nominal Data:\n",
    "Definition: Data is categorized into groups that have no inherent order.\n",
    "Example: Blood type (A, B, AB, O). These categories are just labels, and there is no ranking between them.\n",
    "Key Feature: No ranking or order.\n",
    "Ordinal Data:\n",
    "Definition: Data is categorized into groups that can be ordered or ranked, but the differences between ranks aren't equal.\n",
    "Example: Satisfaction level (Very Unsatisfied, Unsatisfied, Neutral, Satisfied, Very Satisfied). These categories have a meaningful order, but the \"distance\" between them isn't clear or equal.\n",
    "Key Feature: Has a meaningful order or ranking, but differences between the ranks are not meaningful.\n",
    "\"\"\""
   ]
  },
  {
   "cell_type": "code",
   "execution_count": 4,
   "id": "06ca30b7-67ee-4a0f-9cd5-15fcde97e14a",
   "metadata": {},
   "outputs": [
    {
     "data": {
      "text/plain": [
       "'\\nQ8. Which type of plot can be used to display data in terms of range?\\nA box plot (also called a box-and-whisker plot) is ideal for displaying data in terms of range. It shows the:\\n\\nMinimum\\nFirst quartile (Q1)\\nMedian (Q2)\\nThird quartile (Q3)\\nMaximum\\n'"
      ]
     },
     "execution_count": 4,
     "metadata": {},
     "output_type": "execute_result"
    }
   ],
   "source": [
    "#8\n",
    "\"\"\"\n",
    "Q8. Which type of plot can be used to display data in terms of range?\n",
    "A box plot (also called a box-and-whisker plot) is ideal for displaying data in terms of range. It shows the:\n",
    "\n",
    "Minimum\n",
    "First quartile (Q1)\n",
    "Median (Q2)\n",
    "Third quartile (Q3)\n",
    "Maximum\n",
    "\"\"\""
   ]
  },
  {
   "cell_type": "code",
   "execution_count": null,
   "id": "79ab509c-2aa5-48d8-b8f1-f1a7811c2427",
   "metadata": {},
   "outputs": [],
   "source": []
  }
 ],
 "metadata": {
  "kernelspec": {
   "display_name": "Python 3 (ipykernel)",
   "language": "python",
   "name": "python3"
  },
  "language_info": {
   "codemirror_mode": {
    "name": "ipython",
    "version": 3
   },
   "file_extension": ".py",
   "mimetype": "text/x-python",
   "name": "python",
   "nbconvert_exporter": "python",
   "pygments_lexer": "ipython3",
   "version": "3.11.4"
  }
 },
 "nbformat": 4,
 "nbformat_minor": 5
}
