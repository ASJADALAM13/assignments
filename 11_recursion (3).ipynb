{
 "cells": [
  {
   "cell_type": "code",
   "execution_count": 8,
   "id": "4cb2b9ae-4bc4-4c3b-8c9f-378e22e0d0f9",
   "metadata": {},
   "outputs": [
    {
     "name": "stdout",
     "output_type": "stream",
     "text": [
      "MOVE DISC 1 FROM A TO C\n",
      "MOVE DISC 2 FROM A TO B\n",
      "MOVE DISC 1 FROM C TO B\n",
      "MOVE DISC 3 FROM A TO C\n",
      "MOVE DISC 1 FROM B TO A\n",
      "MOVE DISC 2 FROM B TO C\n",
      "MOVE DISC 1 FROM A TO C\n"
     ]
    }
   ],
   "source": [
    "#1.\n",
    "\"\"\"\n",
    "The tower of hanoi problem is a prblem which involves moving of stacks of discs from one rod to another  by following rules:\n",
    "1.Only one disc can be moved at a time.\n",
    "2.Each move consists of taking the upper disc from one of the stacks and placing it on top of another stack or on an empty rod.\n",
    "3.No disc may be placed on top of a smaller disc.\n",
    "\"\"\"\n",
    "\n",
    "\"\"\"We are Assuming that there are three rods(A,B,C) and three discs(i.e n=3) at  Rod A(Source) .\n",
    "we have to shift all the discs to  Rod C(destination) \n",
    "using an Rod B(Temproray destination) .\"\"\"\n",
    "\n",
    "\"\"\"Recursive approach in this:\n",
    "1.Base case-If there is only one disc in A:Shift it To C\n",
    "\n",
    "2.Recursive case-If there is more than one disc in A:\n",
    "    Move upper n-1(in our case n=3 so n-1=2) Discs to B and Move nth disc to C From A\n",
    "    then,Move the n-1 discs to C from B\n",
    "\"\"\"\n",
    "\n",
    "\"\"\"code is here\"\"\"\n",
    "                #    A   ,B    ,C    \n",
    "def tower_hanoi(N,SRCE,DESTN,TEMP_SRCE):\n",
    "    if N==1:\n",
    "        print(f\"MOVE DISC 1 FROM {SRCE} TO {DESTN}\")\n",
    "        return\n",
    "    \n",
    "    tower_hanoi(N-1,SRCE,TEMP_SRCE,DESTN)  #temp_srce<=>DESTN\n",
    "    print(f\"MOVE DISC {N} FROM {SRCE} TO {DESTN}\")\n",
    "    tower_hanoi(N-1,TEMP_SRCE,DESTN,SRCE)\n",
    "    \n",
    "tower_hanoi(3,'A','C','B')"
   ]
  },
  {
   "cell_type": "code",
   "execution_count": 12,
   "id": "04bd6271-cd7b-40c3-a0a1-2f5026158dca",
   "metadata": {},
   "outputs": [
    {
     "name": "stdin",
     "output_type": "stream",
     "text": [
      "Enter Word-1: HORSE\n",
      "Enter Word-2: ROS\n"
     ]
    },
    {
     "name": "stdout",
     "output_type": "stream",
     "text": [
      "The mininmum number of steps required are: 3\n"
     ]
    }
   ],
   "source": [
    "#2.\n",
    "def min_operations(word1,word2):\n",
    "    m, n = len(word1), len(word2)\n",
    "    pw = [[0] * (n + 1) for k in range(m + 1)]\n",
    "    for i in range(m + 1):\n",
    "        pw[i][0] = i\n",
    "    for j in range(n + 1):\n",
    "        pw[0][j] = j\n",
    "    \n",
    "    for i in range(1, m + 1):\n",
    "        for j in range(1, n + 1):\n",
    "            if word1[i - 1] == word2[j - 1]:\n",
    "                pw[i][j] = pw[i - 1][j - 1]\n",
    "            else:\n",
    "                pw[i][j] =1+min(pw[i-1][j],pw[i][j-1],pw[i-1][j-1])\n",
    "    \n",
    "    return(pw[m][n])\n",
    "\n",
    "    \n",
    "word1=input(\"Enter Word-1:\")\n",
    "word2=input(\"Enter Word-2:\")\n",
    "\n",
    "output=min_operations(word1,word2)\n",
    "print(\"The mininmum number of steps required are:\",output)"
   ]
  },
  {
   "cell_type": "code",
   "execution_count": 2,
   "id": "1f416082-b677-4792-95d3-b93558059019",
   "metadata": {},
   "outputs": [
    {
     "name": "stdout",
     "output_type": "stream",
     "text": [
      "The maximum value in the array is: 22\n"
     ]
    }
   ],
   "source": [
    "#3.\n",
    "array=[13, 1, -3, 22, 5]\n",
    "\n",
    "def max_val(arr):\n",
    "    l=len(arr)\n",
    "    grt=arr[0]\n",
    "    for i in range(l):\n",
    "        if arr[i]>grt:\n",
    "            grt=arr[i]\n",
    "            \n",
    "    return grt\n",
    "    \n",
    "grtst=max_val(array)\n",
    "print(\"The maximum value in the array is:\",grtst)"
   ]
  },
  {
   "cell_type": "code",
   "execution_count": 5,
   "id": "2d2700fb-9c3a-4f21-b3b5-363ca9359925",
   "metadata": {},
   "outputs": [
    {
     "name": "stdout",
     "output_type": "stream",
     "text": [
      "Sum of all the elements in the array is: 120\n"
     ]
    }
   ],
   "source": [
    "#4.\n",
    "array=[92, 23, 15, -20, 10]\n",
    "\n",
    "def sum_of_all(arr):\n",
    "    sum=0\n",
    "    for i in array:\n",
    "        sum=sum+i\n",
    "    return(sum)\n",
    "    \n",
    "array_sum=sum_of_all(array)\n",
    "print(\"Sum of all the elements in the array is:\",array_sum)\n"
   ]
  },
  {
   "cell_type": "code",
   "execution_count": 20,
   "id": "ce7c395d-ddd4-4f55-bc64-25d17b2575c4",
   "metadata": {},
   "outputs": [
    {
     "name": "stdin",
     "output_type": "stream",
     "text": [
      "Enter The number: 153\n"
     ]
    },
    {
     "name": "stdout",
     "output_type": "stream",
     "text": [
      "This is an armstrong number\n"
     ]
    }
   ],
   "source": [
    "#5.\n",
    "num=int(input(\"Enter The number:\"))\n",
    "def armstrong(n):\n",
    "    lst=[]\n",
    "    sum=0\n",
    "    while n>=1:\n",
    "        Rem=n%10\n",
    "        lst.append(Rem)\n",
    "        n=n//10\n",
    "    for i in (lst):\n",
    "        sum=sum+i**3\n",
    "    return sum\n",
    "Check=armstrong(num)\n",
    "if Check==num:\n",
    "    print(\"This is an armstrong number\")\n",
    "else:\n",
    "    print(\"This is not an armstrong number\")"
   ]
  },
  {
   "cell_type": "code",
   "execution_count": null,
   "id": "1bf4daa7-aa63-4d59-9ad2-e86e4753bcf2",
   "metadata": {},
   "outputs": [],
   "source": []
  }
 ],
 "metadata": {
  "kernelspec": {
   "display_name": "Python 3 (ipykernel)",
   "language": "python",
   "name": "python3"
  },
  "language_info": {
   "codemirror_mode": {
    "name": "ipython",
    "version": 3
   },
   "file_extension": ".py",
   "mimetype": "text/x-python",
   "name": "python",
   "nbconvert_exporter": "python",
   "pygments_lexer": "ipython3",
   "version": "3.10.8"
  }
 },
 "nbformat": 4,
 "nbformat_minor": 5
}
