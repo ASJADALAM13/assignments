{
 "cells": [
  {
   "cell_type": "code",
   "execution_count": 4,
   "id": "84d06626-3fa9-4a7c-86da-1445da96943e",
   "metadata": {},
   "outputs": [],
   "source": [
    "import pandas as pd\n",
    "%config Completer.use_jedi = False"
   ]
  },
  {
   "cell_type": "code",
   "execution_count": 11,
   "id": "1ab7816e-625a-4895-9fb8-15c012471010",
   "metadata": {},
   "outputs": [
    {
     "name": "stdout",
     "output_type": "stream",
     "text": [
      "0     4\n",
      "1     8\n",
      "2    15\n",
      "3    16\n",
      "4    23\n",
      "5    42\n",
      "dtype: int64\n"
     ]
    }
   ],
   "source": [
    "#1\n",
    "lst=[4, 8, 15, 16, 23,42]\n",
    "ds=pd.Series(list)\n",
    "print(ds)"
   ]
  },
  {
   "cell_type": "code",
   "execution_count": 12,
   "id": "6114b8c7-6f3b-4186-85c9-4584a9c37469",
   "metadata": {},
   "outputs": [
    {
     "name": "stdout",
     "output_type": "stream",
     "text": [
      "0    10\n",
      "1     9\n",
      "2    18\n",
      "3    17\n",
      "4     2\n",
      "5     6\n",
      "6     7\n",
      "7     8\n",
      "8     9\n",
      "9    11\n",
      "dtype: int64\n"
     ]
    }
   ],
   "source": [
    "#2.\n",
    "list1=[10,9,18,17,2,6,7,8,9,11]\n",
    "ds1=pd.Series(list1)\n",
    "\n",
    "print(ds1.head(10))    #Print all the Values\n"
   ]
  },
  {
   "cell_type": "code",
   "execution_count": 14,
   "id": "373fe1b5-dd02-4c48-848e-5f0ff6ea4c89",
   "metadata": {},
   "outputs": [
    {
     "name": "stdout",
     "output_type": "stream",
     "text": [
      "     Name  Age  Gender\n",
      "0   Alice   25  Female\n",
      "1     Bob   30    Male\n",
      "2  Claire   27  Female\n"
     ]
    }
   ],
   "source": [
    "#3.\n",
    "data={'Name':['Alice','Bob','Claire'],'Age':[25,30,27],'Gender':['Female','Male','Female']}\n",
    "df1=pd.DataFrame(data)\n",
    "print(df1)"
   ]
  },
  {
   "cell_type": "code",
   "execution_count": 27,
   "id": "a2c33558-c911-445b-924e-ab3be47a3f85",
   "metadata": {},
   "outputs": [
    {
     "name": "stdout",
     "output_type": "stream",
     "text": [
      "1    24\n",
      "2    25\n",
      "3    26\n",
      "4    27\n",
      "dtype: int64\n",
      "1    28\n",
      "2    29\n",
      "3    30\n",
      "4    31\n",
      "dtype: int64\n",
      "   Column1  Column2\n",
      "1       24       28\n",
      "2       25       29\n",
      "3       26       30\n",
      "4       27       31\n"
     ]
    }
   ],
   "source": [
    "#4.\n",
    "\"\"\"DataFrame is an Two dimensional labeled, Tabular Data Structre,like table of rows and columns \n",
    "whereas DataSeries is one dimensional labeled array like a list with lables(index)\"\"\"\n",
    "\n",
    "#example\n",
    "data_series={1:24,2:25,3:26,4:27}\n",
    "ds4=pd.Series(data_series)\n",
    "#Here i have series with my own index 1,2,3,4\n",
    "print(ds4)\n",
    "\n",
    "data_series={1:28,2:29,3:30,4:31}\n",
    "ds5=pd.Series(data_series)\n",
    "print(ds5) #Data Series 2\n",
    "\n",
    "#now we will create a DataFrame from these two Data_Series\n",
    "\n",
    "df4 = pd.DataFrame({'Column1': ds4, 'Column2': ds5})\n",
    "print(df4)"
   ]
  },
  {
   "cell_type": "code",
   "execution_count": 31,
   "id": "966ee70e-da3b-4448-97d8-09b08fa68139",
   "metadata": {},
   "outputs": [
    {
     "name": "stdout",
     "output_type": "stream",
     "text": [
      "   Column1  Column2\n",
      "1       24       28\n",
      "2       25       29\n",
      "3       26       30\n",
      "4       27       31 \n",
      "\n",
      "Column1    4\n",
      "Column2    4\n",
      "dtype: int64\n"
     ]
    }
   ],
   "source": [
    "#5.\n",
    "\"\"\"\n",
    "Some common functions you can use to manipulate data in a Pandas DataFrame are:-\n",
    "     df=pd.read_csv('file_name')\n",
    "     df=pd.read_excel('file_name')\n",
    "    df['column_name1','column_name2']\n",
    "    \n",
    "    pandas.concat() #used to add new columns in DataFrame\n",
    "    df4.drop()  #used to Delete  columns in DataFrame\n",
    "    df4.head()  #used to print first five elements of a  DataFrame\n",
    "    df4.tail()  #used to print last five elements of a DataFrame\n",
    "    df4.count()  #is used to count the non-null values in each column (or row) of a DataFrame.\n",
    "\"\"\"\n",
    "\n",
    "#example\n",
    "print(df4,\"\\n\")\n",
    "print(df4.count())\n"
   ]
  },
  {
   "cell_type": "code",
   "execution_count": 32,
   "id": "2d8d25ba-6a2c-48a4-9b9d-50508e8f9c2c",
   "metadata": {},
   "outputs": [
    {
     "data": {
      "text/plain": [
       "'ALL Three \\nseries,DataFrame,panel are Mutable'"
      ]
     },
     "execution_count": 32,
     "metadata": {},
     "output_type": "execute_result"
    }
   ],
   "source": [
    "#6.\n",
    "\"\"\"ALL Three \n",
    "series,DataFrame,panel are Mutable\"\"\""
   ]
  },
  {
   "cell_type": "code",
   "execution_count": 13,
   "id": "b0cc5bb9-4e4a-4595-99c5-ad4ef28bde18",
   "metadata": {},
   "outputs": [
    {
     "name": "stdout",
     "output_type": "stream",
     "text": [
      "   ID_no   Name      Stream  Subject_code  Percentage\n",
      "0      1   Ashu         PCB           102       80.00\n",
      "1      2  Sahil    Commerce           204       78.35\n",
      "2      3   Faiz         PCM           103       91.00\n",
      "3      4   Arsh  Humanities           301       75.00\n"
     ]
    }
   ],
   "source": [
    "#7.\n",
    "R1=[1,2,3,4]\n",
    "Na=[\"Ashu\",\"Sahil\",\"Faiz\",\"Arsh\"]\n",
    "stm=[\"PCB\",\"Commerce\",\"PCM\",\"Humanities\"]\n",
    "Sub_C=[102,204,103,301]\n",
    "perc=[80.0,78.35,91.0,75]\n",
    "\n",
    "s1=pd.Series(R1)\n",
    "s2=pd.Series(Na)\n",
    "s3=pd.Series(stm)\n",
    "s4=pd.Series(Sub_C)\n",
    "s5=pd.Series(perc)\n",
    "\n",
    "\n",
    "df7=pd.DataFrame({\"ID_no\":R1,\"Name\":Na ,\"Stream\":stm ,\"Subject_code\":Sub_C ,\"Percentage\":perc})\n",
    "print(df7)"
   ]
  },
  {
   "cell_type": "code",
   "execution_count": null,
   "id": "164de353-f507-425f-a2e8-5cdd3f06e605",
   "metadata": {},
   "outputs": [],
   "source": []
  }
 ],
 "metadata": {
  "kernelspec": {
   "display_name": "Python 3 (ipykernel)",
   "language": "python",
   "name": "python3"
  },
  "language_info": {
   "codemirror_mode": {
    "name": "ipython",
    "version": 3
   },
   "file_extension": ".py",
   "mimetype": "text/x-python",
   "name": "python",
   "nbconvert_exporter": "python",
   "pygments_lexer": "ipython3",
   "version": "3.10.8"
  }
 },
 "nbformat": 4,
 "nbformat_minor": 5
}
