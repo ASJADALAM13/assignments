{
 "cells": [
  {
   "cell_type": "code",
   "execution_count": 1,
   "id": "c83eb238-9aed-42e8-b687-382bb01758b4",
   "metadata": {},
   "outputs": [],
   "source": [
    "#______________________________________________________Control flow_________________________________________________________"
   ]
  },
  {
   "cell_type": "code",
   "execution_count": 1,
   "id": "69b93384-f5e9-4601-8399-5fd2a424f581",
   "metadata": {},
   "outputs": [
    {
     "name": "stdin",
     "output_type": "stream",
     "text": [
      "Enter: -1\n"
     ]
    },
    {
     "name": "stdout",
     "output_type": "stream",
     "text": [
      "Negative number\n"
     ]
    }
   ],
   "source": [
    "#1.\n",
    "n=int(input(\"Enter:\"))\n",
    "if n>0:\n",
    "    print(\"Positive number:\")\n",
    "elif n==0:\n",
    "    print(\"Number is zero\")\n",
    "else:\n",
    "    print(\"Negative number\")\n",
    "    "
   ]
  },
  {
   "cell_type": "code",
   "execution_count": 2,
   "id": "9e8dce1d-f052-42c6-8180-0515b702c51b",
   "metadata": {},
   "outputs": [
    {
     "name": "stdin",
     "output_type": "stream",
     "text": [
      "Enter your age: 29\n"
     ]
    },
    {
     "name": "stdout",
     "output_type": "stream",
     "text": [
      "Eligible to vote:\n"
     ]
    }
   ],
   "source": [
    "#2.\n",
    "age=int(input(\"Enter your age:\"))\n",
    "if age>=18:\n",
    "    print(\"Eligible to vote:\")\n",
    "else:\n",
    "    print(\"Not eligible to vote\")\n",
    "    "
   ]
  },
  {
   "cell_type": "code",
   "execution_count": 3,
   "id": "49d7cacf-8e12-4675-bd25-74a9bb58062a",
   "metadata": {},
   "outputs": [
    {
     "name": "stdin",
     "output_type": "stream",
     "text": [
      "Enter your first number: 34\n",
      "Enter your second number: 23\n"
     ]
    },
    {
     "name": "stdout",
     "output_type": "stream",
     "text": [
      "The maximum number is  34\n"
     ]
    }
   ],
   "source": [
    "#3.\n",
    "n1=int(input(\"Enter your first number:\"))\n",
    "n2=int(input(\"Enter your second number:\"))\n",
    "if n1>n2:\n",
    "    print(\"The maximum number is \",n1)\n",
    "else:\n",
    "    print(\"The maximum number is \",n2)\n",
    "        "
   ]
  },
  {
   "cell_type": "code",
   "execution_count": 10,
   "id": "cbc6da54-260b-4e8a-b5bb-effb700e49c8",
   "metadata": {},
   "outputs": [
    {
     "name": "stdin",
     "output_type": "stream",
     "text": [
      "Enter the year : 2000\n"
     ]
    },
    {
     "name": "stdout",
     "output_type": "stream",
     "text": [
      "This year is not a leap year\n"
     ]
    }
   ],
   "source": [
    "#4.\n",
    "year=int(input(\"Enter the year :\"))\n",
    "if (year % 4 == 0 and year % 100 != 0) or (year % 400 == 0):\n",
    "    print(\"This year is a leap year\")\n",
    "else:\n",
    "    print(\"This year is not a leap year\")"
   ]
  },
  {
   "cell_type": "code",
   "execution_count": 4,
   "id": "1c273ac8-6d96-4193-b03f-a8181ecc553d",
   "metadata": {},
   "outputs": [
    {
     "name": "stdin",
     "output_type": "stream",
     "text": [
      "Enter your character: R\n"
     ]
    },
    {
     "name": "stdout",
     "output_type": "stream",
     "text": [
      "Given character is a Consonant:\n"
     ]
    }
   ],
   "source": [
    "#5\n",
    "char=input(\"Enter your character:\")\n",
    "vow=[\"a\",\"e\",\"i\",\"o\",\"u\"]\n",
    "if char.lower() in vow:\n",
    "    print(\"Given character is a Vowel:\")\n",
    "else:\n",
    "    print(\"Given character is a Consonant:\")\n",
    "    \n",
    "    "
   ]
  },
  {
   "cell_type": "code",
   "execution_count": 9,
   "id": "87939a70-b7e9-40c6-956d-8fe0bc60eb93",
   "metadata": {},
   "outputs": [
    {
     "name": "stdin",
     "output_type": "stream",
     "text": [
      "Enter your number: 56\n"
     ]
    },
    {
     "name": "stdout",
     "output_type": "stream",
     "text": [
      "Given number is even:\n"
     ]
    }
   ],
   "source": [
    "#6.\n",
    "n1=int(input(\"Enter your number:\"))\n",
    "if n1%2==0:\n",
    "    print(\"Given number is even:\")\n",
    "else:\n",
    "    print(\"Given number is odd:\")"
   ]
  },
  {
   "cell_type": "code",
   "execution_count": 14,
   "id": "a21d03c6-cbc5-408e-99ca-78169a5e094b",
   "metadata": {},
   "outputs": [
    {
     "name": "stdin",
     "output_type": "stream",
     "text": [
      "Enter your number: -90\n"
     ]
    },
    {
     "name": "stdout",
     "output_type": "stream",
     "text": [
      "The absolute value is: 90\n"
     ]
    }
   ],
   "source": [
    "#7.\n",
    "n1=int(input(\"Enter your number:\"))\n",
    "if n1<0:\n",
    "    print(\"The absolute value is:\",n1*(-1))\n",
    "elif n1>0:\n",
    "    print(\"The absolute value is:\",n1)\n",
    "else:\n",
    "    print(\"Invalid input:\")\n",
    "    \n"
   ]
  },
  {
   "cell_type": "code",
   "execution_count": 8,
   "id": "95055eca-7295-4e44-aa73-9bf0c7d43789",
   "metadata": {},
   "outputs": [
    {
     "name": "stdin",
     "output_type": "stream",
     "text": [
      "Enter your  1st number: 12\n",
      "Enter your  2nd number: 13\n",
      "Enter your  3rd number: 15\n"
     ]
    },
    {
     "name": "stdout",
     "output_type": "stream",
     "text": [
      "The largest number is : 15\n"
     ]
    }
   ],
   "source": [
    "#8.\n",
    "n1=int(input(\"Enter your  1st number:\"))\n",
    "n2=int(input(\"Enter your  2nd number:\"))\n",
    "n3=int(input(\"Enter your  3rd number:\"))\n",
    "if n1>n2 and n1>n3:\n",
    "    print(\"The largest number is :\",n1)\n",
    "elif n2>n1 and n2>n3:\n",
    "    print(\"The largest number is :\",n2)\n",
    "elif n3>n1 and n3>n2:\n",
    "    print(\"The largest number is :\",n3)\n",
    "else:\n",
    "    print(\"Numbers are Equal\")\n"
   ]
  },
  {
   "cell_type": "code",
   "execution_count": 6,
   "id": "e398b9e3-cb96-49c4-94f7-5dd758605359",
   "metadata": {},
   "outputs": [
    {
     "name": "stdin",
     "output_type": "stream",
     "text": [
      "Enter: DAD\n"
     ]
    },
    {
     "name": "stdout",
     "output_type": "stream",
     "text": [
      "Given string is palindrome \n"
     ]
    }
   ],
   "source": [
    "#9.\n",
    "str=input(\"Enter:\")\n",
    "l=len(str)\n",
    "pal=True\n",
    "for i in range(0,l):\n",
    "    if str[i]!=str[l-1-i]:\n",
    "        pal=False\n",
    "if pal==True:\n",
    "    print(\"Given string is palindrome \")\n",
    "else:\n",
    "    print(\"Given string is not palindrome\")"
   ]
  },
  {
   "cell_type": "code",
   "execution_count": 50,
   "id": "8cc78227-6ed3-4321-987c-c6146b55515a",
   "metadata": {},
   "outputs": [
    {
     "name": "stdin",
     "output_type": "stream",
     "text": [
      "Enter marks of English out of 100 30\n",
      "Enter marks of maths out of 100  30\n",
      "Enter marks of operating system out of 100  30\n"
     ]
    },
    {
     "name": "stdout",
     "output_type": "stream",
     "text": [
      "C grade\n",
      "You obtained 30.0 percentage\n"
     ]
    }
   ],
   "source": [
    "#10.\n",
    "eng=int(input(\"Enter marks of English out of 100\"))\n",
    "maths=int(input(\"Enter marks of maths out of 100 \"))\n",
    "os=int(input(\"Enter marks of operating system out of 100 \"))\n",
    "per_cent=(eng+maths+os)/3\n",
    "if per_cent>=30 and per_cent<=50:\n",
    "    print(\"C grade\")\n",
    "if per_cent>=1 and per_cent<=29:\n",
    "    print(\"sorry you are failed\")\n",
    "if per_cent>=51 and per_cent<=70:\n",
    "    print(\"B grade\")\n",
    "if per_cent>=71 and per_cent<=90:\n",
    "    print(\"A grade\")\n",
    "if per_cent>=91 and per_cent<=10:\n",
    "    print(\"A+ grade\")\n",
    "print(f\"You obtained {per_cent} percentage\")"
   ]
  },
  {
   "cell_type": "code",
   "execution_count": 15,
   "id": "0a520bf6-0a93-4f7e-9601-52022e4377a2",
   "metadata": {},
   "outputs": [],
   "source": [
    "#________________________________________________________________________________________________________________________#"
   ]
  },
  {
   "cell_type": "code",
   "execution_count": 1,
   "id": "4a3c0b04-e782-4882-8ce5-39bc43144297",
   "metadata": {},
   "outputs": [
    {
     "name": "stdin",
     "output_type": "stream",
     "text": [
      "Enter your  1st number: 124\n",
      "Enter your  2nd number: 123\n",
      "Enter your  3rd number: 121\n"
     ]
    },
    {
     "name": "stdout",
     "output_type": "stream",
     "text": [
      "The largest number is  124\n"
     ]
    }
   ],
   "source": [
    "#11.\n",
    "n1=int(input(\"Enter your  1st number:\"))\n",
    "n2=int(input(\"Enter your  2nd number:\"))\n",
    "n3=int(input(\"Enter your  3rd number:\"))\n",
    "if n1>n2: \n",
    "    if n1>n3:\n",
    "        print(\"The largest number is \",n1)\n",
    "if n2>n1:\n",
    "    if n2>n3:\n",
    "        print(\"The largest number is \",n2)\n",
    "if n3>n1:\n",
    "    if n3>n2:\n",
    "        print(\"The largest number is \",n3)"
   ]
  },
  {
   "cell_type": "code",
   "execution_count": 46,
   "id": "e78a28a7-3281-430a-bba3-892c61c5a4bc",
   "metadata": {},
   "outputs": [
    {
     "name": "stdin",
     "output_type": "stream",
     "text": [
      "Enter length of side A of triangle: 23\n",
      "Enter length of side B of triangle: 24\n",
      "Enter length of side C of triangle: 23\n"
     ]
    },
    {
     "name": "stdout",
     "output_type": "stream",
     "text": [
      "The given triangle is isoceles:\n"
     ]
    }
   ],
   "source": [
    "#12.\n",
    "s1=int(input(\"Enter length of side A of triangle:\"))\n",
    "s2=int(input(\"Enter length of side B of triangle:\"))\n",
    "s3=int(input(\"Enter length of side C of triangle:\"))\n",
    "\n",
    "if s1==s2 and s2==s3:\n",
    "    print(\"The given triangle is equilateral:\")\n",
    "if(s1==s2 and s3!=s1 ) or (s1==s3  and s2!=s1) or (s2==s3 and s1!=s2):\n",
    "    print(\"The given triangle is isoceles:\")\n",
    "if (s1!=s2 and s1!=s3 and s2!=s3):\n",
    "    print(\"The given triangle is scalene\")\n",
    "      "
   ]
  },
  {
   "cell_type": "code",
   "execution_count": 22,
   "id": "f0797fdf-949e-4f8e-a2c3-0d6c3c72a999",
   "metadata": {},
   "outputs": [
    {
     "name": "stdin",
     "output_type": "stream",
     "text": [
      "Enter the year: 1300\n"
     ]
    },
    {
     "name": "stdout",
     "output_type": "stream",
     "text": [
      "Not a leap year\n",
      "This is a century year\n"
     ]
    }
   ],
   "source": [
    "#13.\n",
    "#leap year is a year which is divisible by 400 and 4 but not with 100 eg-1300\n",
    "year=int(input(\"Enter the year:\"))\n",
    "if (year % 4 == 0 and year % 100 != 0) or (year % 400 == 0):\n",
    "    print(\"This is a leap year\")\n",
    "else:\n",
    "    print(\"Not a leap year\")\n",
    "if year%100==0:\n",
    "    print(\"This is a century year\")\n",
    "    "
   ]
  },
  {
   "cell_type": "code",
   "execution_count": 44,
   "id": "87c1b175-62bb-4dc3-8537-a26ac0b01982",
   "metadata": {},
   "outputs": [
    {
     "name": "stdin",
     "output_type": "stream",
     "text": [
      "Enter the number: -6\n"
     ]
    },
    {
     "name": "stdout",
     "output_type": "stream",
     "text": [
      "negative number\n"
     ]
    }
   ],
   "source": [
    "#14.\n",
    "n=int(input(\"Enter the number:\"))\n",
    "if n>0:\n",
    "    print(\"Positive number\")\n",
    "if n<0:\n",
    "    print(\"negative number\")\n",
    "if n==0:\n",
    "    print(\"number you have entered is zero\")"
   ]
  },
  {
   "cell_type": "code",
   "execution_count": 21,
   "id": "b647281c-5879-4a67-8c2c-e57293136c6d",
   "metadata": {},
   "outputs": [
    {
     "name": "stdin",
     "output_type": "stream",
     "text": [
      "Enter age of person 19\n"
     ]
    },
    {
     "name": "stdout",
     "output_type": "stream",
     "text": [
      "you are a Teenager\n"
     ]
    }
   ],
   "source": [
    "#15.\n",
    "age=int(input(\"Enter age of person\"))\n",
    "if 13<=age<=19:\n",
    "    print(\"you are a Teenager\")\n",
    "else:\n",
    "    print(\"you are not  a Teenager\")\n"
   ]
  },
  {
   "cell_type": "code",
   "execution_count": 41,
   "id": "b7d7805f-3db5-45a3-9087-6d9613679292",
   "metadata": {},
   "outputs": [
    {
     "name": "stdin",
     "output_type": "stream",
     "text": [
      "Enter angle of the triangle: 90\n"
     ]
    },
    {
     "name": "stdout",
     "output_type": "stream",
     "text": [
      "Given angle is a right angle \n"
     ]
    }
   ],
   "source": [
    "#16.\n",
    "ang=int(input(\"Enter angle of the triangle:\"))\n",
    "if ang==90:\n",
    "    print(\"Given angle is a right angle \")\n",
    "if 90<ang<180:\n",
    "    print(\"Given angle is a obtused angle \")\n",
    "if ang<90:\n",
    "    print(\"Given angle is a acute angle \")"
   ]
  },
  {
   "cell_type": "code",
   "execution_count": 11,
   "id": "133ce3c5-0c11-4007-bc36-39c728352d6d",
   "metadata": {},
   "outputs": [
    {
     "name": "stdin",
     "output_type": "stream",
     "text": [
      "Enter coeffecient of X_square 1\n",
      "Enter coeffecient of X -6\n",
      "Enter the constant term 9\n"
     ]
    },
    {
     "name": "stdout",
     "output_type": "stream",
     "text": [
      "Discrimant is  0\n",
      "The  1st root of the quadratic quation is  3.0\n",
      "The 2nd root of the quadratic equation is  3.0\n"
     ]
    }
   ],
   "source": [
    "#17.\n",
    "#input=  x**2-6x+9\n",
    "a=int(input(\"Enter coeffecient of X_square\"))\n",
    "b=int(input(\"Enter coeffecient of X\"))\n",
    "c=int(input(\"Enter the constant term\"))\n",
    "D=(b*b)-(4*a*c)\n",
    "print(\"Discrimant is \",D)\n",
    "root1=(-b+(D**0.5))/(2*a)\n",
    "root2=(-b-(D**0.5))/(2*a)\n",
    "print(\"The  1st root of the quadratic quation is \",root1)\n",
    "print(\"The 2nd root of the quadratic equation is \",root2)\n"
   ]
  },
  {
   "cell_type": "code",
   "execution_count": 16,
   "id": "47c77757-62aa-47ef-b206-7e1f0fca6696",
   "metadata": {},
   "outputs": [
    {
     "name": "stdout",
     "output_type": "stream",
     "text": [
      "1-monday,......7-sunday\n"
     ]
    },
    {
     "name": "stdin",
     "output_type": "stream",
     "text": [
      "Enter Day 5\n"
     ]
    },
    {
     "name": "stdout",
     "output_type": "stream",
     "text": [
      "It's friday\n"
     ]
    }
   ],
   "source": [
    "#18.\n",
    "print(\"1-monday,......7-sunday\")\n",
    "day=int(input(\"Enter Day\"))\n",
    "if day==1:\n",
    "    print(\"It's monday\")\n",
    "if day==2:\n",
    "    print(\"It's tuesday\")\n",
    "if day==3:\n",
    "    print(\"It's wednesday\")\n",
    "if day==4:\n",
    "    print(\"It's thrusday\")\n",
    "if day==5:\n",
    "    print(\"It's friday\")\n",
    "if day==6:\n",
    "    print(\"It's saturday\")\n",
    "if day==7:\n",
    "    print(\"It's sunday\")\n",
    "\n"
   ]
  },
  {
   "cell_type": "code",
   "execution_count": 51,
   "id": "47a729a1-e662-467d-a06c-2a815ceec5ef",
   "metadata": {},
   "outputs": [
    {
     "name": "stdin",
     "output_type": "stream",
     "text": [
      "Enter the year: 1300\n"
     ]
    },
    {
     "name": "stdout",
     "output_type": "stream",
     "text": [
      "Not a leap year \n"
     ]
    }
   ],
   "source": [
    "#19.\n",
    "year=int(input(\"Enter the year:\"))\n",
    "if (year % 4==0 and year % 100!= 0) or (year % 400== 0):\n",
    "        print(\"This is a leap year\")\n",
    "        if (year%400==0):\n",
    "            print(\"This is evenly divided by 400\")\n",
    "else:\n",
    "    print(\"Not a leap year \")\n",
    "    if (year%400==0):\n",
    "        print(\"This is evenly divided by 400\")"
   ]
  },
  {
   "cell_type": "code",
   "execution_count": 34,
   "id": "f7f8848e-b8fd-4dd6-9882-2de3f6b6fda5",
   "metadata": {},
   "outputs": [
    {
     "name": "stdin",
     "output_type": "stream",
     "text": [
      "Enter the number: 53\n"
     ]
    },
    {
     "name": "stdout",
     "output_type": "stream",
     "text": [
      "It's a prime\n"
     ]
    }
   ],
   "source": [
    "#20.\n",
    "num=int(input(\"Enter the number:\"))\n",
    "if num==2 or num==3 or num==5 or num==7:\n",
    "    print(\"It's a prime \")\n",
    "else:\n",
    "    if num%2==0:\n",
    "        print(\"Not a prime:\")\n",
    "    else:\n",
    "        if num%3==0 or num%5==0 or num%7==0:\n",
    "            print(\"Not a prime\")\n",
    "        else:\n",
    "            print(\"It's a prime\")\n",
    "    "
   ]
  },
  {
   "cell_type": "code",
   "execution_count": 3,
   "id": "e537b877-0151-466c-845f-f326dd20bf00",
   "metadata": {},
   "outputs": [
    {
     "name": "stdin",
     "output_type": "stream",
     "text": [
      "Enter marks of  programming for problem solving out of 100 90\n",
      "Enter marks of chemistry out of 100  89\n",
      "Enter marks of operating system out of 100  82\n"
     ]
    },
    {
     "name": "stdout",
     "output_type": "stream",
     "text": [
      "A grade\n",
      "You obtained 87.0 percentage\n"
     ]
    }
   ],
   "source": [
    "#21.\n",
    "pps=int(input(\"Enter marks of  programming for problem solving out of 100\"))\n",
    "chem=int(input(\"Enter marks of chemistry out of 100 \"))\n",
    "os=int(input(\"Enter marks of operating system out of 100 \"))\n",
    "per_cent=(pps+chem+os)/3\n",
    "if per_cent>=30 and per_cent<=50:\n",
    "    print(\"C grade\")\n",
    "elif per_cent>=1 and per_cent<=29:\n",
    "    print(\"sorry you are failed\")\n",
    "elif per_cent>=51 and per_cent<=70:\n",
    "    print(\"B grade\")\n",
    "elif per_cent>=71 and per_cent<=90:\n",
    "    print(\"A grade\")\n",
    "elif per_cent>=91 and per_cent<=10:\n",
    "    print(\"A+ grade\")\n",
    "else:\n",
    "    print(\"Invalid marks\")\n",
    "print(f\"You obtained {per_cent} percentage\")"
   ]
  },
  {
   "cell_type": "code",
   "execution_count": 8,
   "id": "ea3231eb-b2af-45e2-b155-2bf451a4ac86",
   "metadata": {},
   "outputs": [
    {
     "name": "stdin",
     "output_type": "stream",
     "text": [
      "Enter 1st angle of the triangle: 80\n",
      "Enter 2nd angle of the triangle: 45\n",
      "Enter 3rd angle of the triangle: 55\n"
     ]
    },
    {
     "name": "stdout",
     "output_type": "stream",
     "text": [
      "This is an Scalene Triangle\n"
     ]
    }
   ],
   "source": [
    "#22.\n",
    "A=float(input(\"Enter 1st angle of the triangle:\"))\n",
    "B=float(input(\"Enter 2nd angle of the triangle:\"))\n",
    "C=float(input(\"Enter 3rd angle of the triangle:\"))\n",
    "if A+B+C==180:\n",
    "    if A==60 and B==A and C==A:\n",
    "        print(\"This is an Equilateral Triangle\")\n",
    "    elif A!=B and B!=C and A!=C:\n",
    "        print(\"This is an Scalene Triangle\")\n",
    "    else:\n",
    "        print(\"This is an Isoceles triangle\")\n",
    "\n",
    "        \n",
    "    \n",
    "else:\n",
    "    print(\"Sum of angles of the triangle is not 180\")\n",
    "    "
   ]
  },
  {
   "cell_type": "code",
   "execution_count": 3,
   "id": "ef0b14e6-fe15-4811-a9e1-4d1b6efd076b",
   "metadata": {},
   "outputs": [
    {
     "name": "stdin",
     "output_type": "stream",
     "text": [
      "Enter weight of the person in kilogram's 55\n",
      "Enter height of the person on meter's 1.651\n"
     ]
    },
    {
     "name": "stdout",
     "output_type": "stream",
     "text": [
      "BMI of the person is 20.0 kg/m2\n",
      "Normal weight\n"
     ]
    }
   ],
   "source": [
    "#23.\n",
    "wt=float(input(\"Enter weight of the person in kilogram's\"))\n",
    "ht=float(input(\"Enter height of the person on meter's\"))\n",
    "BMI= wt//(ht*ht)\n",
    "print(f\"BMI of the person is {BMI} kg/m2\")       \n",
    "if BMI<18.5:\n",
    "    print(\"You Are Underweight\")              #1 foot = 0.3048 meteres  and 1 inch = 0.0254 meters\n",
    "elif 18.5<=BMI<=24.9:\n",
    "    print(\"Normal weight\")  \n",
    "elif BMI>25:\n",
    "    print(\"Over weight\")\n",
    "    \n",
    "    \n",
    "\n"
   ]
  },
  {
   "cell_type": "code",
   "execution_count": 20,
   "id": "2ac17c80-4826-40d9-9db1-b3541cb49fdf",
   "metadata": {},
   "outputs": [
    {
     "name": "stdin",
     "output_type": "stream",
     "text": [
      "Enter the number: 0\n"
     ]
    },
    {
     "name": "stdout",
     "output_type": "stream",
     "text": [
      "NUMBER IS ZERO:\n"
     ]
    }
   ],
   "source": [
    "#24\n",
    "n=int(input(\"Enter the number:\"))\n",
    "if n>0:\n",
    "    print(\"POSITIVE NUMBER:\")\n",
    "elif n<0:\n",
    "    print(\"Negative NUMBER:\")\n",
    "elif n==0:\n",
    "    print(\"NUMBER IS ZERO:\")\n"
   ]
  },
  {
   "cell_type": "code",
   "execution_count": 30,
   "id": "69078873-8e3f-4078-a2de-1c836bb30f71",
   "metadata": {},
   "outputs": [
    {
     "name": "stdin",
     "output_type": "stream",
     "text": [
      "Enter the character: #\n"
     ]
    },
    {
     "name": "stdout",
     "output_type": "stream",
     "text": [
      "This is a special character:\n"
     ]
    }
   ],
   "source": [
    "#25.\n",
    "char=input(\"Enter the character:\")\n",
    "if char.isupper():\n",
    "    print(\"This is an uppercase character:\")\n",
    "elif char.islower():\n",
    "    print(\"This is an lowercase character:\")\n",
    "if char.isalpha()!=True:\n",
    "    print(\"This is a special character:\")\n"
   ]
  },
  {
   "cell_type": "code",
   "execution_count": 4,
   "id": "61a54873-8f16-48af-8b3a-6f23bde04814",
   "metadata": {},
   "outputs": [
    {
     "name": "stdin",
     "output_type": "stream",
     "text": [
      "Enter  amount of shopping donr from our shop: 5000\n"
     ]
    },
    {
     "name": "stdout",
     "output_type": "stream",
     "text": [
      "You got a discount of 25%\n",
      "Total bill is 1250.0\n"
     ]
    }
   ],
   "source": [
    "#26.\n",
    "purcs=int(input(\"Enter  amount of purchases done from our shop:\"))\n",
    "if  100<purcs<=1000:\n",
    "    print(\"You got a discount of 5%\")\n",
    "    A=purcs*(5/100)\n",
    "    print(\"Total bill is\",purcs-A)\n",
    "elif  1000<purcs<=2500:\n",
    "    print(\"You got a discount of 15%\")\n",
    "    B=purcs*(15/100)\n",
    "    print(\"Total bill is\",purcs-B)\n",
    "elif  2500<purcs<=5000:\n",
    "    print(\"You got a discount of 25%\")\n",
    "    C=purcs*(25/100)\n",
    "    print(\"Total bill is\",purcs-C)    \n",
    "elif  5000<purcs<=10000:\n",
    "    print(\"You got a discount of 40%\")\n",
    "    D=purcs*(5/100)\n",
    "    print(\"Total bill is\",purcs-D)"
   ]
  },
  {
   "cell_type": "code",
   "execution_count": 1,
   "id": "fc7fd1a9-28df-494d-ab1d-2d78c71b59f3",
   "metadata": {},
   "outputs": [
    {
     "name": "stdin",
     "output_type": "stream",
     "text": [
      "Enter the amount of electric power consumed in KWh 120\n"
     ]
    },
    {
     "name": "stdout",
     "output_type": "stream",
     "text": [
      "Charges are 5 Ruppee per KWh\n",
      "Total bill is 600 \n"
     ]
    }
   ],
   "source": [
    "#27.\n",
    "cons=int(input(\"Enter the amount of electric power consumed in KWh\"))\n",
    "if cons<=100:\n",
    "    print(\"Charges are 4 Ruppee per KWh\")\n",
    "    print(f\"Total bill is {4*cons} \")\n",
    "if 100<cons<=200:\n",
    "    print(\"Charges are 5 Ruppee per KWh\")\n",
    "    print(f\"Total bill is {5*cons} \")\n",
    "if cons>200:\n",
    "    print(\"Charges are 8 Ruppee per KWh\")\n",
    "    print(f\"Total bill is {8*cons} \")"
   ]
  },
  {
   "cell_type": "code",
   "execution_count": 1,
   "id": "98d758d1-e86c-49ce-a6b0-08ae11d4c06c",
   "metadata": {},
   "outputs": [
    {
     "name": "stdin",
     "output_type": "stream",
     "text": [
      "Enter length 1st side of the Quadrilateral 12\n",
      "Enter length 2nd side of the Quadrilateral 12\n",
      "Enter length 3rd side of the Quadrilateral 12\n",
      "Enter length 4th side of the Quadrilateral 12\n",
      "Enter 1st angle of the Quadrilateral 45\n",
      "Enter 2nd angle of the Quadrilateral 55\n",
      "Enter 3rd angle of the Quadrilateral 45\n",
      "Enter 4th angle of the Quadrilateral 55\n"
     ]
    },
    {
     "name": "stdout",
     "output_type": "stream",
     "text": [
      "The given Quadrilateral is Rohmbus\n"
     ]
    }
   ],
   "source": [
    "#28\n",
    "A=int(input(\"Enter length 1st side of the Quadrilateral\"))\n",
    "B=int(input(\"Enter length 2nd side of the Quadrilateral\"))\n",
    "C=int(input(\"Enter length 3rd side of the Quadrilateral\"))\n",
    "D=int(input(\"Enter length 4th side of the Quadrilateral\"))\n",
    "\n",
    "\n",
    "P=int(input(\"Enter 1st angle of the Quadrilateral\"))\n",
    "Q=int(input(\"Enter 2nd angle of the Quadrilateral\"))\n",
    "R=int(input(\"Enter 3rd angle of the Quadrilateral\"))\n",
    "S=int(input(\"Enter 4th angle of the Quadrilateral\"))\n",
    "\n",
    "if(A==C and B==D  and A!=B and P==Q==R==S==90): # if opp sides are equal and all angles are 90\n",
    "    print(\"The given Quadrilateral is Rectangle\")\n",
    "elif(A==B==C==D and P==Q==R==S==90):                #if all sides are equal and all angles are 90\n",
    "    print(\"The given Quadrilateral is Square\")\n",
    "elif(A==C and B==D and A!=B and P==R and Q==S and P!=Q):   #if opp sides are equal and opp angles are equal\n",
    "    print(\"The given Quadrilateral is paraleelogram\")\n",
    "elif(A==B==C==D and P==R and Q==S and P!=Q):             #if all sides are equal and opp  angles are equal \n",
    "    print(\"The given Quadrilateral is Rohmbus\")\n",
    "\n",
    "\n"
   ]
  },
  {
   "cell_type": "code",
   "execution_count": 7,
   "id": "23d35fc2-50cc-4067-8030-3715b9fdd6b2",
   "metadata": {},
   "outputs": [
    {
     "name": "stdout",
     "output_type": "stream",
     "text": [
      "The season varies acording to the hemisphere You are in:\n"
     ]
    },
    {
     "name": "stdin",
     "output_type": "stream",
     "text": [
      "For Northern hemisphere press( N ) For Southern Hemisphere presss( S ) S\n",
      " Kindly Enter the month to determine it's respective season :) may\n"
     ]
    },
    {
     "name": "stdout",
     "output_type": "stream",
     "text": [
      "This is the Autumn season :)\n"
     ]
    }
   ],
   "source": [
    "#29\n",
    "print(\"The season varies acording to the hemisphere You are in:\")\n",
    "H=input(\"For Northern hemisphere press( N ) For Southern Hemisphere presss( S )\")\n",
    "if H.upper()==\"N\":\n",
    "    month=input(\" Kindly Enter the month to determine it's respective season :)\")\n",
    "    if month.lower()==\"december\" or  month.lower()==\"january\" or month.lower()==\"february\":\n",
    "        print(\"There is Winter in this month:\")\n",
    "    elif  month.lower()==\"march\" or month.lower()==\"april\" or month.lower()==\"may\":\n",
    "        print(\"This is the Spring season :)\")\n",
    "    elif month.lower()==\"june\" or month.lower()==\"july\" or month.lower()==\"august\":\n",
    "        print(\"Summer season  :)\")\n",
    "    elif month.lower()==\"september\"  or month.lower()==\"october\" or month.lower()==\"november\":\n",
    "        print(\"Autumn season is here :)\")\n",
    "if H.upper()==\"S\":\n",
    "    month=input(\" Kindly Enter the month to determine it's respective season :)\")\n",
    "    if month.lower()==\"december\" or  month.lower()==\"january\" or month.lower()==\"february\":\n",
    "        print(\"There is summer in this month:\")\n",
    "    elif  month.lower()==\"march\" or month.lower()==\"april\" ormonth.lower()==\"may\":\n",
    "        print(\"This is the Autumn season :)\")\n",
    "    elif month.lower()==\"june\" or month.lower()==\"july\" or month.lower()==\"august\":\n",
    "        print(\"Winter season  is here  :)\")\n",
    "    elif month.lower()==\"september\"  or month.lower()==\"october\" or month.lower()==\"november\":\n",
    "        print(\"spring season is here :)\")"
   ]
  },
  {
   "cell_type": "code",
   "execution_count": 16,
   "id": "c6623ddd-e98c-4ee0-bccf-5f8cf4757371",
   "metadata": {},
   "outputs": [
    {
     "name": "stdin",
     "output_type": "stream",
     "text": [
      "Enter the year: 2300\n"
     ]
    },
    {
     "name": "stdout",
     "output_type": "stream",
     "text": [
      "This is not a leap year\n"
     ]
    },
    {
     "name": "stdin",
     "output_type": "stream",
     "text": [
      "Enter the month : february\n"
     ]
    },
    {
     "name": "stdout",
     "output_type": "stream",
     "text": [
      "This is the month of 28 days\n"
     ]
    }
   ],
   "source": [
    "#30.\n",
    "year=int(input(\"Enter the year:\"))\n",
    "if (year % 4==0 and year % 100!= 0) or (year % 400== 0):\n",
    "    yr=\"L\"\n",
    "    print(\"This is a leap year\")\n",
    "else:\n",
    "    yr=\"N\"\n",
    "    print(\"This is not a leap year\")\n",
    "month=input(\"Enter the month :\")\n",
    "if month.lower()==\"january\" or month.lower()==\"march\" or month.lower()==\"may\" or month.lower()==\"july\" or month.lower()==\"september\" :\n",
    "    print(\"This is the month of 31 days\")\n",
    "elif month.lower()==\"february\":\n",
    "    if yr==\"L\":\n",
    "        print(\"This is the month of 29 days\")\n",
    "    else:\n",
    "        print(\"This is the month of 28 days\")\n",
    "else:\n",
    "    print(\"This is the month of 30 days\")"
   ]
  },
  {
   "cell_type": "code",
   "execution_count": 17,
   "id": "fad982dd-c35a-4c63-81f4-f805cf9d1fd8",
   "metadata": {},
   "outputs": [],
   "source": [
    "#_________________________________________________________________________________________________________________________#\n"
   ]
  },
  {
   "cell_type": "code",
   "execution_count": 18,
   "id": "4f968545-a4ac-4b81-8706-7076f63b2d3a",
   "metadata": {},
   "outputs": [
    {
     "name": "stdin",
     "output_type": "stream",
     "text": [
      "Enter the number: 45346346\n"
     ]
    },
    {
     "name": "stdout",
     "output_type": "stream",
     "text": [
      "Positive:\n"
     ]
    }
   ],
   "source": [
    "#1.\n",
    "num=int(input(\"Enter the number:\"))\n",
    "if num>0:\n",
    "    print(\"Positive:\")\n",
    "elif num<0:\n",
    "    print(\"Negative:\")\n",
    "elif num==0:\n",
    "    print(\"Zero\")\n",
    "    "
   ]
  },
  {
   "cell_type": "code",
   "execution_count": 21,
   "id": "7c0d85f9-ae31-4310-a9c1-459bb2dcab9d",
   "metadata": {},
   "outputs": [
    {
     "name": "stdin",
     "output_type": "stream",
     "text": [
      "Enter age: 13\n"
     ]
    },
    {
     "name": "stdout",
     "output_type": "stream",
     "text": [
      " Not Eligible To vote:\n"
     ]
    }
   ],
   "source": [
    "#2\n",
    "age=int(input(\"Enter age:\"))\n",
    "if age<18:\n",
    "    print(\" Not Eligible To vote:\")\n",
    "else:\n",
    "    print(\"Eligible To vote:\")\n"
   ]
  },
  {
   "cell_type": "code",
   "execution_count": 22,
   "id": "0bbc3bf2-3522-4b58-9056-7beeb4c0a898",
   "metadata": {},
   "outputs": [
    {
     "name": "stdin",
     "output_type": "stream",
     "text": [
      "Enter 1st number: 13\n",
      "Enter 2nd number: 12\n"
     ]
    },
    {
     "name": "stdout",
     "output_type": "stream",
     "text": [
      "The maximum number is : 13\n"
     ]
    }
   ],
   "source": [
    "#3.\n",
    "n1=int(input(\"Enter 1st number:\"))\n",
    "n2=int(input(\"Enter 2nd number:\"))\n",
    "if n1>n2:\n",
    "    print(\"The maximum number is :\",n1)\n",
    "else:\n",
    "    print(\"The maximum number is :\",n2)\n",
    "\n",
    "    \n"
   ]
  },
  {
   "cell_type": "code",
   "execution_count": 25,
   "id": "54d7ac88-7796-4ca3-a7d2-abf01b282fff",
   "metadata": {},
   "outputs": [
    {
     "name": "stdout",
     "output_type": "stream",
     "text": [
      "Out of 500\n"
     ]
    },
    {
     "name": "stdin",
     "output_type": "stream",
     "text": [
      "Enter total marks obtained: 130\n"
     ]
    },
    {
     "name": "stdout",
     "output_type": "stream",
     "text": [
      "Failed :(\n"
     ]
    }
   ],
   "source": [
    "#4.\n",
    "#There are 5 subjects\n",
    "print(\"Out of 500\")\n",
    "m=int(input(\"Enter total marks obtained:\"))\n",
    "if 500>=m>400:\n",
    "    print(\"A Grade\")\n",
    "elif 400>=m>250:\n",
    "    print(\"B Grade\")\n",
    "elif 250>=m>200:\n",
    "    print(\"C Grade\")\n",
    "elif m<200:\n",
    "    print(\"Failed :(\")"
   ]
  },
  {
   "cell_type": "code",
   "execution_count": 26,
   "id": "4aeeb9b5-16de-4999-ab53-728506b96821",
   "metadata": {},
   "outputs": [
    {
     "name": "stdin",
     "output_type": "stream",
     "text": [
      "Enter the year: 1300\n"
     ]
    },
    {
     "name": "stdout",
     "output_type": "stream",
     "text": [
      "This is not a leap year\n"
     ]
    }
   ],
   "source": [
    "#5.\n",
    "year=int(input(\"Enter the year:\"))\n",
    "if (year % 4==0 and year % 100!= 0) or (year % 400== 0):\n",
    "    print(\"This is a leap year\")\n",
    "else:\n",
    "    print(\"This is not a leap year\")"
   ]
  },
  {
   "cell_type": "code",
   "execution_count": 29,
   "id": "91a7ee75-516d-4d72-b9bf-e7f451b0a0cb",
   "metadata": {},
   "outputs": [
    {
     "name": "stdin",
     "output_type": "stream",
     "text": [
      "Enter length of side A of triangle: 12\n",
      "Enter length of side B of triangle: 13\n",
      "Enter length of side C of triangle: 12\n"
     ]
    },
    {
     "name": "stdout",
     "output_type": "stream",
     "text": [
      "The given triangle is isoceles:\n"
     ]
    }
   ],
   "source": [
    "#6.\n",
    "s1=int(input(\"Enter length of side A of triangle:\"))\n",
    "s2=int(input(\"Enter length of side B of triangle:\"))\n",
    "s3=int(input(\"Enter length of side C of triangle:\"))\n",
    "\n",
    "if s1==s2==s3:\n",
    "    print(\"The given triangle is equilateral:\")\n",
    "elif(s1==s2 and s3!=s1 ) or (s1==s3  and s2!=s1) or (s2==s3 and s1!=s2):\n",
    "    print(\"The given triangle is isoceles:\")\n",
    "else:\n",
    "    print(\"The given triangle is scalene\")\n",
    "      "
   ]
  },
  {
   "cell_type": "code",
   "execution_count": 30,
   "id": "967e06b0-e38d-4d42-b9f4-67d70083d209",
   "metadata": {},
   "outputs": [
    {
     "name": "stdin",
     "output_type": "stream",
     "text": [
      "Enter 1st number: 12\n",
      "Enter 2nd number: 14\n",
      "Enter 3rd number: 12\n"
     ]
    },
    {
     "name": "stdout",
     "output_type": "stream",
     "text": [
      "Maximum number is : 14\n"
     ]
    }
   ],
   "source": [
    "#7.\n",
    "n1=int(input(\"Enter 1st number:\"))\n",
    "n2=int(input(\"Enter 2nd number:\"))\n",
    "n3=int(input(\"Enter 3rd number:\"))\n",
    "print(\"Maximum number is :\",max(n1,n2,n3))\n"
   ]
  },
  {
   "cell_type": "code",
   "execution_count": 33,
   "id": "de25a8c1-f0b4-4897-b993-bd0155100c54",
   "metadata": {},
   "outputs": [
    {
     "name": "stdin",
     "output_type": "stream",
     "text": [
      "Enter character: U\n"
     ]
    },
    {
     "name": "stdout",
     "output_type": "stream",
     "text": [
      "This is a Vowel\n"
     ]
    }
   ],
   "source": [
    "#8.\n",
    "vow=[\"a\",\"e\",\"i\",\"o\",\"u\"]\n",
    "char=input(\"Enter character:\")\n",
    "if char.lower() in  vow:\n",
    "    print(\"This is a Vowel\")\n",
    "else:\n",
    "    print(\"This is a Consonant\")"
   ]
  },
  {
   "cell_type": "code",
   "execution_count": 17,
   "id": "bfe3698e-31a0-4627-837a-8925e7457721",
   "metadata": {},
   "outputs": [
    {
     "name": "stdout",
     "output_type": "stream",
     "text": [
      "Total cost after discount: $198.00\n"
     ]
    }
   ],
   "source": [
    "#9\n",
    "item_prices = [10, 20, 30, 15, 25]\n",
    "item_quantities = [2, 3, 1, 4, 2]\n",
    "total_cost = sum(price * quantity for price, quantity in zip(item_prices, item_quantities))\n",
    "if total_cost >= 100:\n",
    "    discount = 0.1\n",
    "    total_cost -= total_cost * discount\n",
    "print(f\"Total cost after discount: ${total_cost:.2f}\")\n"
   ]
  },
  {
   "cell_type": "code",
   "execution_count": 36,
   "id": "0cca9329-59f8-4e1f-b962-4e3cb19e1ca4",
   "metadata": {},
   "outputs": [
    {
     "name": "stdin",
     "output_type": "stream",
     "text": [
      "Enter the number: 23\n"
     ]
    },
    {
     "name": "stdout",
     "output_type": "stream",
     "text": [
      "This is a Odd number:\n"
     ]
    }
   ],
   "source": [
    "#10.\n",
    "num=int(input(\"Enter the number:\"))\n",
    "if num%2==0:\n",
    "    print(\"This is a Even number:\")\n",
    "else:\n",
    "    print(\"This is a Odd number:\")"
   ]
  },
  {
   "cell_type": "code",
   "execution_count": 9,
   "id": "36c5c3d2-e090-412e-85aa-295f996db745",
   "metadata": {},
   "outputs": [
    {
     "name": "stdin",
     "output_type": "stream",
     "text": [
      "Enter coeffecient of x2: 1\n",
      "Enter coeffecient of x: -4\n",
      "Enter constant term 4\n"
     ]
    },
    {
     "name": "stdout",
     "output_type": "stream",
     "text": [
      "Roots are Real and equal \n",
      "1st Root is  2.0\n",
      "2nd Root is  2.0\n"
     ]
    }
   ],
   "source": [
    "# 11.\n",
    "#ax2+bx+c\n",
    "a=int(input(\"Enter coeffecient of x2:\"))\n",
    "b=int(input(\"Enter coeffecient of x:\"))\n",
    "c=int(input(\"Enter constant term\"))\n",
    "d=float((b*b)-(4*a*c))\n",
    "if d>0:\n",
    "    print(\"Roots are Real and Unequal\")\n",
    "    print(\"1st Root is \",(-b+(d**0.5))/(2*a))\n",
    "    print(\"2nd Root is \",(-b-(d**0.5))/(2*a))\n",
    "elif d==0:\n",
    "    print(\"Roots are Real and equal \")\n",
    "    print(\"1st Root is \",(-b+(d**0.5))/(2*a))\n",
    "    print(\"2nd Root is \",(-b-(d**0.5))/(2*a))\n",
    "else:\n",
    "    print(\"Roots are not Real\")"
   ]
  },
  {
   "cell_type": "code",
   "execution_count": 15,
   "id": "0a140279-f6c9-44c2-a96f-0f06649e94b4",
   "metadata": {},
   "outputs": [
    {
     "name": "stdout",
     "output_type": "stream",
     "text": [
      "1-monday,......7-sunday\n"
     ]
    },
    {
     "name": "stdin",
     "output_type": "stream",
     "text": [
      "Enter Day 5\n"
     ]
    },
    {
     "name": "stdout",
     "output_type": "stream",
     "text": [
      "The day you have entered is friday\n"
     ]
    }
   ],
   "source": [
    "#12.\n",
    "print(\"1-monday,......7-sunday\")\n",
    "day=int(input(\"Enter Day\"))\n",
    "days=[\"monday\",\"tuesday\",\"wednesday\",\"thrusday\",\"friday\",\"staurday\",\"sunday\"]\n",
    "print(\"The day you have entered is\",days[day-1])"
   ]
  },
  {
   "cell_type": "code",
   "execution_count": 20,
   "id": "81d34f5e-b25b-42c2-b16a-00c5f36065ff",
   "metadata": {},
   "outputs": [
    {
     "name": "stdin",
     "output_type": "stream",
     "text": [
      "Enter a number:  5\n"
     ]
    },
    {
     "name": "stdout",
     "output_type": "stream",
     "text": [
      "The factorial of 5 is: 120\n"
     ]
    }
   ],
   "source": [
    "#13\n",
    "def factorial(n):\n",
    "    if n==0 or n==1:\n",
    "        return(1)\n",
    "    else:\n",
    "        return n * factorial(n-1)\n",
    "number=int(input(\"Enter a number: \"))\n",
    "result = factorial(number)\n",
    "print(f\"The factorial of {number} is: {result}\")\n"
   ]
  },
  {
   "cell_type": "code",
   "execution_count": 3,
   "id": "3d7612a5-7964-4d27-9b39-ed74ed4177f8",
   "metadata": {},
   "outputs": [
    {
     "name": "stdin",
     "output_type": "stream",
     "text": [
      "Enter 1st number: 1\n",
      "Enter 2nd number: 2\n",
      "Enter 3rd number: 1\n"
     ]
    },
    {
     "name": "stdout",
     "output_type": "stream",
     "text": [
      "The maximum number is  2\n"
     ]
    }
   ],
   "source": [
    "#14. #without max func\n",
    "n1=int(input(\"Enter 1st number:\"))\n",
    "n2=int(input(\"Enter 2nd number:\"))\n",
    "n3=int(input(\"Enter 3rd number:\"))\n",
    "if n1>n2 and n1>n3:\n",
    "    print(\"The maximum number is \",n1)\n",
    "elif n2>n1 and n2>n3:\n",
    "    print(\"The maximum number is \",n2)\n",
    "else:\n",
    "    print(\"The maximum number is \",n3)\n",
    "\n",
    "\n",
    "        \n",
    "          "
   ]
  },
  {
   "cell_type": "code",
   "execution_count": 5,
   "id": "2c7aec61-1851-4261-904f-389e9c1baa21",
   "metadata": {
    "tags": []
   },
   "outputs": [
    {
     "name": "stdout",
     "output_type": "stream",
     "text": [
      "WELCOME:\n"
     ]
    },
    {
     "name": "stdin",
     "output_type": "stream",
     "text": [
      "FOR CHECKING BALANCE PRESS--C:\n",
      "FOR WITHDRAWING MONEY PRESS--W:\n",
      "FOR DEPOSITING MONEY PRESS--D:\n",
      "FOREXIT PRESS--E: c\n"
     ]
    },
    {
     "name": "stdout",
     "output_type": "stream",
     "text": [
      "The available balance is 1000\n",
      " \n"
     ]
    },
    {
     "name": "stdin",
     "output_type": "stream",
     "text": [
      "FOR CHECKING BALANCE PRESS--C:\n",
      "FOR WITHDRAWING MONEY PRESS--W:\n",
      "FOR DEPOSITING MONEY PRESS--D:\n",
      "FOREXIT PRESS--E: d\n",
      "Enter Amount to deposit: 300\n"
     ]
    },
    {
     "name": "stdout",
     "output_type": "stream",
     "text": [
      " \n"
     ]
    },
    {
     "name": "stdin",
     "output_type": "stream",
     "text": [
      "FOR CHECKING BALANCE PRESS--C:\n",
      "FOR WITHDRAWING MONEY PRESS--W:\n",
      "FOR DEPOSITING MONEY PRESS--D:\n",
      "FOREXIT PRESS--E: c\n"
     ]
    },
    {
     "name": "stdout",
     "output_type": "stream",
     "text": [
      "The available balance is 1300\n",
      " \n"
     ]
    },
    {
     "name": "stdin",
     "output_type": "stream",
     "text": [
      "FOR CHECKING BALANCE PRESS--C:\n",
      "FOR WITHDRAWING MONEY PRESS--W:\n",
      "FOR DEPOSITING MONEY PRESS--D:\n",
      "FOREXIT PRESS--E: w\n",
      "Enter Amount to Withdraw: 1000\n"
     ]
    },
    {
     "name": "stdout",
     "output_type": "stream",
     "text": [
      "Collect your Money\n",
      " \n"
     ]
    },
    {
     "name": "stdin",
     "output_type": "stream",
     "text": [
      "FOR CHECKING BALANCE PRESS--C:\n",
      "FOR WITHDRAWING MONEY PRESS--W:\n",
      "FOR DEPOSITING MONEY PRESS--D:\n",
      "FOREXIT PRESS--E: c\n"
     ]
    },
    {
     "name": "stdout",
     "output_type": "stream",
     "text": [
      "The available balance is 300\n",
      " \n"
     ]
    },
    {
     "name": "stdin",
     "output_type": "stream",
     "text": [
      "FOR CHECKING BALANCE PRESS--C:\n",
      "FOR WITHDRAWING MONEY PRESS--W:\n",
      "FOR DEPOSITING MONEY PRESS--D:\n",
      "FOREXIT PRESS--E: E\n"
     ]
    }
   ],
   "source": [
    "#15.#ATM\n",
    "print(\"WELCOME:\")\n",
    "x=True\n",
    "balance=1000       #Placing the balance variable outside the while loop ensures that the balance variable is not reset to\n",
    "                                                                    #1000 during starting of the loop\n",
    "while x==True:\n",
    "    #balance=1000\n",
    "    key=input(\"FOR CHECKING BALANCE PRESS--C:\\nFOR WITHDRAWING MONEY PRESS--W:\\nFOR DEPOSITING MONEY PRESS--D:\\nFOREXIT PRESS--E:\")\n",
    "    if key.upper()==\"E\":\n",
    "        x=False\n",
    "    else: \n",
    "        if key.upper()==\"C\":\n",
    "            print(\"The available balance is\",balance)\n",
    "            print(\" \")\n",
    "        \n",
    "        elif key.upper()==\"W\":\n",
    "            n=int(input(\"Enter Amount to Withdraw:\"))\n",
    "            print(\"Collect your Money\")\n",
    "            print(\" \")\n",
    "            balance=balance-n\n",
    "        \n",
    "        elif key.upper()==\"D\":\n",
    "            n=int(input(\"Enter Amount to deposit:\"))\n",
    "            balance=balance+n\n",
    "            print(\" \")\n"
   ]
  },
  {
   "cell_type": "code",
   "execution_count": 21,
   "id": "e8f5d755-1b13-42e3-af75-3dfe588c5c7c",
   "metadata": {
    "tags": []
   },
   "outputs": [
    {
     "name": "stdin",
     "output_type": "stream",
     "text": [
      "Enter the string: pwswwp\n"
     ]
    },
    {
     "name": "stdout",
     "output_type": "stream",
     "text": [
      "Not a palindrome:\n"
     ]
    }
   ],
   "source": [
    "#16\n",
    "word=input(\"Enter the string:\")\n",
    "l=len(word)\n",
    "for i in range(0,l):\n",
    "    if word[i]==word[l-1-i]:\n",
    "        x=True\n",
    "    else:\n",
    "        x=False\n",
    "        break\n",
    "if x==False:\n",
    "    print(\"Not a palindrome:\")\n",
    "else:\n",
    "    print(\"A palindrome:\")\n",
    "\n",
    "    \n",
    "        \n"
   ]
  },
  {
   "cell_type": "code",
   "execution_count": 12,
   "id": "d1e4c931-2f69-4b13-82b1-c158f07ae611",
   "metadata": {
    "tags": []
   },
   "outputs": [
    {
     "name": "stdout",
     "output_type": "stream",
     "text": [
      "[12, 7, 90, 24, 44, 66]\n",
      "The average excluding smallest and largest number of the list is:  36.5\n"
     ]
    }
   ],
   "source": [
    "#17\n",
    "lst=[12,7,90,24,44,66]\n",
    "s=min(lst)\n",
    "m=max(lst)\n",
    "print(lst)\n",
    "sum=0\n",
    "c=0\n",
    "for i in lst:\n",
    "    if i==s or i==m:\n",
    "        continue\n",
    "    else:\n",
    "        c=c+1\n",
    "        sum=sum+i\n",
    "print(\"The average excluding smallest and largest number of the list is: \",sum/c)"
   ]
  },
  {
   "cell_type": "code",
   "execution_count": 14,
   "id": "c3c024b5-2d95-47e1-9ef3-5eda5b51f802",
   "metadata": {
    "tags": []
   },
   "outputs": [
    {
     "name": "stdin",
     "output_type": "stream",
     "text": [
      "Enter temperature in celsius: 32\n"
     ]
    },
    {
     "name": "stdout",
     "output_type": "stream",
     "text": [
      "The temperatue in farenhiet is  89.6\n"
     ]
    }
   ],
   "source": [
    "#18\n",
    "temp=float(input(\"Enter temperature in celsius:\"))\n",
    "f=(temp*1.8)+32\n",
    "print(\"The temperatue in farenhiet is \",f)"
   ]
  },
  {
   "cell_type": "code",
   "execution_count": 14,
   "id": "01226af4-cdfc-4287-b6c7-3062531399ba",
   "metadata": {},
   "outputs": [
    {
     "name": "stdin",
     "output_type": "stream",
     "text": [
      "Press--Enter To Proceed Or Press--Exit To Exit: \n",
      "Enter 1st number: 20\n",
      "Enter operation to be Perform \n",
      "+,-\n",
      "*,/\n",
      "Here: +\n",
      "Enter 2nd number: 10\n"
     ]
    },
    {
     "name": "stdout",
     "output_type": "stream",
     "text": [
      "Answer: 30\n"
     ]
    },
    {
     "name": "stdin",
     "output_type": "stream",
     "text": [
      "Press--Enter To Proceed Or Press--Exit To Exit: \n",
      "Enter 1st number: 100\n",
      "Enter operation to be Perform \n",
      "+,-\n",
      "*,/\n",
      "Here: /\n",
      "Enter 2nd number: 10\n"
     ]
    },
    {
     "name": "stdout",
     "output_type": "stream",
     "text": [
      "Answer: 10.0\n"
     ]
    },
    {
     "name": "stdin",
     "output_type": "stream",
     "text": [
      "Press--Enter To Proceed Or Press--Exit To Exit: \n",
      "Enter 1st number: 90\n",
      "Enter operation to be Perform \n",
      "+,-\n",
      "*,/\n",
      "Here: *\n",
      "Enter 2nd number: 3\n"
     ]
    },
    {
     "name": "stdout",
     "output_type": "stream",
     "text": [
      "Answer: 270\n"
     ]
    },
    {
     "name": "stdin",
     "output_type": "stream",
     "text": [
      "Press--Enter To Proceed Or Press--Exit To Exit: \n",
      "Enter 1st number: 80\n",
      "Enter operation to be Perform \n",
      "+,-\n",
      "*,/\n",
      "Here: -\n",
      "Enter 2nd number: 40\n"
     ]
    },
    {
     "name": "stdout",
     "output_type": "stream",
     "text": [
      "Answer: 40\n"
     ]
    },
    {
     "name": "stdin",
     "output_type": "stream",
     "text": [
      "Press--Enter To Proceed Or Press--Exit To Exit: exit\n"
     ]
    },
    {
     "name": "stdout",
     "output_type": "stream",
     "text": [
      "Thanks:\n"
     ]
    }
   ],
   "source": [
    "#19\n",
    "#Calculator\n",
    "while True:\n",
    "    choice=input(\"Press--Enter To Proceed Or Press--Exit To Exit:\")\n",
    "    if choice.upper()==\"EXIT\":\n",
    "        print(\"Thanks:\")\n",
    "        break\n",
    "    else:\n",
    "        x=int(input(\"Enter 1st number:\"))\n",
    "        eval=input(\"Enter operation to be Perform \\n+,-\\n*,/\\nHere:\")\n",
    "        y=int(input(\"Enter 2nd number:\"))\n",
    "\n",
    "        if eval==\"/\":\n",
    "            print(\"Answer:\",x/y)\n",
    "        elif eval==\"*\":\n",
    "            print(\"Answer:\",x*y)\n",
    "        elif eval==\"-\":\n",
    "            print(\"Answer:\",x-y)\n",
    "        elif eval==\"+\":\n",
    "            print(\"Answer:\",x+y)\n",
    "        else:\n",
    "            print(\"Please enter a valid operator:\")"
   ]
  },
  {
   "cell_type": "code",
   "execution_count": null,
   "id": "bc524eac-d9c1-43c0-a646-25745604e712",
   "metadata": {},
   "outputs": [
    {
     "name": "stdout",
     "output_type": "stream",
     "text": [
      "Enter Coeffecient Of X(3),X(2),X,Constant Term:\n"
     ]
    }
   ],
   "source": [
    "## 20.\n",
    "#ax(3)+bx(2)+cx+d=0\n",
    "#cardon's formula\n",
    "import math as m\n",
    "print(\"Enter Coeffecient Of X(3),X(2),X,Constant Term:\")\n",
    "a, b, c, d = map(int, input(\"Enter a,b,c,d:\").split())\n",
    "\n",
    "Q=((3*a*c)-(b*b))/(9*a*a)\n",
    "R=((9*a*b*c)-(27*a*a*d)-(2*b*b*b))/(54*a*a*a)\n",
    "\n",
    "D=(Q**3)+(R**2)\n",
    "print(D)"
   ]
  },
  {
   "cell_type": "code",
   "execution_count": 7,
   "id": "54f510a3-fbca-4b88-be5d-e92d1bdb6fe8",
   "metadata": {},
   "outputs": [
    {
     "name": "stdin",
     "output_type": "stream",
     "text": [
      "Enter Age: 67\n",
      "Enter Income: 700000\n"
     ]
    },
    {
     "name": "stdout",
     "output_type": "stream",
     "text": [
      "The Tax you have to Pay is  50000.0\n"
     ]
    }
   ],
   "source": [
    "#21\n",
    "#Income tax \n",
    "#For person below 60 yrs\n",
    "def inc1(inc):                           \n",
    "    if inc<=250000:\n",
    "        return(0)\n",
    "    elif 250000<inc<=500000:\n",
    "        rate=(0.05)*(inc-250000)         #5% of amount exceeding 250000\n",
    "        return(rate)\n",
    "    elif 500000<inc<=1000000:\n",
    "        rate=12500+((0.2)*(inc-500000))           # 12500+20% of amount exceeding 500000\n",
    "        return(rate)\n",
    "    elif  inc>1000000:\n",
    "        rate=(112500+(0.3)*(inc-1000000))       # 112500+30% of amount exceeding 1000000\n",
    "        return(rate)\n",
    "#For Senior citizens \n",
    "def inc2(inc):\n",
    "    if inc<=300000:\n",
    "        return(0)\n",
    "    elif 300000<inc<=500000:\n",
    "        rate=(0.05)*(inc-300000)         \n",
    "        return(rate)\n",
    "    elif 500000<inc<=1000000:\n",
    "        rate=10000+((0.2)*(inc-500000))           \n",
    "        return(rate)\n",
    "    elif  inc>1000000:\n",
    "        rate=(110000+(0.3)*(inc-1000000))\n",
    "        return(rate)\n",
    "#For super senior citizens\n",
    "def inc3(inc):\n",
    "    if inc<=500000:\n",
    "        return(0)\n",
    "    elif 500000<inc<=1000000:\n",
    "        rate=(0.2)*(inc-500000)         \n",
    "        return(rate)\n",
    "    elif 1000000<inc:\n",
    "        rate=100000+((0.3)*(inc-1000000))           \n",
    "        return(rate)\n",
    "\n",
    "age=int(input(\"Enter Age:\"))\n",
    "if age<=60:\n",
    "    Sal=int(input(\"Enter Income:\"))\n",
    "    tax_rate= inc1(Sal)\n",
    "    print(\"The Tax you have to Pay is \",tax_rate)\n",
    "elif 60<age<80:\n",
    "    Sal=int(input(\"Enter Income:\"))\n",
    "    tax_rate= inc2(Sal)\n",
    "    print(\"The Tax you have to Pay is \",tax_rate)\n",
    "elif age>=80:\n",
    "    Sal=int(input(\"Enter Income:\"))\n",
    "    tax_rate= inc3(Sal)\n",
    "    print(\"The Tax you have to Pay is \",tax_rate)"
   ]
  },
  {
   "cell_type": "code",
   "execution_count": 25,
   "id": "8e23f639-518b-4f6c-8305-c73abb171e8b",
   "metadata": {},
   "outputs": [
    {
     "name": "stdin",
     "output_type": "stream",
     "text": [
      "Press--Enter To Proceed Or Press--Exit To Exit: rock\n"
     ]
    },
    {
     "name": "stdout",
     "output_type": "stream",
     "text": [
      "Here We Go!\n",
      "Rock,Paper,Scissor in\n",
      "1 2 3 "
     ]
    },
    {
     "name": "stdin",
     "output_type": "stream",
     "text": [
      "Enter Fast  rock\n"
     ]
    },
    {
     "name": "stdout",
     "output_type": "stream",
     "text": [
      "You Showed ROCK :)\n",
      "I Showed ROCK :)\n"
     ]
    },
    {
     "name": "stdin",
     "output_type": "stream",
     "text": [
      "Press--Enter To Proceed Or Press--Exit To Exit: \n"
     ]
    },
    {
     "name": "stdout",
     "output_type": "stream",
     "text": [
      "Here We Go!\n",
      "Rock,Paper,Scissor in\n",
      "1 2 3 "
     ]
    },
    {
     "name": "stdin",
     "output_type": "stream",
     "text": [
      "Enter Fast  rock\n"
     ]
    },
    {
     "name": "stdout",
     "output_type": "stream",
     "text": [
      "You Showed ROCK :)\n",
      "I Showed PAPER :)\n"
     ]
    },
    {
     "name": "stdin",
     "output_type": "stream",
     "text": [
      "Press--Enter To Proceed Or Press--Exit To Exit: exit\n"
     ]
    },
    {
     "name": "stdout",
     "output_type": "stream",
     "text": [
      "SEE YOU AGAIN\n"
     ]
    }
   ],
   "source": [
    "#22.\n",
    "import random as r\n",
    "import time\n",
    "Game=[\"ROCK\",\"PAPER\",\"SCISSOR\"]\n",
    "while True:\n",
    "    N=input(\"Press--Enter To Proceed Or Press--Exit To Exit:\")\n",
    "    if N.upper()==\"EXIT\":\n",
    "        print(\"SEE YOU AGAIN\")\n",
    "        break\n",
    "    else:\n",
    "        print(\"Here We Go!\")\n",
    "        print(\"Rock,Paper,Scissor in\")\n",
    "        for i in range(1,4):\n",
    "            time.sleep(1)\n",
    "            print(i,end=\" \")\n",
    "        Turn=input(\"Enter Fast \")\n",
    "        System=r.choice(Game)\n",
    "        print(f\"You Showed {Turn.upper()} :)\")\n",
    "        print(f\"I Showed {System} :)\")\n",
    "        "
   ]
  },
  {
   "cell_type": "code",
   "execution_count": 21,
   "id": "2eed8146-a0c0-4dcc-8703-c48cffe64ebe",
   "metadata": {},
   "outputs": [
    {
     "name": "stdout",
     "output_type": "stream",
     "text": [
      "For Lenthy Password Press--L::For Complex Password Press--C\n"
     ]
    },
    {
     "name": "stdin",
     "output_type": "stream",
     "text": [
      "Press Here: l\n"
     ]
    },
    {
     "name": "stdout",
     "output_type": "stream",
     "text": [
      "Yippie Here's your lenthy Password:\n",
      " 5c6b2n0n5z8b8h8p3m5z4x\n"
     ]
    }
   ],
   "source": [
    "#23\n",
    "import random as R\n",
    "lst1=[str(i) for i in range(0,10)]\n",
    "lst2=[i for i in \"abcdefghijklmnopqrstuvwxyz\"]\n",
    "lst3=[i for i in\"!@#$%^&*\"]\n",
    "lst4=[i.upper() for i in \"abcdefghijklmnopqrstuvwxyz\"]\n",
    "print(\"For Lenthy Password Press--L::For Complex Password Press--C\")\n",
    "pref=input(\"Press Here:\")\n",
    "\n",
    "if pref.upper()==\"C\":\n",
    "    passw=\"\"\n",
    "    x=True\n",
    "    while x==True:\n",
    "        passw=passw+R.choice(lst1)\n",
    "        passw=passw+R.choice(lst3)\n",
    "        passw=passw+R.choice(lst2)\n",
    "        passw=passw+R.choice(lst4)\n",
    "        l=len(passw)\n",
    "        if l>9:\n",
    "            x=False\n",
    "    print(\"Yippie Here's your Password With Complexity:\\n\",passw)        \n",
    "else:\n",
    "    passw=\"\"\n",
    "    x=True\n",
    "    while x==True:\n",
    "        passw=passw+R.choice(lst1)\n",
    "        passw=passw+R.choice(lst2)\n",
    "        l=len(passw)\n",
    "        if l>20:\n",
    "            x=False\n",
    "    print(\"Yippie Here's your lenthy Password:\\n\",passw)  \n"
   ]
  },
  {
   "cell_type": "code",
   "execution_count": 8,
   "id": "34d71e4c-8477-439b-9f1b-c85098525527",
   "metadata": {},
   "outputs": [
    {
     "name": "stdout",
     "output_type": "stream",
     "text": [
      "You Are a Reporter You Got the information that a  group of people is illegaly mining the rarest metal of this Earth.\n",
      "Vibranium! In The Wakanda Forest You Have a team of forest officers Also for this Investigation\n",
      "Your Mission Is Capture Those Illegal Miners Without Making Them Aware Of Your Existence\n",
      "You Will Be Given Two Options :A: and :B: Choose Correct One For Winning\n",
      "GAME STARTED:\n",
      "You Are Waiting For The Forest Officers Outside The Forest since last 1 hour\n"
     ]
    },
    {
     "name": "stdin",
     "output_type": "stream",
     "text": [
      "A:Go Inside The Forest And do Investigation Alone(OR)B:Stay Here And Wait For The Officers A\n"
     ]
    },
    {
     "name": "stdout",
     "output_type": "stream",
     "text": [
      "You Are Walking Towards The Forest And A Black Kitten Came In Front Of You:\n"
     ]
    },
    {
     "name": "stdin",
     "output_type": "stream",
     "text": [
      "A:Throw Pebble's Towards The Black Kitten(OR)B:Give Him Food From Your Bag A\n"
     ]
    },
    {
     "name": "stdout",
     "output_type": "stream",
     "text": [
      "The Kitten Runs Off\n",
      "Wait a Group Of Animals Are Coming Towards You ,Oh NO! That Kitten Was Not Actually A kitten BUT!:(\n",
      "YOU SHOUTED A PANTHER!\n",
      "You Are Running For Life\n",
      "You managed To Escape But The Illegal Miners Gets Aware That Someone Came To This Forest\n",
      "They Pack Their Bags And Ran Away:\n",
      "You Lost Game Over:\n"
     ]
    }
   ],
   "source": [
    "#24\n",
    "#Text based Adventure Game\n",
    "#The Mysterious Person\n",
    "import time \n",
    "print(\"You Are a Reporter You Got the information that a  group of people is illegaly mining the rarest metal of this Earth.\")\n",
    "print(\"Vibranium! In The Wakanda Forest You Have a team of forest officers Also for this Investigation\")\n",
    "print(\"Your Mission Is Capture Those Illegal Miners Without Making Them Aware Of Your Existence\")\n",
    "print(\"You Will Be Given Two Options :A: and :B: Choose Correct One For Winning\")\n",
    "print(\"GAME STARTED:\")\n",
    "time.sleep(5)\n",
    "print(\"You Are Waiting For The Forest Officers Outside The Forest since last 1 hour\")\n",
    "inp1=input(\"A:Go Inside The Forest And do Investigation Alone(OR)B:Stay Here And Wait For The Officers\")\n",
    "if inp1==\"A\":\n",
    "    time.sleep(2)\n",
    "    print(\"You Are Walking Towards The Forest And A Black Kitten Came In Front Of You:\")\n",
    "    inp2=input(\"A:Throw Pebble's Towards The Black Kitten(OR)B:Give Him Food From Your Bag\")\n",
    "    if inp2==\"A\":\n",
    "        print(\"The Kitten Runs Off\")\n",
    "        time.sleep(2)\n",
    "        print(\"Wait a Group Of Animals Are Coming Towards You ,Oh NO! That Kitten Was Not Actually A kitten BUT!:(\")\n",
    "        print(\"YOU SHOUTED A PANTHER!\")\n",
    "        print(\"You Are Running For Life\")\n",
    "        time.sleep(3)\n",
    "        print(\"You managed To Escape But The Illegal Miners Gets Aware That Someone Came To This Forest\")\n",
    "        print(\"They Pack Their Bags And Ran Away:\")\n",
    "        time.sleep(2)\n",
    "        print(\"You Lost Game Over:\")\n",
    "    elif inp2==\"B\":\n",
    "        time.sleep(2)\n",
    "        print(\"Kitten Loves That Food\")\n",
    "        Name=input(\"What Should We Call This Kitten:\")\n",
    "        print(\"Nice Choice :)\")\n",
    "        print(f\"You and Your Partner {Name} Start WalKing Towards The Mine,\")\n",
    "        print(\"After Walking A Mile You Found The Place And Starts Capturing Those Illegal Workers With Your Camera\")\n",
    "        time.sleep(5)\n",
    "        print(f\"Someone Saw You And Catches You From Back And{Name} Also:\")\n",
    "        inp3=input(\"A:Fight With Him(Or) B:Surrender Yourself\")\n",
    "        if inp3==\"A\":\n",
    "            print(\"You Somehow Managed To Escape\")\n",
    "            print(\"But They started Following You,You Are Running For Your Life\")\n",
    "            inp4=input(\"A:Shoots A Flare Gun Towards The Sky(OR)B:Just Run!\")\n",
    "            if inp4==\"A\":\n",
    "                print(\"The Forest Officers Came To You\")\n",
    "                print(\"They Aresst Those Bandits\")\n",
    "                print(\"You Completed Your Mission, Yippie You Won\")\n",
    "                print(\"GAME OVER\\n THANKS COME AGAIN\")\n",
    "            elif inp4==\"B\":\n",
    "                print(\"They Catches You\")\n",
    "                time.sleep(4)\n",
    "                print(f\"They Bring You And {Name} To Their Boss\")\n",
    "                print(\"HE gave You a Offer of 50 lakhs For Destroying The Camera\")\n",
    "                inp5==input(\"A:Accept His Offer (OR) B:Refuse It\")\n",
    "                if inp5==\"A\":\n",
    "                    print(\"You Gave Them Your Camera\")\n",
    "                    print(\"When You Ask Them About Money They Started Laughing\")\n",
    "                    print(\"You Got Killed,GAME OVER\")\n",
    "                elif inp5==\"B\":\n",
    "                    print(f\"They Start Torturing{Name} For Blackmailing You\")\n",
    "                    print(f\"Suddenly A Group Of Panthers Came And Attacked Them Who were Torturing {Name}\")\n",
    "                    print(f\"Wait {Name} is not a Kitten he is a Baby Panther\")\n",
    "                    time.sleep(3)\n",
    "                    print(\"There is Chaos in The Air Everyone is Running For Thier Life\")\n",
    "                    print(\"The Forests officers Also came And rescued You\")\n",
    "                    time.sleep(4)\n",
    "                    print(\"Finally These Illegal Miners And There Boss Get's Aressts\")\n",
    "                    print(f\"You Thanks {Name} And his Family and Said Good Bye\")\n",
    "                    print(\"You WON\")\n",
    "        elif inp3==\"B\":\n",
    "            print(\"You Surrendered Yourself\")\n",
    "            time.sleep(4)\n",
    "            print(f\"They Bring You And {Name} To Their Boss\")\n",
    "            print(\"HE gave You a Offer of 50 lakhs For Destroying The Camera\")\n",
    "            inp_4==input(\"A:Accept His Offer (OR) B:Refuse It\")\n",
    "            if inp_4==\"A\":\n",
    "                print(\"You Gave Them Your Camera\")\n",
    "                print(\"When You Ask Them About Money They Started Laughing\")\n",
    "                print(\"You Got Killed,GAME OVER\")\n",
    "            elif inp_4==\"B\":\n",
    "                print(f\"They Start Torturing{Name} For Blackmailing You\")\n",
    "                print(f\"Suddenly A Group Of Panthers Came And Attacked Them Who were Torturing {Name}\")\n",
    "                print(f\"Wait {Name} is not a Kitten he is a Baby Panther\")\n",
    "                time.sleep(3)\n",
    "                print(\"There is Chaos in The Air Everyone is Running For Thier Life\")\n",
    "                print(\"The Forests officers Also came And rescued You\")\n",
    "                time.sleep(4)\n",
    "                print(\"Finally These Illegal Miners And There Boss Get's Aressts\")\n",
    "                print(f\"You Thanks {Name} And his Family and Said Good Bye\")\n",
    "                print(\"You WON\")\n",
    "            \n",
    "elif inp1==\"B\":\n",
    "    print(\"You waited for the officers and they came after 1hr\")\n",
    "    time.sleep(4)\n",
    "    print(\"You went to the smugglers and the officers catche's them\")"
   ]
  },
  {
   "cell_type": "code",
   "execution_count": 21,
   "id": "bae95d81-fb50-44f0-839a-3add6d6738d2",
   "metadata": {},
   "outputs": [
    {
     "name": "stdout",
     "output_type": "stream",
     "text": [
      "You Have:\n"
     ]
    },
    {
     "name": "stdin",
     "output_type": "stream",
     "text": [
      "A => One Equation, one variable\n",
      "B => Two Equations, two variables\n",
      "Choose (A/B):  A\n",
      "Coefficient of x without sign:  5\n",
      "Coefficient of y without sign:  6\n",
      "Constant term without sign:  5\n",
      "Value of y:  4\n"
     ]
    },
    {
     "name": "stdout",
     "output_type": "stream",
     "text": [
      "The value of x is: 5.8\n"
     ]
    }
   ],
   "source": [
    "#25.\n",
    "def solve_single_equation(a, b, c, y):\n",
    "    x = (c + b * y) / a\n",
    "    return x\n",
    "\n",
    "def solve_system_of_equations(a1, b1, c1, a2, b2, c2):\n",
    "    numerator_x = (b1 * c2) - (b2 * c1)\n",
    "    numerator_y = (a2 * c1) - (a1 * c2)\n",
    "    denominator = (b2 * a1) - (b1 * a2)\n",
    "\n",
    "    x = numerator_x / denominator\n",
    "    y = numerator_y / denominator\n",
    "    return(x, y)\n",
    "\n",
    "print(\"You Have:\")\n",
    "equation_type = input(\"A => One Equation, one variable\\nB => Two Equations, two variables\\nChoose (A/B): \").upper()\n",
    "\n",
    "if equation_type == \"A\":\n",
    "    a = float(input(\"Coefficient of x without sign: \"))\n",
    "    b = float(input(\"Coefficient of y without sign: \"))\n",
    "    c = float(input(\"Constant term without sign: \"))\n",
    "    y_value = float(input(\"Value of y: \"))\n",
    "\n",
    "    solution_x = solve_single_equation(a, b, c, y_value)\n",
    "    print(f\"The value of x is: {solution_x}\")\n",
    "\n",
    "elif equation_type == \"B\":\n",
    "    a1 = float(input(\"Coefficient of x in the first equation with sign: \"))\n",
    "    b1 = float(input(\"Coefficient of y in the first equation with sign: \"))\n",
    "    c1 = float(input(\"Constant term in the first equation with sign: \"))\n",
    "\n",
    "    a2 = float(input(\"Coefficient of x in the second equation with sign: \"))\n",
    "    b2 = float(input(\"Coefficient of y in the second equation with sign: \"))\n",
    "    c2 = float(input(\"Constant term in the second equation with sign: \"))\n",
    "    solution_x, solution_y = solve_system_of_equations(a1, b1, c1, a2, b2, c2)\n",
    "    print(f\"The solution is: x = {solution_x}, y = {solution_y}\")\n"
   ]
  },
  {
   "cell_type": "code",
   "execution_count": 22,
   "id": "a8c92cf8-efe7-465b-9a18-0cba0af2b403",
   "metadata": {},
   "outputs": [
    {
     "name": "stdout",
     "output_type": "stream",
     "text": [
      "\n",
      "Question 1: What is the capital of France?\n",
      "A. Berlin\n",
      "B. Madrid\n",
      "C. Paris\n",
      "D. Rome\n"
     ]
    },
    {
     "name": "stdin",
     "output_type": "stream",
     "text": [
      "Your answer (A/B/C/D):  c\n"
     ]
    },
    {
     "name": "stdout",
     "output_type": "stream",
     "text": [
      "Correct!\n",
      "\n",
      "Question 2: Which planet is known as the Red Planet?\n",
      "A. Mars\n",
      "B. Venus\n",
      "C. Jupiter\n",
      "D. Saturn\n"
     ]
    },
    {
     "name": "stdin",
     "output_type": "stream",
     "text": [
      "Your answer (A/B/C/D):  a\n"
     ]
    },
    {
     "name": "stdout",
     "output_type": "stream",
     "text": [
      "Correct!\n",
      "\n",
      "Question 3: What is the largest mammal?\n",
      "A. Elephant\n",
      "B. Blue Whale\n",
      "C. Giraffe\n",
      "D. Gorilla\n"
     ]
    },
    {
     "name": "stdin",
     "output_type": "stream",
     "text": [
      "Your answer (A/B/C/D):  b\n"
     ]
    },
    {
     "name": "stdout",
     "output_type": "stream",
     "text": [
      "Correct!\n",
      "\n",
      "Quiz completed! Your score: 3/3\n"
     ]
    }
   ],
   "source": [
    "#26\n",
    "questions = [\n",
    "    {\"question\": \"What is the capital of France?\", \"options\": [\"A. Berlin\", \"B. Madrid\", \"C. Paris\", \"D. Rome\"], \"answer\": \"C\"},\n",
    "    {\"question\": \"Which planet is known as the Red Planet?\", \"options\": [\"A. Mars\", \"B. Venus\", \"C. Jupiter\", \"D. Saturn\"], \"answer\": \"A\"},\n",
    "    {\"question\": \"What is the largest mammal?\", \"options\": [\"A. Elephant\", \"B. Blue Whale\", \"C. Giraffe\", \"D. Gorilla\"], \"answer\": \"B\"}\n",
    "]\n",
    "def run_quiz(questions):\n",
    "    score = 0\n",
    "    for i, question in enumerate(questions, 1):\n",
    "        print(f\"\\nQuestion {i}: {question['question']}\")\n",
    "        for option in question['options']:\n",
    "            print(option)\n",
    "        user_answer = input(\"Your answer (A/B/C/D): \").upper()\n",
    "        if user_answer == question['answer']:\n",
    "            print(\"Correct!\")\n",
    "            score += 1\n",
    "        else:\n",
    "            print(f\"Wrong! The correct answer is {question['answer']}.\")\n",
    "    print(f\"\\nQuiz completed! Your score: {score}/{len(questions)}\")\n",
    "run_quiz(questions)\n"
   ]
  },
  {
   "cell_type": "code",
   "execution_count": 7,
   "id": "0da1661a-ac4a-4706-841c-ffca0a44f0db",
   "metadata": {},
   "outputs": [
    {
     "name": "stdin",
     "output_type": "stream",
     "text": [
      "For exit print->E \n",
      "Enter the year: 1739\n"
     ]
    },
    {
     "name": "stdout",
     "output_type": "stream",
     "text": [
      "This year is prime\n"
     ]
    },
    {
     "name": "stdin",
     "output_type": "stream",
     "text": [
      "For exit print->E \n",
      "Enter the year: 2004\n"
     ]
    },
    {
     "name": "stdout",
     "output_type": "stream",
     "text": [
      "This Year is not prime\n"
     ]
    },
    {
     "name": "stdin",
     "output_type": "stream",
     "text": [
      "For exit print->E \n",
      "Enter the year: 1324\n"
     ]
    },
    {
     "name": "stdout",
     "output_type": "stream",
     "text": [
      "This Year is not prime\n"
     ]
    },
    {
     "name": "stdin",
     "output_type": "stream",
     "text": [
      "For exit print->E \n",
      "Enter the year: 1313\n"
     ]
    },
    {
     "name": "stdout",
     "output_type": "stream",
     "text": [
      "This year is prime\n"
     ]
    },
    {
     "name": "stdin",
     "output_type": "stream",
     "text": [
      "For exit print->E \n",
      "Enter the year: 2019\n"
     ]
    },
    {
     "name": "stdout",
     "output_type": "stream",
     "text": [
      "This year is prime\n"
     ]
    },
    {
     "name": "stdin",
     "output_type": "stream",
     "text": [
      "For exit print->E e\n"
     ]
    }
   ],
   "source": [
    "#27\n",
    "while True:\n",
    "    e=input(\"For exit print->E:\")\n",
    "    if e.upper()==\"E\":\n",
    "        break\n",
    "    else:\n",
    "        year=int(input(\"Enter the year:\"))\n",
    "        for i in range(2,year):\n",
    "            if year%i==0:\n",
    "                print(\"This Year is not prime\")\n",
    "                break\n",
    "            else:\n",
    "                print(\"This year is prime\")\n",
    "                break"
   ]
  },
  {
   "cell_type": "code",
   "execution_count": 32,
   "id": "7eb4eba6-4b03-4fb6-ab74-b120320496c5",
   "metadata": {},
   "outputs": [
    {
     "name": "stdin",
     "output_type": "stream",
     "text": [
      "Enter Three numbers: 2 4 2\n"
     ]
    },
    {
     "name": "stdout",
     "output_type": "stream",
     "text": [
      "in ascending order: 2 2 4\n"
     ]
    }
   ],
   "source": [
    "#28\n",
    "a,b,c=map(int,input(\"Enter Three numbers:\").split())\n",
    "if a==b and b==c:\n",
    "    print(a,b,c)\n",
    "    print(\"All three numbers are equal\")\n",
    "else:\n",
    "    if a==b:\n",
    "        if a>c:\n",
    "            print(f\"in ascending order: {c} {a} {a}\")\n",
    "        else:\n",
    "            print(f\"in ascending order: {a} {a} {c}\")\n",
    "    elif a==c:\n",
    "        if a>b:\n",
    "            print(f\"in ascending order: {b} {a} {a}\")\n",
    "        else:\n",
    "            print(f\"in ascending order: {a} {a} {b}\") \n",
    "    elif b==c:\n",
    "        if b>a:\n",
    "            print(f\"in ascending order: {a} {b} {b}\")\n",
    "        else:\n",
    "            print(f\"in ascending order: {b} {b} {a}\") \n",
    "\n",
    "    else:\n",
    "        if a>b and a>c:\n",
    "            lar1=a\n",
    "            if b>c:\n",
    "                lar2=b\n",
    "                sml=c\n",
    "            else:\n",
    "                lar2=c\n",
    "                sml=b\n",
    "            print(f\"In ascending order: {sml} {lar2} {lar1} \")\n",
    "        elif b>a and b>c:\n",
    "            lar1=b\n",
    "            if a>c:\n",
    "                lar2=a\n",
    "                sml=c\n",
    "            else:\n",
    "                lar2=c\n",
    "                sml=a\n",
    "            print(f\"In ascending order: {sml} {lar2} {lar1} \")\n",
    "        elif c>a and c>b:\n",
    "            lar1=c\n",
    "            if a>b:\n",
    "                lar2=a\n",
    "                sml=b\n",
    "            else:\n",
    "                lar2=b\n",
    "                sml=a\n",
    "            print(f\"In ascending order: {sml} {lar2} {lar1} \")\n"
   ]
  },
  {
   "cell_type": "code",
   "execution_count": 23,
   "id": "0a1ecd9b-5826-4da9-b343-607378ecb947",
   "metadata": {},
   "outputs": [
    {
     "name": "stdout",
     "output_type": "stream",
     "text": [
      "The roots are: 0.2555, 0.2555, 0.2555, 0.2555\n"
     ]
    }
   ],
   "source": [
    "#29\n",
    "#Newton Rapshon method\n",
    "def quartic_equation(x, coefficients):\n",
    "    return sum(c * x**i for i, c in enumerate(coefficients))\n",
    "def derivative_quartic_equation(x, coefficients):\n",
    "    return sum(i * c * x**(i - 1) for i, c in enumerate(coefficients[1:], start=1))\n",
    "def newton_raphson_quartic(coefficients, initial_guess, tolerance=1e-6, max_iterations=100):\n",
    "    x = initial_guess\n",
    "    for j in range(max_iterations):\n",
    "        f_x = quartic_equation(x, coefficients)\n",
    "        f_prime_x = derivative_quartic_equation(x, coefficients)\n",
    "        if abs(f_prime_x)<tolerance:\n",
    "            break \n",
    "\n",
    "        x -=f_x/f_prime_x\n",
    "\n",
    "        if abs(f_x) < tolerance:\n",
    "            break  \n",
    "\n",
    "    return(x)\n",
    "# Example: Solve x^4 - 5x^3 + 4x^2 + 2x - 4 = 0\n",
    "coefficients = [1, -5, 4, 2, -4]\n",
    "\n",
    "# Find roots using Newton-Raphson method\n",
    "root_1 = newton_raphson_quartic(coefficients, initial_guess=0)\n",
    "root_2 = newton_raphson_quartic(coefficients, initial_guess=1)\n",
    "root_3 = newton_raphson_quartic(coefficients, initial_guess=2)\n",
    "root_4 = newton_raphson_quartic(coefficients, initial_guess=3)\n",
    "\n",
    "print(f\"The roots are: {root_1:.4f}, {root_2:.4f}, {root_3:.4f}, {root_4:.4f}\")\n"
   ]
  },
  {
   "cell_type": "code",
   "execution_count": 25,
   "id": "844e2f13-66e6-4ecf-9a88-97bfe3704075",
   "metadata": {},
   "outputs": [
    {
     "name": "stdin",
     "output_type": "stream",
     "text": [
      "Enter weight of the person in kilogram's 55\n",
      "Enter height of the person on meter's 1.651\n"
     ]
    },
    {
     "name": "stdout",
     "output_type": "stream",
     "text": [
      "BMI of the person is 20.0 kg/m2\n",
      "Normal weight\n",
      "You are Fit :)\n"
     ]
    }
   ],
   "source": [
    "#30\n",
    "wt=float(input(\"Enter weight of the person in kilogram's\"))\n",
    "ht=float(input(\"Enter height of the person on meter's\"))\n",
    "BMI= wt//(ht*ht)\n",
    "print(f\"BMI of the person is {BMI} kg/m2\")       \n",
    "if BMI<18.5:\n",
    "    print(\"You Are Underweight :(\")\n",
    "    print(\"Include protein-rich food's In your meals.\")\n",
    "    print(\"Stay hydrated \")\n",
    "elif 18.5<=BMI<=24.9:\n",
    "    print(\"Normal weight\")\n",
    "    print(\"You are Fit :)\")\n",
    "elif BMI>25:\n",
    "    print(\"Over weight\")\n",
    "    print(\"Adopt a balanced and nutritious diet with a focus on whole foods, fruits, vegetables, lean proteins, and whole grains.\")\n",
    "    print(\"Regular Health Check-ups\")\n",
    "    \n",
    "    \n",
    "    \n",
    "    \n",
    "\n"
   ]
  },
  {
   "cell_type": "code",
   "execution_count": 10,
   "id": "54875864-e5df-42b8-b13c-c1123e87d0f7",
   "metadata": {},
   "outputs": [
    {
     "name": "stdin",
     "output_type": "stream",
     "text": [
      "Enter Your Password For validation Abc@12345\n"
     ]
    },
    {
     "name": "stdout",
     "output_type": "stream",
     "text": [
      "This is a Valid Password\n"
     ]
    }
   ],
   "source": [
    "#31\n",
    "#paasword should not be less than 8\n",
    "#it should have  at least (a lowecase and upper_case and  a digit character)\n",
    "passw = input(\"Enter Your Password For validation\")\n",
    "\n",
    "def check(passw):\n",
    "    if not any(char.isupper() for char in passw):         # any returns True if at least one element of an iterable is true. \n",
    "        return False                                         #so here it will return True if any of the chracter in passw is upper()\n",
    "    if not any(char.islower() for char in passw):\n",
    "        return False\n",
    "    if not any(char.isdigit() for char in passw):\n",
    "        return False\n",
    "    if len(passw) > 8:\n",
    "        if len(set(passw)) == len(passw):          #set should check for uniqueness\n",
    "            return \"This is a Valid Password\"\n",
    "        else:\n",
    "            return \"This is Not a Valid Password (characters are repeated)\"\n",
    "    else:\n",
    "        return \"This is Not a Valid Password length is less than 12\"\n",
    "\n",
    "chck = check(passw)\n",
    "if chck==False:\n",
    "    print(\"This is Not a Valid Password as it does not fullfil the criteria\")\n",
    "else:\n",
    "    print(chck)\n",
    "\n"
   ]
  },
  {
   "cell_type": "code",
   "execution_count": 28,
   "id": "f5e4a0a4-8ba4-4edb-900d-d6dfb5645e44",
   "metadata": {},
   "outputs": [
    {
     "name": "stdout",
     "output_type": "stream",
     "text": [
      "Matrices can be added if they have same number of rows and columns\n"
     ]
    },
    {
     "name": "stdin",
     "output_type": "stream",
     "text": [
      "No of rows of the matrices 3\n",
      "No of columns of the matrices 3\n"
     ]
    },
    {
     "name": "stdout",
     "output_type": "stream",
     "text": [
      "For First Matrix\n"
     ]
    },
    {
     "name": "stdin",
     "output_type": "stream",
     "text": [
      "Enter 11 element 1\n",
      "Enter 12 element 1\n",
      "Enter 13 element 1\n",
      "Enter 21 element 1\n",
      "Enter 22 element 1\n",
      "Enter 23 element 1\n",
      "Enter 31 element 1\n",
      "Enter 32 element 1\n",
      "Enter 33 element 1\n"
     ]
    },
    {
     "name": "stdout",
     "output_type": "stream",
     "text": [
      "matrix-1\n",
      "[1, 1, 1]\n",
      "[1, 1, 1]\n",
      "[1, 1, 1]\n",
      "For matrix-2\n"
     ]
    },
    {
     "name": "stdin",
     "output_type": "stream",
     "text": [
      "Enter 11 element 2\n",
      "Enter 12 element 2\n",
      "Enter 13 element 2\n",
      "Enter 21 element 2\n",
      "Enter 22 element 2\n",
      "Enter 23 element 2\n",
      "Enter 31 element 2\n",
      "Enter 32 element 2\n",
      "Enter 33 element 2\n"
     ]
    },
    {
     "name": "stdout",
     "output_type": "stream",
     "text": [
      "matrix-2\n",
      "[2, 2, 2]\n",
      "[2, 2, 2]\n",
      "[2, 2, 2]\n"
     ]
    },
    {
     "name": "stdin",
     "output_type": "stream",
     "text": [
      "For adding print:+ For subtracting print::- +\n"
     ]
    },
    {
     "name": "stdout",
     "output_type": "stream",
     "text": [
      "[3, 3, 3]\n",
      "[3, 3, 3]\n",
      "[3, 3, 3]\n"
     ]
    }
   ],
   "source": [
    "#32\n",
    "print(\"Matrices can be added if they have same number of rows and columns\")\n",
    "def mat(R,C):\n",
    "    i=1\n",
    "    orglst=[]\n",
    "    while i<=R:\n",
    "        lst=[]\n",
    "        for j in range(1,C+1):\n",
    "            e=int(input(f\"Enter {i}{j} element\"))\n",
    "            lst.append(e)\n",
    "        orglst.append(lst)\n",
    "        i=i+1\n",
    "    return(orglst)\n",
    "r=int(input(\"No of rows of the matrices\"))\n",
    "c=int(input(\"No of columns of the matrices\"))\n",
    "print(\"For First Matrix\")\n",
    "mat1=mat(r,c)\n",
    "print(\"matrix-1\")\n",
    "for ele in mat1:\n",
    "    print(ele)\n",
    "print(\"For matrix-2\")\n",
    "mat2=mat(r,c)\n",
    "print(\"matrix-2\")\n",
    "for ele in mat2:\n",
    "    print(ele)\n",
    "evl=input(\"For adding print:+ For subtracting print::-\")\n",
    "if evl==\"+\":\n",
    "    i=0\n",
    "    sum_lst=[]\n",
    "    while i<r:\n",
    "        ele=[]\n",
    "        for j in range(0,c):\n",
    "            s=mat1[i][j]+mat2[i][j]\n",
    "            ele.append(s)\n",
    "        sum_lst.append(ele)\n",
    "        i=i+1\n",
    "    for i in sum_lst:\n",
    "        print(i)\n",
    "elif evl==\"-\":\n",
    "    i=0\n",
    "    sub_lst=[]\n",
    "    while i<r:\n",
    "        ele=[]\n",
    "        for j in range(0,c):\n",
    "            s=mat1[i][j]-mat2[i][j]\n",
    "            ele.append(s)\n",
    "        sub_lst.append(ele)\n",
    "        i=i+1\n",
    "    for i in sub_lst:\n",
    "        print(i)"
   ]
  },
  {
   "cell_type": "code",
   "execution_count": 41,
   "id": "a5168da7-bf5f-4edc-86cc-0ff5e77cbfdb",
   "metadata": {},
   "outputs": [
    {
     "name": "stdin",
     "output_type": "stream",
     "text": [
      "Enter number:  48\n",
      "Enter number:  18\n"
     ]
    },
    {
     "name": "stdout",
     "output_type": "stream",
     "text": [
      "a:48 b:18\n",
      "a:18 b:12\n",
      "a:12 b:6\n",
      "GCD: 6\n"
     ]
    }
   ],
   "source": [
    "#33\n",
    "#In understanding way\n",
    "#Euclidean algorithm is an algorithm to Find greatest common divisor among two numbers using the largest%smallest technique\n",
    "n1 = int(input(\"Enter number: \"))\n",
    "n2 = int(input(\"Enter number: \"))\n",
    "\n",
    "def Ecd(a, b):\n",
    "    while b!=0:\n",
    "        print(f\"a:{a} b:{b}\")\n",
    "        temp=b\n",
    "        b=a % b\n",
    "        a=temp\n",
    "    return(a)\n",
    "\n",
    "call=Ecd(n1, n2)\n",
    "print(\"GCD:\",call)\n"
   ]
  },
  {
   "cell_type": "code",
   "execution_count": 29,
   "id": "482c503c-d466-4c31-87be-13fd14b4c0c6",
   "metadata": {},
   "outputs": [
    {
     "name": "stdout",
     "output_type": "stream",
     "text": [
      "[58, 64]\n",
      "[139, 154]\n"
     ]
    }
   ],
   "source": [
    "#34\n",
    "matrix_a = [[1, 2, 3], [4, 5, 6]]\n",
    "matrix_b = [[7, 8], [9, 10], [11, 12]]\n",
    "def matrix_multiply(matrix1, matrix2):\n",
    "    l1 = len(matrix1)\n",
    "    l2 = len(matrix2)\n",
    "    l1_0 = len(matrix1[0])\n",
    "    l2_0 = len(matrix2[0])\n",
    "    if l1_0 != l2:\n",
    "        print(\"Matrices cannot be multiplied. Number of columns in the first matrix must be equal to the number of rows in the second matrix.\")\n",
    "        return None\n",
    "    result = [[0] * l2_0 for _ in range(l1)]\n",
    "    for i in range(l1):\n",
    "        for j in range(l2_0):\n",
    "            for k in range(l2):\n",
    "                result[i][j] += matrix1[i][k] * matrix2[k][j]\n",
    "    return result\n",
    "result_matrix=matrix_multiply(matrix_a, matrix_b)\n",
    "if result_matrix:\n",
    "    for row in result_matrix:\n",
    "        print(row)\n"
   ]
  },
  {
   "cell_type": "code",
   "execution_count": 1,
   "id": "9e178618-41ed-4927-a6f4-df3b30f0e712",
   "metadata": {},
   "outputs": [
    {
     "name": "stdout",
     "output_type": "stream",
     "text": [
      "1 2 3\n",
      "-----\n",
      "4 5 6\n",
      "-----\n",
      "7 8 9\n",
      "-----\n"
     ]
    },
    {
     "name": "stdin",
     "output_type": "stream",
     "text": [
      "Enter location for X:  3\n"
     ]
    },
    {
     "name": "stdout",
     "output_type": "stream",
     "text": [
      "1 2 X\n",
      "-----\n",
      "4 5 6\n",
      "-----\n",
      "7 8 9\n",
      "-----\n",
      "Computer Move\n",
      "1 O X\n",
      "-----\n",
      "4 5 6\n",
      "-----\n",
      "7 8 9\n",
      "-----\n"
     ]
    },
    {
     "name": "stdin",
     "output_type": "stream",
     "text": [
      "Enter location for X:  6\n"
     ]
    },
    {
     "name": "stdout",
     "output_type": "stream",
     "text": [
      "1 O X\n",
      "-----\n",
      "4 5 X\n",
      "-----\n",
      "7 8 9\n",
      "-----\n",
      "Computer Move\n",
      "1 O X\n",
      "-----\n",
      "O 5 X\n",
      "-----\n",
      "7 8 9\n",
      "-----\n"
     ]
    },
    {
     "name": "stdin",
     "output_type": "stream",
     "text": [
      "Enter location for X:  9\n"
     ]
    },
    {
     "name": "stdout",
     "output_type": "stream",
     "text": [
      "1 O X\n",
      "-----\n",
      "O 5 X\n",
      "-----\n",
      "7 8 X\n",
      "-----\n",
      "Computer Move\n",
      "1 O X\n",
      "-----\n",
      "O 5 X\n",
      "-----\n",
      "7 O X\n",
      "-----\n"
     ]
    },
    {
     "name": "stdin",
     "output_type": "stream",
     "text": [
      "Enter location for X:  1\n"
     ]
    },
    {
     "name": "stdout",
     "output_type": "stream",
     "text": [
      "X O X\n",
      "-----\n",
      "O 5 X\n",
      "-----\n",
      "7 O X\n",
      "-----\n",
      "Computer Move\n",
      "X O X\n",
      "-----\n",
      "O 5 X\n",
      "-----\n",
      "O O X\n",
      "-----\n"
     ]
    },
    {
     "name": "stdin",
     "output_type": "stream",
     "text": [
      "Enter location for X:  5\n"
     ]
    },
    {
     "name": "stdout",
     "output_type": "stream",
     "text": [
      "X O X\n",
      "-----\n",
      "O X X\n",
      "-----\n",
      "O O X\n",
      "-----\n"
     ]
    }
   ],
   "source": [
    "#35\n",
    "import random as r\n",
    "\n",
    "def print_board(board):\n",
    "    for r in board:\n",
    "        print(*r)\n",
    "        print(\"-----\")\n",
    "\n",
    "def player_move(board, player, ch):                         #This function is used for taking player's input and if location is already taken we will call the player function again\n",
    "    n = int(input(f\"Enter location for {player}: \"))\n",
    "    if n in ch:\n",
    "        ch.remove(n)\n",
    "        for row in board:\n",
    "            if n in row:\n",
    "                row[row.index(n)] = player\n",
    "        print_board(board)\n",
    "    else:\n",
    "        print(\"Invalid move. Location already taken. Try again.\")\n",
    "        player_move(board, player, ch)\n",
    "\n",
    "def computer_move(board, player, ch):\n",
    "    n = r.choice(ch)\n",
    "    ch.remove(n)\n",
    "    for row in board:\n",
    "        if n in row:\n",
    "            row[row.index(n)] = player\n",
    "    print_board(board)\n",
    "\n",
    "def tic_tac_toe():\n",
    "    l1 = [[1, 2, 3], [4, 5, 6], [7, 8, 9]]\n",
    "    ch = [1, 2, 3, 4, 5, 6, 7, 8, 9]\n",
    "    \n",
    "    for K in l1:\n",
    "        print(*K)\n",
    "        print(\"-----\")\n",
    "\n",
    "    for _ in range(5): \n",
    "        player_move(l1, 'X', ch)\n",
    "        if len(ch) == 0:\n",
    "            break\n",
    "        print(\"Computer Move\")\n",
    "        computer_move(l1, 'O', ch)\n",
    "\n",
    "if __name__ == \"__main__\":\n",
    "    tic_tac_toe()\n"
   ]
  },
  {
   "cell_type": "code",
   "execution_count": 4,
   "id": "be06e6f5-b71e-41b6-887a-ae9c8da930b8",
   "metadata": {},
   "outputs": [
    {
     "name": "stdin",
     "output_type": "stream",
     "text": [
      "Enter number of Terms: 10\n"
     ]
    },
    {
     "name": "stdout",
     "output_type": "stream",
     "text": [
      "0 1 1 2 3 5 8 13 21 34 55\n"
     ]
    }
   ],
   "source": [
    "#36.\n",
    "def fib(n):\n",
    "    fib_sqe=[0,1]\n",
    "\n",
    "    while len(fib_sqe)<=n:\n",
    "        nxt=fib_sqe[-1]+fib_sqe[-2]\n",
    "        fib_sqe.append(nxt)\n",
    "    return(fib_sqe)\n",
    "num=int(input(\"Enter number of Terms:\"))\n",
    "rtrn=fib(num)\n",
    "print(*rtrn)"
   ]
  },
  {
   "cell_type": "code",
   "execution_count": 5,
   "id": "023fc056-c312-4864-90f2-e75406024782",
   "metadata": {},
   "outputs": [
    {
     "name": "stdout",
     "output_type": "stream",
     "text": [
      "The 10th term of the Fibonacci sequence is: 55\n"
     ]
    }
   ],
   "source": [
    "#37\n",
    "#memoziation is a techinque in which previously calculated results are kept \n",
    "#or we can say we are using recursive method\n",
    "def fibonacci_memoization(n, memo={}):\n",
    "    if n in memo:\n",
    "        return memo[n]\n",
    "    elif n<=1:\n",
    "        return(n)\n",
    "    else:\n",
    "        result = fibonacci_memoization(n-1, memo)+fibonacci_memoization(n-2, memo)\n",
    "        memo[n] = result\n",
    "        return result\n",
    "nth_term=10\n",
    "result = fibonacci_memoization(nth_term)\n",
    "print(f\"The {nth_term}th term of the Fibonacci sequence is: {result}\")\n"
   ]
  },
  {
   "cell_type": "code",
   "execution_count": 11,
   "id": "4e24ce66-adc3-49d1-9526-a2a2b657e925",
   "metadata": {},
   "outputs": [
    {
     "name": "stdin",
     "output_type": "stream",
     "text": [
      "Enter Year: 2023\n",
      "Enter Month: 10\n"
     ]
    },
    {
     "name": "stdout",
     "output_type": "stream",
     "text": [
      "mon tue wed thr fri sat sun\n",
      "1   2   3   4   5   6   7    \n",
      "8   9   10   11   12   13   14    \n",
      "15   16   17   18   19   20   21    \n",
      "22   23   24   25   26   27   28    \n",
      "29   30   31   "
     ]
    }
   ],
   "source": [
    "#38\n",
    "from datetime import datetime\n",
    "def cal(yr,mo):\n",
    "    no_of_days=[0,31,28,30,31,30,31,30,31,30,31,30,31]\n",
    "    if(yr%4==0 and yr%100!=0) or (yr%400==0):\n",
    "        no_of_days[2]=29\n",
    "    first_day=datetime(yr,mo,1).weekday()\n",
    "    lst=[first_day,no_of_days[mo]]\n",
    "    return(lst)\n",
    "year=int(input(\"Enter Year:\"))\n",
    "month=int(input(\"Enter Month:\"))\n",
    "x=cal(year,month)\n",
    "def display(x,y):\n",
    "    print(\"mon tue wed thr fri sat sun\")\n",
    "    n=1\n",
    "    while n<=31:\n",
    "        print(n,end=\"   \")\n",
    "        if n%7==0:\n",
    "            print(\" \")\n",
    "            \n",
    "        n=n+1\n",
    "display(x[0],x[1])"
   ]
  },
  {
   "cell_type": "code",
   "execution_count": 12,
   "id": "a8352020-5fc7-48e2-8d74-9de032272503",
   "metadata": {},
   "outputs": [
    {
     "name": "stdout",
     "output_type": "stream",
     "text": [
      "Your cards: [10, 10], current score: 20\n",
      "Computer's first card: 8\n"
     ]
    },
    {
     "name": "stdin",
     "output_type": "stream",
     "text": [
      "Type 'y' to get another card, 'n' to pass:  y\n"
     ]
    },
    {
     "name": "stdout",
     "output_type": "stream",
     "text": [
      "Your cards: [10, 10, 1], current score: 21\n",
      "Computer's first card: 8\n"
     ]
    },
    {
     "name": "stdin",
     "output_type": "stream",
     "text": [
      "Type 'y' to get another card, 'n' to pass:  y\n"
     ]
    },
    {
     "name": "stdout",
     "output_type": "stream",
     "text": [
      "Your cards: [10, 10, 1, 6], current score: 27\n",
      "Computer's first card: 8\n",
      "Your final hand: [10, 10, 1, 6], final score: 27\n",
      "Computer's final hand: [8, 10], final score: 18\n",
      "You went over. You lose!\n"
     ]
    }
   ],
   "source": [
    "#39.\n",
    "import random\n",
    "def deal_card():\n",
    "    cards=[11,2,3,4,5,6,7,8,9,10,10,10,10]\n",
    "    return random.choice(cards)\n",
    "\n",
    "def calculate_score(cards):\n",
    "    if sum(cards)==21 and len(cards)==2:\n",
    "        return(0) \n",
    "    if 11 in cards and sum(cards)>21:\n",
    "        cards.remove(11)\n",
    "        cards.append(1)\n",
    "    return sum(cards)\n",
    "\n",
    "def compare(user_score, computer_score):\n",
    "    if user_score==computer_score:\n",
    "        return(\"It's a draw!\")\n",
    "    elif computer_score==0:\n",
    "        return(\"You lose, opponent has Blackjack!\")\n",
    "    elif user_score==0:\n",
    "        return(\"You win with a Blackjack!\")\n",
    "    elif user_score>21:\n",
    "        return (\"You went over. You lose!\")\n",
    "    elif computer_score>21:\n",
    "        return (\"Opponent went over. You win!\"\n",
    "    elif user_score>computer_score:\n",
    "        return (\"You win!\")\n",
    "    else:\n",
    "        return (\"You lose!\")\n",
    "\n",
    "def play_game():\n",
    "    user_cards=[]\n",
    "    computer_cards=[]\n",
    "    game_over=False\n",
    "    for j in range(2):\n",
    "        user_cards.append(deal_card())\n",
    "        computer_cards.append(deal_card())\n",
    "    while not game_over:\n",
    "        user_score = calculate_score(user_cards)\n",
    "        computer_score = calculate_score(computer_cards)\n",
    "        print(f\"Your cards: {user_cards}, current score: {user_score}\")\n",
    "        print(f\"Computer's first card:{computer_cards[0]}\")\n",
    "        if user_score==0 or computer_score==0 or user_score>21:\n",
    "            game_over=True\n",
    "        else:\n",
    "            should_continue = input(\"Type 'y' to get another card, 'n' to pass: \")\n",
    "            if should_continue == 'y':\n",
    "                user_cards.append(deal_card())\n",
    "            else:\n",
    "                game_over=True\n",
    "    while computer_score != 0 and computer_score < 17:\n",
    "        computer_cards.append(deal_card())\n",
    "        computer_score = calculate_score(computer_cards)\n",
    "\n",
    "    print(f\"Your final hand: {user_cards}, final score: {user_score}\")\n",
    "    print(f\"Computer's final hand: {computer_cards}, final score: {computer_score}\")\n",
    "    print(compare(user_score, computer_score))\n",
    "\n",
    "play_game()\n"
   ]
  },
  {
   "cell_type": "code",
   "execution_count": 15,
   "id": "a96a089f-a71c-47fe-a31f-dd4b8f90ec7f",
   "metadata": {},
   "outputs": [
    {
     "name": "stdin",
     "output_type": "stream",
     "text": [
      "Enter a number:  28\n"
     ]
    },
    {
     "name": "stdout",
     "output_type": "stream",
     "text": [
      "Prime factors of 28: [2, 2, 7]\n"
     ]
    }
   ],
   "source": [
    "#40\n",
    "def generate_prime_factors(number):\n",
    "    prime_factors=[]\n",
    "    divisor=2\n",
    "    while divisor<=number:\n",
    "        if number%divisor==0:\n",
    "            prime_factors.append(divisor)\n",
    "            number//=divisor\n",
    "        else:\n",
    "            divisor+=1\n",
    "    return prime_factors\n",
    "number = int(input(\"Enter a number: \"))\n",
    "factors = generate_prime_factors(number)\n",
    "print(f\"Prime factors of {number}: {factors}\")\n"
   ]
  },
  {
   "cell_type": "code",
   "execution_count": null,
   "id": "62e192ec-fe48-48f2-8968-eed0ff6b08a4",
   "metadata": {},
   "outputs": [],
   "source": []
  }
 ],
 "metadata": {
  "kernelspec": {
   "display_name": "Python 3 (ipykernel)",
   "language": "python",
   "name": "python3"
  },
  "language_info": {
   "codemirror_mode": {
    "name": "ipython",
    "version": 3
   },
   "file_extension": ".py",
   "mimetype": "text/x-python",
   "name": "python",
   "nbconvert_exporter": "python",
   "pygments_lexer": "ipython3",
   "version": "3.10.8"
  }
 },
 "nbformat": 4,
 "nbformat_minor": 5
}
