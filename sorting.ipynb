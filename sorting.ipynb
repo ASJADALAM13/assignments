{
 "cells": [
  {
   "cell_type": "code",
   "execution_count": 2,
   "id": "cd0dd74c-549b-4e6d-91d2-591b50533a90",
   "metadata": {},
   "outputs": [
    {
     "name": "stdout",
     "output_type": "stream",
     "text": [
      "3\n"
     ]
    }
   ],
   "source": [
    "#1.\n",
    "from collections import Counter\n",
    "\n",
    "def max_occurrence(arr):\n",
    "    counts = Counter(arr)\n",
    "    return max(counts, key=counts.get)\n",
    "\n",
    "# Example usage\n",
    "arr = [1, 2, 2, 3, 3, 3, 4]\n",
    "print(max_occurrence(arr))  # Output: 3\n"
   ]
  },
  {
   "cell_type": "code",
   "execution_count": 4,
   "id": "7e100e1c-1dcf-4ac0-b7fa-31e146f9ec10",
   "metadata": {},
   "outputs": [
    {
     "name": "stdout",
     "output_type": "stream",
     "text": [
      "5\n"
     ]
    }
   ],
   "source": [
    "#2.\n",
    "def find_missing_number(arr, n):\n",
    "    total_sum = n * (n + 1) // 2\n",
    "    arr_sum = sum(arr)\n",
    "    return total_sum - arr_sum\n",
    "\n",
    "# Example usage\n",
    "arr = [1, 2, 4, 6, 3, 7, 8]\n",
    "n = 8\n",
    "print(find_missing_number(arr, n))  # Output: 5\n"
   ]
  },
  {
   "cell_type": "code",
   "execution_count": 6,
   "id": "ff3ff15d-c107-4984-b059-a0a51de0d9ec",
   "metadata": {},
   "outputs": [
    {
     "name": "stdout",
     "output_type": "stream",
     "text": [
      "3\n"
     ]
    }
   ],
   "source": [
    "#3.\n",
    "#logic applied:XOR-ing pairs of the same number cancels them out to zero.\n",
    "def find_odd_occurrence(arr):\n",
    "    result = 0\n",
    "    for num in arr:\n",
    "        result ^= num\n",
    "    return result\n",
    "\n",
    "# Example usage\n",
    "arr = [1, 2, 3, 2, 3, 1, 3]\n",
    "print(find_odd_occurrence(arr))  # Output: 3\n"
   ]
  },
  {
   "cell_type": "code",
   "execution_count": 10,
   "id": "43448c89-48ba-49a5-91cd-d1687e6bdf5d",
   "metadata": {},
   "outputs": [
    {
     "name": "stdout",
     "output_type": "stream",
     "text": [
      "(1, 10)\n"
     ]
    }
   ],
   "source": [
    "#4.\n",
    "def find_pair_with_sum(arr, K):\n",
    "    seen = set()\n",
    "    for num in arr:\n",
    "        target = K - num\n",
    "        if target in seen:\n",
    "            return (target, num)\n",
    "        seen.add(num)\n",
    "    return None\n",
    "\n",
    "# Example usage\n",
    "arr = [1, 4, 45, 6, 10, -8]\n",
    "K = 11\n",
    "print(find_pair_with_sum(arr, K))  # Output: (10, 6)\n"
   ]
  },
  {
   "cell_type": "code",
   "execution_count": 12,
   "id": "daeb743e-1040-4b07-9f51-75274e3e4605",
   "metadata": {},
   "outputs": [
    {
     "name": "stdout",
     "output_type": "stream",
     "text": [
      "(-80, 85)\n"
     ]
    }
   ],
   "source": [
    "#5.\n",
    "def closest_to_zero(arr):\n",
    "    arr.sort()\n",
    "    left, right = 0, len(arr) - 1\n",
    "    min_sum = float(\"inf\")\n",
    "    min_pair = (arr[left], arr[right])\n",
    "\n",
    "    while left < right:\n",
    "        sum_val = arr[left] + arr[right]\n",
    "        if abs(sum_val) < abs(min_sum):\n",
    "            min_sum = sum_val\n",
    "            min_pair = (arr[left], arr[right])\n",
    "\n",
    "        if sum_val < 0:\n",
    "            left += 1\n",
    "        else:\n",
    "            right -= 1\n",
    "\n",
    "    return min_pair\n",
    "\n",
    "# Example usage\n",
    "arr = [1, 60, -10, 70, -80, 85]\n",
    "print(closest_to_zero(arr))  # Output: (-80, 85)\n"
   ]
  },
  {
   "cell_type": "code",
   "execution_count": 14,
   "id": "40ff8c63-a829-4038-b3cf-6fd1883fcaf1",
   "metadata": {},
   "outputs": [
    {
     "name": "stdout",
     "output_type": "stream",
     "text": [
      "(4, 8, 10)\n"
     ]
    }
   ],
   "source": [
    "#6.\n",
    "def find_triplet_with_sum(arr, target_sum):\n",
    "    arr.sort()\n",
    "    n = len(arr)\n",
    "    for i in range(n - 2):\n",
    "        left, right = i + 1, n - 1\n",
    "        while left < right:\n",
    "            sum_val = arr[i] + arr[left] + arr[right]\n",
    "            if sum_val == target_sum:\n",
    "                return (arr[i], arr[left], arr[right])\n",
    "            elif sum_val < target_sum:\n",
    "                left += 1\n",
    "            else:\n",
    "                right -= 1\n",
    "    return None\n",
    "\n",
    "# Example usage\n",
    "arr = [1, 4, 45, 6, 10, 8]\n",
    "target_sum = 22\n",
    "print(find_triplet_with_sum(arr, target_sum))  # Output: (4, 8, 10)\n"
   ]
  },
  {
   "cell_type": "code",
   "execution_count": null,
   "id": "c8481cae-305a-4c76-b4b5-8cd9e5c989e8",
   "metadata": {},
   "outputs": [],
   "source": []
  }
 ],
 "metadata": {
  "kernelspec": {
   "display_name": "Python 3 (ipykernel)",
   "language": "python",
   "name": "python3"
  },
  "language_info": {
   "codemirror_mode": {
    "name": "ipython",
    "version": 3
   },
   "file_extension": ".py",
   "mimetype": "text/x-python",
   "name": "python",
   "nbconvert_exporter": "python",
   "pygments_lexer": "ipython3",
   "version": "3.12.4"
  }
 },
 "nbformat": 4,
 "nbformat_minor": 5
}
