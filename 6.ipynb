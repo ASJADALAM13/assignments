{
 "cells": [
  {
   "cell_type": "code",
   "execution_count": 17,
   "id": "3e56ec7c-d7c7-45ce-8f62-586382c80a42",
   "metadata": {},
   "outputs": [
    {
     "name": "stdin",
     "output_type": "stream",
     "text": [
      "Enter Number: 22345\n",
      "Enter Account's Holder Name ASJAD\n",
      "Enter Balance 2000\n"
     ]
    },
    {
     "name": "stdout",
     "output_type": "stream",
     "text": [
      "Account Number is:22345\n",
      "Account's Holder Name is:ASJAD\n",
      "Account Balance is:2000.0\n",
      "Your Balance after depositing money is 2500.0\n",
      "Your Balance after withrawing money is 2300.0\n"
     ]
    }
   ],
   "source": [
    "#1.\n",
    "class bank_account:\n",
    "    def __init__(self,accnt_no,accnt_holder_name,accnt_balance):\n",
    "        self.accnt_no=accnt_no\n",
    "        self.accnt_holder_name=accnt_holder_name\n",
    "        self.accnt_balance=accnt_balance\n",
    "    def details(self):\n",
    "        print(f\"Account Number is:{self.accnt_no}\\nAccount's Holder Name is:{self.accnt_holder_name}\\nAccount Balance is:{self.accnt_balance}\") \n",
    "    def deposit(self,dep):\n",
    "        self.accnt_balance=self.accnt_balance+dep\n",
    "        print(\"Your Balance after depositing money is\",self.accnt_balance)\n",
    "    def withdraw(self,wid):\n",
    "        self.accnt_balance=self.accnt_balance-wid\n",
    "        print(\"Your Balance after withrawing money is\",self.accnt_balance)\n",
    "\n",
    "\n",
    "numb=int(input(\"Enter Number:\"))\n",
    "name=input(\"Enter Account's Holder Name\")\n",
    "balance=float(input(\"Enter Balance\"))\n",
    "a=bank_account(numb,name,balance)\n",
    "a.details()\n",
    "a.deposit(500)\n",
    "a.withdraw(200)"
   ]
  },
  {
   "cell_type": "code",
   "execution_count": 4,
   "id": "5185de24-36e1-4975-8514-baae13910358",
   "metadata": {},
   "outputs": [
    {
     "name": "stdin",
     "output_type": "stream",
     "text": [
      "Enter Bonus Percentage: 13\n"
     ]
    },
    {
     "name": "stdout",
     "output_type": "stream",
     "text": [
      "Employee ID is:11GHH20\n",
      "Employee Name is:ASHU\n",
      "Employee ID is:40000\n",
      "Total Amount of Bonus which will hike the current salalry is: 5200.0\n"
     ]
    }
   ],
   "source": [
    "#2.\n",
    "class employee:\n",
    "    def __init__(self,emp_id,emp_name,emp_sal):\n",
    "        self.emp_id=emp_id\n",
    "        self.emp_name=emp_name\n",
    "        self.emp_sal=emp_sal\n",
    "    def yrl_bonus(self,bonus):\n",
    "        total=self.emp_sal*(bonus/100)\n",
    "        \n",
    "        print(\"Total Amount of Bonus which will hike the current salalry is:\",total)\n",
    "    def details(self):\n",
    "        print(f\"Employee ID is:{self.emp_id}\\nEmployee Name is:{self.emp_name}\\nEmployee ID is:{self.emp_sal}\")\n",
    "bns=int(input(\"Enter Bonus Percentage:\"))\n",
    "emp=employee(\"11GHH20\",\"ASHU\",40000)\n",
    "emp.details()\n",
    "emp.yrl_bonus(bns)"
   ]
  },
  {
   "cell_type": "code",
   "execution_count": 7,
   "id": "4b871846-030a-44fa-ac84-514ba60f80ca",
   "metadata": {},
   "outputs": [
    {
     "name": "stdout",
     "output_type": "stream",
     "text": [
      "Toyota:red(available)\n",
      "Sumo:black(available)\n",
      "Wagon-R:white(available)\n",
      "Thar:Black(available)\n",
      "Renting Wagon-R\n",
      "Toyota:red(available)\n",
      "Sumo:black(available)\n",
      "Wagon-R:white(not available)\n",
      "Thar:Black(available)\n",
      "Returning {'Wagon-R'}\n",
      "Toyota:red(available)\n",
      "Sumo:black(available)\n",
      "Wagon-R:white(available)\n",
      "Thar:Black(available)\n"
     ]
    }
   ],
   "source": [
    "#3.\n",
    "class Vehicle:\n",
    "    def __init__(self,model,color,year):\n",
    "        self.model=model\n",
    "        self.color=color\n",
    "        self.year=year\n",
    "        self.is_available=True\n",
    "    def display(self):\n",
    "        print(f\"{self.model}:{self.color}({'available' if self.is_available else 'not available'})\")\n",
    "    def rental(self):\n",
    "        if self.is_available:\n",
    "            print(\"Renting\",self.model)\n",
    "            self.is_available=False\n",
    "        else:\n",
    "            print(\"Sorry Not Available\")\n",
    "    def return_v(self):\n",
    "        print(\"Returning\",{self.model})\n",
    "        self.is_available=True\n",
    "v1=Vehicle(\"Toyota\",\"red\",2008)\n",
    "v2=Vehicle(\"Sumo\",\"black\",2021)\n",
    "v3=Vehicle(\"Wagon-R\",\"white\",2021)\n",
    "v4=Vehicle(\"Thar\",\"Black\",2021)\n",
    "v1.display()\n",
    "v2.display()\n",
    "v3.display()\n",
    "v4.display()\n",
    "\n",
    "v3.rental()\n",
    "v1.display()\n",
    "v2.display()\n",
    "v3.display()\n",
    "v4.display()\n",
    "\n",
    "v3.return_v()\n",
    "v1.display()\n",
    "v2.display()\n",
    "v3.display()\n",
    "v4.display()"
   ]
  },
  {
   "cell_type": "code",
   "execution_count": 2,
   "id": "11cfdd06-0fee-4dd1-a30c-0830aab1427b",
   "metadata": {},
   "outputs": [
    {
     "name": "stdout",
     "output_type": "stream",
     "text": [
      "Three Men in a Boat(Available)\n",
      " Three Muskeeters(Available)\n",
      "Harry Potter(Available)\n",
      "Goblin Game(Available)\n",
      "Lord's of the ring(Available)\n",
      "Borrowing: Three Men in a Boat\n",
      "Borrowing:  Three Muskeeters\n",
      "Three Men in a Boat(Not Available)\n",
      " Three Muskeeters(Not Available)\n",
      "Harry Potter(Available)\n",
      "Goblin Game(Available)\n",
      "Lord's of the ring(Available)\n",
      "Returning:  Three Muskeeters\n",
      "Three Men in a Boat(Not Available)\n",
      " Three Muskeeters(Available)\n",
      "Harry Potter(Available)\n",
      "Goblin Game(Available)\n",
      "Lord's of the ring(Available)\n"
     ]
    }
   ],
   "source": [
    "#4.\n",
    "class lib:\n",
    "    def __init__(self,book_name):\n",
    "        self.book_name=book_name\n",
    "        self.available=True\n",
    "    def borrow(self):\n",
    "        if self.available:\n",
    "            print(\"Borrowing:\",self.book_name)\n",
    "            self.available=False\n",
    "        else:\n",
    "            print(\"This Book Is Not Available\")\n",
    "    def display(self):\n",
    "        print(f\"{self.book_name}({'Available' if self.available else 'Not Available'})\")\n",
    "    def returning(self):\n",
    "        print(f\"Returning:\",self.book_name)\n",
    "        self.available=True\n",
    "b1=lib(\"Three Men in a Boat\")\n",
    "b2=lib(\" Three Muskeeters\")\n",
    "b3=lib(\"Harry Potter\")\n",
    "b4=lib(\"Goblin Game\")\n",
    "b5=lib(\"Lord's of the ring\")\n",
    "#Displaying\n",
    "b1.display()\n",
    "b2.display()\n",
    "b3.display()\n",
    "b4.display()\n",
    "b5.display()\n",
    "\n",
    "#borrow\n",
    "b1.borrow()\n",
    "b2.borrow()\n",
    "#availablity\n",
    "b1.display()\n",
    "b2.display()\n",
    "b3.display()\n",
    "b4.display()\n",
    "b5.display()\n",
    "#return\n",
    "b2.returning()\n",
    "#availabilty\n",
    "b1.display()\n",
    "b2.display()\n",
    "b3.display()\n",
    "b4.display()\n",
    "b5.display()\n"
   ]
  },
  {
   "cell_type": "code",
   "execution_count": 15,
   "id": "556a0af5-e475-43c4-b835-c67df91f5eb4",
   "metadata": {},
   "outputs": [
    {
     "name": "stdout",
     "output_type": "stream",
     "text": [
      "Item-1:40 (Available)\n",
      "Item-2:30 (Available)\n",
      "Item-3:25 (Available)\n",
      "Item-4:20 (Available)\n",
      "Item-5:10 (Available)\n",
      "purchasing: Item-1:10 Pieces\n",
      "purchasing: Item-2:5 Pieces\n",
      "Item-1:30 (Available)\n",
      "Item-2:25 (Available)\n",
      "Item-3:25 (Available)\n",
      "Item-4:20 (Available)\n",
      "Item-5:10 (Available)\n",
      "Adding New Stocks: Item-4:10 Pieces\n",
      "Item-1:30 (Available)\n",
      "Item-2:25 (Available)\n",
      "Item-3:25 (Available)\n",
      "Item-4:30 (Available)\n",
      "Item-5:10 (Available)\n"
     ]
    }
   ],
   "source": [
    "#5.\n",
    "class product_inventory:\n",
    "    def __init__(self,product_name,quantity):\n",
    "        self.product_name=product_name\n",
    "        self.quantity=quantity\n",
    "        self.available=True\n",
    "\n",
    "    def purchase(self,n):\n",
    "        if self.quantity!=0:\n",
    "            print(\"purchasing:\",self.product_name,end=\":\")\n",
    "            print(n,\"Pieces\")\n",
    "            self.quantity=self.quantity-n\n",
    "        else:\n",
    "            print(\"This product Is Not Available\")\n",
    "    def display(self):\n",
    "        print(f\"{self.product_name}:{self.quantity} ({'Available' if self.quantity!=0 else 'Not Available'})\")\n",
    "    def new_goods(self,n):\n",
    "        print(\"Adding New Stocks:\",self.product_name,end=\":\")\n",
    "        print(n,\"Pieces\")\n",
    "        self.quantity=self.quantity+n\n",
    "\n",
    "p1=product_inventory(\"Item-1\",40)\n",
    "p2=product_inventory(\"Item-2\",30)  \n",
    "p3=product_inventory(\"Item-3\",25)     \n",
    "p4=product_inventory(\"Item-4\",20)     \n",
    "p5=product_inventory(\"Item-5\",10)     \n",
    "\n",
    "\n",
    "\n",
    "\n",
    "        \n",
    "#Displaying\n",
    "p1.display()\n",
    "p2.display()\n",
    "p3.display()\n",
    "p4.display()\n",
    "p5.display()\n",
    "\n",
    "#borrow\n",
    "p1.purchase(10)\n",
    "p2.purchase(5)\n",
    "#availablity\n",
    "p1.display()\n",
    "p2.display()\n",
    "p3.display()\n",
    "p4.display()\n",
    "p5.display()\n",
    "#return\n",
    "p4.new_goods(10)\n",
    "#availabilty\n",
    "p1.display()\n",
    "p2.display()\n",
    "p3.display()\n",
    "p4.display()\n",
    "p5.display()\n"
   ]
  },
  {
   "cell_type": "code",
   "execution_count": 24,
   "id": "dd8f3e0c-5640-4c41-9cf9-0dadcc1081b7",
   "metadata": {},
   "outputs": [
    {
     "name": "stdin",
     "output_type": "stream",
     "text": [
      "Enter Length Breadth and Height: 10 20 30\n"
     ]
    },
    {
     "name": "stdout",
     "output_type": "stream",
     "text": [
      "Area Is: 200\n",
      "Perimeter is: 60\n"
     ]
    }
   ],
   "source": [
    "#6\n",
    "class shape_calc:\n",
    "    def __init__(self,l,b,h):\n",
    "        self.l=l\n",
    "        self.b=b\n",
    "        self.h=h\n",
    "    def area(self):\n",
    "        print(\"Area Is:\",(self.l*self.b))\n",
    "    def perimeter(self):\n",
    "        print(\"Perimeter is:\",(2*(self.l+self.b)))\n",
    "\n",
    "x,y,z=map(int,input(\"Enter Length Breadth and Height:\").split())\n",
    "s1=shape_calc(x,y,z)\n",
    "s1.area()\n",
    "s1.perimeter()"
   ]
  },
  {
   "cell_type": "code",
   "execution_count": 18,
   "id": "7ac80b09-f9ad-4bdd-a639-df4a55d9bb10",
   "metadata": {},
   "outputs": [
    {
     "name": "stdout",
     "output_type": "stream",
     "text": [
      "The Details of ID-A1320: Name-SRK: Grades-[80, 70, 82, 60]\n",
      "The Avearge Marks Of SRK is 73.0\n",
      "The Details of ID-A1722: Name-Tony: Grades-[90, 70, 80, 60]\n",
      "The Avearge Marks Of Tony is 75.0\n"
     ]
    }
   ],
   "source": [
    "#7\n",
    "class student:\n",
    "    def __init__(self,std_id,std_name,std_grade):\n",
    "        self.std_id=std_id\n",
    "        self.std_name=std_name\n",
    "        self.std_grade=std_grade\n",
    "    def avg(self):\n",
    "        print(f\"The Avearge Marks Of {self.std_name} is\",end=\" \")\n",
    "        return sum(self.std_grade)/len(self.std_grade)\n",
    "    def display(self):\n",
    "        print(f\"The Details of ID-{self.std_id}: Name-{self.std_name}: Grades-{self.std_grade}\")\n",
    "std1=student(\"A1320\",\"SRK\",[80,70,82,60])\n",
    "std1.display()\n",
    "print(std1.avg())\n",
    "std1=student(\"A1722\",\"Tony\",[90,70,80,60])\n",
    "std1.display()\n",
    "print(std1.avg())"
   ]
  },
  {
   "cell_type": "code",
   "execution_count": 21,
   "id": "827a96b1-c62b-4d7a-89e2-2f661bbde56a",
   "metadata": {},
   "outputs": [
    {
     "name": "stdin",
     "output_type": "stream",
     "text": [
      "Enter Subject Of Your Mail: meeting place\n",
      "Enter Body Of Your Mail:  Hey let's Meet At The Cafeteria Which is Beside The Clock Shop\n"
     ]
    },
    {
     "name": "stdout",
     "output_type": "stream",
     "text": [
      "aj.asjad007@gmail.com Sending An E-mail To Tony2345@gmail.com\n",
      "Sender's Mail Adress is: {'aj.asjad007@gmail.com'}\n",
      "Reciver's Mail Adress is: {'Tony2345@gmail.com'}\n",
      "Subject: meeting place\n",
      " Hey let's Meet At The Cafeteria Which is Beside The Clock Shop\n",
      "Thanks\n"
     ]
    }
   ],
   "source": [
    "#8.\n",
    "class Email:\n",
    "    def __init__(self,send,recpnt,sub,body):\n",
    "        self.send=send\n",
    "        self.recpnt=recpnt\n",
    "        self.sub=sub\n",
    "        self.body=body\n",
    "        self.sent=False\n",
    "    def send_mail(self):\n",
    "        if self.sent==False:\n",
    "            print(f\"{self.send} Sending An E-mail To {self.recpnt}\")\n",
    "        else:\n",
    "            print(\"E-mail Already Sended\")\n",
    "    def show_details(self):\n",
    "        print(\"Sender's Mail Adress is:\",{self.send})\n",
    "        print(\"Reciver's Mail Adress is:\",{self.recpnt})\n",
    "        print(\"Subject:\",self.sub)\n",
    "        print(self.body)\n",
    "        print(\"Thanks\")\n",
    "S_b=input(\"Enter Subject Of Your Mail:\")\n",
    "B_d=input(\"Enter Body Of Your Mail:\")\n",
    "E1=Email(\"aj.asjad007@gmail.com\",\"Tony2345@gmail.com\",S_b,B_d)\n",
    "E1.send_mail()\n",
    "E1.show_details()"
   ]
  },
  {
   "cell_type": "code",
   "execution_count": 22,
   "id": "be69d0f1-35ac-4218-8c49-fe5a0f8f99b5",
   "metadata": {},
   "outputs": [
    {
     "name": "stdout",
     "output_type": "stream",
     "text": [
      "Adding Post: ['Having a great day!']\n",
      "Posts by Johny:\n",
      "1. Having a great day!\n",
      "\n",
      "Adding another post:\n",
      "Posts already exist for Johny\n",
      "Posts by Johny:\n",
      "1. Having a great day!\n",
      "\n",
      "Searching for posts with 'great':\n",
      "Matching posts for 'great' by Johny:\n",
      "1. Having a great day!\n"
     ]
    }
   ],
   "source": [
    "#9.\n",
    "class SocialMedia:\n",
    "    def __init__(self, user_name, post):\n",
    "        self.usr_name = user_name\n",
    "        self.posts = [post]\n",
    "        self.is_not_there = True\n",
    "    def post_ur(self):\n",
    "        if self.is_not_there:\n",
    "            print(\"Adding Post:\", self.posts)\n",
    "            self.is_not_there = False\n",
    "        else:\n",
    "            print(\"Posts already exist for\", self.usr_name)\n",
    "    def display_posts(self):\n",
    "        if self.posts:\n",
    "            print(f\"Posts by {self.usr_name}:\")\n",
    "            for i, post in enumerate(self.posts, start=1):\n",
    "                print(f\"{i}. {post}\")\n",
    "        else:\n",
    "            print(f\"No posts found for {self.usr_name}.\")\n",
    "    def search_posts(self, keyword):\n",
    "        matching_posts = [post for post in self.posts if keyword.lower() in post.lower()]\n",
    "        if matching_posts:\n",
    "            print(f\"Matching posts for '{keyword}' by {self.usr_name}:\")\n",
    "            for i, post in enumerate(matching_posts, start=1):\n",
    "                print(f\"{i}. {post}\")\n",
    "        else:\n",
    "            print(f\"No posts found containing '{keyword}' for {self.usr_name}.\")\n",
    "\n",
    "profile = SocialMedia(\"Johny\", \"Having a great day!\")\n",
    "profile.post_ur()\n",
    "profile.display_posts()\n",
    "\n",
    "print(\"\\nAdding another post:\")\n",
    "profile.post_ur()\n",
    "profile.display_posts()\n",
    "\n",
    "print(\"\\nSearching for posts with 'great':\")\n",
    "profile.search_posts(\"great\")\n"
   ]
  },
  {
   "cell_type": "code",
   "execution_count": null,
   "id": "8806723d-6979-466e-be38-63b1f3c4649e",
   "metadata": {},
   "outputs": [],
   "source": [
    "#10.\n",
    "from datetime import datetime\n",
    "class ToDoList:\n",
    "    def __init__(self):\n",
    "        self.tasks = {}\n",
    "    def add_task(self, task, due_date):\n",
    "        if task not in self.tasks:\n",
    "            self.tasks[task] = due_date\n",
    "            print(f\"Task '{task}' added with due date {due_date}.\")\n",
    "        else:\n",
    "            print(f\"Task '{task}' already exists in the ToDo list.\")\n",
    "\n",
    "    def mark_completed(self, task):\n",
    "        if task in self.tasks:\n",
    "            del self.tasks[task]\n",
    "            print(f\"Task '{task}' marked as completed.\")\n",
    "        else:\n",
    "            print(f\"Task '{task}' not found in the ToDo list.\")\n",
    "\n",
    "    def display_pending_tasks(self):\n",
    "        if not self.tasks:\n",
    "            print(\"No pending tasks.\")\n",
    "        else:\n",
    "            print(\"Pending tasks:\")\n",
    "            for task, due_date in self.tasks.items():\n",
    "                print(f\"{task} - Due Date: {due_date}\")\n",
    "\n",
    "# Example usage:\n",
    "todo_list = ToDoList()\n",
    "\n",
    "todo_list.add_task(\"Finish report\", \"2023-10-20\")\n",
    "todo_list.add_task(\"Go to the gym\", \"2023-10-22\")\n",
    "todo_list.display_pending_tasks()\n",
    "\n",
    "print(\"\\nMarking 'Finish report' as completed:\")\n",
    "todo_list.mark_completed(\"Finish report\")\n",
    "todo_list.display_pending_tasks()\n",
    "\n",
    "print(\"\\nAdding a new task:\")\n",
    "todo_list.add_task(\"Read a book\", \"2023-10-25\")\n",
    "todo_list.display_pending_tasks()\n"
   ]
  }
 ],
 "metadata": {
  "kernelspec": {
   "display_name": "Python 3 (ipykernel)",
   "language": "python",
   "name": "python3"
  },
  "language_info": {
   "codemirror_mode": {
    "name": "ipython",
    "version": 3
   },
   "file_extension": ".py",
   "mimetype": "text/x-python",
   "name": "python",
   "nbconvert_exporter": "python",
   "pygments_lexer": "ipython3",
   "version": "3.10.8"
  }
 },
 "nbformat": 4,
 "nbformat_minor": 5
}
