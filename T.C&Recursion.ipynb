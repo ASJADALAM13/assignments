{
 "cells": [
  {
   "cell_type": "code",
   "execution_count": 1,
   "id": "22783854-a59c-4008-be6b-d578351db68d",
   "metadata": {},
   "outputs": [
    {
     "name": "stdout",
     "output_type": "stream",
     "text": [
      "16 u\n",
      "9 u\n",
      "13 u\n",
      "32 u\n",
      "55 u\n",
      "65 u\n",
      "78 u\n",
      "[9, 12, 13, 13, 16, 32, 55, 65, 78, 88]\n"
     ]
    }
   ],
   "source": [
    "#Problem 1\n",
    "def quicksort(arr):\n",
    "    if len(arr) <= 1:\n",
    "        return arr\n",
    "    pivot = arr[len(arr) // 2]\n",
    "    print(pivot,\"u\")\n",
    "    left = [x for x in arr if x < pivot]\n",
    "    middle = [x for x in arr if x == pivot]\n",
    "    right = [x for x in arr if x > pivot]\n",
    "    return quicksort(left) + middle + quicksort(right)\n",
    "\n",
    "q=quicksort([88,65,32,12,55,16,78,13,9,13])\n",
    "print(q)"
   ]
  },
  {
   "cell_type": "code",
   "execution_count": 3,
   "id": "fbb034b6-00aa-41b4-bc50-208605fd7a0f",
   "metadata": {},
   "outputs": [
    {
     "data": {
      "text/plain": [
       "\"In this nested_loop_example function there is no recursive call,\\nalso there is two for loops which iterate n times each i.e\\nfor each 'i' the 'j' will iterate 'cols' times,and in the worst case len(rows)=len(cols).\\nTherefore The Time complexity will be O(n2) in Wrost Case.\""
      ]
     },
     "execution_count": 3,
     "metadata": {},
     "output_type": "execute_result"
    }
   ],
   "source": [
    "#problem 2\n",
    "def nested_loop_example(matrix):\n",
    "    rows, cols = len(matrix), len(matrix[0])\n",
    "    total = 0\n",
    "    for i in range(rows):\n",
    "        for j in range(cols):\n",
    "            total += matrix[i][j]\n",
    "    return total\n",
    "\n",
    "\"\"\"In this nested_loop_example function there is no recursive call,\n",
    "also there is two for loops which iterate n times each i.e\n",
    "for each 'i' the 'j' will iterate 'cols' times,and in the worst case len(rows)=len(cols).\n",
    "Therefore The Time complexity will be O(n2) in Wrost Case.\"\"\""
   ]
  },
  {
   "cell_type": "code",
   "execution_count": 13,
   "id": "b309b72b-00eb-4796-af2b-62f92ea533f6",
   "metadata": {},
   "outputs": [
    {
     "data": {
      "text/plain": [
       "'Time Complexity O(n) Bcz This function has a single loop that iterates through all elements in the input array arr.'"
      ]
     },
     "execution_count": 13,
     "metadata": {},
     "output_type": "execute_result"
    }
   ],
   "source": [
    "#problem 3\n",
    "def example_function(arr):\n",
    "    result = 0\n",
    "    for element in arr:\n",
    "        result += element\n",
    "    return result\n",
    "\n",
    "\n",
    "\n",
    "\"\"\"Time Complexity O(n) Bcz This function has a single loop that iterates through all elements in the input array arr.\"\"\"\n"
   ]
  },
  {
   "cell_type": "code",
   "execution_count": 15,
   "id": "46b83f71-5b24-4999-91d7-b652d28ca0f5",
   "metadata": {},
   "outputs": [],
   "source": [
    "#problem-4\n",
    "def longest_increasing_subsequence(nums):\n",
    "    n = len(nums)\n",
    "    lis = [1] * n\n",
    "    for i in range(1, n):\n",
    "        for j in range(0, i):\n",
    "            if nums[i] > nums[j] and lis[i] < lis[j] + 1:\n",
    "                lis[i] = lis[j] + 1\n",
    "    return max(lis)\n",
    "\n",
    "\n",
    "\"\"\"This Function has two loops 1 outer loop and 1 inner loop therefore The Time complexity will be O(n2)\n"
   ]
  },
  {
   "cell_type": "code",
   "execution_count": 21,
   "id": "3f117caf-a207-4257-a120-cb0eb3a4c235",
   "metadata": {},
   "outputs": [
    {
     "data": {
      "text/plain": [
       "'Time Complexity will be O(n2)  as This Function has two loops 1 outer loop and 1 inner loop'"
      ]
     },
     "execution_count": 21,
     "metadata": {},
     "output_type": "execute_result"
    }
   ],
   "source": [
    "#problem-5\n",
    "\n",
    "def mysterious_function(arr):\n",
    "    n = len(arr)\n",
    "    result = 0\n",
    "    for i in range(n):\n",
    "        for j in range(i, n):\n",
    "            result += arr[i] * arr[j]\n",
    "    return result\n",
    "\n",
    "\n",
    "\"\"\"Time Complexity will be O(n2)  as This Function has two loops 1 outer loop and 1 inner loop\"\"\""
   ]
  },
  {
   "cell_type": "code",
   "execution_count": 19,
   "id": "20c90d0f-7d26-4010-a2d7-49666a05f2fc",
   "metadata": {},
   "outputs": [],
   "source": [
    "#-----------------------------------------------------#"
   ]
  },
  {
   "cell_type": "code",
   "execution_count": 27,
   "id": "dcfb947b-f584-4f7c-9898-89ab70857069",
   "metadata": {},
   "outputs": [
    {
     "name": "stdin",
     "output_type": "stream",
     "text": [
      "Enter Your NUmber: 567\n"
     ]
    },
    {
     "name": "stdout",
     "output_type": "stream",
     "text": [
      "Sum of digits are: 18\n"
     ]
    }
   ],
   "source": [
    "#problem-6\n",
    "def func_sum(n):\n",
    "    if n//10==0:\n",
    "        return n\n",
    "    else:\n",
    "        return ((n%10)+func_sum(n//10))\n",
    "        \n",
    "num=int(input(\"Enter Your NUmber:\"))\n",
    "x=func_sum(num)\n",
    "print(\"Sum of digits are:\",x)"
   ]
  },
  {
   "cell_type": "code",
   "execution_count": 18,
   "id": "1dbbea02-abcf-4243-9019-8d39ba64c32f",
   "metadata": {},
   "outputs": [
    {
     "name": "stdout",
     "output_type": "stream",
     "text": [
      "[0, 1, 1, 2, 3, 5]\n"
     ]
    }
   ],
   "source": [
    "#problem-7\n",
    "def rec_fib(n,ser=[0,1]):\n",
    "    if len(ser)>=n:\n",
    "        return ser[:n]\n",
    "    else:\n",
    "        ser.append(ser[-1]+ser[-2])\n",
    "        rec_fib(n,ser)\n",
    "    return ser\n",
    "print(rec_fib(6))"
   ]
  },
  {
   "cell_type": "code",
   "execution_count": 2,
   "id": "de950c22-cc86-49f9-ae00-67bbc923a933",
   "metadata": {},
   "outputs": [
    {
     "name": "stdout",
     "output_type": "stream",
     "text": [
      "True\n"
     ]
    }
   ],
   "source": [
    "#problem-8\n",
    "#subset_sum([3, 34, 4, 12, 5, 2], 9) -> True\n",
    "\n",
    "def subset_sum(lst, tar):\n",
    "    def can_sum(index, current_sum):\n",
    "        if current_sum == 0:\n",
    "            return True  \n",
    "        if index == 0:\n",
    "            return False  \n",
    "        exclude = can_sum(index - 1, current_sum)\n",
    "        \n",
    "        include = False\n",
    "        if lst[index - 1] <= current_sum:\n",
    "            include = can_sum(index - 1, current_sum - lst[index - 1])\n",
    "        \n",
    "        return exclude or include\n",
    "\n",
    "    return can_sum(len(lst), tar)\n",
    "\n",
    "print(subset_sum([3, 34, 4, 12, 5, 2], 9))  \n",
    "\n"
   ]
  },
  {
   "cell_type": "code",
   "execution_count": 7,
   "id": "29f3f3e6-25a3-4cf5-a20b-b072715cfa15",
   "metadata": {},
   "outputs": [
    {
     "name": "stdout",
     "output_type": "stream",
     "text": [
      "True\n"
     ]
    }
   ],
   "source": [
    "#problem-9\n",
    "def word_break(s, word_dict):\n",
    "    word_set = set(word_dict)\n",
    "    \n",
    "    def can_break(start):\n",
    "        if start == len(s):\n",
    "            return True\n",
    "        \n",
    "        for end in range(start + 1, len(s) + 1):\n",
    "            if s[start:end] in word_set and can_break(end):\n",
    "                return True\n",
    "        \n",
    "        return False\n",
    "\n",
    "    return can_break(0)\n",
    "\n",
    "print(word_break(\"leetcode\", [\"leet\", \"code\"])) \n"
   ]
  },
  {
   "cell_type": "code",
   "execution_count": 9,
   "id": "48965a23-6d9d-4139-a4e8-b3150c7ed472",
   "metadata": {},
   "outputs": [
    {
     "name": "stdout",
     "output_type": "stream",
     "text": [
      "Solution 1:\n",
      ".Q..\n",
      "...Q\n",
      "Q...\n",
      "..Q.\n",
      "\n",
      "Solution 2:\n",
      "..Q.\n",
      "Q...\n",
      "...Q\n",
      ".Q..\n",
      "\n"
     ]
    }
   ],
   "source": [
    "#problem-10\n",
    "def solve_n_queens(n):\n",
    "    solutions = [] \n",
    "\n",
    "    def is_safe(board, row, col):\n",
    "        for i in range(row):\n",
    "            if board[i] == col or \\\n",
    "               board[i] - i == col - row or \\\n",
    "               board[i] + i == col + row:\n",
    "                return False\n",
    "        return True\n",
    "\n",
    "    def place_queens(row, board):\n",
    "        if row == n: \n",
    "            solution = []\n",
    "            for i in range(n):\n",
    "                row_str = \".\" * board[i] + \"Q\" + \".\" * (n - board[i] - 1)\n",
    "                solution.append(row_str)\n",
    "            solutions.append(solution)\n",
    "            return\n",
    "\n",
    "        for col in range(n):\n",
    "            if is_safe(board, row, col):\n",
    "                board[row] = col \n",
    "                place_queens(row + 1, board) \n",
    "                board[row] = -1  \n",
    "    board = [-1] * n\n",
    "    place_queens(0, board)  \n",
    "    return solutions\n",
    "\n",
    "n = 4\n",
    "solutions = solve_n_queens(n)\n",
    "for i, solution in enumerate(solutions):\n",
    "    print(f\"Solution {i + 1}:\")\n",
    "    for row in solution:\n",
    "        print(row)\n",
    "    print()\n"
   ]
  },
  {
   "cell_type": "code",
   "execution_count": null,
   "id": "8680427c-fb9b-4385-a81c-03855602e898",
   "metadata": {},
   "outputs": [],
   "source": []
  }
 ],
 "metadata": {
  "kernelspec": {
   "display_name": "Python 3 (ipykernel)",
   "language": "python",
   "name": "python3"
  },
  "language_info": {
   "codemirror_mode": {
    "name": "ipython",
    "version": 3
   },
   "file_extension": ".py",
   "mimetype": "text/x-python",
   "name": "python",
   "nbconvert_exporter": "python",
   "pygments_lexer": "ipython3",
   "version": "3.12.4"
  }
 },
 "nbformat": 4,
 "nbformat_minor": 5
}
